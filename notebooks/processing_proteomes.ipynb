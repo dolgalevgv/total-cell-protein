{
 "cells": [
  {
   "cell_type": "code",
   "execution_count": 1,
   "id": "4d8286be-ee07-418c-ba15-d5621098cc3a",
   "metadata": {},
   "outputs": [],
   "source": [
    "import pandas as pd"
   ]
  },
  {
   "cell_type": "code",
   "execution_count": 2,
   "id": "a242a153-cb80-4015-867f-84eb6fa9ffde",
   "metadata": {},
   "outputs": [],
   "source": [
    "ecoli_proteome = pd.read_csv('../data/raw/proteomes/ecoli_proteome_uniprot_291022.tsv', sep='\\t')"
   ]
  },
  {
   "cell_type": "code",
   "execution_count": 6,
   "id": "5e90de53-7d3f-4f80-80ba-fd50b9b15ef7",
   "metadata": {},
   "outputs": [],
   "source": [
    "ecoli_proteome = (ecoli_proteome\n",
    "    .drop(['Protein names', 'Gene Names', 'Organism', 'Gene Names (ORF)', 'Gene Names (synonym)'], axis=1)\n",
    "    .rename({'Entry': 'uniprot_id', 'Reviewed': 'is_reviewed', 'Entry Name': 'uniprot_name', 'Length': 'length', 'Gene Names (primary)': 'gene_name', 'Gene Names (ordered locus)': 'b_number', 'Mass': 'mass'}, axis=1)\n",
    ")"
   ]
  },
  {
   "cell_type": "code",
   "execution_count": 15,
   "id": "660bac7a-6df3-4027-bb4f-2f6696d73e2c",
   "metadata": {},
   "outputs": [],
   "source": [
    "ecoli_proteome.loc[:, 'b_number'] = ecoli_proteome['b_number'].str.split(' ').str[0]"
   ]
  },
  {
   "cell_type": "code",
   "execution_count": 16,
   "id": "fadae1ca-9742-43c1-87b6-ecfc6f89df77",
   "metadata": {},
   "outputs": [
    {
     "data": {
      "text/html": [
       "<div>\n",
       "<style scoped>\n",
       "    .dataframe tbody tr th:only-of-type {\n",
       "        vertical-align: middle;\n",
       "    }\n",
       "\n",
       "    .dataframe tbody tr th {\n",
       "        vertical-align: top;\n",
       "    }\n",
       "\n",
       "    .dataframe thead th {\n",
       "        text-align: right;\n",
       "    }\n",
       "</style>\n",
       "<table border=\"1\" class=\"dataframe\">\n",
       "  <thead>\n",
       "    <tr style=\"text-align: right;\">\n",
       "      <th></th>\n",
       "      <th>uniprot_id</th>\n",
       "      <th>is_reviewed</th>\n",
       "      <th>uniprot_name</th>\n",
       "      <th>length</th>\n",
       "      <th>gene_name</th>\n",
       "      <th>b_number</th>\n",
       "      <th>mass</th>\n",
       "    </tr>\n",
       "  </thead>\n",
       "  <tbody>\n",
       "    <tr>\n",
       "      <th>0</th>\n",
       "      <td>A5A616</td>\n",
       "      <td>reviewed</td>\n",
       "      <td>MGTS_ECOLI</td>\n",
       "      <td>31</td>\n",
       "      <td>mgtS</td>\n",
       "      <td>b4599</td>\n",
       "      <td>3509</td>\n",
       "    </tr>\n",
       "    <tr>\n",
       "      <th>1</th>\n",
       "      <td>O32583</td>\n",
       "      <td>reviewed</td>\n",
       "      <td>THIS_ECOLI</td>\n",
       "      <td>66</td>\n",
       "      <td>thiS</td>\n",
       "      <td>b4407</td>\n",
       "      <td>7311</td>\n",
       "    </tr>\n",
       "    <tr>\n",
       "      <th>2</th>\n",
       "      <td>P00350</td>\n",
       "      <td>reviewed</td>\n",
       "      <td>6PGD_ECOLI</td>\n",
       "      <td>468</td>\n",
       "      <td>gnd</td>\n",
       "      <td>b2029</td>\n",
       "      <td>51481</td>\n",
       "    </tr>\n",
       "    <tr>\n",
       "      <th>3</th>\n",
       "      <td>P00363</td>\n",
       "      <td>reviewed</td>\n",
       "      <td>FRDA_ECOLI</td>\n",
       "      <td>602</td>\n",
       "      <td>frdA</td>\n",
       "      <td>b4154</td>\n",
       "      <td>65972</td>\n",
       "    </tr>\n",
       "    <tr>\n",
       "      <th>4</th>\n",
       "      <td>P00370</td>\n",
       "      <td>reviewed</td>\n",
       "      <td>DHE4_ECOLI</td>\n",
       "      <td>447</td>\n",
       "      <td>gdhA</td>\n",
       "      <td>b1761</td>\n",
       "      <td>48581</td>\n",
       "    </tr>\n",
       "    <tr>\n",
       "      <th>...</th>\n",
       "      <td>...</td>\n",
       "      <td>...</td>\n",
       "      <td>...</td>\n",
       "      <td>...</td>\n",
       "      <td>...</td>\n",
       "      <td>...</td>\n",
       "      <td>...</td>\n",
       "    </tr>\n",
       "    <tr>\n",
       "      <th>4443</th>\n",
       "      <td>Q7DFV3</td>\n",
       "      <td>reviewed</td>\n",
       "      <td>YMGG_ECOLI</td>\n",
       "      <td>114</td>\n",
       "      <td>ymgG</td>\n",
       "      <td>b1172</td>\n",
       "      <td>10807</td>\n",
       "    </tr>\n",
       "    <tr>\n",
       "      <th>4444</th>\n",
       "      <td>Q7DFV4</td>\n",
       "      <td>reviewed</td>\n",
       "      <td>YMDE_ECOLI</td>\n",
       "      <td>107</td>\n",
       "      <td>ymdE</td>\n",
       "      <td>b1028</td>\n",
       "      <td>12008</td>\n",
       "    </tr>\n",
       "    <tr>\n",
       "      <th>4445</th>\n",
       "      <td>Q9XB42</td>\n",
       "      <td>reviewed</td>\n",
       "      <td>YKFH_ECOLI</td>\n",
       "      <td>73</td>\n",
       "      <td>ykfH</td>\n",
       "      <td>b4504</td>\n",
       "      <td>8581</td>\n",
       "    </tr>\n",
       "    <tr>\n",
       "      <th>4446</th>\n",
       "      <td>Q9Z3A0</td>\n",
       "      <td>reviewed</td>\n",
       "      <td>YJGW_ECOLI</td>\n",
       "      <td>111</td>\n",
       "      <td>yjgW</td>\n",
       "      <td>b4274</td>\n",
       "      <td>13085</td>\n",
       "    </tr>\n",
       "    <tr>\n",
       "      <th>4447</th>\n",
       "      <td>V9HVX0</td>\n",
       "      <td>reviewed</td>\n",
       "      <td>YPAA_ECOLI</td>\n",
       "      <td>61</td>\n",
       "      <td>ypaA</td>\n",
       "      <td>b4543</td>\n",
       "      <td>6881</td>\n",
       "    </tr>\n",
       "  </tbody>\n",
       "</table>\n",
       "<p>4448 rows × 7 columns</p>\n",
       "</div>"
      ],
      "text/plain": [
       "     uniprot_id is_reviewed uniprot_name  length gene_name b_number   mass\n",
       "0        A5A616    reviewed   MGTS_ECOLI      31      mgtS    b4599   3509\n",
       "1        O32583    reviewed   THIS_ECOLI      66      thiS    b4407   7311\n",
       "2        P00350    reviewed   6PGD_ECOLI     468       gnd    b2029  51481\n",
       "3        P00363    reviewed   FRDA_ECOLI     602      frdA    b4154  65972\n",
       "4        P00370    reviewed   DHE4_ECOLI     447      gdhA    b1761  48581\n",
       "...         ...         ...          ...     ...       ...      ...    ...\n",
       "4443     Q7DFV3    reviewed   YMGG_ECOLI     114      ymgG    b1172  10807\n",
       "4444     Q7DFV4    reviewed   YMDE_ECOLI     107      ymdE    b1028  12008\n",
       "4445     Q9XB42    reviewed   YKFH_ECOLI      73      ykfH    b4504   8581\n",
       "4446     Q9Z3A0    reviewed   YJGW_ECOLI     111      yjgW    b4274  13085\n",
       "4447     V9HVX0    reviewed   YPAA_ECOLI      61      ypaA    b4543   6881\n",
       "\n",
       "[4448 rows x 7 columns]"
      ]
     },
     "execution_count": 16,
     "metadata": {},
     "output_type": "execute_result"
    }
   ],
   "source": [
    "ecoli_proteome = ecoli_proteome[['uniprot_id', 'uniprot_name', 'is_reviewed']]"
   ]
  },
  {
   "cell_type": "code",
   "execution_count": 20,
   "id": "2b2f5956-97f0-46a3-bcfb-ed78eef2add7",
   "metadata": {},
   "outputs": [],
   "source": [
    "ecoli_proteome = ecoli_proteome[['uniprot_id', 'uniprot_name', 'gene_name', 'b_number', 'is_reviewed', 'length', 'mass']]"
   ]
  },
  {
   "cell_type": "code",
   "execution_count": 22,
   "id": "ea2c6803-8a47-45ad-8055-7c0f0e3223bc",
   "metadata": {},
   "outputs": [],
   "source": [
    "ecoli_proteome.to_excel('../data/processed/proteomes/ecoli_proteome.xlsx', index=False)"
   ]
  },
  {
   "cell_type": "code",
   "execution_count": 23,
   "id": "ddce8a55-ee8e-4fe1-9633-e918a7241d3f",
   "metadata": {},
   "outputs": [],
   "source": [
    "scerevisiae_proteome = pd.read_csv('../data/raw/proteomes/scerevisiae_proteome_uniprot_291022.tsv', sep='\\t')"
   ]
  },
  {
   "cell_type": "code",
   "execution_count": 26,
   "id": "f43c1acc-09d1-4908-8be8-656b542eb338",
   "metadata": {},
   "outputs": [],
   "source": [
    "scerevisiae_proteome = (scerevisiae_proteome\n",
    "    .drop(['Protein names', 'Gene Names', 'Organism', 'Gene Names (ORF)'], axis=1)\n",
    "    .rename({'Entry': 'uniprot_id', 'Reviewed': 'is_reviewed', 'Entry Name': 'uniprot_name', 'Length': 'length', 'Gene Names (primary)': 'gene_name', 'Gene Names (ordered locus)': 'orf_id', 'Mass': 'mass'}, axis=1)\n",
    ")"
   ]
  },
  {
   "cell_type": "code",
   "execution_count": 28,
   "id": "81c407d2-77c2-45b5-b81e-fb3e5dfa3bd1",
   "metadata": {},
   "outputs": [],
   "source": [
    "scerevisiae_proteome = scerevisiae_proteome[['uniprot_id', 'uniprot_name', 'gene_name', 'orf_id', 'is_reviewed', 'length', 'mass']]"
   ]
  },
  {
   "cell_type": "code",
   "execution_count": 29,
   "id": "61701664-3451-4c7c-b26f-a9936b6de5e7",
   "metadata": {},
   "outputs": [],
   "source": [
    "scerevisiae_proteome.to_excel('../data/processed/proteomes/scerevisiae_proteome.xlsx', index=False)"
   ]
  },
  {
   "cell_type": "code",
   "execution_count": 30,
   "id": "fbcde3c9-233d-4628-9f25-22b5e8a8b24d",
   "metadata": {},
   "outputs": [
    {
     "name": "stderr",
     "output_type": "stream",
     "text": [
      "C:\\Users\\Dynev\\AppData\\Local\\Temp\\ipykernel_3376\\292944141.py:1: DtypeWarning: Columns (7) have mixed types. Specify dtype option on import or set low_memory=False.\n",
      "  hsapiens_proteome = pd.read_csv('../data/raw/proteomes/hsapiens_proteome_uniprot_291022.tsv', sep='\\t')\n"
     ]
    }
   ],
   "source": [
    "hsapiens_proteome = pd.read_csv('../data/raw/proteomes/hsapiens_proteome_uniprot_291022.tsv', sep='\\t')"
   ]
  },
  {
   "cell_type": "code",
   "execution_count": 33,
   "id": "1b8cb79c-a22b-4716-95e2-132337ed58d4",
   "metadata": {},
   "outputs": [],
   "source": [
    "hsapiens_proteome = (hsapiens_proteome\n",
    "    .drop(['Protein names', 'Gene Names', 'Organism', 'Gene Names (ORF)', 'Gene Names (ordered locus)'], axis=1)\n",
    "    .rename({'Entry': 'uniprot_id', 'Reviewed': 'is_reviewed', 'Entry Name': 'uniprot_name', 'Length': 'length', 'Gene Names (primary)': 'gene_name',  'Mass': 'mass'}, axis=1)\n",
    ")"
   ]
  },
  {
   "cell_type": "code",
   "execution_count": 34,
   "id": "f84b2f72-498a-4576-b4a7-d061c65e49f0",
   "metadata": {},
   "outputs": [],
   "source": [
    "hsapiens_proteome = hsapiens_proteome[['uniprot_id', 'uniprot_name', 'gene_name', 'is_reviewed', 'length', 'mass']]"
   ]
  },
  {
   "cell_type": "code",
   "execution_count": 35,
   "id": "bd1c1a1a-391b-493f-a303-38b597ede644",
   "metadata": {},
   "outputs": [],
   "source": [
    "hsapiens_proteome.to_excel('../data/processed/proteomes/hsapiens_proteome.xlsx', index=False)"
   ]
  },
  {
   "cell_type": "code",
   "execution_count": null,
   "id": "7105c987-0eb1-40ca-ab25-3a62f3cf7a72",
   "metadata": {},
   "outputs": [],
   "source": []
  }
 ],
 "metadata": {
  "kernelspec": {
   "display_name": "Python 3 (ipykernel)",
   "language": "python",
   "name": "python3"
  },
  "language_info": {
   "codemirror_mode": {
    "name": "ipython",
    "version": 3
   },
   "file_extension": ".py",
   "mimetype": "text/x-python",
   "name": "python",
   "nbconvert_exporter": "python",
   "pygments_lexer": "ipython3",
   "version": "3.10.4"
  }
 },
 "nbformat": 4,
 "nbformat_minor": 5
}
