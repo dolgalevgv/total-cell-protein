{
 "cells": [
  {
   "cell_type": "code",
   "execution_count": 1,
   "id": "27d453a3-df33-48cf-9f60-3b2ea3ec5d26",
   "metadata": {},
   "outputs": [],
   "source": [
    "from collections import Counter\n",
    "from itertools import combinations\n",
    "\n",
    "import numpy as np\n",
    "import pandas as pd\n",
    "from scipy.stats import pearsonr"
   ]
  },
  {
   "cell_type": "code",
   "execution_count": 2,
   "id": "74fdde49-8d51-4230-9848-bb91c6ef3568",
   "metadata": {},
   "outputs": [],
   "source": [
    "datasets_list = pd.read_excel('../data/processed/datasets_list.xlsx')"
   ]
  },
  {
   "cell_type": "code",
   "execution_count": 3,
   "id": "751e13e2-22e8-4990-8bb3-f9497e4b3472",
   "metadata": {},
   "outputs": [],
   "source": [
    "datasets_interim = [pd.read_excel(f'../data/interim/{i[1][\"object\"]}/{i[1][\"study\"]}_int.xlsx') for i in datasets_list.iterrows()]"
   ]
  },
  {
   "cell_type": "code",
   "execution_count": 4,
   "id": "3936c01b-6201-4d0c-a75a-571834dbae36",
   "metadata": {},
   "outputs": [],
   "source": [
    "n_proteins = []\n",
    "n_assigned_proteins = []\n",
    "assigned_percent = []\n",
    "total_copies_per_cell = []\n",
    "assigned_copies_percent = []\n",
    "\n",
    "for i in datasets_interim:\n",
    "    nps = len(i)\n",
    "    nap = len(i[~i['assigned_id'].isna()])\n",
    "    acp = i[~i['assigned_id'].isna()]['copies_per_cell'].sum() / i['copies_per_cell'].sum()\n",
    "    \n",
    "    n_proteins.append(nps)\n",
    "    n_assigned_proteins.append(nap)\n",
    "    assigned_percent.append(round(nap / nps * 100, 2))\n",
    "    assigned_copies_percent.append(round(acp * 100, 2))\n",
    "    total_copies_per_cell.append(round(i['copies_per_cell'].sum()))"
   ]
  },
  {
   "cell_type": "code",
   "execution_count": 5,
   "id": "c6e1d529-d318-479d-99a7-1619e66a547a",
   "metadata": {},
   "outputs": [],
   "source": [
    "datasets_list['n_proteins'] = n_proteins\n",
    "datasets_list['n_assigned_proteins'] = n_assigned_proteins\n",
    "datasets_list['assigned_percent'] = assigned_percent\n",
    "datasets_list['assigned_copies_percent'] = assigned_copies_percent\n",
    "datasets_list['total_copies_per_cell'] = total_copies_per_cell\n",
    "\n",
    "datasets_list['total_copies_per_um3'] = datasets_list['object'].map({'ecoli': 2.15, 'scerevisiae': 42.0, 'hela': 2800.0})\n",
    "datasets_list['total_copies_per_um3'] = np.round(datasets_list['total_copies_per_cell'] / datasets_list['total_copies_per_um3']).astype(int)\n",
    "\n",
    "datasets_list.to_excel('../results/datasets_processing_stats.xlsx', index=False)"
   ]
  },
  {
   "cell_type": "code",
   "execution_count": 6,
   "id": "12bcdb04-bb84-43ec-8f28-3993ef6b6bb1",
   "metadata": {},
   "outputs": [],
   "source": [
    "datasets_list = datasets_list.iloc[:-2]"
   ]
  },
  {
   "cell_type": "code",
   "execution_count": 7,
   "id": "c2104cc7-a07b-451e-94ff-ea23f06e6a36",
   "metadata": {},
   "outputs": [],
   "source": [
    "datasets_ecoli = {i[1][\"code\"]: pd.read_excel(f'../data/processed/ecoli/{i[1][\"study\"]}_processed.xlsx') for i in datasets_list[datasets_list['object'] == 'ecoli'].iterrows()}\n",
    "datasets_ecoli_core = datasets_ecoli.copy()\n",
    "for i in ['TA10']: del datasets_ecoli_core[i]\n",
    "datasets_ecoli_core = datasets_ecoli_core.values()\n",
    "\n",
    "datasets_scerevisiae = {i[1][\"code\"]: pd.read_excel(f'../data/processed/scerevisiae/{i[1][\"study\"]}_processed.xlsx') for i in datasets_list[datasets_list['object'] == 'scerevisiae'].iterrows()}\n",
    "datasets_scerevisiae_core = datasets_scerevisiae.copy()\n",
    "for i in ['GH03', 'LA16']: del datasets_scerevisiae_core[i]\n",
    "datasets_scerevisiae_core = datasets_scerevisiae_core.values()\n",
    "\n",
    "datasets_hela = {i[1][\"code\"]: pd.read_excel(f'../data/processed/hela/{i[1][\"study\"]}_processed.xlsx') for i in datasets_list[datasets_list['object'] == 'hela'].iterrows()}\n",
    "datasets_hela_core = datasets_hela.values()"
   ]
  },
  {
   "cell_type": "code",
   "execution_count": 8,
   "id": "576b55d0-cfe4-45b6-b399-fd8ab0162c84",
   "metadata": {},
   "outputs": [],
   "source": [
    "ecoli_id_counter = Counter()\n",
    "for d in datasets_ecoli_core:\n",
    "    ecoli_id_counter += Counter(d['assigned_id'])\n",
    "\n",
    "if '_other' in ecoli_id_counter: del ecoli_id_counter['_other']\n",
    "ecoli_id_counter = pd.Series(ecoli_id_counter)\n",
    "ecoli_core_n0 = ecoli_id_counter[ecoli_id_counter == len(datasets_ecoli_core)].index.to_list()\n",
    "ecoli_core_n1 = ecoli_id_counter[ecoli_id_counter >= len(datasets_ecoli_core) - 1].index.to_list()\n",
    "\n",
    "scerevisiae_id_counter = Counter()\n",
    "for d in datasets_scerevisiae_core:\n",
    "    scerevisiae_id_counter += Counter(d['assigned_id'])\n",
    "\n",
    "if '_other' in scerevisiae_id_counter: del scerevisiae_id_counter['_other']\n",
    "scerevisiae_id_counter = pd.Series(scerevisiae_id_counter)\n",
    "scerevisiae_core_n0 = scerevisiae_id_counter[scerevisiae_id_counter == len(datasets_scerevisiae_core)].index.to_list()\n",
    "scerevisiae_core_n1 = scerevisiae_id_counter[scerevisiae_id_counter >= len(datasets_scerevisiae_core) - 1].index.to_list()\n",
    "\n",
    "hela_id_counter = Counter()\n",
    "for d in datasets_hela_core:\n",
    "    hela_id_counter += Counter(d['assigned_id'])\n",
    "\n",
    "if '_other' in hela_id_counter: del hela_id_counter['_other']\n",
    "hela_id_counter = pd.Series(hela_id_counter)\n",
    "hela_core_n0 = hela_id_counter[hela_id_counter == len(datasets_hela_core)].index.to_list()\n",
    "hela_core_n1 = hela_id_counter[hela_id_counter >= len(datasets_hela_core) - 1].index.to_list()"
   ]
  },
  {
   "cell_type": "code",
   "execution_count": 9,
   "id": "b10c5d64-18c7-43d7-a707-a301a54cba4b",
   "metadata": {},
   "outputs": [
    {
     "data": {
      "text/plain": [
       "(934, 1452, 5051)"
      ]
     },
     "execution_count": 9,
     "metadata": {},
     "output_type": "execute_result"
    }
   ],
   "source": [
    "len(ecoli_core_n0), len(scerevisiae_core_n0), len(hela_core_n0)"
   ]
  },
  {
   "cell_type": "code",
   "execution_count": 10,
   "id": "66aa91ae-555e-44a6-90f4-133221ca1de1",
   "metadata": {},
   "outputs": [
    {
     "data": {
      "text/plain": [
       "(1501, 2151, 6734)"
      ]
     },
     "execution_count": 10,
     "metadata": {},
     "output_type": "execute_result"
    }
   ],
   "source": [
    "len(ecoli_core_n1), len(scerevisiae_core_n1), len(hela_core_n1)"
   ]
  },
  {
   "cell_type": "code",
   "execution_count": 11,
   "id": "04b7fc11-8b91-4514-aa62-822087a163c1",
   "metadata": {},
   "outputs": [],
   "source": [
    "cores = {'ecoli': ecoli_core_n0, 'scerevisiae': scerevisiae_core_n0, 'hela': hela_core_n0}"
   ]
  },
  {
   "cell_type": "code",
   "execution_count": 12,
   "id": "cf942367-ade5-4d76-ba45-d0f8a32ef822",
   "metadata": {},
   "outputs": [],
   "source": [
    "datasets_list['core_input'] = (datasets_list['code']\n",
    "    .map({'TA09': False, 'GH03': False, 'LA16': False})\n",
    "    .combine_first(pd.Series(np.repeat(True, len(datasets_list))))\n",
    ")"
   ]
  },
  {
   "cell_type": "code",
   "execution_count": 13,
   "id": "ee6fc7b8-5475-4e96-82c6-0e73d67bd522",
   "metadata": {},
   "outputs": [],
   "source": [
    "core_input_percent = []\n",
    "core_copies_prop_n0 = []\n",
    "core_copies_prop_n1 = []\n",
    "\n",
    "for d in datasets_ecoli:\n",
    "    core_input_percent.append(len(datasets_ecoli[d][datasets_ecoli[d]['assigned_id'].isin(ecoli_core_n0)]) / len(ecoli_core_n0))\n",
    "    core_copies_prop_n0.append(datasets_ecoli[d][datasets_ecoli[d]['assigned_id'].isin(ecoli_core_n0)]['copies_per_cell'].sum() / datasets_ecoli[d]['copies_per_cell'].sum())\n",
    "    core_copies_prop_n1.append(datasets_ecoli[d][datasets_ecoli[d]['assigned_id'].isin(ecoli_core_n1)]['copies_per_cell'].sum() / datasets_ecoli[d]['copies_per_cell'].sum())\n",
    "    \n",
    "for d in datasets_scerevisiae:\n",
    "    core_input_percent.append(len(datasets_scerevisiae[d][datasets_scerevisiae[d]['assigned_id'].isin(scerevisiae_core_n0)]) / len(scerevisiae_core_n0))\n",
    "    core_copies_prop_n0.append(datasets_scerevisiae[d][datasets_scerevisiae[d]['assigned_id'].isin(scerevisiae_core_n0)]['copies_per_cell'].sum() / datasets_scerevisiae[d]['copies_per_cell'].sum())\n",
    "    core_copies_prop_n1.append(datasets_scerevisiae[d][datasets_scerevisiae[d]['assigned_id'].isin(scerevisiae_core_n1)]['copies_per_cell'].sum() / datasets_scerevisiae[d]['copies_per_cell'].sum())\n",
    "    \n",
    "for d in datasets_hela:\n",
    "    core_input_percent.append(len(datasets_hela[d][datasets_hela[d]['assigned_id'].isin(hela_core_n0)]) / len(hela_core_n0))\n",
    "    core_copies_prop_n0.append(datasets_hela[d][datasets_hela[d]['assigned_id'].isin(hela_core_n0)]['copies_per_cell'].sum() / datasets_hela[d]['copies_per_cell'].sum())\n",
    "    core_copies_prop_n1.append(datasets_hela[d][datasets_hela[d]['assigned_id'].isin(hela_core_n1)]['copies_per_cell'].sum() / datasets_hela[d]['copies_per_cell'].sum())"
   ]
  },
  {
   "cell_type": "code",
   "execution_count": 14,
   "id": "460024f5-22a3-45eb-ab1f-50a9d2c25851",
   "metadata": {},
   "outputs": [],
   "source": [
    "datasets_list['core_copies_percent_n0'] = core_copies_prop_n0\n",
    "datasets_list['core_copies_percent_n1'] = core_copies_prop_n1\n",
    "datasets_list['core_input_percent'] = core_input_percent"
   ]
  },
  {
   "cell_type": "code",
   "execution_count": 15,
   "id": "e9f59c24-564a-431e-9acb-5c24b86835aa",
   "metadata": {},
   "outputs": [],
   "source": [
    "datasets_list.to_excel('../results/datasets_calculations.xlsx', index=False)"
   ]
  },
  {
   "cell_type": "code",
   "execution_count": 16,
   "id": "cd8e8bb1-6b1c-4452-a5da-826134faa2f4",
   "metadata": {},
   "outputs": [],
   "source": [
    "ecoli_id = ecoli_id_counter.to_frame().rename({0: 'n_datasets'}, axis=1)\n",
    "ecoli_id.index.name = 'assigned_id'\n",
    "\n",
    "datasets_ecoli_core_norm = []\n",
    "\n",
    "for i in datasets_ecoli_core:\n",
    "    i = i[i['assigned_id'] != '_other'].copy()\n",
    "    i['parts_per_mil'] = i['copies_per_cell'] / i['copies_per_cell'].sum() * 1000000\n",
    "    \n",
    "    datasets_ecoli_core_norm.append(i[['assigned_id', 'parts_per_mil']])\n",
    "    \n",
    "x = pd.concat(datasets_ecoli_core_norm)\n",
    "x = x[x['assigned_id'] != '_other'].groupby('assigned_id').mean()\n",
    "\n",
    "ecoli_id = ecoli_id.join(x)\n",
    "\n",
    "ecoli_id.to_excel('../results/ecoli_cores.xlsx')\n",
    "\n",
    "scerevisiae_id = scerevisiae_id_counter.to_frame().rename({0: 'n_datasets'}, axis=1)\n",
    "scerevisiae_id.index.name = 'assigned_id'\n",
    "\n",
    "datasets_scerevisiae_core_norm = []\n",
    "\n",
    "for i in datasets_scerevisiae_core:\n",
    "    i = i[i['assigned_id'] != '_other'].copy()\n",
    "    i['parts_per_mil'] = i['copies_per_cell'] / i['copies_per_cell'].sum() * 1000000\n",
    "    \n",
    "    datasets_scerevisiae_core_norm.append(i[['assigned_id', 'parts_per_mil']])\n",
    "    \n",
    "x = pd.concat(datasets_scerevisiae_core_norm)\n",
    "x = x[x['assigned_id'] != '_other'].groupby('assigned_id').mean()\n",
    "\n",
    "scerevisiae_id = scerevisiae_id.join(x)\n",
    "\n",
    "scerevisiae_id.to_excel('../results/scerevisiae_cores.xlsx')\n",
    "\n",
    "hela_id = hela_id_counter.to_frame().rename({0: 'n_datasets'}, axis=1)\n",
    "hela_id.index.name = 'assigned_id'\n",
    "\n",
    "datasets_hela_core_norm = []\n",
    "\n",
    "for i in datasets_hela_core:\n",
    "    i = i[i['assigned_id'] != '_other'].copy()\n",
    "    i['parts_per_mil'] = i['copies_per_cell'] / i['copies_per_cell'].sum() * 1000000\n",
    "    \n",
    "    datasets_hela_core_norm.append(i[['assigned_id', 'parts_per_mil']])\n",
    "    \n",
    "x = pd.concat(datasets_hela_core_norm)\n",
    "x = x[x['assigned_id'] != '_other'].groupby('assigned_id').mean()\n",
    "\n",
    "hela_id = hela_id.join(x)\n",
    "\n",
    "hela_id.to_excel('../results/hela_cores.xlsx')"
   ]
  },
  {
   "cell_type": "code",
   "execution_count": 17,
   "id": "f2af4f01-de09-4b26-9b67-5d34448824a9",
   "metadata": {},
   "outputs": [],
   "source": [
    "correlations = {}\n",
    "\n",
    "for o in datasets_list['object'].unique():\n",
    "    studies_object = datasets_list.loc[datasets_list['object'] == o, 'study']\n",
    "    \n",
    "    datasets_object = {i: pd.read_excel(f'../data/processed/{o}/{i}_processed.xlsx') for i in studies_object}\n",
    "    datasets_object_r = {i: datasets_object[i][datasets_object[i]['assigned_id'] != '_other'] for i in studies_object}\n",
    "    \n",
    "    c = pd.DataFrame(index=studies_object, columns=studies_object)\n",
    "    \n",
    "    for j,l in combinations(studies_object, 2):\n",
    "        jdf = datasets_object_r[j].set_index('assigned_id').join(datasets_object_r[l].set_index('assigned_id'), how='inner', rsuffix='_2').loc[:, ['copies_per_cell', 'copies_per_cell_2']]    \n",
    "        c.loc[j, l] = pearsonr(jdf['copies_per_cell'], jdf['copies_per_cell_2'])[0]\n",
    "        \n",
    "        jdf = jdf[jdf.index.isin(cores[o])]\n",
    "        c.loc[l, j] = pearsonr(jdf['copies_per_cell'], jdf['copies_per_cell_2'])[0]\n",
    "        \n",
    "    correlations[o] = c"
   ]
  },
  {
   "cell_type": "code",
   "execution_count": 18,
   "id": "1ebcdb1e-2901-433e-bdc7-4a6cef0d71fa",
   "metadata": {},
   "outputs": [],
   "source": [
    "for o in datasets_list['object'].unique():\n",
    "    correlations[o].index.name = None\n",
    "    correlations[o].columns.name = None\n",
    "    \n",
    "    correlations[o].to_excel(f'../results/correlation_{o}.xlsx')"
   ]
  },
  {
   "cell_type": "code",
   "execution_count": 19,
   "id": "da1ce960-2955-41ad-a3f6-1f198601d976",
   "metadata": {},
   "outputs": [
    {
     "data": {
      "text/html": [
       "<div>\n",
       "<style scoped>\n",
       "    .dataframe tbody tr th:only-of-type {\n",
       "        vertical-align: middle;\n",
       "    }\n",
       "\n",
       "    .dataframe tbody tr th {\n",
       "        vertical-align: top;\n",
       "    }\n",
       "\n",
       "    .dataframe thead th {\n",
       "        text-align: right;\n",
       "    }\n",
       "</style>\n",
       "<table border=\"1\" class=\"dataframe\">\n",
       "  <thead>\n",
       "    <tr style=\"text-align: right;\">\n",
       "      <th></th>\n",
       "      <th>object</th>\n",
       "      <th>study</th>\n",
       "      <th>code</th>\n",
       "      <th>method</th>\n",
       "      <th>n_proteins</th>\n",
       "      <th>n_assigned_proteins</th>\n",
       "      <th>assigned_percent</th>\n",
       "      <th>assigned_copies_percent</th>\n",
       "      <th>total_copies_per_cell</th>\n",
       "      <th>total_copies_per_um3</th>\n",
       "      <th>core_input</th>\n",
       "      <th>core_copies_percent_n0</th>\n",
       "      <th>core_copies_percent_n1</th>\n",
       "      <th>core_input_percent</th>\n",
       "    </tr>\n",
       "  </thead>\n",
       "  <tbody>\n",
       "    <tr>\n",
       "      <th>0</th>\n",
       "      <td>ecoli</td>\n",
       "      <td>taniguchi2010</td>\n",
       "      <td>TA10</td>\n",
       "      <td>FL</td>\n",
       "      <td>1018</td>\n",
       "      <td>1015</td>\n",
       "      <td>99.71</td>\n",
       "      <td>100.00</td>\n",
       "      <td>94571</td>\n",
       "      <td>43987</td>\n",
       "      <td>True</td>\n",
       "      <td>0.739465</td>\n",
       "      <td>0.871640</td>\n",
       "      <td>0.444325</td>\n",
       "    </tr>\n",
       "    <tr>\n",
       "      <th>1</th>\n",
       "      <td>ecoli</td>\n",
       "      <td>valgepea2013</td>\n",
       "      <td>VA13</td>\n",
       "      <td>MS</td>\n",
       "      <td>1179</td>\n",
       "      <td>1179</td>\n",
       "      <td>100.00</td>\n",
       "      <td>100.00</td>\n",
       "      <td>4293284</td>\n",
       "      <td>1996876</td>\n",
       "      <td>True</td>\n",
       "      <td>0.877605</td>\n",
       "      <td>0.973178</td>\n",
       "      <td>1.000000</td>\n",
       "    </tr>\n",
       "    <tr>\n",
       "      <th>2</th>\n",
       "      <td>ecoli</td>\n",
       "      <td>li2014</td>\n",
       "      <td>LI14</td>\n",
       "      <td>RP</td>\n",
       "      <td>3883</td>\n",
       "      <td>3587</td>\n",
       "      <td>92.38</td>\n",
       "      <td>95.18</td>\n",
       "      <td>5627623</td>\n",
       "      <td>2617499</td>\n",
       "      <td>True</td>\n",
       "      <td>0.759078</td>\n",
       "      <td>0.866133</td>\n",
       "      <td>1.000000</td>\n",
       "    </tr>\n",
       "    <tr>\n",
       "      <th>3</th>\n",
       "      <td>ecoli</td>\n",
       "      <td>wisniewski2014</td>\n",
       "      <td>WI14</td>\n",
       "      <td>MS</td>\n",
       "      <td>2261</td>\n",
       "      <td>2228</td>\n",
       "      <td>98.54</td>\n",
       "      <td>96.88</td>\n",
       "      <td>1321542</td>\n",
       "      <td>614671</td>\n",
       "      <td>True</td>\n",
       "      <td>0.793106</td>\n",
       "      <td>0.902692</td>\n",
       "      <td>1.000000</td>\n",
       "    </tr>\n",
       "    <tr>\n",
       "      <th>4</th>\n",
       "      <td>ecoli</td>\n",
       "      <td>soufi2015</td>\n",
       "      <td>SO15</td>\n",
       "      <td>MS</td>\n",
       "      <td>1913</td>\n",
       "      <td>1912</td>\n",
       "      <td>99.95</td>\n",
       "      <td>100.00</td>\n",
       "      <td>11214979</td>\n",
       "      <td>5216269</td>\n",
       "      <td>True</td>\n",
       "      <td>0.799098</td>\n",
       "      <td>0.925206</td>\n",
       "      <td>1.000000</td>\n",
       "    </tr>\n",
       "    <tr>\n",
       "      <th>5</th>\n",
       "      <td>ecoli</td>\n",
       "      <td>schmidt2016</td>\n",
       "      <td>SC16</td>\n",
       "      <td>MS</td>\n",
       "      <td>2355</td>\n",
       "      <td>2350</td>\n",
       "      <td>99.79</td>\n",
       "      <td>99.94</td>\n",
       "      <td>5070410</td>\n",
       "      <td>2358330</td>\n",
       "      <td>True</td>\n",
       "      <td>0.815070</td>\n",
       "      <td>0.913042</td>\n",
       "      <td>1.000000</td>\n",
       "    </tr>\n",
       "    <tr>\n",
       "      <th>6</th>\n",
       "      <td>ecoli</td>\n",
       "      <td>radzikowski2016</td>\n",
       "      <td>RA16</td>\n",
       "      <td>MS</td>\n",
       "      <td>1959</td>\n",
       "      <td>1954</td>\n",
       "      <td>99.74</td>\n",
       "      <td>99.89</td>\n",
       "      <td>2220410</td>\n",
       "      <td>1032749</td>\n",
       "      <td>True</td>\n",
       "      <td>0.807299</td>\n",
       "      <td>0.930865</td>\n",
       "      <td>1.000000</td>\n",
       "    </tr>\n",
       "    <tr>\n",
       "      <th>7</th>\n",
       "      <td>scerevisiae</td>\n",
       "      <td>ghaemmaghami2003</td>\n",
       "      <td>GH03</td>\n",
       "      <td>WB</td>\n",
       "      <td>3868</td>\n",
       "      <td>3844</td>\n",
       "      <td>99.38</td>\n",
       "      <td>92.35</td>\n",
       "      <td>46664471</td>\n",
       "      <td>1111059</td>\n",
       "      <td>False</td>\n",
       "      <td>0.559706</td>\n",
       "      <td>0.701730</td>\n",
       "      <td>0.867080</td>\n",
       "    </tr>\n",
       "    <tr>\n",
       "      <th>8</th>\n",
       "      <td>scerevisiae</td>\n",
       "      <td>kulak2014</td>\n",
       "      <td>KU14</td>\n",
       "      <td>MS</td>\n",
       "      <td>4570</td>\n",
       "      <td>4494</td>\n",
       "      <td>98.34</td>\n",
       "      <td>89.09</td>\n",
       "      <td>48114163</td>\n",
       "      <td>1145575</td>\n",
       "      <td>True</td>\n",
       "      <td>0.687232</td>\n",
       "      <td>0.856777</td>\n",
       "      <td>1.000000</td>\n",
       "    </tr>\n",
       "    <tr>\n",
       "      <th>9</th>\n",
       "      <td>scerevisiae</td>\n",
       "      <td>lawless2016</td>\n",
       "      <td>LA16</td>\n",
       "      <td>SRM</td>\n",
       "      <td>1167</td>\n",
       "      <td>1118</td>\n",
       "      <td>95.80</td>\n",
       "      <td>76.75</td>\n",
       "      <td>56322039</td>\n",
       "      <td>1341001</td>\n",
       "      <td>False</td>\n",
       "      <td>0.651786</td>\n",
       "      <td>0.741809</td>\n",
       "      <td>0.409091</td>\n",
       "    </tr>\n",
       "    <tr>\n",
       "      <th>10</th>\n",
       "      <td>scerevisiae</td>\n",
       "      <td>lahtvee2017</td>\n",
       "      <td>LT17</td>\n",
       "      <td>MS</td>\n",
       "      <td>1788</td>\n",
       "      <td>1784</td>\n",
       "      <td>99.78</td>\n",
       "      <td>97.51</td>\n",
       "      <td>96407334</td>\n",
       "      <td>2295413</td>\n",
       "      <td>True</td>\n",
       "      <td>0.924218</td>\n",
       "      <td>0.965148</td>\n",
       "      <td>1.000000</td>\n",
       "    </tr>\n",
       "    <tr>\n",
       "      <th>11</th>\n",
       "      <td>scerevisiae</td>\n",
       "      <td>martin-perez2017</td>\n",
       "      <td>MP17</td>\n",
       "      <td>MS</td>\n",
       "      <td>3318</td>\n",
       "      <td>3318</td>\n",
       "      <td>100.00</td>\n",
       "      <td>100.00</td>\n",
       "      <td>250751159</td>\n",
       "      <td>5970266</td>\n",
       "      <td>True</td>\n",
       "      <td>0.620625</td>\n",
       "      <td>0.837030</td>\n",
       "      <td>1.000000</td>\n",
       "    </tr>\n",
       "    <tr>\n",
       "      <th>12</th>\n",
       "      <td>scerevisiae</td>\n",
       "      <td>wang2019</td>\n",
       "      <td>WA19</td>\n",
       "      <td>MS</td>\n",
       "      <td>2582</td>\n",
       "      <td>2581</td>\n",
       "      <td>99.96</td>\n",
       "      <td>100.00</td>\n",
       "      <td>71802810</td>\n",
       "      <td>1709591</td>\n",
       "      <td>True</td>\n",
       "      <td>0.584144</td>\n",
       "      <td>0.776189</td>\n",
       "      <td>1.000000</td>\n",
       "    </tr>\n",
       "    <tr>\n",
       "      <th>13</th>\n",
       "      <td>scerevisiae</td>\n",
       "      <td>xia2022</td>\n",
       "      <td>XI22</td>\n",
       "      <td>MS</td>\n",
       "      <td>2526</td>\n",
       "      <td>2482</td>\n",
       "      <td>98.26</td>\n",
       "      <td>92.06</td>\n",
       "      <td>73823343</td>\n",
       "      <td>1757699</td>\n",
       "      <td>True</td>\n",
       "      <td>0.686348</td>\n",
       "      <td>0.863413</td>\n",
       "      <td>1.000000</td>\n",
       "    </tr>\n",
       "    <tr>\n",
       "      <th>14</th>\n",
       "      <td>hela</td>\n",
       "      <td>nagaraj2011</td>\n",
       "      <td>NA11</td>\n",
       "      <td>MS</td>\n",
       "      <td>8078</td>\n",
       "      <td>7883</td>\n",
       "      <td>97.59</td>\n",
       "      <td>93.15</td>\n",
       "      <td>2007666667</td>\n",
       "      <td>717024</td>\n",
       "      <td>True</td>\n",
       "      <td>0.710121</td>\n",
       "      <td>0.819627</td>\n",
       "      <td>1.000000</td>\n",
       "    </tr>\n",
       "    <tr>\n",
       "      <th>15</th>\n",
       "      <td>hela</td>\n",
       "      <td>wisniewski2012</td>\n",
       "      <td>WI12</td>\n",
       "      <td>MS</td>\n",
       "      <td>8094</td>\n",
       "      <td>7622</td>\n",
       "      <td>94.17</td>\n",
       "      <td>92.09</td>\n",
       "      <td>8236921797</td>\n",
       "      <td>2941758</td>\n",
       "      <td>True</td>\n",
       "      <td>0.709870</td>\n",
       "      <td>0.848590</td>\n",
       "      <td>1.000000</td>\n",
       "    </tr>\n",
       "    <tr>\n",
       "      <th>16</th>\n",
       "      <td>hela</td>\n",
       "      <td>kulak2014</td>\n",
       "      <td>KU14</td>\n",
       "      <td>MS</td>\n",
       "      <td>9677</td>\n",
       "      <td>8968</td>\n",
       "      <td>92.67</td>\n",
       "      <td>92.13</td>\n",
       "      <td>2982812197</td>\n",
       "      <td>1065290</td>\n",
       "      <td>True</td>\n",
       "      <td>0.724458</td>\n",
       "      <td>0.872727</td>\n",
       "      <td>1.000000</td>\n",
       "    </tr>\n",
       "    <tr>\n",
       "      <th>17</th>\n",
       "      <td>hela</td>\n",
       "      <td>hein2015</td>\n",
       "      <td>HE15</td>\n",
       "      <td>MS</td>\n",
       "      <td>8804</td>\n",
       "      <td>8245</td>\n",
       "      <td>93.65</td>\n",
       "      <td>88.80</td>\n",
       "      <td>2916903614</td>\n",
       "      <td>1041751</td>\n",
       "      <td>True</td>\n",
       "      <td>0.692210</td>\n",
       "      <td>0.830942</td>\n",
       "      <td>1.000000</td>\n",
       "    </tr>\n",
       "    <tr>\n",
       "      <th>18</th>\n",
       "      <td>hela</td>\n",
       "      <td>itzhak2016</td>\n",
       "      <td>IT16</td>\n",
       "      <td>MS</td>\n",
       "      <td>8710</td>\n",
       "      <td>7974</td>\n",
       "      <td>91.55</td>\n",
       "      <td>94.64</td>\n",
       "      <td>7837554944</td>\n",
       "      <td>2799127</td>\n",
       "      <td>True</td>\n",
       "      <td>0.705699</td>\n",
       "      <td>0.836672</td>\n",
       "      <td>1.000000</td>\n",
       "    </tr>\n",
       "    <tr>\n",
       "      <th>19</th>\n",
       "      <td>hela</td>\n",
       "      <td>bekker-jensen2017</td>\n",
       "      <td>BJ17</td>\n",
       "      <td>MS</td>\n",
       "      <td>14178</td>\n",
       "      <td>11625</td>\n",
       "      <td>81.99</td>\n",
       "      <td>91.47</td>\n",
       "      <td>4077816932</td>\n",
       "      <td>1456363</td>\n",
       "      <td>True</td>\n",
       "      <td>0.667962</td>\n",
       "      <td>0.807546</td>\n",
       "      <td>1.000000</td>\n",
       "    </tr>\n",
       "    <tr>\n",
       "      <th>20</th>\n",
       "      <td>hela</td>\n",
       "      <td>morgenstern2021</td>\n",
       "      <td>MO21</td>\n",
       "      <td>MS</td>\n",
       "      <td>8436</td>\n",
       "      <td>8260</td>\n",
       "      <td>97.91</td>\n",
       "      <td>92.68</td>\n",
       "      <td>4883462397</td>\n",
       "      <td>1744094</td>\n",
       "      <td>True</td>\n",
       "      <td>0.762521</td>\n",
       "      <td>0.872242</td>\n",
       "      <td>1.000000</td>\n",
       "    </tr>\n",
       "  </tbody>\n",
       "</table>\n",
       "</div>"
      ],
      "text/plain": [
       "         object              study  code method  n_proteins  \\\n",
       "0         ecoli      taniguchi2010  TA10     FL        1018   \n",
       "1         ecoli       valgepea2013  VA13     MS        1179   \n",
       "2         ecoli             li2014  LI14     RP        3883   \n",
       "3         ecoli     wisniewski2014  WI14     MS        2261   \n",
       "4         ecoli          soufi2015  SO15     MS        1913   \n",
       "5         ecoli        schmidt2016  SC16     MS        2355   \n",
       "6         ecoli    radzikowski2016  RA16     MS        1959   \n",
       "7   scerevisiae   ghaemmaghami2003  GH03     WB        3868   \n",
       "8   scerevisiae          kulak2014  KU14     MS        4570   \n",
       "9   scerevisiae        lawless2016  LA16    SRM        1167   \n",
       "10  scerevisiae        lahtvee2017  LT17     MS        1788   \n",
       "11  scerevisiae   martin-perez2017  MP17     MS        3318   \n",
       "12  scerevisiae           wang2019  WA19     MS        2582   \n",
       "13  scerevisiae            xia2022  XI22     MS        2526   \n",
       "14         hela        nagaraj2011  NA11     MS        8078   \n",
       "15         hela     wisniewski2012  WI12     MS        8094   \n",
       "16         hela          kulak2014  KU14     MS        9677   \n",
       "17         hela           hein2015  HE15     MS        8804   \n",
       "18         hela         itzhak2016  IT16     MS        8710   \n",
       "19         hela  bekker-jensen2017  BJ17     MS       14178   \n",
       "20         hela    morgenstern2021  MO21     MS        8436   \n",
       "\n",
       "    n_assigned_proteins  assigned_percent  assigned_copies_percent  \\\n",
       "0                  1015             99.71                   100.00   \n",
       "1                  1179            100.00                   100.00   \n",
       "2                  3587             92.38                    95.18   \n",
       "3                  2228             98.54                    96.88   \n",
       "4                  1912             99.95                   100.00   \n",
       "5                  2350             99.79                    99.94   \n",
       "6                  1954             99.74                    99.89   \n",
       "7                  3844             99.38                    92.35   \n",
       "8                  4494             98.34                    89.09   \n",
       "9                  1118             95.80                    76.75   \n",
       "10                 1784             99.78                    97.51   \n",
       "11                 3318            100.00                   100.00   \n",
       "12                 2581             99.96                   100.00   \n",
       "13                 2482             98.26                    92.06   \n",
       "14                 7883             97.59                    93.15   \n",
       "15                 7622             94.17                    92.09   \n",
       "16                 8968             92.67                    92.13   \n",
       "17                 8245             93.65                    88.80   \n",
       "18                 7974             91.55                    94.64   \n",
       "19                11625             81.99                    91.47   \n",
       "20                 8260             97.91                    92.68   \n",
       "\n",
       "    total_copies_per_cell  total_copies_per_um3 core_input  \\\n",
       "0                   94571                 43987       True   \n",
       "1                 4293284               1996876       True   \n",
       "2                 5627623               2617499       True   \n",
       "3                 1321542                614671       True   \n",
       "4                11214979               5216269       True   \n",
       "5                 5070410               2358330       True   \n",
       "6                 2220410               1032749       True   \n",
       "7                46664471               1111059      False   \n",
       "8                48114163               1145575       True   \n",
       "9                56322039               1341001      False   \n",
       "10               96407334               2295413       True   \n",
       "11              250751159               5970266       True   \n",
       "12               71802810               1709591       True   \n",
       "13               73823343               1757699       True   \n",
       "14             2007666667                717024       True   \n",
       "15             8236921797               2941758       True   \n",
       "16             2982812197               1065290       True   \n",
       "17             2916903614               1041751       True   \n",
       "18             7837554944               2799127       True   \n",
       "19             4077816932               1456363       True   \n",
       "20             4883462397               1744094       True   \n",
       "\n",
       "    core_copies_percent_n0  core_copies_percent_n1  core_input_percent  \n",
       "0                 0.739465                0.871640            0.444325  \n",
       "1                 0.877605                0.973178            1.000000  \n",
       "2                 0.759078                0.866133            1.000000  \n",
       "3                 0.793106                0.902692            1.000000  \n",
       "4                 0.799098                0.925206            1.000000  \n",
       "5                 0.815070                0.913042            1.000000  \n",
       "6                 0.807299                0.930865            1.000000  \n",
       "7                 0.559706                0.701730            0.867080  \n",
       "8                 0.687232                0.856777            1.000000  \n",
       "9                 0.651786                0.741809            0.409091  \n",
       "10                0.924218                0.965148            1.000000  \n",
       "11                0.620625                0.837030            1.000000  \n",
       "12                0.584144                0.776189            1.000000  \n",
       "13                0.686348                0.863413            1.000000  \n",
       "14                0.710121                0.819627            1.000000  \n",
       "15                0.709870                0.848590            1.000000  \n",
       "16                0.724458                0.872727            1.000000  \n",
       "17                0.692210                0.830942            1.000000  \n",
       "18                0.705699                0.836672            1.000000  \n",
       "19                0.667962                0.807546            1.000000  \n",
       "20                0.762521                0.872242            1.000000  "
      ]
     },
     "execution_count": 19,
     "metadata": {},
     "output_type": "execute_result"
    }
   ],
   "source": [
    "datasets_list"
   ]
  },
  {
   "cell_type": "code",
   "execution_count": 20,
   "id": "1186ba87-aaf1-4b19-ad92-b2b7433a93e1",
   "metadata": {},
   "outputs": [],
   "source": [
    "data_untargeted = datasets_list[~datasets_list['code'].isin(['TA10', 'GH03', 'LA16'])]"
   ]
  },
  {
   "cell_type": "code",
   "execution_count": 21,
   "id": "26e2ef22-6d14-484c-bfec-395619cbe9fd",
   "metadata": {},
   "outputs": [],
   "source": [
    "avg_mass = [[], [], []]\n",
    "\n",
    "for k, o in enumerate(data_untargeted['object'].unique()):\n",
    "    studies_object = data_untargeted.loc[data_untargeted['object'] == o, 'study']\n",
    "    proteome = pd.read_excel(f'../data/processed/proteomes/{o}_proteome.xlsx')\n",
    "    proteome = proteome.set_index('uniprot_id')['mass']\n",
    "    \n",
    "    datasets_object = [pd.read_excel(f'../data/processed/{o}/{i}_processed.xlsx') for i in studies_object]\n",
    "    \n",
    "    for i in datasets_object:\n",
    "        i = i[i['assigned_id'] != '_other']\n",
    "        masses = i['assigned_id'].map(proteome)\n",
    "        avg_mass[k].append((i['copies_per_cell'] * masses).sum() / i['copies_per_cell'].sum())\n",
    "        \n",
    "avg_mass = pd.DataFrame(data=avg_mass).T\n",
    "avg_mass.columns = ['ecoli', 'scerevisiae', 'hela']"
   ]
  },
  {
   "cell_type": "code",
   "execution_count": 22,
   "id": "68e1cfd5-5b06-4f08-a6ce-6ac78b722bbf",
   "metadata": {},
   "outputs": [],
   "source": [
    "avg_mass_avg = avg_mass.mean()"
   ]
  },
  {
   "cell_type": "code",
   "execution_count": 23,
   "id": "b503e016-2d25-4a77-89bd-48ec028fcbcc",
   "metadata": {},
   "outputs": [],
   "source": [
    "protein_per_cell = pd.Series({'ecoli': 0.280, 'scerevisiae': 5.6, 'hela': 250.0})"
   ]
  },
  {
   "cell_type": "code",
   "execution_count": 24,
   "id": "00e39071-0a2d-48d9-b872-4f31a25a9e1c",
   "metadata": {},
   "outputs": [
    {
     "data": {
      "text/plain": [
       "ecoli            0.28\n",
       "scerevisiae      5.60\n",
       "hela           250.00\n",
       "dtype: float64"
      ]
     },
     "execution_count": 24,
     "metadata": {},
     "output_type": "execute_result"
    }
   ],
   "source": [
    "protein_per_cell"
   ]
  },
  {
   "cell_type": "code",
   "execution_count": 25,
   "id": "be234d2b-5d1c-4140-a16b-d0165d3ba07c",
   "metadata": {},
   "outputs": [],
   "source": [
    "copies_per_cell_milo = protein_per_cell * (6*10**23) * (10**(-12)) / avg_mass_avg"
   ]
  },
  {
   "cell_type": "code",
   "execution_count": 26,
   "id": "024947a6-a168-422b-a600-1177b59bd9c9",
   "metadata": {},
   "outputs": [
    {
     "data": {
      "text/plain": [
       "ecoli             5724808.094557\n",
       "scerevisiae      91394886.112417\n",
       "hela           3798443501.313684\n",
       "dtype: object"
      ]
     },
     "execution_count": 26,
     "metadata": {},
     "output_type": "execute_result"
    }
   ],
   "source": [
    "copies_per_cell_milo"
   ]
  },
  {
   "cell_type": "code",
   "execution_count": 27,
   "id": "9efc6224-56c1-40c6-9bd4-ca50a9e427ec",
   "metadata": {},
   "outputs": [],
   "source": [
    "volumes = pd.Series({'ecoli': 2.15, 'scerevisiae': 42.0, 'hela': 2425.0})"
   ]
  },
  {
   "cell_type": "code",
   "execution_count": 28,
   "id": "cc348df4-a74b-4d4e-b004-c5ca1ad5815f",
   "metadata": {},
   "outputs": [
    {
     "data": {
      "text/plain": [
       "ecoli          2662701.439329\n",
       "scerevisiae    2176068.716962\n",
       "hela            1566368.45415\n",
       "dtype: object"
      ]
     },
     "execution_count": 28,
     "metadata": {},
     "output_type": "execute_result"
    }
   ],
   "source": [
    "copies_per_cell_milo / volumes"
   ]
  },
  {
   "cell_type": "code",
   "execution_count": 29,
   "id": "84175004-3a63-485f-bccb-281d60ee3958",
   "metadata": {},
   "outputs": [],
   "source": [
    "min_core_n0_percent = data_untargeted.groupby('object')['core_copies_percent_n0'].min()"
   ]
  },
  {
   "cell_type": "code",
   "execution_count": 30,
   "id": "cffc7878-57e5-40c5-856c-6e9ad6bee409",
   "metadata": {},
   "outputs": [],
   "source": [
    "all_ids = {'ecoli': ecoli_id_counter, 'scerevisiae': scerevisiae_id_counter, 'hela': hela_id_counter}"
   ]
  },
  {
   "cell_type": "code",
   "execution_count": 60,
   "id": "a519e245-c197-4d58-9735-9bfb3eaa4551",
   "metadata": {},
   "outputs": [],
   "source": [
    "int_proteomes = {}\n",
    "\n",
    "for i, j in enumerate(data_untargeted['object'].unique()):\n",
    "    data_object = datasets_list.loc[datasets_list['object'] == j]\n",
    "    \n",
    "    int_proteomes[j] = pd.DataFrame(index=all_ids[j].index)\n",
    "    \n",
    "    datasets_object = [pd.read_excel(f'../data/processed/{j}/{m}_processed.xlsx') for m in data_object['study'].values]\n",
    "    \n",
    "    for k, l in enumerate(datasets_object):\n",
    "        l = l[l['assigned_id'] != '_other']\n",
    "        \n",
    "        factor = (copies_per_cell_milo.loc[j] * (data_object['assigned_copies_percent'].iloc[k] / 100) * min_core_n0_percent.loc[j] * data_object['core_input_percent'].iloc[k]) / l[l['assigned_id'].isin(cores[j])]['copies_per_cell'].sum()\n",
    "        \n",
    "        l = l.set_index('assigned_id')['copies_per_cell']\n",
    "        \n",
    "        l = l * factor\n",
    "        \n",
    "        int_proteomes[j][data_object['code'].iloc[k]] = int_proteomes[j].index.map(l)\n",
    "        \n",
    "    int_proteomes[j]['avg'] = int_proteomes[j].mean(axis=1).apply(np.ceil).astype(int)\n",
    "    int_proteomes[j]['std'] = int_proteomes[j].iloc[:, :-1].std(axis=1)\n",
    "    \n",
    "    int_proteomes[j].index.name = 'uniprot_id'\n",
    "    \n",
    "    int_proteomes[j].to_excel(f'../results/proteome_{j}_normalized.xlsx')"
   ]
  },
  {
   "cell_type": "code",
   "execution_count": 49,
   "id": "26a6a320-0237-4f08-ac51-eb402b61fe06",
   "metadata": {},
   "outputs": [
    {
     "data": {
      "text/plain": [
       "ecoli             5724808.094557\n",
       "scerevisiae      91394886.112417\n",
       "hela           3798443501.313684\n",
       "dtype: object"
      ]
     },
     "execution_count": 49,
     "metadata": {},
     "output_type": "execute_result"
    }
   ],
   "source": [
    "copies_per_cell_milo"
   ]
  },
  {
   "cell_type": "code",
   "execution_count": 59,
   "id": "d8c904e3-6714-4d91-9eb6-d072c7074fc3",
   "metadata": {},
   "outputs": [
    {
     "data": {
      "text/plain": [
       "NA11    3.100263e+09\n",
       "WI12    3.031016e+09\n",
       "KU14    2.972689e+09\n",
       "HE15    2.890236e+09\n",
       "IT16    3.220158e+09\n",
       "BJ17    3.178046e+09\n",
       "MO21    2.858023e+09\n",
       "avg     3.135458e+09\n",
       "std     2.038891e+09\n",
       "dtype: float64"
      ]
     },
     "execution_count": 59,
     "metadata": {},
     "output_type": "execute_result"
    }
   ],
   "source": [
    "int_proteomes['hela'].sum()"
   ]
  },
  {
   "cell_type": "code",
   "execution_count": 33,
   "id": "8028d4b6-8f2e-41ea-8c6c-5797625bdae7",
   "metadata": {},
   "outputs": [],
   "source": [
    "#ribosomes\n",
    "data_ecoli = datasets_list.loc[datasets_list['object'] == 'ecoli']\n",
    "datasets_ecoli = [pd.read_excel(f'../data/processed/ecoli/{i}_processed.xlsx') for i in data_ecoli['study']]\n",
    "ribosome_ecoli = pd.read_excel(f'../data/processed/ribosomes/ecoli_ribosome.xlsx')['uniprot_id']\n",
    "int_ecoli = pd.read_excel('../results/proteome_ecoli_normalized.xlsx', index_col=0)\n",
    "\n",
    "ratio_ecoli_ribo = pd.Series(index=ribosome_ecoli.values, data=1)\n",
    "ratio_ecoli_ribo.loc['P0A7K2'] = 4\n",
    "\n",
    "ribosome_ecoli = pd.DataFrame(index=ribosome_ecoli.values, columns=data_ecoli['code'].to_list() + ['int'])\n",
    "ribosome_ecoli.index.name = 'uniprot_id'\n",
    "\n",
    "for i, j in enumerate(datasets_ecoli):\n",
    "    ribosome_ecoli[data_ecoli['code'].iloc[i]] = ribosome_ecoli.index.map(j.set_index('assigned_id')['copies_per_cell'])\n",
    "    \n",
    "ribosome_ecoli['int'] = ribosome_ecoli.index.map(int_ecoli['avg'])\n",
    "\n",
    "ribosome_ecoli = ribosome_ecoli.divide(ratio_ecoli_ribo, axis=0)\n",
    "\n",
    "ribosome_ecoli = ribosome_ecoli.drop('TA10', axis=1)\n",
    "\n",
    "ribosome_ecoli.to_excel('../results/ribosome_ecoli.xlsx')"
   ]
  },
  {
   "cell_type": "code",
   "execution_count": 34,
   "id": "1da3b23a-f18f-4382-813d-808d61d20bb1",
   "metadata": {},
   "outputs": [],
   "source": [
    "#ribosomes\n",
    "data_scerevisiae = datasets_list.loc[datasets_list['object'] == 'scerevisiae']\n",
    "datasets_scerevisiae = [pd.read_excel(f'../data/processed/scerevisiae/{i}_processed.xlsx') for i in data_scerevisiae['study']]\n",
    "ribosome_scerevisiae = pd.read_excel(f'../data/processed/ribosomes/scerevisiae_ribosome.xlsx', index_col=0)\n",
    "int_scerevisiae = pd.read_excel('../results/proteome_scerevisiae_normalized.xlsx', index_col=0)\n",
    "\n",
    "\n",
    "for i, j in enumerate(datasets_scerevisiae):\n",
    "    ribosome_scerevisiae[data_scerevisiae['code'].iloc[i]] = ribosome_scerevisiae.index.map(j.set_index('assigned_id')['copies_per_cell'])\n",
    "    \n",
    "ribosome_scerevisiae['int'] = ribosome_scerevisiae.index.map(int_scerevisiae['avg'])\n",
    "ribosome_scerevisiae = ribosome_scerevisiae.groupby('ribosomal_part').sum()\n",
    "\n",
    "ribosome_scerevisiae.to_excel('../results/ribosome_scerevisiae.xlsx')"
   ]
  },
  {
   "cell_type": "code",
   "execution_count": 35,
   "id": "8f702e6c-13dd-4657-9bd7-75548f2377c0",
   "metadata": {},
   "outputs": [],
   "source": [
    "#ribosomes\n",
    "data_hela = datasets_list.loc[datasets_list['object'] == 'hela']\n",
    "datasets_hela = [pd.read_excel(f'../data/processed/hela/{i}_processed.xlsx') for i in data_hela['study']]\n",
    "ribosome_hela = pd.read_excel(f'../data/processed/ribosomes/hela_ribosome.xlsx', index_col=0)\n",
    "int_hela = pd.read_excel('../results/proteome_hela_normalized.xlsx', index_col=0)\n",
    "\n",
    "for i, j in enumerate(datasets_hela):\n",
    "    ribosome_hela[data_hela['code'].iloc[i]] = ribosome_hela.index.map(j.set_index('assigned_id')['copies_per_cell'])\n",
    "    \n",
    "ribosome_hela['int'] = ribosome_hela.index.map(int_hela['avg'])\n",
    "\n",
    "ribosome_hela.to_excel('../results/ribosome_hela.xlsx')"
   ]
  },
  {
   "cell_type": "code",
   "execution_count": 36,
   "id": "68188b83-227a-4f77-b93d-847e77dbce2d",
   "metadata": {},
   "outputs": [
    {
     "data": {
      "text/html": [
       "<div>\n",
       "<style scoped>\n",
       "    .dataframe tbody tr th:only-of-type {\n",
       "        vertical-align: middle;\n",
       "    }\n",
       "\n",
       "    .dataframe tbody tr th {\n",
       "        vertical-align: top;\n",
       "    }\n",
       "\n",
       "    .dataframe thead th {\n",
       "        text-align: right;\n",
       "    }\n",
       "</style>\n",
       "<table border=\"1\" class=\"dataframe\">\n",
       "  <thead>\n",
       "    <tr style=\"text-align: right;\">\n",
       "      <th></th>\n",
       "      <th>avg</th>\n",
       "    </tr>\n",
       "    <tr>\n",
       "      <th>uniprot_id</th>\n",
       "      <th></th>\n",
       "    </tr>\n",
       "  </thead>\n",
       "  <tbody>\n",
       "    <tr>\n",
       "      <th>A5Z2X5</th>\n",
       "      <td>86523</td>\n",
       "    </tr>\n",
       "    <tr>\n",
       "      <th>D6VTK4</th>\n",
       "      <td>735</td>\n",
       "    </tr>\n",
       "    <tr>\n",
       "      <th>O13297</th>\n",
       "      <td>2232</td>\n",
       "    </tr>\n",
       "    <tr>\n",
       "      <th>O13329</th>\n",
       "      <td>1419</td>\n",
       "    </tr>\n",
       "    <tr>\n",
       "      <th>O13516</th>\n",
       "      <td>69575</td>\n",
       "    </tr>\n",
       "    <tr>\n",
       "      <th>...</th>\n",
       "      <td>...</td>\n",
       "    </tr>\n",
       "    <tr>\n",
       "      <th>Q07500</th>\n",
       "      <td>5107</td>\n",
       "    </tr>\n",
       "    <tr>\n",
       "      <th>Q08969</th>\n",
       "      <td>6420</td>\n",
       "    </tr>\n",
       "    <tr>\n",
       "      <th>Q12031</th>\n",
       "      <td>11995</td>\n",
       "    </tr>\n",
       "    <tr>\n",
       "      <th>Q12405</th>\n",
       "      <td>2493</td>\n",
       "    </tr>\n",
       "    <tr>\n",
       "      <th>Q3E776</th>\n",
       "      <td>875</td>\n",
       "    </tr>\n",
       "  </tbody>\n",
       "</table>\n",
       "<p>4681 rows × 1 columns</p>\n",
       "</div>"
      ],
      "text/plain": [
       "              avg\n",
       "uniprot_id       \n",
       "A5Z2X5      86523\n",
       "D6VTK4        735\n",
       "O13297       2232\n",
       "O13329       1419\n",
       "O13516      69575\n",
       "...           ...\n",
       "Q07500       5107\n",
       "Q08969       6420\n",
       "Q12031      11995\n",
       "Q12405       2493\n",
       "Q3E776        875\n",
       "\n",
       "[4681 rows x 1 columns]"
      ]
     },
     "execution_count": 36,
     "metadata": {},
     "output_type": "execute_result"
    }
   ],
   "source": [
    "int_proteomes['scerevisiae'].loc[:, ['avg']]"
   ]
  },
  {
   "cell_type": "code",
   "execution_count": 37,
   "id": "9da9a069-6492-4331-bee4-e93c920da304",
   "metadata": {},
   "outputs": [],
   "source": [
    "ho2018 = pd.read_excel('../data/prepared/scerevisiae/ho2018_int.xlsx')"
   ]
  },
  {
   "cell_type": "code",
   "execution_count": 38,
   "id": "d6c8fc1d-538c-47db-a2a2-adac3066d956",
   "metadata": {},
   "outputs": [],
   "source": [
    "proteome_s = pd.read_excel('../data/processed/proteomes/scerevisiae_proteome.xlsx')"
   ]
  },
  {
   "cell_type": "code",
   "execution_count": 39,
   "id": "1a0ad21e-2ce0-464c-9db0-657c092c285b",
   "metadata": {},
   "outputs": [],
   "source": [
    "proteome_s = proteome_s.set_index('orf_id')['uniprot_id']"
   ]
  },
  {
   "cell_type": "code",
   "execution_count": 40,
   "id": "cff66962-fac6-4384-ad51-cc66e0b1dc51",
   "metadata": {},
   "outputs": [],
   "source": [
    "ho2018['uniprot_id'] = ho2018['orf_id'].map(proteome_s)"
   ]
  },
  {
   "cell_type": "code",
   "execution_count": 41,
   "id": "e124789d-ea53-4b35-aefc-4d7ee9f344e9",
   "metadata": {},
   "outputs": [],
   "source": [
    "ho2018 = ho2018[['uniprot_id', 'copies_per_cell']].set_index('uniprot_id')"
   ]
  },
  {
   "cell_type": "code",
   "execution_count": 42,
   "id": "8520dcc1-40f5-4f8a-932e-6573db1ce854",
   "metadata": {},
   "outputs": [],
   "source": [
    "ho2018 = ho2018[~ho2018['copies_per_cell'].isna()]"
   ]
  },
  {
   "cell_type": "code",
   "execution_count": 43,
   "id": "570c7e59-9c3f-4388-abd6-48fb2ac40604",
   "metadata": {},
   "outputs": [],
   "source": [
    "mys = int_proteomes['scerevisiae'].loc[:, ['avg']]"
   ]
  },
  {
   "cell_type": "code",
   "execution_count": 44,
   "id": "fa451b1d-76a5-4875-a8c0-3e364012edeb",
   "metadata": {},
   "outputs": [],
   "source": [
    "x = ho2018.join(mys, how='right')"
   ]
  },
  {
   "cell_type": "code",
   "execution_count": 45,
   "id": "bf212ec4-29fe-447e-a218-515727c6343e",
   "metadata": {},
   "outputs": [],
   "source": [
    "x = x[~x.isna().any(1)]"
   ]
  },
  {
   "cell_type": "code",
   "execution_count": 46,
   "id": "c6effe6e-5030-4fa9-92ce-a2a9dfecc333",
   "metadata": {},
   "outputs": [
    {
     "data": {
      "text/plain": [
       "(0.8121435590714823, 0.0)"
      ]
     },
     "execution_count": 46,
     "metadata": {},
     "output_type": "execute_result"
    }
   ],
   "source": [
    "#Mean\n",
    "pearsonr(x['copies_per_cell'].to_numpy(), x['avg'].to_numpy())"
   ]
  },
  {
   "cell_type": "code",
   "execution_count": 47,
   "id": "b7332607-908d-4df2-983d-1cbd953ca0c6",
   "metadata": {},
   "outputs": [
    {
     "data": {
      "text/plain": [
       "(0.8121435590714823, 0.0)"
      ]
     },
     "execution_count": 47,
     "metadata": {},
     "output_type": "execute_result"
    }
   ],
   "source": [
    "#Median\n",
    "pearsonr(x['copies_per_cell'].to_numpy(), x['avg'].to_numpy())"
   ]
  },
  {
   "cell_type": "code",
   "execution_count": 48,
   "id": "2ac8b5dc-23b5-4498-ad4d-72f9845e3150",
   "metadata": {},
   "outputs": [
    {
     "data": {
      "text/plain": [
       "GH03    6.891814e+07\n",
       "KU14    6.164851e+07\n",
       "LA16    1.971771e+07\n",
       "LT17    5.491866e+07\n",
       "MP17    8.602268e+07\n",
       "WA19    9.139468e+07\n",
       "XI22    6.592621e+07\n",
       "avg     8.671872e+07\n",
       "std     7.185476e+07\n",
       "dtype: float64"
      ]
     },
     "execution_count": 48,
     "metadata": {},
     "output_type": "execute_result"
    }
   ],
   "source": [
    "int_proteomes['scerevisiae'].sum()"
   ]
  },
  {
   "cell_type": "code",
   "execution_count": null,
   "id": "652090ea-4c8b-4c79-b1d9-8533d3fcc82d",
   "metadata": {},
   "outputs": [],
   "source": []
  }
 ],
 "metadata": {
  "kernelspec": {
   "display_name": "Python 3 (ipykernel)",
   "language": "python",
   "name": "python3"
  },
  "language_info": {
   "codemirror_mode": {
    "name": "ipython",
    "version": 3
   },
   "file_extension": ".py",
   "mimetype": "text/x-python",
   "name": "python",
   "nbconvert_exporter": "python",
   "pygments_lexer": "ipython3",
   "version": "3.10.4"
  }
 },
 "nbformat": 4,
 "nbformat_minor": 5
}
