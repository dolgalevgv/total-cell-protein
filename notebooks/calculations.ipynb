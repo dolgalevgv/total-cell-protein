{
 "cells": [
  {
   "cell_type": "code",
   "execution_count": 1,
   "id": "27d453a3-df33-48cf-9f60-3b2ea3ec5d26",
   "metadata": {},
   "outputs": [],
   "source": [
    "from collections import Counter\n",
    "from itertools import combinations\n",
    "\n",
    "import numpy as np\n",
    "import pandas as pd\n",
    "from scipy.stats import pearsonr"
   ]
  },
  {
   "cell_type": "code",
   "execution_count": 2,
   "id": "74fdde49-8d51-4230-9848-bb91c6ef3568",
   "metadata": {},
   "outputs": [],
   "source": [
    "datasets_list = pd.read_excel('../data/processed/datasets_list.xlsx')"
   ]
  },
  {
   "cell_type": "code",
   "execution_count": 3,
   "id": "751e13e2-22e8-4990-8bb3-f9497e4b3472",
   "metadata": {},
   "outputs": [],
   "source": [
    "datasets_interim = [pd.read_excel(f'../data/interim/{i[1][\"object\"]}/{i[1][\"study\"]}_int.xlsx') for i in datasets_list.iterrows()]"
   ]
  },
  {
   "cell_type": "code",
   "execution_count": 4,
   "id": "3936c01b-6201-4d0c-a75a-571834dbae36",
   "metadata": {},
   "outputs": [],
   "source": [
    "n_proteins = []\n",
    "n_assigned_proteins = []\n",
    "assigned_percent = []\n",
    "total_copies_per_cell = []\n",
    "assigned_copies_percent = []\n",
    "\n",
    "for i in datasets_interim:\n",
    "    nps = len(i)\n",
    "    nap = len(i[~i['assigned_id'].isna()])\n",
    "    acp = i[~i['assigned_id'].isna()]['copies_per_cell'].sum() / i['copies_per_cell'].sum()\n",
    "    \n",
    "    n_proteins.append(nps)\n",
    "    n_assigned_proteins.append(nap)\n",
    "    assigned_percent.append(round(nap / nps * 100, 2))\n",
    "    assigned_copies_percent.append(round(acp * 100, 2))\n",
    "    total_copies_per_cell.append(round(i['copies_per_cell'].sum()))"
   ]
  },
  {
   "cell_type": "code",
   "execution_count": 5,
   "id": "c6e1d529-d318-479d-99a7-1619e66a547a",
   "metadata": {},
   "outputs": [],
   "source": [
    "datasets_list['n_proteins'] = n_proteins\n",
    "datasets_list['n_assigned_proteins'] = n_assigned_proteins\n",
    "datasets_list['assigned_percent'] = assigned_percent\n",
    "datasets_list['assigned_copies_percent'] = assigned_copies_percent\n",
    "datasets_list['total_copies_per_cell'] = total_copies_per_cell\n",
    "\n",
    "datasets_list['total_copies_per_um3'] = datasets_list['object'].map({'ecoli': 2.15, 'scerevisiae': 42.0, 'hela': 2800.0})\n",
    "datasets_list['total_copies_per_um3'] = np.round(datasets_list['total_copies_per_cell'] / datasets_list['total_copies_per_um3']).astype(int)\n",
    "\n",
    "datasets_list.to_excel('../results/datasets_processing_stats.xlsx', index=False)"
   ]
  },
  {
   "cell_type": "code",
   "execution_count": 6,
   "id": "12bcdb04-bb84-43ec-8f28-3993ef6b6bb1",
   "metadata": {},
   "outputs": [],
   "source": [
    "datasets_list = datasets_list.iloc[:-2]"
   ]
  },
  {
   "cell_type": "code",
   "execution_count": 58,
   "id": "c2104cc7-a07b-451e-94ff-ea23f06e6a36",
   "metadata": {},
   "outputs": [],
   "source": [
    "datasets_ecoli = {i[1][\"code\"]: pd.read_excel(f'../data/processed/ecoli/{i[1][\"study\"]}_processed.xlsx') for i in datasets_list[datasets_list['object'] == 'ecoli'].iterrows()}\n",
    "datasets_ecoli_core = datasets_ecoli.copy()\n",
    "for i in ['TA10']: del datasets_ecoli_core[i]\n",
    "datasets_ecoli_core = datasets_ecoli_core.values()\n",
    "\n",
    "datasets_scerevisiae = {i[1][\"code\"]: pd.read_excel(f'../data/processed/scerevisiae/{i[1][\"study\"]}_processed.xlsx') for i in datasets_list[datasets_list['object'] == 'scerevisiae'].iterrows()}\n",
    "datasets_scerevisiae_core = datasets_scerevisiae.copy()\n",
    "for i in ['GH03', 'LA16']: del datasets_scerevisiae_core[i]\n",
    "datasets_scerevisiae_core = datasets_scerevisiae_core.values()\n",
    "\n",
    "datasets_hela = {i[1][\"code\"]: pd.read_excel(f'../data/processed/hela/{i[1][\"study\"]}_processed.xlsx') for i in datasets_list[datasets_list['object'] == 'hela'].iterrows()}\n",
    "datasets_hela_core = datasets_hela.values()"
   ]
  },
  {
   "cell_type": "code",
   "execution_count": 59,
   "id": "576b55d0-cfe4-45b6-b399-fd8ab0162c84",
   "metadata": {},
   "outputs": [],
   "source": [
    "ecoli_id_counter = Counter()\n",
    "for d in datasets_ecoli_core:\n",
    "    ecoli_id_counter += Counter(d['assigned_id'])\n",
    "\n",
    "if '_other' in ecoli_id_counter: del ecoli_id_counter['_other']\n",
    "ecoli_id_counter = pd.Series(ecoli_id_counter)\n",
    "ecoli_core_n0 = ecoli_id_counter[ecoli_id_counter == len(datasets_ecoli_core)].index.to_list()\n",
    "ecoli_core_n1 = ecoli_id_counter[ecoli_id_counter >= len(datasets_ecoli_core) - 1].index.to_list()\n",
    "\n",
    "scerevisiae_id_counter = Counter()\n",
    "for d in datasets_scerevisiae_core:\n",
    "    scerevisiae_id_counter += Counter(d['assigned_id'])\n",
    "\n",
    "if '_other' in scerevisiae_id_counter: del scerevisiae_id_counter['_other']\n",
    "scerevisiae_id_counter = pd.Series(scerevisiae_id_counter)\n",
    "scerevisiae_core_n0 = scerevisiae_id_counter[scerevisiae_id_counter == len(datasets_scerevisiae_core)].index.to_list()\n",
    "scerevisiae_core_n1 = scerevisiae_id_counter[scerevisiae_id_counter >= len(datasets_scerevisiae_core) - 1].index.to_list()\n",
    "\n",
    "hela_id_counter = Counter()\n",
    "for d in datasets_hela_core:\n",
    "    hela_id_counter += Counter(d['assigned_id'])\n",
    "\n",
    "if '_other' in hela_id_counter: del hela_id_counter['_other']\n",
    "hela_id_counter = pd.Series(hela_id_counter)\n",
    "hela_core_n0 = hela_id_counter[hela_id_counter == len(datasets_hela_core)].index.to_list()\n",
    "hela_core_n1 = hela_id_counter[hela_id_counter >= len(datasets_hela_core) - 1].index.to_list()"
   ]
  },
  {
   "cell_type": "code",
   "execution_count": 9,
   "id": "b10c5d64-18c7-43d7-a707-a301a54cba4b",
   "metadata": {},
   "outputs": [
    {
     "data": {
      "text/plain": [
       "(934, 1452, 5051)"
      ]
     },
     "execution_count": 9,
     "metadata": {},
     "output_type": "execute_result"
    }
   ],
   "source": [
    "len(ecoli_core_n0), len(scerevisiae_core_n0), len(hela_core_n0)"
   ]
  },
  {
   "cell_type": "code",
   "execution_count": 10,
   "id": "66aa91ae-555e-44a6-90f4-133221ca1de1",
   "metadata": {},
   "outputs": [
    {
     "data": {
      "text/plain": [
       "(1501, 2151, 6734)"
      ]
     },
     "execution_count": 10,
     "metadata": {},
     "output_type": "execute_result"
    }
   ],
   "source": [
    "len(ecoli_core_n1), len(scerevisiae_core_n1), len(hela_core_n1)"
   ]
  },
  {
   "cell_type": "code",
   "execution_count": 11,
   "id": "04b7fc11-8b91-4514-aa62-822087a163c1",
   "metadata": {},
   "outputs": [],
   "source": [
    "cores = {'ecoli': ecoli_core_n0, 'scerevisiae': scerevisiae_core_n0, 'hela': hela_core_n0}"
   ]
  },
  {
   "cell_type": "code",
   "execution_count": 60,
   "id": "cf942367-ade5-4d76-ba45-d0f8a32ef822",
   "metadata": {},
   "outputs": [],
   "source": [
    "datasets_list['core_input'] = (datasets_list['code']\n",
    "    .map({'TA09': False, 'GH03': False, 'LA16': False})\n",
    "    .combine_first(pd.Series(np.repeat(True, len(datasets_list))))\n",
    ")"
   ]
  },
  {
   "cell_type": "code",
   "execution_count": 13,
   "id": "ee6fc7b8-5475-4e96-82c6-0e73d67bd522",
   "metadata": {},
   "outputs": [],
   "source": [
    "core_copies_prop_n0 = []\n",
    "core_copies_prop_n1 = []\n",
    "\n",
    "for d in datasets_ecoli:\n",
    "    core_copies_prop_n0.append(datasets_ecoli[d][datasets_ecoli[d]['assigned_id'].isin(ecoli_core_n0)]['copies_per_cell'].sum() / datasets_ecoli[d]['copies_per_cell'].sum())\n",
    "    core_copies_prop_n1.append(datasets_ecoli[d][datasets_ecoli[d]['assigned_id'].isin(ecoli_core_n1)]['copies_per_cell'].sum() / datasets_ecoli[d]['copies_per_cell'].sum())\n",
    "    \n",
    "for d in datasets_scerevisiae:\n",
    "    core_copies_prop_n0.append(datasets_scerevisiae[d][datasets_scerevisiae[d]['assigned_id'].isin(scerevisiae_core_n0)]['copies_per_cell'].sum() / datasets_scerevisiae[d]['copies_per_cell'].sum())\n",
    "    core_copies_prop_n1.append(datasets_scerevisiae[d][datasets_scerevisiae[d]['assigned_id'].isin(scerevisiae_core_n1)]['copies_per_cell'].sum() / datasets_scerevisiae[d]['copies_per_cell'].sum())\n",
    "    \n",
    "for d in datasets_hela:\n",
    "    core_copies_prop_n0.append(datasets_hela[d][datasets_hela[d]['assigned_id'].isin(hela_core_n0)]['copies_per_cell'].sum() / datasets_hela[d]['copies_per_cell'].sum())\n",
    "    core_copies_prop_n1.append(datasets_hela[d][datasets_hela[d]['assigned_id'].isin(hela_core_n1)]['copies_per_cell'].sum() / datasets_hela[d]['copies_per_cell'].sum())"
   ]
  },
  {
   "cell_type": "code",
   "execution_count": 14,
   "id": "460024f5-22a3-45eb-ab1f-50a9d2c25851",
   "metadata": {},
   "outputs": [],
   "source": [
    "datasets_list['core_copies_percent_n0'] = core_copies_prop_n0\n",
    "datasets_list['core_copies_percent_n1'] = core_copies_prop_n1"
   ]
  },
  {
   "cell_type": "code",
   "execution_count": 15,
   "id": "e9f59c24-564a-431e-9acb-5c24b86835aa",
   "metadata": {},
   "outputs": [],
   "source": [
    "datasets_list.to_excel('../results/datasets_calculations.xlsx', index=False)"
   ]
  },
  {
   "cell_type": "code",
   "execution_count": 64,
   "id": "cd8e8bb1-6b1c-4452-a5da-826134faa2f4",
   "metadata": {},
   "outputs": [
    {
     "name": "stderr",
     "output_type": "stream",
     "text": [
      "C:\\Users\\Dynev\\AppData\\Local\\Temp\\ipykernel_11376\\550936571.py:8: SettingWithCopyWarning: \n",
      "A value is trying to be set on a copy of a slice from a DataFrame.\n",
      "Try using .loc[row_indexer,col_indexer] = value instead\n",
      "\n",
      "See the caveats in the documentation: https://pandas.pydata.org/pandas-docs/stable/user_guide/indexing.html#returning-a-view-versus-a-copy\n",
      "  i['parts_per_mil'] = i['copies_per_cell'] / i['copies_per_cell'].sum() * 1000000\n",
      "C:\\Users\\Dynev\\AppData\\Local\\Temp\\ipykernel_11376\\550936571.py:8: SettingWithCopyWarning: \n",
      "A value is trying to be set on a copy of a slice from a DataFrame.\n",
      "Try using .loc[row_indexer,col_indexer] = value instead\n",
      "\n",
      "See the caveats in the documentation: https://pandas.pydata.org/pandas-docs/stable/user_guide/indexing.html#returning-a-view-versus-a-copy\n",
      "  i['parts_per_mil'] = i['copies_per_cell'] / i['copies_per_cell'].sum() * 1000000\n",
      "C:\\Users\\Dynev\\AppData\\Local\\Temp\\ipykernel_11376\\550936571.py:8: SettingWithCopyWarning: \n",
      "A value is trying to be set on a copy of a slice from a DataFrame.\n",
      "Try using .loc[row_indexer,col_indexer] = value instead\n",
      "\n",
      "See the caveats in the documentation: https://pandas.pydata.org/pandas-docs/stable/user_guide/indexing.html#returning-a-view-versus-a-copy\n",
      "  i['parts_per_mil'] = i['copies_per_cell'] / i['copies_per_cell'].sum() * 1000000\n",
      "C:\\Users\\Dynev\\AppData\\Local\\Temp\\ipykernel_11376\\550936571.py:8: SettingWithCopyWarning: \n",
      "A value is trying to be set on a copy of a slice from a DataFrame.\n",
      "Try using .loc[row_indexer,col_indexer] = value instead\n",
      "\n",
      "See the caveats in the documentation: https://pandas.pydata.org/pandas-docs/stable/user_guide/indexing.html#returning-a-view-versus-a-copy\n",
      "  i['parts_per_mil'] = i['copies_per_cell'] / i['copies_per_cell'].sum() * 1000000\n",
      "C:\\Users\\Dynev\\AppData\\Local\\Temp\\ipykernel_11376\\550936571.py:8: SettingWithCopyWarning: \n",
      "A value is trying to be set on a copy of a slice from a DataFrame.\n",
      "Try using .loc[row_indexer,col_indexer] = value instead\n",
      "\n",
      "See the caveats in the documentation: https://pandas.pydata.org/pandas-docs/stable/user_guide/indexing.html#returning-a-view-versus-a-copy\n",
      "  i['parts_per_mil'] = i['copies_per_cell'] / i['copies_per_cell'].sum() * 1000000\n",
      "C:\\Users\\Dynev\\AppData\\Local\\Temp\\ipykernel_11376\\550936571.py:8: SettingWithCopyWarning: \n",
      "A value is trying to be set on a copy of a slice from a DataFrame.\n",
      "Try using .loc[row_indexer,col_indexer] = value instead\n",
      "\n",
      "See the caveats in the documentation: https://pandas.pydata.org/pandas-docs/stable/user_guide/indexing.html#returning-a-view-versus-a-copy\n",
      "  i['parts_per_mil'] = i['copies_per_cell'] / i['copies_per_cell'].sum() * 1000000\n",
      "C:\\Users\\Dynev\\AppData\\Local\\Temp\\ipykernel_11376\\550936571.py:26: SettingWithCopyWarning: \n",
      "A value is trying to be set on a copy of a slice from a DataFrame.\n",
      "Try using .loc[row_indexer,col_indexer] = value instead\n",
      "\n",
      "See the caveats in the documentation: https://pandas.pydata.org/pandas-docs/stable/user_guide/indexing.html#returning-a-view-versus-a-copy\n",
      "  i['parts_per_mil'] = i['copies_per_cell'] / i['copies_per_cell'].sum() * 1000000\n",
      "C:\\Users\\Dynev\\AppData\\Local\\Temp\\ipykernel_11376\\550936571.py:26: SettingWithCopyWarning: \n",
      "A value is trying to be set on a copy of a slice from a DataFrame.\n",
      "Try using .loc[row_indexer,col_indexer] = value instead\n",
      "\n",
      "See the caveats in the documentation: https://pandas.pydata.org/pandas-docs/stable/user_guide/indexing.html#returning-a-view-versus-a-copy\n",
      "  i['parts_per_mil'] = i['copies_per_cell'] / i['copies_per_cell'].sum() * 1000000\n",
      "C:\\Users\\Dynev\\AppData\\Local\\Temp\\ipykernel_11376\\550936571.py:26: SettingWithCopyWarning: \n",
      "A value is trying to be set on a copy of a slice from a DataFrame.\n",
      "Try using .loc[row_indexer,col_indexer] = value instead\n",
      "\n",
      "See the caveats in the documentation: https://pandas.pydata.org/pandas-docs/stable/user_guide/indexing.html#returning-a-view-versus-a-copy\n",
      "  i['parts_per_mil'] = i['copies_per_cell'] / i['copies_per_cell'].sum() * 1000000\n",
      "C:\\Users\\Dynev\\AppData\\Local\\Temp\\ipykernel_11376\\550936571.py:26: SettingWithCopyWarning: \n",
      "A value is trying to be set on a copy of a slice from a DataFrame.\n",
      "Try using .loc[row_indexer,col_indexer] = value instead\n",
      "\n",
      "See the caveats in the documentation: https://pandas.pydata.org/pandas-docs/stable/user_guide/indexing.html#returning-a-view-versus-a-copy\n",
      "  i['parts_per_mil'] = i['copies_per_cell'] / i['copies_per_cell'].sum() * 1000000\n",
      "C:\\Users\\Dynev\\AppData\\Local\\Temp\\ipykernel_11376\\550936571.py:26: SettingWithCopyWarning: \n",
      "A value is trying to be set on a copy of a slice from a DataFrame.\n",
      "Try using .loc[row_indexer,col_indexer] = value instead\n",
      "\n",
      "See the caveats in the documentation: https://pandas.pydata.org/pandas-docs/stable/user_guide/indexing.html#returning-a-view-versus-a-copy\n",
      "  i['parts_per_mil'] = i['copies_per_cell'] / i['copies_per_cell'].sum() * 1000000\n",
      "C:\\Users\\Dynev\\AppData\\Local\\Temp\\ipykernel_11376\\550936571.py:44: SettingWithCopyWarning: \n",
      "A value is trying to be set on a copy of a slice from a DataFrame.\n",
      "Try using .loc[row_indexer,col_indexer] = value instead\n",
      "\n",
      "See the caveats in the documentation: https://pandas.pydata.org/pandas-docs/stable/user_guide/indexing.html#returning-a-view-versus-a-copy\n",
      "  i['parts_per_mil'] = i['copies_per_cell'] / i['copies_per_cell'].sum() * 1000000\n",
      "C:\\Users\\Dynev\\AppData\\Local\\Temp\\ipykernel_11376\\550936571.py:44: SettingWithCopyWarning: \n",
      "A value is trying to be set on a copy of a slice from a DataFrame.\n",
      "Try using .loc[row_indexer,col_indexer] = value instead\n",
      "\n",
      "See the caveats in the documentation: https://pandas.pydata.org/pandas-docs/stable/user_guide/indexing.html#returning-a-view-versus-a-copy\n",
      "  i['parts_per_mil'] = i['copies_per_cell'] / i['copies_per_cell'].sum() * 1000000\n",
      "C:\\Users\\Dynev\\AppData\\Local\\Temp\\ipykernel_11376\\550936571.py:44: SettingWithCopyWarning: \n",
      "A value is trying to be set on a copy of a slice from a DataFrame.\n",
      "Try using .loc[row_indexer,col_indexer] = value instead\n",
      "\n",
      "See the caveats in the documentation: https://pandas.pydata.org/pandas-docs/stable/user_guide/indexing.html#returning-a-view-versus-a-copy\n",
      "  i['parts_per_mil'] = i['copies_per_cell'] / i['copies_per_cell'].sum() * 1000000\n",
      "C:\\Users\\Dynev\\AppData\\Local\\Temp\\ipykernel_11376\\550936571.py:44: SettingWithCopyWarning: \n",
      "A value is trying to be set on a copy of a slice from a DataFrame.\n",
      "Try using .loc[row_indexer,col_indexer] = value instead\n",
      "\n",
      "See the caveats in the documentation: https://pandas.pydata.org/pandas-docs/stable/user_guide/indexing.html#returning-a-view-versus-a-copy\n",
      "  i['parts_per_mil'] = i['copies_per_cell'] / i['copies_per_cell'].sum() * 1000000\n",
      "C:\\Users\\Dynev\\AppData\\Local\\Temp\\ipykernel_11376\\550936571.py:44: SettingWithCopyWarning: \n",
      "A value is trying to be set on a copy of a slice from a DataFrame.\n",
      "Try using .loc[row_indexer,col_indexer] = value instead\n",
      "\n",
      "See the caveats in the documentation: https://pandas.pydata.org/pandas-docs/stable/user_guide/indexing.html#returning-a-view-versus-a-copy\n",
      "  i['parts_per_mil'] = i['copies_per_cell'] / i['copies_per_cell'].sum() * 1000000\n",
      "C:\\Users\\Dynev\\AppData\\Local\\Temp\\ipykernel_11376\\550936571.py:44: SettingWithCopyWarning: \n",
      "A value is trying to be set on a copy of a slice from a DataFrame.\n",
      "Try using .loc[row_indexer,col_indexer] = value instead\n",
      "\n",
      "See the caveats in the documentation: https://pandas.pydata.org/pandas-docs/stable/user_guide/indexing.html#returning-a-view-versus-a-copy\n",
      "  i['parts_per_mil'] = i['copies_per_cell'] / i['copies_per_cell'].sum() * 1000000\n",
      "C:\\Users\\Dynev\\AppData\\Local\\Temp\\ipykernel_11376\\550936571.py:44: SettingWithCopyWarning: \n",
      "A value is trying to be set on a copy of a slice from a DataFrame.\n",
      "Try using .loc[row_indexer,col_indexer] = value instead\n",
      "\n",
      "See the caveats in the documentation: https://pandas.pydata.org/pandas-docs/stable/user_guide/indexing.html#returning-a-view-versus-a-copy\n",
      "  i['parts_per_mil'] = i['copies_per_cell'] / i['copies_per_cell'].sum() * 1000000\n"
     ]
    }
   ],
   "source": [
    "ecoli_id = ecoli_id_counter.to_frame().rename({0: 'n_datasets'}, axis=1)\n",
    "ecoli_id.index.name = 'assigned_id'\n",
    "\n",
    "datasets_ecoli_core_norm = []\n",
    "\n",
    "for i in datasets_ecoli_core:\n",
    "    i = i[i['assigned_id'] != '_other']\n",
    "    i['parts_per_mil'] = i['copies_per_cell'] / i['copies_per_cell'].sum() * 1000000\n",
    "    \n",
    "    datasets_ecoli_core_norm.append(i[['assigned_id', 'parts_per_mil']])\n",
    "    \n",
    "x = pd.concat(datasets_ecoli_core_norm)\n",
    "x = x[x['assigned_id'] != '_other'].groupby('assigned_id').mean()\n",
    "\n",
    "ecoli_id = ecoli_id.join(x)\n",
    "\n",
    "ecoli_id.to_excel('../results/ecoli_cores.xlsx')\n",
    "\n",
    "scerevisiae_id = scerevisiae_id_counter.to_frame().rename({0: 'n_datasets'}, axis=1)\n",
    "scerevisiae_id.index.name = 'assigned_id'\n",
    "\n",
    "datasets_scerevisiae_core_norm = []\n",
    "\n",
    "for i in datasets_scerevisiae_core:\n",
    "    i = i[i['assigned_id'] != '_other']\n",
    "    i['parts_per_mil'] = i['copies_per_cell'] / i['copies_per_cell'].sum() * 1000000\n",
    "    \n",
    "    datasets_scerevisiae_core_norm.append(i[['assigned_id', 'parts_per_mil']])\n",
    "    \n",
    "x = pd.concat(datasets_scerevisiae_core_norm)\n",
    "x = x[x['assigned_id'] != '_other'].groupby('assigned_id').mean()\n",
    "\n",
    "scerevisiae_id = scerevisiae_id.join(x)\n",
    "\n",
    "scerevisiae_id.to_excel('../results/scerevisiae_cores.xlsx')\n",
    "\n",
    "hela_id = hela_id_counter.to_frame().rename({0: 'n_datasets'}, axis=1)\n",
    "hela_id.index.name = 'assigned_id'\n",
    "\n",
    "datasets_hela_core_norm = []\n",
    "\n",
    "for i in datasets_hela_core:\n",
    "    i = i[i['assigned_id'] != '_other']\n",
    "    i['parts_per_mil'] = i['copies_per_cell'] / i['copies_per_cell'].sum() * 1000000\n",
    "    \n",
    "    datasets_hela_core_norm.append(i[['assigned_id', 'parts_per_mil']])\n",
    "    \n",
    "x = pd.concat(datasets_hela_core_norm)\n",
    "x = x[x['assigned_id'] != '_other'].groupby('assigned_id').mean()\n",
    "\n",
    "hela_id = hela_id.join(x)\n",
    "\n",
    "hela_id.to_excel('../results/hela_cores.xlsx')"
   ]
  },
  {
   "cell_type": "code",
   "execution_count": 16,
   "id": "f2af4f01-de09-4b26-9b67-5d34448824a9",
   "metadata": {},
   "outputs": [],
   "source": [
    "correlations = {}\n",
    "\n",
    "for o in datasets_list['object'].unique():\n",
    "    studies_object = datasets_list.loc[datasets_list['object'] == o, 'study']\n",
    "    \n",
    "    datasets_object = {i: pd.read_excel(f'../data/processed/{o}/{i}_processed.xlsx') for i in studies_object}\n",
    "    datasets_object_r = {i: datasets_object[i][datasets_object[i]['assigned_id'] != '_other'] for i in studies_object}\n",
    "    \n",
    "    c = pd.DataFrame(index=studies_object, columns=studies_object)\n",
    "    \n",
    "    for j,l in combinations(studies_object, 2):\n",
    "        jdf = datasets_object_r[j].set_index('assigned_id').join(datasets_object_r[l].set_index('assigned_id'), how='inner', rsuffix='_2').loc[:, ['copies_per_cell', 'copies_per_cell_2']]    \n",
    "        c.loc[j, l] = pearsonr(jdf['copies_per_cell'], jdf['copies_per_cell_2'])[0]\n",
    "        \n",
    "        jdf = jdf[jdf.index.isin(cores[o])]\n",
    "        c.loc[l, j] = pearsonr(jdf['copies_per_cell'], jdf['copies_per_cell_2'])[0]\n",
    "        \n",
    "    correlations[o] = c"
   ]
  },
  {
   "cell_type": "code",
   "execution_count": 17,
   "id": "1ebcdb1e-2901-433e-bdc7-4a6cef0d71fa",
   "metadata": {},
   "outputs": [],
   "source": [
    "for o in datasets_list['object'].unique():\n",
    "    correlations[o].index.name = None\n",
    "    correlations[o].columns.name = None\n",
    "    \n",
    "    correlations[o].to_excel(f'../results/correlation_{o}.xlsx')"
   ]
  },
  {
   "cell_type": "code",
   "execution_count": 26,
   "id": "6f580796-cdab-4e23-b883-33a68216cedc",
   "metadata": {},
   "outputs": [
    {
     "data": {
      "text/plain": [
       "dict_values([     assigned_id  copies_per_cell\n",
       "0         P00350          17503.0\n",
       "1         P00363            136.5\n",
       "2         P00370           7482.0\n",
       "3         P00393            709.5\n",
       "4         P00448          36846.5\n",
       "...          ...              ...\n",
       "1175      Q47622             41.0\n",
       "1176      Q47690             74.0\n",
       "1177      Q59385            477.0\n",
       "1178      Q93K97            233.5\n",
       "1179      _other              0.0\n",
       "\n",
       "[1180 rows x 2 columns],      assigned_id  copies_per_cell\n",
       "0         A5A605                1\n",
       "1         A5A607                5\n",
       "2         A5A612                2\n",
       "3         A5A613              895\n",
       "4         A5A614              216\n",
       "...          ...              ...\n",
       "3583      Q7DFV3              124\n",
       "3584      Q93K97              223\n",
       "3585      Q9XB42                1\n",
       "3586      V9HVX0               96\n",
       "3587      _other           271507\n",
       "\n",
       "[3588 rows x 2 columns],      assigned_id  copies_per_cell\n",
       "0         P00350      3166.941750\n",
       "1         P00363      2105.713931\n",
       "2         P00370       230.631294\n",
       "3         P00393       179.349857\n",
       "4         P00448       557.040457\n",
       "...          ...              ...\n",
       "2221      Q47679        33.372433\n",
       "2222      Q57261       161.360626\n",
       "2223      Q59385        73.005050\n",
       "2224      Q93K97        51.551218\n",
       "2225      _other     41279.610264\n",
       "\n",
       "[2226 rows x 2 columns],      assigned_id  copies_per_cell\n",
       "0         P00350     35906.452454\n",
       "1         P00363       220.362779\n",
       "2         P00370     13859.280586\n",
       "3         P00393      1633.547496\n",
       "4         P00448     46728.500351\n",
       "...          ...              ...\n",
       "1908      Q57261       342.930588\n",
       "1909      Q59385       396.822948\n",
       "1910      Q7DFV3        67.419376\n",
       "1911      Q93K97      3211.753736\n",
       "1912      _other        22.871844\n",
       "\n",
       "[1913 rows x 2 columns],      assigned_id  copies_per_cell\n",
       "0         A5A614        13.821609\n",
       "1         A5A621         1.850424\n",
       "2         P00350     14100.359797\n",
       "3         P00363        36.552240\n",
       "4         P00370      6342.911639\n",
       "...          ...              ...\n",
       "2342      Q6BEX0         0.336732\n",
       "2343      Q6BF16         0.019322\n",
       "2344      Q6BF17         9.341173\n",
       "2345      Q93K97       138.695356\n",
       "2346      _other      3204.431390\n",
       "\n",
       "[2347 rows x 2 columns],      assigned_id  copies_per_cell\n",
       "0         A5A613        80.952308\n",
       "1         P00350      5520.684720\n",
       "2         P00363       112.442057\n",
       "3         P00370      5753.881794\n",
       "4         P00393      1147.194230\n",
       "...          ...              ...\n",
       "1948      Q57261       320.295122\n",
       "1949      Q59385      1382.023963\n",
       "1950      Q6BEX0        24.764843\n",
       "1951      Q93K97       127.737444\n",
       "1952      _other      2553.145956\n",
       "\n",
       "[1953 rows x 2 columns]])"
      ]
     },
     "execution_count": 26,
     "metadata": {},
     "output_type": "execute_result"
    }
   ],
   "source": [
    "datasets_ecoli_core"
   ]
  },
  {
   "cell_type": "code",
   "execution_count": null,
   "id": "2ef2c7e3-3ff3-4d9c-9746-1b4b1dd6ca9f",
   "metadata": {},
   "outputs": [],
   "source": [
    "datasets_list_untarg"
   ]
  }
 ],
 "metadata": {
  "kernelspec": {
   "display_name": "Python 3 (ipykernel)",
   "language": "python",
   "name": "python3"
  },
  "language_info": {
   "codemirror_mode": {
    "name": "ipython",
    "version": 3
   },
   "file_extension": ".py",
   "mimetype": "text/x-python",
   "name": "python",
   "nbconvert_exporter": "python",
   "pygments_lexer": "ipython3",
   "version": "3.10.4"
  }
 },
 "nbformat": 4,
 "nbformat_minor": 5
}
