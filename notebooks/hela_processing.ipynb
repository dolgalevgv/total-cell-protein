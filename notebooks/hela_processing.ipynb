{
 "cells": [
  {
   "cell_type": "code",
   "execution_count": 1,
   "id": "fa3a89b7-8d47-446a-8718-4043d2e380e2",
   "metadata": {},
   "outputs": [],
   "source": [
    "import pandas"
   ]
  },
  {
   "cell_type": "code",
   "execution_count": 2,
   "id": "e329b36a-4db9-4fc1-ba2c-271375a78c35",
   "metadata": {},
   "outputs": [],
   "source": [
    "db = pandas.read_excel('../data/hela/human_db.xlsx')"
   ]
  },
  {
   "cell_type": "code",
   "execution_count": 7,
   "id": "53f3ee45-554e-44b8-9011-d2ffb0745b51",
   "metadata": {},
   "outputs": [
    {
     "data": {
      "text/html": [
       "<div>\n",
       "<style scoped>\n",
       "    .dataframe tbody tr th:only-of-type {\n",
       "        vertical-align: middle;\n",
       "    }\n",
       "\n",
       "    .dataframe tbody tr th {\n",
       "        vertical-align: top;\n",
       "    }\n",
       "\n",
       "    .dataframe thead th {\n",
       "        text-align: right;\n",
       "    }\n",
       "</style>\n",
       "<table border=\"1\" class=\"dataframe\">\n",
       "  <thead>\n",
       "    <tr style=\"text-align: right;\">\n",
       "      <th></th>\n",
       "      <th>Entry</th>\n",
       "      <th>Entry name</th>\n",
       "      <th>Status</th>\n",
       "      <th>Protein names</th>\n",
       "      <th>Gene names</th>\n",
       "      <th>Organism</th>\n",
       "      <th>Length</th>\n",
       "      <th>Ribosomal</th>\n",
       "    </tr>\n",
       "  </thead>\n",
       "  <tbody>\n",
       "    <tr>\n",
       "      <th>0</th>\n",
       "      <td>Q96NG5</td>\n",
       "      <td>ZN558_HUMAN</td>\n",
       "      <td>reviewed</td>\n",
       "      <td>Zinc finger protein 558</td>\n",
       "      <td>ZNF558</td>\n",
       "      <td>Homo sapiens (Human)</td>\n",
       "      <td>402</td>\n",
       "      <td>False</td>\n",
       "    </tr>\n",
       "    <tr>\n",
       "      <th>1</th>\n",
       "      <td>Q6ZN19</td>\n",
       "      <td>ZN841_HUMAN</td>\n",
       "      <td>reviewed</td>\n",
       "      <td>Zinc finger protein 841</td>\n",
       "      <td>ZNF841</td>\n",
       "      <td>Homo sapiens (Human)</td>\n",
       "      <td>808</td>\n",
       "      <td>False</td>\n",
       "    </tr>\n",
       "    <tr>\n",
       "      <th>2</th>\n",
       "      <td>Q9UI25</td>\n",
       "      <td>YP002_HUMAN</td>\n",
       "      <td>reviewed</td>\n",
       "      <td>Putative uncharacterized protein PRO0461</td>\n",
       "      <td>PRO0461</td>\n",
       "      <td>Homo sapiens (Human)</td>\n",
       "      <td>63</td>\n",
       "      <td>False</td>\n",
       "    </tr>\n",
       "    <tr>\n",
       "      <th>3</th>\n",
       "      <td>Q86XN6</td>\n",
       "      <td>ZN761_HUMAN</td>\n",
       "      <td>reviewed</td>\n",
       "      <td>Zinc finger protein 761</td>\n",
       "      <td>ZNF761 KIAA2033</td>\n",
       "      <td>Homo sapiens (Human)</td>\n",
       "      <td>746</td>\n",
       "      <td>False</td>\n",
       "    </tr>\n",
       "    <tr>\n",
       "      <th>4</th>\n",
       "      <td>A8MUZ8</td>\n",
       "      <td>Z705G_HUMAN</td>\n",
       "      <td>reviewed</td>\n",
       "      <td>Putative zinc finger protein 705G</td>\n",
       "      <td>ZNF705G</td>\n",
       "      <td>Homo sapiens (Human)</td>\n",
       "      <td>300</td>\n",
       "      <td>False</td>\n",
       "    </tr>\n",
       "  </tbody>\n",
       "</table>\n",
       "</div>"
      ],
      "text/plain": [
       "    Entry   Entry name    Status                             Protein names  \\\n",
       "0  Q96NG5  ZN558_HUMAN  reviewed                   Zinc finger protein 558   \n",
       "1  Q6ZN19  ZN841_HUMAN  reviewed                   Zinc finger protein 841   \n",
       "2  Q9UI25  YP002_HUMAN  reviewed  Putative uncharacterized protein PRO0461   \n",
       "3  Q86XN6  ZN761_HUMAN  reviewed                   Zinc finger protein 761   \n",
       "4  A8MUZ8  Z705G_HUMAN  reviewed         Putative zinc finger protein 705G   \n",
       "\n",
       "        Gene names              Organism  Length  Ribosomal  \n",
       "0           ZNF558  Homo sapiens (Human)     402      False  \n",
       "1           ZNF841  Homo sapiens (Human)     808      False  \n",
       "2          PRO0461  Homo sapiens (Human)      63      False  \n",
       "3  ZNF761 KIAA2033  Homo sapiens (Human)     746      False  \n",
       "4          ZNF705G  Homo sapiens (Human)     300      False  "
      ]
     },
     "execution_count": 7,
     "metadata": {},
     "output_type": "execute_result"
    }
   ],
   "source": [
    "db.head()"
   ]
  },
  {
   "cell_type": "code",
   "execution_count": 4,
   "id": "fd6c7362-32f0-419b-b9be-720d9caca7a2",
   "metadata": {},
   "outputs": [],
   "source": [
    "nagaraj2011 = pandas.read_excel('../data/hela/prepared/nagaraj2011.xlsx')"
   ]
  },
  {
   "cell_type": "code",
   "execution_count": 21,
   "id": "80546f35-fbb2-4f2f-8353-760202a7a66d",
   "metadata": {},
   "outputs": [
    {
     "data": {
      "text/plain": [
       "8078"
      ]
     },
     "execution_count": 21,
     "metadata": {},
     "output_type": "execute_result"
    }
   ],
   "source": [
    "len(nagaraj2011)"
   ]
  },
  {
   "cell_type": "code",
   "execution_count": 6,
   "id": "647453a7-da86-4834-973a-bc26b17763ca",
   "metadata": {},
   "outputs": [],
   "source": [
    "nagaraj2011c = nagaraj2011.copy()"
   ]
  },
  {
   "cell_type": "code",
   "execution_count": 23,
   "id": "3d43f6a7-0f2a-4224-ac5b-9bbce94964cc",
   "metadata": {},
   "outputs": [],
   "source": [
    "def remap(df, db):\n",
    "    entries = []\n",
    "    \n",
    "    for i,j in df.iterrows():\n",
    "        if ';' in j['Entry']:\n",
    "            for k in j['Entry'].split(';'):\n",
    "                if k in db['Entry'].tolist():\n",
    "                    if k in entries:\n",
    "                        continue\n",
    "                    else:\n",
    "                        entries.append(k)\n",
    "                        break\n",
    "            else:\n",
    "                entries.append('0')\n",
    "        else:\n",
    "            if j['Entry'] in db['Entry'].tolist():\n",
    "                entries.append(j['Entry'])\n",
    "            else:\n",
    "                entries.append('0')\n",
    "    \n",
    "    entries2 = entries.copy()\n",
    "    for i,j in enumerate(entries):\n",
    "        if j == '0':\n",
    "            if isinstance(df.iloc[i]['Gene'], str):\n",
    "                if ';' in df.iloc[i]['Gene']:\n",
    "                    for k in df.iloc[i]['Gene'].split(';'):\n",
    "                        for m,n in db.iterrows():\n",
    "                            if isinstance(n['Gene names'], str):\n",
    "                                if df.iloc[i]['Gene'] in n['Gene names']:\n",
    "                                    if str(n['Entry']) not in entries2:\n",
    "                                        entries2[i] = str(n['Entry'])\n",
    "                                        break\n",
    "                else:\n",
    "                    for m,n in db.iterrows():\n",
    "                        if isinstance(n['Gene names'], str):\n",
    "                            if df.iloc[i]['Gene'] in n['Gene names']:\n",
    "                                if str(n['Entry']) not in entries2:\n",
    "                                    entries2[i] = str(n['Entry'])\n",
    "                                    break\n",
    "\n",
    "    return entries2               "
   ]
  },
  {
   "cell_type": "code",
   "execution_count": 45,
   "id": "51e057e0-3f46-4a49-a222-42ffbc073d05",
   "metadata": {},
   "outputs": [],
   "source": [
    "nagaraj2011['Entry'] = _"
   ]
  },
  {
   "cell_type": "code",
   "execution_count": 47,
   "id": "c0285fa8-d352-4e36-8e06-a7dd3c00002e",
   "metadata": {},
   "outputs": [],
   "source": [
    "nagaraj2011 = nagaraj2011[nagaraj2011['Entry'] != '0']"
   ]
  },
  {
   "cell_type": "code",
   "execution_count": 49,
   "id": "2e28f408-dcc3-4e67-a0fd-d2855ac11b0c",
   "metadata": {},
   "outputs": [
    {
     "data": {
      "text/html": [
       "<div>\n",
       "<style scoped>\n",
       "    .dataframe tbody tr th:only-of-type {\n",
       "        vertical-align: middle;\n",
       "    }\n",
       "\n",
       "    .dataframe tbody tr th {\n",
       "        vertical-align: top;\n",
       "    }\n",
       "\n",
       "    .dataframe thead th {\n",
       "        text-align: right;\n",
       "    }\n",
       "</style>\n",
       "<table border=\"1\" class=\"dataframe\">\n",
       "  <thead>\n",
       "    <tr style=\"text-align: right;\">\n",
       "      <th></th>\n",
       "      <th>Entry</th>\n",
       "      <th>Gene Ensembl</th>\n",
       "      <th>Gene</th>\n",
       "      <th>C [Copies/cell]</th>\n",
       "    </tr>\n",
       "  </thead>\n",
       "  <tbody>\n",
       "    <tr>\n",
       "      <th>0</th>\n",
       "      <td>P23528</td>\n",
       "      <td>ENSG00000172757</td>\n",
       "      <td>CFL1;CFL</td>\n",
       "      <td>3.306217e+07</td>\n",
       "    </tr>\n",
       "    <tr>\n",
       "      <th>1</th>\n",
       "      <td>Q06830</td>\n",
       "      <td>ENSG00000117450</td>\n",
       "      <td>PRDX1;PAGA;PAGB;TDPX2</td>\n",
       "      <td>2.319624e+07</td>\n",
       "    </tr>\n",
       "    <tr>\n",
       "      <th>2</th>\n",
       "      <td>P09211</td>\n",
       "      <td>ENSG00000084207</td>\n",
       "      <td>GSTP1;FAEES3;GST3</td>\n",
       "      <td>2.273290e+07</td>\n",
       "    </tr>\n",
       "    <tr>\n",
       "      <th>3</th>\n",
       "      <td>P0C0S8</td>\n",
       "      <td>ENSG00000184348;ENSG00000184825;ENSG0000019674...</td>\n",
       "      <td>HIST1H2AH;hCG_1640359;HIST1H2AK;HIST1H2AG;HIST...</td>\n",
       "      <td>2.208308e+07</td>\n",
       "    </tr>\n",
       "    <tr>\n",
       "      <th>4</th>\n",
       "      <td>P10412</td>\n",
       "      <td>ENSG00000168298</td>\n",
       "      <td>HIST1H1E;hCG_1645742;H1F4</td>\n",
       "      <td>2.059140e+07</td>\n",
       "    </tr>\n",
       "    <tr>\n",
       "      <th>...</th>\n",
       "      <td>...</td>\n",
       "      <td>...</td>\n",
       "      <td>...</td>\n",
       "      <td>...</td>\n",
       "    </tr>\n",
       "    <tr>\n",
       "      <th>8073</th>\n",
       "      <td>Q7Z7M0</td>\n",
       "      <td>ENSG00000105429</td>\n",
       "      <td>MEGF8;C19orf49;EGFL4;KIAA0817</td>\n",
       "      <td>2.195436e+00</td>\n",
       "    </tr>\n",
       "    <tr>\n",
       "      <th>8074</th>\n",
       "      <td>Q9BZ71</td>\n",
       "      <td>ENSG00000091622</td>\n",
       "      <td>PITPNM3;NIR1</td>\n",
       "      <td>1.969187e+00</td>\n",
       "    </tr>\n",
       "    <tr>\n",
       "      <th>8075</th>\n",
       "      <td>Q9HCM2</td>\n",
       "      <td>ENSG00000221866</td>\n",
       "      <td>DKFZp434G0625;PLXNA4B;hCG_2014152;tcag7.327;PL...</td>\n",
       "      <td>1.858122e+00</td>\n",
       "    </tr>\n",
       "    <tr>\n",
       "      <th>8076</th>\n",
       "      <td>Q9NZR2</td>\n",
       "      <td>ENSG00000168702</td>\n",
       "      <td>LRP1B;LRPDIT</td>\n",
       "      <td>1.816038e+00</td>\n",
       "    </tr>\n",
       "    <tr>\n",
       "      <th>8077</th>\n",
       "      <td>Q7Z7A1</td>\n",
       "      <td>ENSG00000119397</td>\n",
       "      <td>CEP110;CEP1;RP11-165P4.1-002;RP11-165P4.1-003;...</td>\n",
       "      <td>2.046019e-01</td>\n",
       "    </tr>\n",
       "  </tbody>\n",
       "</table>\n",
       "<p>8019 rows × 4 columns</p>\n",
       "</div>"
      ],
      "text/plain": [
       "       Entry                                       Gene Ensembl  \\\n",
       "0     P23528                                    ENSG00000172757   \n",
       "1     Q06830                                    ENSG00000117450   \n",
       "2     P09211                                    ENSG00000084207   \n",
       "3     P0C0S8  ENSG00000184348;ENSG00000184825;ENSG0000019674...   \n",
       "4     P10412                                    ENSG00000168298   \n",
       "...      ...                                                ...   \n",
       "8073  Q7Z7M0                                    ENSG00000105429   \n",
       "8074  Q9BZ71                                    ENSG00000091622   \n",
       "8075  Q9HCM2                                    ENSG00000221866   \n",
       "8076  Q9NZR2                                    ENSG00000168702   \n",
       "8077  Q7Z7A1                                    ENSG00000119397   \n",
       "\n",
       "                                                   Gene  C [Copies/cell]  \n",
       "0                                              CFL1;CFL     3.306217e+07  \n",
       "1                                 PRDX1;PAGA;PAGB;TDPX2     2.319624e+07  \n",
       "2                                     GSTP1;FAEES3;GST3     2.273290e+07  \n",
       "3     HIST1H2AH;hCG_1640359;HIST1H2AK;HIST1H2AG;HIST...     2.208308e+07  \n",
       "4                             HIST1H1E;hCG_1645742;H1F4     2.059140e+07  \n",
       "...                                                 ...              ...  \n",
       "8073                      MEGF8;C19orf49;EGFL4;KIAA0817     2.195436e+00  \n",
       "8074                                       PITPNM3;NIR1     1.969187e+00  \n",
       "8075  DKFZp434G0625;PLXNA4B;hCG_2014152;tcag7.327;PL...     1.858122e+00  \n",
       "8076                                       LRP1B;LRPDIT     1.816038e+00  \n",
       "8077  CEP110;CEP1;RP11-165P4.1-002;RP11-165P4.1-003;...     2.046019e-01  \n",
       "\n",
       "[8019 rows x 4 columns]"
      ]
     },
     "execution_count": 49,
     "metadata": {},
     "output_type": "execute_result"
    }
   ],
   "source": [
    "nagaraj2011"
   ]
  },
  {
   "cell_type": "code",
   "execution_count": 50,
   "id": "6c13b310-dfe6-41e6-9c91-00df74d12005",
   "metadata": {},
   "outputs": [],
   "source": [
    "nagaraj2011 = nagaraj2011[['Entry', 'C [Copies/cell]']]"
   ]
  },
  {
   "cell_type": "code",
   "execution_count": 52,
   "id": "22f7f80e-8a24-4308-92c3-652601ce3a96",
   "metadata": {},
   "outputs": [],
   "source": [
    "nagaraj2011.to_excel('../data/hela/processed/nagaraj2011.xlsx', index=False)"
   ]
  },
  {
   "cell_type": "code",
   "execution_count": 24,
   "id": "4b5449ed-629b-46c7-8826-58953a4472af",
   "metadata": {},
   "outputs": [],
   "source": [
    "wisniewski2012 = pandas.read_excel('../data/hela/prepared/wisniewski2012.xlsx')"
   ]
  },
  {
   "cell_type": "code",
   "execution_count": 30,
   "id": "b49c9cf5-6599-4d6b-b3c0-c941d7726b21",
   "metadata": {},
   "outputs": [
    {
     "data": {
      "text/plain": [
       "7628"
      ]
     },
     "execution_count": 30,
     "metadata": {},
     "output_type": "execute_result"
    }
   ],
   "source": [
    "len(wisniewski2012)"
   ]
  },
  {
   "cell_type": "code",
   "execution_count": 25,
   "id": "cc483472-4558-4a97-9334-34e533c20095",
   "metadata": {},
   "outputs": [],
   "source": [
    "entries_w = remap(wisniewski2012, db)"
   ]
  },
  {
   "cell_type": "code",
   "execution_count": 26,
   "id": "8f2c5979-82bf-4fd4-881a-f23347f50c20",
   "metadata": {},
   "outputs": [],
   "source": [
    "wisniewski2012['Entry'] = entries_w"
   ]
  },
  {
   "cell_type": "code",
   "execution_count": 27,
   "id": "3773b2c5-13c0-41f6-8c69-294ec4ff4417",
   "metadata": {},
   "outputs": [],
   "source": [
    "wisniewski2012 = wisniewski2012[~(wisniewski2012['C [Copies/cell]'].astype(str) == '<1E+3')]"
   ]
  },
  {
   "cell_type": "code",
   "execution_count": 28,
   "id": "4a436238-da30-4499-b599-1a410625d370",
   "metadata": {},
   "outputs": [],
   "source": [
    "wisniewski2012 = wisniewski2012[wisniewski2012['Entry'] != '0']"
   ]
  },
  {
   "cell_type": "code",
   "execution_count": 29,
   "id": "1a8cce24-2da9-4a32-9684-2229e376a0f4",
   "metadata": {},
   "outputs": [],
   "source": [
    "wisniewski2012 = wisniewski2012[['Entry', 'C [Copies/cell]']]"
   ]
  },
  {
   "cell_type": "code",
   "execution_count": 31,
   "id": "6b23755e-9e4b-4a78-84c5-93b274b3f769",
   "metadata": {},
   "outputs": [],
   "source": [
    "wisniewski2012.to_excel('../data/hela/processed/wisniewski2012_processed.xlsx', index=False)"
   ]
  },
  {
   "cell_type": "code",
   "execution_count": 68,
   "id": "24559520-13e3-4db6-9ab0-d0c4a3914dc0",
   "metadata": {},
   "outputs": [],
   "source": [
    "kulak2014 = pandas.read_excel('../data/hela/prepared/kulak2014.xlsx')"
   ]
  },
  {
   "cell_type": "code",
   "execution_count": 69,
   "id": "d95638ce-f71e-4ea8-a176-8d00b6260c25",
   "metadata": {},
   "outputs": [
    {
     "data": {
      "text/html": [
       "<div>\n",
       "<style scoped>\n",
       "    .dataframe tbody tr th:only-of-type {\n",
       "        vertical-align: middle;\n",
       "    }\n",
       "\n",
       "    .dataframe tbody tr th {\n",
       "        vertical-align: top;\n",
       "    }\n",
       "\n",
       "    .dataframe thead th {\n",
       "        text-align: right;\n",
       "    }\n",
       "</style>\n",
       "<table border=\"1\" class=\"dataframe\">\n",
       "  <thead>\n",
       "    <tr style=\"text-align: right;\">\n",
       "      <th></th>\n",
       "      <th>Entry</th>\n",
       "      <th>Gene</th>\n",
       "      <th>C [Copies/cell]</th>\n",
       "    </tr>\n",
       "  </thead>\n",
       "  <tbody>\n",
       "    <tr>\n",
       "      <th>0</th>\n",
       "      <td>A0AV02-5;A0AV02-3;A0AV02;A0AV02-2;F8W7X1;A0AV02-4</td>\n",
       "      <td>SLC12A8</td>\n",
       "      <td>1994.393</td>\n",
       "    </tr>\n",
       "    <tr>\n",
       "      <th>1</th>\n",
       "      <td>A0AV96;B7Z8Z7;A0AV96-2;D6R9D6;D6RBS9;D6REZ6</td>\n",
       "      <td>RBM47</td>\n",
       "      <td>83613.240</td>\n",
       "    </tr>\n",
       "    <tr>\n",
       "      <th>2</th>\n",
       "      <td>A0AVF1;A0AVF1-2;F8W724;B7Z2T3;B7Z6R6</td>\n",
       "      <td>TTC26</td>\n",
       "      <td>2161.317</td>\n",
       "    </tr>\n",
       "    <tr>\n",
       "      <th>3</th>\n",
       "      <td>A0AVT1;A0AVT1-2</td>\n",
       "      <td>UBA6</td>\n",
       "      <td>145507.300</td>\n",
       "    </tr>\n",
       "    <tr>\n",
       "      <th>4</th>\n",
       "      <td>A0JLT2;A0JLT2-2</td>\n",
       "      <td>MED19</td>\n",
       "      <td>28867.750</td>\n",
       "    </tr>\n",
       "    <tr>\n",
       "      <th>...</th>\n",
       "      <td>...</td>\n",
       "      <td>...</td>\n",
       "      <td>...</td>\n",
       "    </tr>\n",
       "    <tr>\n",
       "      <th>9672</th>\n",
       "      <td>Q9Y6X3;G8JL95</td>\n",
       "      <td>MAU2</td>\n",
       "      <td>23155.980</td>\n",
       "    </tr>\n",
       "    <tr>\n",
       "      <th>9673</th>\n",
       "      <td>Q9Y6X8</td>\n",
       "      <td>ZHX2</td>\n",
       "      <td>2019.255</td>\n",
       "    </tr>\n",
       "    <tr>\n",
       "      <th>9674</th>\n",
       "      <td>Q9Y6X9;Q9Y6X9-2</td>\n",
       "      <td>MORC2</td>\n",
       "      <td>20256.610</td>\n",
       "    </tr>\n",
       "    <tr>\n",
       "      <th>9675</th>\n",
       "      <td>Q9Y6Y0;A8MVR0</td>\n",
       "      <td>IVNS1ABP</td>\n",
       "      <td>108706.700</td>\n",
       "    </tr>\n",
       "    <tr>\n",
       "      <th>9676</th>\n",
       "      <td>Q9Y6Y8;F5H0L8;Q9Y6Y8-2</td>\n",
       "      <td>SEC23IP</td>\n",
       "      <td>98173.840</td>\n",
       "    </tr>\n",
       "  </tbody>\n",
       "</table>\n",
       "<p>9677 rows × 3 columns</p>\n",
       "</div>"
      ],
      "text/plain": [
       "                                                  Entry      Gene  \\\n",
       "0     A0AV02-5;A0AV02-3;A0AV02;A0AV02-2;F8W7X1;A0AV02-4   SLC12A8   \n",
       "1           A0AV96;B7Z8Z7;A0AV96-2;D6R9D6;D6RBS9;D6REZ6     RBM47   \n",
       "2                  A0AVF1;A0AVF1-2;F8W724;B7Z2T3;B7Z6R6     TTC26   \n",
       "3                                       A0AVT1;A0AVT1-2      UBA6   \n",
       "4                                       A0JLT2;A0JLT2-2     MED19   \n",
       "...                                                 ...       ...   \n",
       "9672                                      Q9Y6X3;G8JL95      MAU2   \n",
       "9673                                             Q9Y6X8      ZHX2   \n",
       "9674                                    Q9Y6X9;Q9Y6X9-2     MORC2   \n",
       "9675                                      Q9Y6Y0;A8MVR0  IVNS1ABP   \n",
       "9676                             Q9Y6Y8;F5H0L8;Q9Y6Y8-2   SEC23IP   \n",
       "\n",
       "      C [Copies/cell]  \n",
       "0            1994.393  \n",
       "1           83613.240  \n",
       "2            2161.317  \n",
       "3          145507.300  \n",
       "4           28867.750  \n",
       "...               ...  \n",
       "9672        23155.980  \n",
       "9673         2019.255  \n",
       "9674        20256.610  \n",
       "9675       108706.700  \n",
       "9676        98173.840  \n",
       "\n",
       "[9677 rows x 3 columns]"
      ]
     },
     "execution_count": 69,
     "metadata": {},
     "output_type": "execute_result"
    }
   ],
   "source": [
    "kulak2014"
   ]
  },
  {
   "cell_type": "code",
   "execution_count": 70,
   "id": "ec77ae2d-7191-4efc-82b3-e1d0ba5f7b72",
   "metadata": {},
   "outputs": [],
   "source": [
    "entries_k = remap(kulak2014, db)"
   ]
  },
  {
   "cell_type": "code",
   "execution_count": 72,
   "id": "c7d38d42-3dde-4626-b826-d9c33a46316b",
   "metadata": {},
   "outputs": [],
   "source": [
    "kulak2014['Entry'] = entries_k"
   ]
  },
  {
   "cell_type": "code",
   "execution_count": 97,
   "id": "a55b9bfa-0766-4520-9885-f72a84c8df69",
   "metadata": {},
   "outputs": [],
   "source": [
    "kulak2014.to_excel('../data/hela/processed/kulak2014_processed.xlsx', index=False)"
   ]
  },
  {
   "cell_type": "code",
   "execution_count": 73,
   "id": "cb3c93fd-29fb-4c71-b196-dbb61e4b3c19",
   "metadata": {},
   "outputs": [],
   "source": [
    "kulak2014 = kulak2014[kulak2014['Entry'] != '0']"
   ]
  },
  {
   "cell_type": "code",
   "execution_count": 76,
   "id": "965aa9e5-eaab-4b40-a798-f03b1543448b",
   "metadata": {},
   "outputs": [
    {
     "data": {
      "text/plain": [
       "1046362.4202988107"
      ]
     },
     "execution_count": 76,
     "metadata": {},
     "output_type": "execute_result"
    }
   ],
   "source": [
    "kulak2014['C [Copies/cell]'].sum() / 2800"
   ]
  },
  {
   "cell_type": "code",
   "execution_count": 32,
   "id": "ed859a65-b588-4cac-aa96-439aa202e5d5",
   "metadata": {},
   "outputs": [],
   "source": [
    "itzhak2016 = pandas.read_excel('../data/hela/prepared/itzhak2016.xlsx')"
   ]
  },
  {
   "cell_type": "code",
   "execution_count": 33,
   "id": "1306d23f-debc-4073-bee4-5347b02fa291",
   "metadata": {},
   "outputs": [],
   "source": [
    "entries_i = remap(itzhak2016, db)"
   ]
  },
  {
   "cell_type": "code",
   "execution_count": 34,
   "id": "dff63f28-c244-40f8-a5bb-4da811021732",
   "metadata": {},
   "outputs": [],
   "source": [
    "itzhak2016['Entry'] = entries_i"
   ]
  },
  {
   "cell_type": "code",
   "execution_count": 35,
   "id": "cdc2235f-4046-4c90-b75b-bf68aa98f29c",
   "metadata": {},
   "outputs": [],
   "source": [
    "ithzak2016 = itzhak2016[itzhak2016['Entry'] != '0']"
   ]
  },
  {
   "cell_type": "code",
   "execution_count": 36,
   "id": "8c7fccb3-c2b2-4a14-a7ff-384490b55ba5",
   "metadata": {},
   "outputs": [
    {
     "data": {
      "text/html": [
       "<div>\n",
       "<style scoped>\n",
       "    .dataframe tbody tr th:only-of-type {\n",
       "        vertical-align: middle;\n",
       "    }\n",
       "\n",
       "    .dataframe tbody tr th {\n",
       "        vertical-align: top;\n",
       "    }\n",
       "\n",
       "    .dataframe thead th {\n",
       "        text-align: right;\n",
       "    }\n",
       "</style>\n",
       "<table border=\"1\" class=\"dataframe\">\n",
       "  <thead>\n",
       "    <tr style=\"text-align: right;\">\n",
       "      <th></th>\n",
       "      <th>Entry</th>\n",
       "      <th>Gene</th>\n",
       "      <th>C [Copies/cell]</th>\n",
       "    </tr>\n",
       "  </thead>\n",
       "  <tbody>\n",
       "    <tr>\n",
       "      <th>0</th>\n",
       "      <td>Q9BZC7</td>\n",
       "      <td>ABCA2</td>\n",
       "      <td>3223.596041</td>\n",
       "    </tr>\n",
       "    <tr>\n",
       "      <th>1</th>\n",
       "      <td>Q6RW13</td>\n",
       "      <td>AGTRAP</td>\n",
       "      <td>102929.880647</td>\n",
       "    </tr>\n",
       "    <tr>\n",
       "      <th>2</th>\n",
       "      <td>Q9P2R3</td>\n",
       "      <td>ANKFY1</td>\n",
       "      <td>219204.306664</td>\n",
       "    </tr>\n",
       "    <tr>\n",
       "      <th>3</th>\n",
       "      <td>Q96NW4</td>\n",
       "      <td>ANKRD27</td>\n",
       "      <td>15984.121704</td>\n",
       "    </tr>\n",
       "    <tr>\n",
       "      <th>4</th>\n",
       "      <td>O00203</td>\n",
       "      <td>AP3B1</td>\n",
       "      <td>373246.384256</td>\n",
       "    </tr>\n",
       "    <tr>\n",
       "      <th>...</th>\n",
       "      <td>...</td>\n",
       "      <td>...</td>\n",
       "      <td>...</td>\n",
       "    </tr>\n",
       "    <tr>\n",
       "      <th>8705</th>\n",
       "      <td>O95229</td>\n",
       "      <td>ZWINT</td>\n",
       "      <td>132594.680889</td>\n",
       "    </tr>\n",
       "    <tr>\n",
       "      <th>8706</th>\n",
       "      <td>P98168</td>\n",
       "      <td>ZXDA</td>\n",
       "      <td>10627.813041</td>\n",
       "    </tr>\n",
       "    <tr>\n",
       "      <th>8707</th>\n",
       "      <td>Q2QGD7</td>\n",
       "      <td>ZXDC</td>\n",
       "      <td>3275.696320</td>\n",
       "    </tr>\n",
       "    <tr>\n",
       "      <th>8708</th>\n",
       "      <td>O43149</td>\n",
       "      <td>ZZEF1</td>\n",
       "      <td>26855.925330</td>\n",
       "    </tr>\n",
       "    <tr>\n",
       "      <th>8709</th>\n",
       "      <td>Q8IYH5</td>\n",
       "      <td>ZZZ3</td>\n",
       "      <td>36402.738729</td>\n",
       "    </tr>\n",
       "  </tbody>\n",
       "</table>\n",
       "<p>8511 rows × 3 columns</p>\n",
       "</div>"
      ],
      "text/plain": [
       "       Entry     Gene  C [Copies/cell]\n",
       "0     Q9BZC7    ABCA2      3223.596041\n",
       "1     Q6RW13   AGTRAP    102929.880647\n",
       "2     Q9P2R3   ANKFY1    219204.306664\n",
       "3     Q96NW4  ANKRD27     15984.121704\n",
       "4     O00203    AP3B1    373246.384256\n",
       "...      ...      ...              ...\n",
       "8705  O95229    ZWINT    132594.680889\n",
       "8706  P98168     ZXDA     10627.813041\n",
       "8707  Q2QGD7     ZXDC      3275.696320\n",
       "8708  O43149    ZZEF1     26855.925330\n",
       "8709  Q8IYH5     ZZZ3     36402.738729\n",
       "\n",
       "[8511 rows x 3 columns]"
      ]
     },
     "execution_count": 36,
     "metadata": {},
     "output_type": "execute_result"
    }
   ],
   "source": [
    "ithzak2016"
   ]
  },
  {
   "cell_type": "code",
   "execution_count": 37,
   "id": "2b198c2d-d917-426d-a47f-a9df7709a9fd",
   "metadata": {},
   "outputs": [],
   "source": [
    "itzhak2016.to_excel('../data/hela/processed/itzhak2016_processed.xlsx', index=False)"
   ]
  },
  {
   "cell_type": "code",
   "execution_count": 9,
   "id": "40664d05-047b-4f4a-977c-4be15846174d",
   "metadata": {},
   "outputs": [],
   "source": [
    "bekkerjensen2017r = pandas.read_excel('../data/hela/raw/bekker-jensen2017_raw_st3.xlsx', header=2)"
   ]
  },
  {
   "cell_type": "code",
   "execution_count": 15,
   "id": "ab8b7fc0-7172-4d3a-bb7a-3aa319ff8fa9",
   "metadata": {},
   "outputs": [],
   "source": [
    "bekkerjensen2017 = pandas.read_excel('../data/hela/prepared/bekker-jensen2017.xlsx')"
   ]
  },
  {
   "cell_type": "code",
   "execution_count": 13,
   "id": "c5e08e04-faf5-4a91-9072-691bdb1d9792",
   "metadata": {},
   "outputs": [],
   "source": [
    "bekkerjensen2017r = bekkerjensen2017r[bekkerjensen2017r['Protein Coding Gene (most abundant isoform/variant)'] == '+']"
   ]
  },
  {
   "cell_type": "code",
   "execution_count": 14,
   "id": "648b804c-e44a-40f5-8139-679bb48762f9",
   "metadata": {},
   "outputs": [],
   "source": [
    "bekkerjensen2017r.to_excel('../data/hela/raw/bekker-jensen2017_raw_st3_proteincoding.xlsx', index=False)"
   ]
  },
  {
   "cell_type": "code",
   "execution_count": 16,
   "id": "d8944cff-9448-4fc0-9bd7-04b2b9e4d90d",
   "metadata": {},
   "outputs": [],
   "source": [
    "entries_b = remap(bekkerjensen2017, db)"
   ]
  },
  {
   "cell_type": "code",
   "execution_count": 49,
   "id": "3acef670-50f2-4a88-adc3-bc4e8ebda392",
   "metadata": {},
   "outputs": [
    {
     "data": {
      "text/plain": [
       "1699090.388337048"
      ]
     },
     "execution_count": 49,
     "metadata": {},
     "output_type": "execute_result"
    }
   ],
   "source": [
    "bekkerjensen2017['C [Copies/cell]'].sum() / 2400"
   ]
  },
  {
   "cell_type": "code",
   "execution_count": 18,
   "id": "4851e6a8-ba1b-425a-b09d-71ed138c8d99",
   "metadata": {},
   "outputs": [],
   "source": [
    "bekkerjensen2017['Entry'] = entries_b"
   ]
  },
  {
   "cell_type": "code",
   "execution_count": 19,
   "id": "4c951f1e-9245-4021-95f3-2ced52c357b9",
   "metadata": {},
   "outputs": [],
   "source": [
    "#entries_b"
   ]
  },
  {
   "cell_type": "code",
   "execution_count": 20,
   "id": "ef9fc3e6-7f29-4e02-a2d2-cfdd57c97c5c",
   "metadata": {},
   "outputs": [],
   "source": [
    "bekkerjensen2017 = bekkerjensen2017[bekkerjensen2017['Entry'] != '0']"
   ]
  },
  {
   "cell_type": "code",
   "execution_count": 21,
   "id": "5bd6f616-8cb3-4c05-ab28-e193691c4464",
   "metadata": {},
   "outputs": [],
   "source": [
    "bekkerjensen2017.to_excel('../data/hela/processed/bekkerjensen2017_processed.xlsx', index=False)"
   ]
  },
  {
   "cell_type": "code",
   "execution_count": 22,
   "id": "dcea7b0c-967b-4e30-bb2d-f571d83b51ac",
   "metadata": {},
   "outputs": [
    {
     "data": {
      "text/html": [
       "<div>\n",
       "<style scoped>\n",
       "    .dataframe tbody tr th:only-of-type {\n",
       "        vertical-align: middle;\n",
       "    }\n",
       "\n",
       "    .dataframe tbody tr th {\n",
       "        vertical-align: top;\n",
       "    }\n",
       "\n",
       "    .dataframe thead th {\n",
       "        text-align: right;\n",
       "    }\n",
       "</style>\n",
       "<table border=\"1\" class=\"dataframe\">\n",
       "  <thead>\n",
       "    <tr style=\"text-align: right;\">\n",
       "      <th></th>\n",
       "      <th>Entry</th>\n",
       "      <th>Gene</th>\n",
       "      <th>C [Copies/cell]</th>\n",
       "    </tr>\n",
       "  </thead>\n",
       "  <tbody>\n",
       "    <tr>\n",
       "      <th>0</th>\n",
       "      <td>P35237</td>\n",
       "      <td>SERPINB6</td>\n",
       "      <td>876049.760602</td>\n",
       "    </tr>\n",
       "    <tr>\n",
       "      <th>1</th>\n",
       "      <td>O75478</td>\n",
       "      <td>TADA2L;TADA2A</td>\n",
       "      <td>4364.194029</td>\n",
       "    </tr>\n",
       "    <tr>\n",
       "      <th>2</th>\n",
       "      <td>P35227</td>\n",
       "      <td>PCGF2</td>\n",
       "      <td>6563.467925</td>\n",
       "    </tr>\n",
       "    <tr>\n",
       "      <th>3</th>\n",
       "      <td>Q9Y3E1</td>\n",
       "      <td>HDGFRP3</td>\n",
       "      <td>61652.634886</td>\n",
       "    </tr>\n",
       "    <tr>\n",
       "      <th>4</th>\n",
       "      <td>Q9Y6F1</td>\n",
       "      <td>PARP3</td>\n",
       "      <td>888.509976</td>\n",
       "    </tr>\n",
       "    <tr>\n",
       "      <th>...</th>\n",
       "      <td>...</td>\n",
       "      <td>...</td>\n",
       "      <td>...</td>\n",
       "    </tr>\n",
       "    <tr>\n",
       "      <th>12196</th>\n",
       "      <td>Q03519</td>\n",
       "      <td>TAP2</td>\n",
       "      <td>84117.810040</td>\n",
       "    </tr>\n",
       "    <tr>\n",
       "      <th>12197</th>\n",
       "      <td>Q9NPH0</td>\n",
       "      <td>ACP6</td>\n",
       "      <td>16340.767901</td>\n",
       "    </tr>\n",
       "    <tr>\n",
       "      <th>12198</th>\n",
       "      <td>Q5K4L6</td>\n",
       "      <td>SLC27A3</td>\n",
       "      <td>8811.581794</td>\n",
       "    </tr>\n",
       "    <tr>\n",
       "      <th>12199</th>\n",
       "      <td>O00422</td>\n",
       "      <td>SAP18</td>\n",
       "      <td>898491.918158</td>\n",
       "    </tr>\n",
       "    <tr>\n",
       "      <th>12200</th>\n",
       "      <td>O94856</td>\n",
       "      <td>NFASC</td>\n",
       "      <td>618.034086</td>\n",
       "    </tr>\n",
       "  </tbody>\n",
       "</table>\n",
       "<p>12109 rows × 3 columns</p>\n",
       "</div>"
      ],
      "text/plain": [
       "        Entry           Gene  C [Copies/cell]\n",
       "0      P35237       SERPINB6    876049.760602\n",
       "1      O75478  TADA2L;TADA2A      4364.194029\n",
       "2      P35227          PCGF2      6563.467925\n",
       "3      Q9Y3E1        HDGFRP3     61652.634886\n",
       "4      Q9Y6F1          PARP3       888.509976\n",
       "...       ...            ...              ...\n",
       "12196  Q03519           TAP2     84117.810040\n",
       "12197  Q9NPH0           ACP6     16340.767901\n",
       "12198  Q5K4L6        SLC27A3      8811.581794\n",
       "12199  O00422          SAP18    898491.918158\n",
       "12200  O94856          NFASC       618.034086\n",
       "\n",
       "[12109 rows x 3 columns]"
      ]
     },
     "execution_count": 22,
     "metadata": {},
     "output_type": "execute_result"
    }
   ],
   "source": [
    "bekkerjensen2017"
   ]
  },
  {
   "cell_type": "code",
   "execution_count": 1,
   "id": "ad921230-ee13-46b9-8a1c-aef48fa73bba",
   "metadata": {},
   "outputs": [
    {
     "ename": "TypeError",
     "evalue": "unsupported operand type(s) for -: 'range' and 'int'",
     "output_type": "error",
     "traceback": [
      "\u001b[1;31m---------------------------------------------------------------------------\u001b[0m",
      "\u001b[1;31mTypeError\u001b[0m                                 Traceback (most recent call last)",
      "Input \u001b[1;32mIn [1]\u001b[0m, in \u001b[0;36m<module>\u001b[1;34m\u001b[0m\n\u001b[1;32m----> 1\u001b[0m \u001b[38;5;28;43mrange\u001b[39;49m\u001b[43m(\u001b[49m\u001b[38;5;241;43m5\u001b[39;49m\u001b[43m)\u001b[49m\u001b[43m \u001b[49m\u001b[38;5;241;43m-\u001b[39;49m\u001b[43m \u001b[49m\u001b[38;5;241;43m1\u001b[39;49m\n",
      "\u001b[1;31mTypeError\u001b[0m: unsupported operand type(s) for -: 'range' and 'int'"
     ]
    }
   ],
   "source": [
    "range(5) - 1"
   ]
  },
  {
   "cell_type": "code",
   "execution_count": null,
   "id": "382c3b71-7782-4ca4-adea-2ce1c181a722",
   "metadata": {},
   "outputs": [],
   "source": []
  }
 ],
 "metadata": {
  "kernelspec": {
   "display_name": "Python 3 (ipykernel)",
   "language": "python",
   "name": "python3"
  },
  "language_info": {
   "codemirror_mode": {
    "name": "ipython",
    "version": 3
   },
   "file_extension": ".py",
   "mimetype": "text/x-python",
   "name": "python",
   "nbconvert_exporter": "python",
   "pygments_lexer": "ipython3",
   "version": "3.10.2"
  }
 },
 "nbformat": 4,
 "nbformat_minor": 5
}
