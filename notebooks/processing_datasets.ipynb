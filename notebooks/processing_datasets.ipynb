{
 "cells": [
  {
   "cell_type": "code",
   "execution_count": 1,
   "id": "91fbe9a4-2d1f-4576-aefe-fb2239aa1aa4",
   "metadata": {},
   "outputs": [],
   "source": [
    "import numpy as np\n",
    "import pandas as pd"
   ]
  },
  {
   "cell_type": "code",
   "execution_count": 2,
   "id": "98c21739-2cad-48ed-a5b9-fb2dacee1ec2",
   "metadata": {},
   "outputs": [],
   "source": [
    "objects = ['ecoli', 'scerevisiae', 'hela']"
   ]
  },
  {
   "cell_type": "code",
   "execution_count": 3,
   "id": "7d7f1e12-7218-4656-9476-139f1e3316c5",
   "metadata": {},
   "outputs": [],
   "source": [
    "proteomes = {i: pd.read_excel(f'../data/processed/proteomes/{i}_proteome.xlsx') for i in objects}"
   ]
  },
  {
   "cell_type": "code",
   "execution_count": 4,
   "id": "eff7a5e3-643d-4cb8-b99a-4c39381d3282",
   "metadata": {},
   "outputs": [],
   "source": [
    "datasets_list = pd.read_excel('../data/custom/studies_internal.xlsx')"
   ]
  },
  {
   "cell_type": "code",
   "execution_count": 5,
   "id": "1ed804ca-162f-472a-99f1-2325fa25e72b",
   "metadata": {},
   "outputs": [],
   "source": [
    "datasets_ecoli = {i: pd.read_excel(f'../data/prepared/ecoli/{i}_int.xlsx') for i in datasets_list.loc[datasets_list['object'] == 'ecoli', 'study'].to_list()}\n",
    "\n",
    "for i in datasets_ecoli:\n",
    "    datasets_ecoli[i].iloc[:, -1] = datasets_ecoli[i].iloc[:, -1].fillna(0)\n",
    "    datasets_ecoli[i] = datasets_ecoli[i][datasets_ecoli[i].iloc[:, -1] != 0.0] \n",
    "    \n",
    "datasets_ecoli['soufi2015']['b_number'] = datasets_ecoli['soufi2015']['gene_names'].str.extract(r'(b\\d{4})')\n",
    "datasets_ecoli['soufi2015'] = datasets_ecoli['soufi2015'][['gene_names', 'b_number', 'copies_per_cell']]"
   ]
  },
  {
   "cell_type": "code",
   "execution_count": 6,
   "id": "43765097-0c47-4aad-b573-0564622d7bc7",
   "metadata": {},
   "outputs": [],
   "source": [
    "proteomes['ecoli'] = proteomes['ecoli'][proteomes['ecoli']['is_reviewed'] == 'reviewed']\n",
    "proteomes['ecoli']['gene_name'] = proteomes['ecoli']['gene_name'].str.lower()"
   ]
  },
  {
   "cell_type": "code",
   "execution_count": 7,
   "id": "a228902f-4ac7-474b-ad9c-71800e1ea1f7",
   "metadata": {},
   "outputs": [],
   "source": [
    "for i in datasets_ecoli:\n",
    "    datasets_ecoli[i]['is_group'] = False\n",
    "    \n",
    "    datasets_ecoli[i]['assigned_id'] = np.nan\n",
    "    datasets_ecoli[i]['assigned_id_origin'] = np.nan\n",
    "    \n",
    "    if 'uniprot_id' in datasets_ecoli[i].columns:\n",
    "        correct_ids = datasets_ecoli[i]['uniprot_id'].isin(proteomes['ecoli']['uniprot_id'])\n",
    "        \n",
    "        datasets_ecoli[i].loc[correct_ids, 'assigned_id'] = datasets_ecoli[i]['uniprot_id']\n",
    "        datasets_ecoli[i].loc[correct_ids, 'assigned_id_origin'] = 'uniprot_id'\n",
    "    \n",
    "    if 'b_number' in datasets_ecoli[i].columns:\n",
    "        ids_from_b_number = datasets_ecoli[i]['b_number'].map(proteomes['ecoli'].drop_duplicates('b_number').set_index('b_number')['uniprot_id'])\n",
    "        \n",
    "        datasets_ecoli[i]['assigned_id'] = datasets_ecoli[i]['assigned_id'].combine_first(ids_from_b_number)\n",
    "        datasets_ecoli[i]['assigned_id_origin'] = datasets_ecoli[i]['assigned_id_origin'].combine_first(pd.Series(np.repeat('b_number', len(datasets_ecoli[i]))))\n",
    "        \n",
    "    if 'gene_name' in datasets_ecoli[i].columns:\n",
    "        ids_from_gene_name = datasets_ecoli[i]['gene_name'].str.lower().map(proteomes['ecoli'].set_index('gene_name')['uniprot_id'])\n",
    "        \n",
    "        datasets_ecoli[i]['assigned_id'] = datasets_ecoli[i]['assigned_id'].combine_first(ids_from_gene_name)\n",
    "        datasets_ecoli[i]['assigned_id_origin'] = datasets_ecoli[i]['assigned_id_origin'].combine_first(pd.Series(np.repeat('gene_name', len(datasets_ecoli[i]))))\n",
    "    \n",
    "    if 'uniprot_id' in datasets_ecoli[i].columns:\n",
    "        datasets_ecoli[i]['is_group'] = datasets_ecoli[i]['uniprot_id'].str.contains('[\\;\\ \\^\\_]')\n",
    "        datasets_ecoli[i].loc[datasets_ecoli[i]['is_group'], 'assigned_id'] = np.nan\n",
    "        datasets_ecoli[i].loc[datasets_ecoli[i]['is_group'], 'assigned_id_origin'] = np.nan   "
   ]
  },
  {
   "cell_type": "code",
   "execution_count": 8,
   "id": "6c2190fb-0620-4ef2-adfc-7fc41283eb77",
   "metadata": {},
   "outputs": [],
   "source": [
    "datasets_scerevisiae = {i: pd.read_excel(f'../data/prepared/scerevisiae/{i}_int.xlsx') for i in datasets_list.loc[datasets_list['object'] == 'scerevisiae', 'study'].to_list()}\n",
    "\n",
    "for i in datasets_scerevisiae:\n",
    "    datasets_scerevisiae[i].iloc[:, -1] = datasets_scerevisiae[i].iloc[:, -1].fillna(0)\n",
    "    datasets_scerevisiae[i] = datasets_scerevisiae[i][datasets_scerevisiae[i].iloc[:, -1] != 0.0] \n",
    "\n",
    "datasets_scerevisiae['lahtvee2017']['copies_per_cell'] = datasets_scerevisiae['lahtvee2017']['copies_per_pgdw'] * 13\n",
    "\n",
    "datasets_scerevisiae['lawless2016']['copies_per_cell'] = datasets_scerevisiae['lawless2016']['copies_per_cell'].astype(str)\n",
    "datasets_scerevisiae['lawless2016'] = datasets_scerevisiae['lawless2016'][~datasets_scerevisiae['lawless2016']['copies_per_cell'].str.contains('-')]\n",
    "\n",
    "datasets_scerevisiae['lawless2016_max'] = datasets_scerevisiae['lawless2016'].copy()\n",
    "datasets_scerevisiae['lawless2016_max']['copies_per_cell'] = datasets_scerevisiae['lawless2016_max']['copies_per_cell'].str.replace('<', '')\n",
    "datasets_scerevisiae['lawless2016_max']['copies_per_cell'] = datasets_scerevisiae['lawless2016_max']['copies_per_cell'].astype(float)\n",
    "\n",
    "datasets_scerevisiae['lawless2016'] = datasets_scerevisiae['lawless2016'][~datasets_scerevisiae['lawless2016']['copies_per_cell'].str.contains('<')]\n",
    "datasets_scerevisiae['lawless2016']['copies_per_cell'] = datasets_scerevisiae['lawless2016']['copies_per_cell'].astype(float)"
   ]
  },
  {
   "cell_type": "code",
   "execution_count": 9,
   "id": "8c15159f-6990-478e-abd3-89348d325473",
   "metadata": {},
   "outputs": [],
   "source": [
    "proteomes['scerevisiae'] = proteomes['scerevisiae'][proteomes['scerevisiae']['is_reviewed'] == 'reviewed']"
   ]
  },
  {
   "cell_type": "code",
   "execution_count": 10,
   "id": "048dd36d-c1db-47ef-894a-96928e3a7875",
   "metadata": {},
   "outputs": [],
   "source": [
    "for i in datasets_scerevisiae:\n",
    "    datasets_scerevisiae[i]['is_group'] = False\n",
    "    \n",
    "    datasets_scerevisiae[i]['assigned_id'] = np.nan\n",
    "    datasets_scerevisiae[i]['assigned_id_origin'] = np.nan\n",
    "    \n",
    "    if 'uniprot_id' in datasets_scerevisiae[i].columns:\n",
    "        correct_ids = datasets_scerevisiae[i]['uniprot_id'].isin(proteomes['scerevisiae']['uniprot_id'])\n",
    "        \n",
    "        datasets_scerevisiae[i].loc[correct_ids, 'assigned_id'] = datasets_scerevisiae[i]['uniprot_id']\n",
    "        datasets_scerevisiae[i].loc[correct_ids, 'assigned_id_origin'] = 'uniprot_id'\n",
    "    \n",
    "    if 'orf_id' in datasets_scerevisiae[i].columns:\n",
    "        ids_from_orf_id = datasets_scerevisiae[i]['orf_id'].map(proteomes['scerevisiae'].set_index('orf_id')['uniprot_id'])\n",
    "        \n",
    "        datasets_scerevisiae[i]['assigned_id'] = datasets_scerevisiae[i]['assigned_id'].combine_first(ids_from_orf_id)\n",
    "        datasets_scerevisiae[i]['assigned_id_origin'] = datasets_scerevisiae[i]['assigned_id_origin'].combine_first(pd.Series(np.repeat('orf_id', len(datasets_scerevisiae[i]))))\n",
    "        \n",
    "    if 'gene_name' in datasets_scerevisiae[i].columns:\n",
    "        ids_from_gene_name = datasets_scerevisiae[i]['gene_name'].str.lower().map(proteomes['scerevisiae'].drop_duplicates('gene_name').set_index('gene_name')['uniprot_id'])\n",
    "        \n",
    "        datasets_scerevisiae[i]['assigned_id'] = datasets_scerevisiae[i]['assigned_id'].combine_first(ids_from_gene_name)\n",
    "        datasets_scerevisiae[i]['assigned_id_origin'] = datasets_scerevisiae[i]['assigned_id_origin'].combine_first(pd.Series(np.repeat('gene_name', len(datasets_scerevisiae[i]))))\n",
    "    \n",
    "    if 'uniprot_id' in datasets_scerevisiae[i].columns:\n",
    "        datasets_scerevisiae[i]['is_group'] = datasets_scerevisiae[i]['uniprot_id'].str.contains('[\\;\\ \\^\\_]')\n",
    "        datasets_scerevisiae[i].loc[datasets_scerevisiae[i]['is_group'], 'assigned_id'] = np.nan\n",
    "        datasets_scerevisiae[i].loc[datasets_scerevisiae[i]['is_group'], 'assigned_id_origin'] = np.nan\n",
    "        \n",
    "    elif 'orf_id' in datasets_scerevisiae[i].columns:\n",
    "        datasets_scerevisiae[i]['is_group'] = datasets_scerevisiae[i]['orf_id'].str.contains('[\\;\\ \\^\\_]')\n",
    "        datasets_scerevisiae[i].loc[datasets_scerevisiae[i]['is_group'], 'assigned_id'] = np.nan\n",
    "        datasets_scerevisiae[i].loc[datasets_scerevisiae[i]['is_group'], 'assigned_id_origin'] = np.nan"
   ]
  },
  {
   "cell_type": "code",
   "execution_count": 11,
   "id": "2863f5ab-f019-4fb8-8fa2-c56cab1d9e50",
   "metadata": {},
   "outputs": [],
   "source": [
    "datasets_hela = {i: pd.read_excel(f'../data/prepared/hela/{i}_int.xlsx') for i in datasets_list.loc[datasets_list['object'] == 'hela', 'study'].to_list()}\n",
    "\n",
    "for i in datasets_hela:\n",
    "    datasets_hela[i].iloc[:, -1] = datasets_hela[i].iloc[:, -1].fillna(0)\n",
    "    datasets_hela[i] = datasets_hela[i][datasets_hela[i].iloc[:, -1] != 0.0] \n",
    "    \n",
    "datasets_hela['wisniewski2012']['copies_per_cell'] = datasets_hela['wisniewski2012']['copies_per_cell'].astype(str)\n",
    "\n",
    "datasets_hela['wisniewski2012_max'] = datasets_hela['wisniewski2012'].copy()\n",
    "datasets_hela['wisniewski2012_max']['copies_per_cell'] = datasets_hela['wisniewski2012_max']['copies_per_cell'].str.replace('<', '')\n",
    "datasets_hela['wisniewski2012_max']['copies_per_cell'] = datasets_hela['wisniewski2012_max']['copies_per_cell'].astype(float)\n",
    "\n",
    "datasets_hela['wisniewski2012'] = datasets_hela['wisniewski2012'][~datasets_hela['wisniewski2012']['copies_per_cell'].str.contains('<')]\n",
    "datasets_hela['wisniewski2012']['copies_per_cell'] = datasets_hela['wisniewski2012']['copies_per_cell'].astype(float)"
   ]
  },
  {
   "cell_type": "code",
   "execution_count": 12,
   "id": "d1caa9f5-e34f-4d4a-916d-f9c1b63c0533",
   "metadata": {},
   "outputs": [],
   "source": [
    "proteomes['hela'] = proteomes['hela'][proteomes['hela']['is_reviewed'] == 'reviewed']"
   ]
  },
  {
   "cell_type": "code",
   "execution_count": 13,
   "id": "4f3bd13c-ee4d-4776-b28e-2e479f6f7db1",
   "metadata": {},
   "outputs": [],
   "source": [
    "def only_reviewed_ids(x):\n",
    "    if ';' in x:\n",
    "        x = pd.Series(x.split(';'))\n",
    "        x = x[x.isin(proteomes['hela']['uniprot_id'])]\n",
    "        x = ';'.join(x.values)\n",
    "    return x"
   ]
  },
  {
   "cell_type": "code",
   "execution_count": 14,
   "id": "ac39bc50-3bbc-4c2b-a248-48ed27a2e86a",
   "metadata": {},
   "outputs": [],
   "source": [
    "for i in datasets_hela:\n",
    "    datasets_hela[i]['reviewed_id'] = datasets_hela[i]['uniprot_id'].apply(only_reviewed_ids)\n",
    "    \n",
    "    datasets_hela[i]['is_group'] = False\n",
    "    \n",
    "    datasets_hela[i]['assigned_id'] = np.nan\n",
    "    datasets_hela[i]['assigned_id_origin'] = np.nan\n",
    "    \n",
    "    correct_ids = datasets_hela[i]['reviewed_id'].isin(proteomes['hela']['uniprot_id'])\n",
    "        \n",
    "    datasets_hela[i].loc[correct_ids, 'assigned_id'] = datasets_hela[i]['reviewed_id']\n",
    "    datasets_hela[i].loc[correct_ids, 'assigned_id_origin'] = 'reviewed_id'\n",
    "    \n",
    "    datasets_hela[i]['is_group'] = datasets_hela[i]['reviewed_id'].str.contains('[\\;\\ \\^\\_]')\n",
    "    datasets_hela[i].loc[datasets_hela[i]['is_group'], 'assigned_id'] = np.nan\n",
    "    datasets_hela[i].loc[datasets_hela[i]['is_group'], 'assigned_id_origin'] = np.nan\n",
    "    \n",
    "    datasets_hela[i]['reviewed_id'] = datasets_hela[i]['reviewed_id'].replace('', np.nan)"
   ]
  },
  {
   "cell_type": "code",
   "execution_count": 15,
   "id": "940e08ff-61e0-4942-ad6c-ec104b16db31",
   "metadata": {},
   "outputs": [],
   "source": [
    "for i in datasets_ecoli:\n",
    "    datasets_ecoli[i].to_excel(f'../data/interim/ecoli/{i}_int.xlsx', index=False)\n",
    "    datasets_ecoli[i] = datasets_ecoli[i][['assigned_id', 'copies_per_cell']]\n",
    "    \n",
    "    other = datasets_ecoli[i][datasets_ecoli[i]['assigned_id'].isna()]['copies_per_cell'].sum()\n",
    "    datasets_ecoli[i] = datasets_ecoli[i][~datasets_ecoli[i]['assigned_id'].isna()]\n",
    "    datasets_ecoli[i].loc[len(datasets_ecoli[i])] = ['_other', other]\n",
    "    \n",
    "    datasets_ecoli[i] = datasets_ecoli[i].groupby('assigned_id').sum().reset_index()\n",
    "    \n",
    "    datasets_ecoli[i].to_excel(f'../data/processed/ecoli/{i}_processed.xlsx', index=False)\n",
    "    \n",
    "for i in datasets_scerevisiae:\n",
    "    datasets_scerevisiae[i].to_excel(f'../data/interim/scerevisiae/{i}_int.xlsx', index=False)\n",
    "    datasets_scerevisiae[i] = datasets_scerevisiae[i][['assigned_id', 'copies_per_cell']]\n",
    "    \n",
    "    other = datasets_scerevisiae[i][datasets_scerevisiae[i]['assigned_id'].isna()]['copies_per_cell'].sum()\n",
    "    datasets_scerevisiae[i] = datasets_scerevisiae[i][~datasets_scerevisiae[i]['assigned_id'].isna()]\n",
    "    datasets_scerevisiae[i].loc[len(datasets_scerevisiae[i])] = ['_other', other]\n",
    "    \n",
    "    datasets_scerevisiae[i] = datasets_scerevisiae[i].groupby('assigned_id').sum().reset_index()\n",
    "    \n",
    "    datasets_scerevisiae[i].to_excel(f'../data/processed/scerevisiae/{i}_processed.xlsx', index=False)\n",
    "    \n",
    "for i in datasets_hela:\n",
    "    datasets_hela[i].to_excel(f'../data/interim/hela/{i}_int.xlsx', index=False)\n",
    "    datasets_hela[i] = datasets_hela[i][['assigned_id', 'copies_per_cell']]\n",
    "    \n",
    "    other = datasets_hela[i][datasets_hela[i]['assigned_id'].isna()]['copies_per_cell'].sum()\n",
    "    datasets_hela[i] = datasets_hela[i][~datasets_hela[i]['assigned_id'].isna()]\n",
    "    datasets_hela[i].loc[len(datasets_hela[i])] = ['_other', other]\n",
    "    \n",
    "    datasets_hela[i] = datasets_hela[i].groupby('assigned_id').sum().reset_index()\n",
    "    \n",
    "    datasets_hela[i].to_excel(f'../data/processed/hela/{i}_processed.xlsx', index=False)"
   ]
  },
  {
   "cell_type": "code",
   "execution_count": 16,
   "id": "8ce720e2-c749-48bc-9282-cec391c91dc9",
   "metadata": {},
   "outputs": [],
   "source": [
    "datasets_list.loc[len(datasets_list)] = ['scerevisiae', 'lawless2016_max', 'LA16', 'MS']\n",
    "datasets_list.loc[len(datasets_list)] = ['hela', 'wisniewski2012_max', 'WI12', 'MS']"
   ]
  },
  {
   "cell_type": "code",
   "execution_count": 17,
   "id": "200de708-aef1-4db8-b1aa-38d1699abf40",
   "metadata": {},
   "outputs": [],
   "source": [
    "datasets_list.to_excel('../data/processed/datasets_list.xlsx', index=False)"
   ]
  },
  {
   "cell_type": "code",
   "execution_count": null,
   "id": "3af5c105-5f16-445b-bace-5c4dff64eeee",
   "metadata": {},
   "outputs": [],
   "source": []
  }
 ],
 "metadata": {
  "kernelspec": {
   "display_name": "Python 3 (ipykernel)",
   "language": "python",
   "name": "python3"
  },
  "language_info": {
   "codemirror_mode": {
    "name": "ipython",
    "version": 3
   },
   "file_extension": ".py",
   "mimetype": "text/x-python",
   "name": "python",
   "nbconvert_exporter": "python",
   "pygments_lexer": "ipython3",
   "version": "3.10.4"
  }
 },
 "nbformat": 4,
 "nbformat_minor": 5
}
