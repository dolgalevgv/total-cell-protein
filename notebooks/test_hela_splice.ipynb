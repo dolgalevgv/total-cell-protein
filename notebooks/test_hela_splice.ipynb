{
 "cells": [
  {
   "cell_type": "code",
   "execution_count": 16,
   "id": "c65b805e-1cd8-47c1-a093-c26043b642ed",
   "metadata": {},
   "outputs": [],
   "source": [
    "import numpy as np\n",
    "import pandas as pd"
   ]
  },
  {
   "cell_type": "code",
   "execution_count": 6,
   "id": "0dcccbd7-663a-4499-a3a9-4ecd393fc3f7",
   "metadata": {},
   "outputs": [],
   "source": [
    "datasets_list = pd.read_excel('../data/custom/studies_internal.xlsx')"
   ]
  },
  {
   "cell_type": "code",
   "execution_count": 2,
   "id": "71524d49-5def-4fa5-b4fa-e9fee6c6e98e",
   "metadata": {},
   "outputs": [],
   "source": [
    "hela_p = pd.read_excel('../data/processed/proteomes/hela_proteome.xlsx')"
   ]
  },
  {
   "cell_type": "code",
   "execution_count": 4,
   "id": "763ddf73-f786-4f65-8744-4fde583cf342",
   "metadata": {},
   "outputs": [],
   "source": [
    "hela_p = hela_p[hela_p['is_reviewed'] == 'reviewed']"
   ]
  },
  {
   "cell_type": "code",
   "execution_count": 7,
   "id": "42eea50e-9b9f-470d-b508-03cf99eca08a",
   "metadata": {},
   "outputs": [],
   "source": [
    "datasets_hela = {i: pd.read_excel(f'../data/prepared/hela/{i}_int.xlsx') for i in datasets_list.loc[datasets_list['object'] == 'hela', 'study'].to_list()}\n",
    "\n",
    "for i in datasets_hela:\n",
    "    datasets_hela[i].iloc[:, -1] = datasets_hela[i].iloc[:, -1].fillna(0)\n",
    "    datasets_hela[i] = datasets_hela[i][datasets_hela[i].iloc[:, -1] != 0.0] \n",
    "    \n",
    "datasets_hela['wisniewski2012']['copies_per_cell'] = datasets_hela['wisniewski2012']['copies_per_cell'].astype(str)\n",
    "datasets_hela['wisniewski2012'] = datasets_hela['wisniewski2012'][~datasets_hela['wisniewski2012']['copies_per_cell'].str.contains('<')]\n",
    "datasets_hela['wisniewski2012']['copies_per_cell'] = datasets_hela['wisniewski2012']['copies_per_cell'].astype(float)"
   ]
  },
  {
   "cell_type": "code",
   "execution_count": 23,
   "id": "3e8a952b-e648-413e-9116-cbd1b8987076",
   "metadata": {},
   "outputs": [],
   "source": [
    "def only_reviewed_ids_1(x):\n",
    "    if ';' in x:\n",
    "        x = pd.Series(x.split(';'))\n",
    "        x = x[x.isin(hela_p['uniprot_id'])]\n",
    "        x = ';'.join(x.values)\n",
    "    return x\n",
    "\n",
    "def only_reviewed_ids_2(x):\n",
    "    if ';' in x:\n",
    "        x = pd.Series(x.split(';'))\n",
    "        x = x.apply(lambda y: y.split('-')[0])\n",
    "        x = x[x.isin(hela_p['uniprot_id'])]\n",
    "        x = ';'.join(x.values)\n",
    "    return x"
   ]
  },
  {
   "cell_type": "code",
   "execution_count": 19,
   "id": "d4c924ea-b185-48f1-8e54-a8cc280a4ddc",
   "metadata": {},
   "outputs": [],
   "source": [
    "nap1 = []\n",
    "acp1 = []\n",
    "\n",
    "for i in datasets_hela:\n",
    "    datasets_hela[i]['reviewed_id'] = datasets_hela[i]['uniprot_id'].apply(only_reviewed_ids_1)\n",
    "    \n",
    "    datasets_hela[i]['is_group'] = False\n",
    "    \n",
    "    datasets_hela[i]['assigned_id'] = np.nan\n",
    "    datasets_hela[i]['assigned_id_origin'] = np.nan\n",
    "    \n",
    "    correct_ids = datasets_hela[i]['reviewed_id'].isin(hela_p['uniprot_id'])\n",
    "        \n",
    "    datasets_hela[i].loc[correct_ids, 'assigned_id'] = datasets_hela[i]['reviewed_id']\n",
    "    datasets_hela[i].loc[correct_ids, 'assigned_id_origin'] = 'reviewed_id'\n",
    "    \n",
    "    datasets_hela[i]['is_group'] = datasets_hela[i]['reviewed_id'].str.contains('[\\;\\ \\^\\_]')\n",
    "    datasets_hela[i].loc[datasets_hela[i]['is_group'], 'assigned_id'] = np.nan\n",
    "    datasets_hela[i].loc[datasets_hela[i]['is_group'], 'assigned_id_origin'] = np.nan\n",
    "    \n",
    "    datasets_hela[i]['reviewed_id'] = datasets_hela[i]['reviewed_id'].replace('', np.nan)\n",
    "    \n",
    "    nap1.append(len(datasets_hela[i][~datasets_hela[i]['assigned_id'].isna()]) / len(datasets_hela[i]))\n",
    "    acp1.append(datasets_hela[i][~datasets_hela[i]['assigned_id'].isna()]['copies_per_cell'].sum() / datasets_hela[i]['copies_per_cell'].sum())"
   ]
  },
  {
   "cell_type": "code",
   "execution_count": 24,
   "id": "6c15f4d9-1ce2-4759-90d5-78707d924e81",
   "metadata": {},
   "outputs": [],
   "source": [
    "nap2 = []\n",
    "acp2 = []\n",
    "\n",
    "for i in datasets_hela:\n",
    "    datasets_hela[i]['reviewed_id'] = datasets_hela[i]['uniprot_id'].apply(only_reviewed_ids_2)\n",
    "    \n",
    "    datasets_hela[i]['is_group'] = False\n",
    "    \n",
    "    datasets_hela[i]['assigned_id'] = np.nan\n",
    "    datasets_hela[i]['assigned_id_origin'] = np.nan\n",
    "    \n",
    "    correct_ids = datasets_hela[i]['reviewed_id'].isin(hela_p['uniprot_id'])\n",
    "        \n",
    "    datasets_hela[i].loc[correct_ids, 'assigned_id'] = datasets_hela[i]['reviewed_id']\n",
    "    datasets_hela[i].loc[correct_ids, 'assigned_id_origin'] = 'reviewed_id'\n",
    "    \n",
    "    datasets_hela[i]['is_group'] = datasets_hela[i]['reviewed_id'].str.contains('[\\;\\ \\^\\_]')\n",
    "    datasets_hela[i].loc[datasets_hela[i]['is_group'], 'assigned_id'] = np.nan\n",
    "    datasets_hela[i].loc[datasets_hela[i]['is_group'], 'assigned_id_origin'] = np.nan\n",
    "    \n",
    "    datasets_hela[i]['reviewed_id'] = datasets_hela[i]['reviewed_id'].replace('', np.nan)\n",
    "    \n",
    "    nap2.append(len(datasets_hela[i][~datasets_hela[i]['assigned_id'].isna()]) / len(datasets_hela[i]))\n",
    "    acp2.append(datasets_hela[i][~datasets_hela[i]['assigned_id'].isna()]['copies_per_cell'].sum() / datasets_hela[i]['copies_per_cell'].sum())"
   ]
  },
  {
   "cell_type": "code",
   "execution_count": 31,
   "id": "4c3ca4f3-b0f2-43de-894a-deaf4079d6a4",
   "metadata": {},
   "outputs": [
    {
     "data": {
      "text/plain": [
       "[(0.931516265375218, 0.931516265375218),\n",
       " (0.9208675494947153, 0.7112249057014499),\n",
       " (0.9213065811139222, 0.7054204491571046),\n",
       " (0.8879753705498975, 0.6549495727308384),\n",
       " (0.9463782036438582, 0.9463782036438582),\n",
       " (0.9146951504951742, 0.6722369940568914),\n",
       " (0.9267741424654976, 0.9267741424654976)]"
      ]
     },
     "execution_count": 31,
     "metadata": {},
     "output_type": "execute_result"
    }
   ],
   "source": [
    "list(zip(acp1, acp2))"
   ]
  },
  {
   "cell_type": "code",
   "execution_count": null,
   "id": "2cb625d9-b89c-47be-aedf-f2691a630679",
   "metadata": {},
   "outputs": [],
   "source": []
  }
 ],
 "metadata": {
  "kernelspec": {
   "display_name": "Python 3 (ipykernel)",
   "language": "python",
   "name": "python3"
  },
  "language_info": {
   "codemirror_mode": {
    "name": "ipython",
    "version": 3
   },
   "file_extension": ".py",
   "mimetype": "text/x-python",
   "name": "python",
   "nbconvert_exporter": "python",
   "pygments_lexer": "ipython3",
   "version": "3.10.4"
  }
 },
 "nbformat": 4,
 "nbformat_minor": 5
}
