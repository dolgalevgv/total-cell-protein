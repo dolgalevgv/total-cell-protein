{
 "cells": [
  {
   "cell_type": "code",
   "execution_count": 2,
   "id": "a468ce14-3a1b-4351-ac4c-1f300d12fbce",
   "metadata": {},
   "outputs": [],
   "source": [
    "import numpy\n",
    "import pandas\n",
    "import matplotlib.pyplot as plt\n",
    "import seaborn"
   ]
  },
  {
   "cell_type": "code",
   "execution_count": 3,
   "id": "18351f9c-b065-4916-8644-7a05a83b35cb",
   "metadata": {},
   "outputs": [],
   "source": [
    "seaborn.set()"
   ]
  },
  {
   "cell_type": "code",
   "execution_count": 58,
   "id": "258f0f64-8aec-4423-9a99-5d14f06bcfac",
   "metadata": {},
   "outputs": [],
   "source": [
    "ecoli_comb = pandas.read_excel('../datasets/datasets_new/ecoli_new/ecoli_comb_og.xlsx')"
   ]
  },
  {
   "cell_type": "code",
   "execution_count": 59,
   "id": "ef81724f-51ba-4f18-893f-ce31a0ca13e3",
   "metadata": {},
   "outputs": [
    {
     "data": {
      "text/html": [
       "<div>\n",
       "<style scoped>\n",
       "    .dataframe tbody tr th:only-of-type {\n",
       "        vertical-align: middle;\n",
       "    }\n",
       "\n",
       "    .dataframe tbody tr th {\n",
       "        vertical-align: top;\n",
       "    }\n",
       "\n",
       "    .dataframe thead th {\n",
       "        text-align: right;\n",
       "    }\n",
       "</style>\n",
       "<table border=\"1\" class=\"dataframe\">\n",
       "  <thead>\n",
       "    <tr style=\"text-align: right;\">\n",
       "      <th></th>\n",
       "      <th>Entry</th>\n",
       "      <th>Status</th>\n",
       "      <th>Protein names</th>\n",
       "      <th>Gene names</th>\n",
       "      <th>Organism</th>\n",
       "      <th>Length</th>\n",
       "      <th>Mass</th>\n",
       "      <th>Gene names  (ordered locus )</th>\n",
       "      <th>Entry name</th>\n",
       "      <th>Ribosomal</th>\n",
       "      <th>ecoli2</th>\n",
       "      <th>ecoli3</th>\n",
       "      <th>ecoli4</th>\n",
       "      <th>ecoli5</th>\n",
       "      <th>ecoli6</th>\n",
       "      <th>ecoli7</th>\n",
       "      <th>ecoli8</th>\n",
       "      <th>ecoli9</th>\n",
       "    </tr>\n",
       "  </thead>\n",
       "  <tbody>\n",
       "    <tr>\n",
       "      <th>0</th>\n",
       "      <td>A0A4S5AYA5</td>\n",
       "      <td>unreviewed</td>\n",
       "      <td>Zn(II)/Cd(II)/Pb(II) translocating P-type ATPa...</td>\n",
       "      <td>zntA FAZ83_10695</td>\n",
       "      <td>Escherichia coli (strain K12)</td>\n",
       "      <td>732</td>\n",
       "      <td>76718.0</td>\n",
       "      <td>NaN</td>\n",
       "      <td>A0A4S5AYA5_ECOLI</td>\n",
       "      <td>False</td>\n",
       "      <td>NaN</td>\n",
       "      <td>NaN</td>\n",
       "      <td>NaN</td>\n",
       "      <td>NaN</td>\n",
       "      <td>NaN</td>\n",
       "      <td>NaN</td>\n",
       "      <td>NaN</td>\n",
       "      <td>NaN</td>\n",
       "    </tr>\n",
       "    <tr>\n",
       "      <th>1</th>\n",
       "      <td>A0A6D2Y886</td>\n",
       "      <td>unreviewed</td>\n",
       "      <td>Zn-dependent oxidoreductase</td>\n",
       "      <td>FAZ83_03425</td>\n",
       "      <td>Escherichia coli (strain K12)</td>\n",
       "      <td>339</td>\n",
       "      <td>36534.0</td>\n",
       "      <td>NaN</td>\n",
       "      <td>A0A6D2Y886_ECOLI</td>\n",
       "      <td>False</td>\n",
       "      <td>NaN</td>\n",
       "      <td>NaN</td>\n",
       "      <td>NaN</td>\n",
       "      <td>NaN</td>\n",
       "      <td>NaN</td>\n",
       "      <td>NaN</td>\n",
       "      <td>NaN</td>\n",
       "      <td>NaN</td>\n",
       "    </tr>\n",
       "    <tr>\n",
       "      <th>2</th>\n",
       "      <td>A0A4S5ATF1</td>\n",
       "      <td>unreviewed</td>\n",
       "      <td>Zn(2+)-responsive transcriptional regulator</td>\n",
       "      <td>zntR FAZ83_23180</td>\n",
       "      <td>Escherichia coli (strain K12)</td>\n",
       "      <td>141</td>\n",
       "      <td>16195.0</td>\n",
       "      <td>NaN</td>\n",
       "      <td>A0A4S5ATF1_ECOLI</td>\n",
       "      <td>False</td>\n",
       "      <td>NaN</td>\n",
       "      <td>NaN</td>\n",
       "      <td>NaN</td>\n",
       "      <td>NaN</td>\n",
       "      <td>NaN</td>\n",
       "      <td>NaN</td>\n",
       "      <td>NaN</td>\n",
       "      <td>NaN</td>\n",
       "    </tr>\n",
       "    <tr>\n",
       "      <th>3</th>\n",
       "      <td>P37617</td>\n",
       "      <td>reviewed</td>\n",
       "      <td>Zinc/cadmium/lead-transporting P-type ATPase (...</td>\n",
       "      <td>zntA yhhO b3469 JW3434</td>\n",
       "      <td>Escherichia coli (strain K12)</td>\n",
       "      <td>732</td>\n",
       "      <td>76840.0</td>\n",
       "      <td>b3469 JW3434</td>\n",
       "      <td>ZNTA_ECOLI</td>\n",
       "      <td>False</td>\n",
       "      <td>40.426732</td>\n",
       "      <td>549.064575</td>\n",
       "      <td>139.518791</td>\n",
       "      <td>11.577466</td>\n",
       "      <td>15.682215</td>\n",
       "      <td>14.692005</td>\n",
       "      <td>0.000009</td>\n",
       "      <td>0.000010</td>\n",
       "    </tr>\n",
       "    <tr>\n",
       "      <th>4</th>\n",
       "      <td>P33030</td>\n",
       "      <td>reviewed</td>\n",
       "      <td>Zinc-binding GTPase YeiR (EC 3.6.-.-)</td>\n",
       "      <td>yeiR b2173 JW2161</td>\n",
       "      <td>Escherichia coli (strain K12)</td>\n",
       "      <td>328</td>\n",
       "      <td>36113.0</td>\n",
       "      <td>b2173 JW2161</td>\n",
       "      <td>YEIR_ECOLI</td>\n",
       "      <td>False</td>\n",
       "      <td>8.999467</td>\n",
       "      <td>NaN</td>\n",
       "      <td>167.211207</td>\n",
       "      <td>54.515815</td>\n",
       "      <td>96.054656</td>\n",
       "      <td>160.269489</td>\n",
       "      <td>0.000039</td>\n",
       "      <td>0.000042</td>\n",
       "    </tr>\n",
       "    <tr>\n",
       "      <th>...</th>\n",
       "      <td>...</td>\n",
       "      <td>...</td>\n",
       "      <td>...</td>\n",
       "      <td>...</td>\n",
       "      <td>...</td>\n",
       "      <td>...</td>\n",
       "      <td>...</td>\n",
       "      <td>...</td>\n",
       "      <td>...</td>\n",
       "      <td>...</td>\n",
       "      <td>...</td>\n",
       "      <td>...</td>\n",
       "      <td>...</td>\n",
       "      <td>...</td>\n",
       "      <td>...</td>\n",
       "      <td>...</td>\n",
       "      <td>...</td>\n",
       "      <td>...</td>\n",
       "    </tr>\n",
       "    <tr>\n",
       "      <th>9476</th>\n",
       "      <td>P76078</td>\n",
       "      <td>reviewed</td>\n",
       "      <td>1,2-phenylacetyl-CoA epoxidase, subunit B (1,2...</td>\n",
       "      <td>paaB ynbF b1389 JW1384</td>\n",
       "      <td>Escherichia coli (strain K12)</td>\n",
       "      <td>95</td>\n",
       "      <td>10942.0</td>\n",
       "      <td>b1389 JW1384</td>\n",
       "      <td>PAAB_ECOLI</td>\n",
       "      <td>False</td>\n",
       "      <td>NaN</td>\n",
       "      <td>NaN</td>\n",
       "      <td>NaN</td>\n",
       "      <td>0.024633</td>\n",
       "      <td>0.011180</td>\n",
       "      <td>0.294185</td>\n",
       "      <td>0.000000</td>\n",
       "      <td>0.000000</td>\n",
       "    </tr>\n",
       "    <tr>\n",
       "      <th>9477</th>\n",
       "      <td>P76077</td>\n",
       "      <td>reviewed</td>\n",
       "      <td>1,2-phenylacetyl-CoA epoxidase, subunit A (EC ...</td>\n",
       "      <td>paaA ydbO b1388 JW1383</td>\n",
       "      <td>Escherichia coli (strain K12)</td>\n",
       "      <td>309</td>\n",
       "      <td>35499.0</td>\n",
       "      <td>b1388 JW1383</td>\n",
       "      <td>PAAA_ECOLI</td>\n",
       "      <td>False</td>\n",
       "      <td>NaN</td>\n",
       "      <td>NaN</td>\n",
       "      <td>NaN</td>\n",
       "      <td>NaN</td>\n",
       "      <td>0.005077</td>\n",
       "      <td>0.015905</td>\n",
       "      <td>0.000000</td>\n",
       "      <td>0.000000</td>\n",
       "    </tr>\n",
       "    <tr>\n",
       "      <th>9478</th>\n",
       "      <td>P77467</td>\n",
       "      <td>reviewed</td>\n",
       "      <td>1,2-epoxyphenylacetyl-CoA isomerase (EC 5.3.3.18)</td>\n",
       "      <td>paaG ydbT b1394 JW1389</td>\n",
       "      <td>Escherichia coli (strain K12)</td>\n",
       "      <td>262</td>\n",
       "      <td>28405.0</td>\n",
       "      <td>b1394 JW1389</td>\n",
       "      <td>PAAG_ECOLI</td>\n",
       "      <td>False</td>\n",
       "      <td>NaN</td>\n",
       "      <td>NaN</td>\n",
       "      <td>NaN</td>\n",
       "      <td>NaN</td>\n",
       "      <td>NaN</td>\n",
       "      <td>NaN</td>\n",
       "      <td>0.000000</td>\n",
       "      <td>0.000000</td>\n",
       "    </tr>\n",
       "    <tr>\n",
       "      <th>9479</th>\n",
       "      <td>A0A6D2XEG8</td>\n",
       "      <td>unreviewed</td>\n",
       "      <td>10 kDa chaperonin (GroES protein) (Protein Cpn10)</td>\n",
       "      <td>groES groS FAZ83_09765</td>\n",
       "      <td>Escherichia coli (strain K12)</td>\n",
       "      <td>97</td>\n",
       "      <td>10387.0</td>\n",
       "      <td>NaN</td>\n",
       "      <td>A0A6D2XEG8_ECOLI</td>\n",
       "      <td>False</td>\n",
       "      <td>NaN</td>\n",
       "      <td>NaN</td>\n",
       "      <td>NaN</td>\n",
       "      <td>NaN</td>\n",
       "      <td>NaN</td>\n",
       "      <td>NaN</td>\n",
       "      <td>NaN</td>\n",
       "      <td>NaN</td>\n",
       "    </tr>\n",
       "    <tr>\n",
       "      <th>9480</th>\n",
       "      <td>P0A6F9</td>\n",
       "      <td>reviewed</td>\n",
       "      <td>10 kDa chaperonin (GroES protein) (Protein Cpn10)</td>\n",
       "      <td>groS groES mopB b4142 JW4102</td>\n",
       "      <td>Escherichia coli (strain K12)</td>\n",
       "      <td>97</td>\n",
       "      <td>10387.0</td>\n",
       "      <td>b4142 JW4102</td>\n",
       "      <td>CH10_ECOLI</td>\n",
       "      <td>False</td>\n",
       "      <td>9686.285065</td>\n",
       "      <td>21004.841476</td>\n",
       "      <td>55665.895251</td>\n",
       "      <td>14800.611589</td>\n",
       "      <td>15451.429148</td>\n",
       "      <td>18708.402138</td>\n",
       "      <td>0.001029</td>\n",
       "      <td>0.001001</td>\n",
       "    </tr>\n",
       "  </tbody>\n",
       "</table>\n",
       "<p>9481 rows × 18 columns</p>\n",
       "</div>"
      ],
      "text/plain": [
       "           Entry      Status  \\\n",
       "0     A0A4S5AYA5  unreviewed   \n",
       "1     A0A6D2Y886  unreviewed   \n",
       "2     A0A4S5ATF1  unreviewed   \n",
       "3         P37617    reviewed   \n",
       "4         P33030    reviewed   \n",
       "...          ...         ...   \n",
       "9476      P76078    reviewed   \n",
       "9477      P76077    reviewed   \n",
       "9478      P77467    reviewed   \n",
       "9479  A0A6D2XEG8  unreviewed   \n",
       "9480      P0A6F9    reviewed   \n",
       "\n",
       "                                          Protein names  \\\n",
       "0     Zn(II)/Cd(II)/Pb(II) translocating P-type ATPa...   \n",
       "1                           Zn-dependent oxidoreductase   \n",
       "2           Zn(2+)-responsive transcriptional regulator   \n",
       "3     Zinc/cadmium/lead-transporting P-type ATPase (...   \n",
       "4                 Zinc-binding GTPase YeiR (EC 3.6.-.-)   \n",
       "...                                                 ...   \n",
       "9476  1,2-phenylacetyl-CoA epoxidase, subunit B (1,2...   \n",
       "9477  1,2-phenylacetyl-CoA epoxidase, subunit A (EC ...   \n",
       "9478  1,2-epoxyphenylacetyl-CoA isomerase (EC 5.3.3.18)   \n",
       "9479  10 kDa chaperonin (GroES protein) (Protein Cpn10)   \n",
       "9480  10 kDa chaperonin (GroES protein) (Protein Cpn10)   \n",
       "\n",
       "                        Gene names                       Organism  Length  \\\n",
       "0                 zntA FAZ83_10695  Escherichia coli (strain K12)     732   \n",
       "1                      FAZ83_03425  Escherichia coli (strain K12)     339   \n",
       "2                 zntR FAZ83_23180  Escherichia coli (strain K12)     141   \n",
       "3           zntA yhhO b3469 JW3434  Escherichia coli (strain K12)     732   \n",
       "4                yeiR b2173 JW2161  Escherichia coli (strain K12)     328   \n",
       "...                            ...                            ...     ...   \n",
       "9476        paaB ynbF b1389 JW1384  Escherichia coli (strain K12)      95   \n",
       "9477        paaA ydbO b1388 JW1383  Escherichia coli (strain K12)     309   \n",
       "9478        paaG ydbT b1394 JW1389  Escherichia coli (strain K12)     262   \n",
       "9479        groES groS FAZ83_09765  Escherichia coli (strain K12)      97   \n",
       "9480  groS groES mopB b4142 JW4102  Escherichia coli (strain K12)      97   \n",
       "\n",
       "         Mass Gene names  (ordered locus )        Entry name  Ribosomal  \\\n",
       "0     76718.0                          NaN  A0A4S5AYA5_ECOLI      False   \n",
       "1     36534.0                          NaN  A0A6D2Y886_ECOLI      False   \n",
       "2     16195.0                          NaN  A0A4S5ATF1_ECOLI      False   \n",
       "3     76840.0                 b3469 JW3434        ZNTA_ECOLI      False   \n",
       "4     36113.0                 b2173 JW2161        YEIR_ECOLI      False   \n",
       "...       ...                          ...               ...        ...   \n",
       "9476  10942.0                 b1389 JW1384        PAAB_ECOLI      False   \n",
       "9477  35499.0                 b1388 JW1383        PAAA_ECOLI      False   \n",
       "9478  28405.0                 b1394 JW1389        PAAG_ECOLI      False   \n",
       "9479  10387.0                          NaN  A0A6D2XEG8_ECOLI      False   \n",
       "9480  10387.0                 b4142 JW4102        CH10_ECOLI      False   \n",
       "\n",
       "           ecoli2        ecoli3        ecoli4        ecoli5        ecoli6  \\\n",
       "0             NaN           NaN           NaN           NaN           NaN   \n",
       "1             NaN           NaN           NaN           NaN           NaN   \n",
       "2             NaN           NaN           NaN           NaN           NaN   \n",
       "3       40.426732    549.064575    139.518791     11.577466     15.682215   \n",
       "4        8.999467           NaN    167.211207     54.515815     96.054656   \n",
       "...           ...           ...           ...           ...           ...   \n",
       "9476          NaN           NaN           NaN      0.024633      0.011180   \n",
       "9477          NaN           NaN           NaN           NaN      0.005077   \n",
       "9478          NaN           NaN           NaN           NaN           NaN   \n",
       "9479          NaN           NaN           NaN           NaN           NaN   \n",
       "9480  9686.285065  21004.841476  55665.895251  14800.611589  15451.429148   \n",
       "\n",
       "            ecoli7    ecoli8    ecoli9  \n",
       "0              NaN       NaN       NaN  \n",
       "1              NaN       NaN       NaN  \n",
       "2              NaN       NaN       NaN  \n",
       "3        14.692005  0.000009  0.000010  \n",
       "4       160.269489  0.000039  0.000042  \n",
       "...            ...       ...       ...  \n",
       "9476      0.294185  0.000000  0.000000  \n",
       "9477      0.015905  0.000000  0.000000  \n",
       "9478           NaN  0.000000  0.000000  \n",
       "9479           NaN       NaN       NaN  \n",
       "9480  18708.402138  0.001029  0.001001  \n",
       "\n",
       "[9481 rows x 18 columns]"
      ]
     },
     "execution_count": 59,
     "metadata": {},
     "output_type": "execute_result"
    }
   ],
   "source": [
    "ecoli_comb"
   ]
  },
  {
   "cell_type": "code",
   "execution_count": 60,
   "id": "066d38f2-71fb-4dfc-acf1-8747d6979035",
   "metadata": {},
   "outputs": [],
   "source": [
    "#Calculating protein copies per um3 from protein mass fractions as detailed in Mori et al. 2021 (Supplementary Note 1)\n",
    "def mori_calculate(mass_fractions, mws):\n",
    "    avogadro = 6.022 * 10**23 #[mol-1]\n",
    "    protein_density = 13.5 * 10**(-8) #[g/um3] \n",
    "    return (mass_fractions * protein_density / 1000000 / mws) * avogadro\n",
    "\n",
    "for i in ['ecoli8', 'ecoli9']:\n",
    "    ecoli_comb.loc[:, i] = mori_calculate(ecoli_comb[i], ecoli_comb['Mass'])"
   ]
  },
  {
   "cell_type": "code",
   "execution_count": 61,
   "id": "362820dc-29dd-4001-aea7-f6124d44799d",
   "metadata": {},
   "outputs": [],
   "source": [
    "ecoli_comb.fillna(0, inplace = True)"
   ]
  },
  {
   "cell_type": "code",
   "execution_count": 62,
   "id": "3a27d792-1cfc-4da7-bed4-355095f1c03e",
   "metadata": {},
   "outputs": [
    {
     "data": {
      "text/plain": [
       "[2258, 1217, 1913, 2349, 2015, 2015, 2075, 2048]"
      ]
     },
     "execution_count": 62,
     "metadata": {},
     "output_type": "execute_result"
    }
   ],
   "source": [
    "#Unique proteins quantified in datasets, after processing (values before processing?)\n",
    "total_quant_proteins = []\n",
    "for i in range(2,10):\n",
    "    total_quant_proteins.append(len(ecoli_comb[ecoli_comb[f'ecoli{i}'] != 0]))\n",
    "    \n",
    "total_quant_proteins"
   ]
  },
  {
   "cell_type": "code",
   "execution_count": 63,
   "id": "8cf68ff8-c529-442a-b7e2-fe04d6b84afc",
   "metadata": {},
   "outputs": [],
   "source": [
    "ecoli_comb.loc[:, 'ecoli2':] = ecoli_comb.loc[:, 'ecoli2':].astype(float) #Make sure everything's in float"
   ]
  },
  {
   "cell_type": "code",
   "execution_count": 64,
   "id": "886dad40-fe55-4fdf-8f82-350fe6387995",
   "metadata": {},
   "outputs": [],
   "source": [
    "for i in ['ecoli2', 'ecoli4', 'ecoli5','ecoli6', 'ecoli7']: #Calculate copies per fl instead of per cell\n",
    "    ecoli_comb.loc[:, i] /= 2.15 #Cell volume from Basan et al. 2015a"
   ]
  },
  {
   "cell_type": "code",
   "execution_count": 6,
   "id": "3c80e1d9-f952-462a-8aa9-9915b6e790ce",
   "metadata": {},
   "outputs": [
    {
     "data": {
      "text/plain": [
       "[3933465.5056633493, 4876077.751756361, 2204424.924984279, 3129049.1451515593]"
      ]
     },
     "execution_count": 6,
     "metadata": {},
     "output_type": "execute_result"
    }
   ],
   "source": [
    "cn_per_vol = []\n",
    "for i in range(1,5):\n",
    "    cn_per_vol.append(sum(ecoli_comb[f'ecoli{i}']))\n",
    "    \n",
    "cn_per_vol"
   ]
  },
  {
   "cell_type": "code",
   "execution_count": 19,
   "id": "413fdf63-631c-45ad-b7a7-6a94e722ddd1",
   "metadata": {},
   "outputs": [],
   "source": [
    "ecoli_comb_core = ecoli_comb.loc[~(ecoli_comb.iloc[:,-4:]==0.0).any(axis=1)]"
   ]
  },
  {
   "cell_type": "code",
   "execution_count": 20,
   "id": "05d37bf5-8de4-4fef-aa1a-b4210323f654",
   "metadata": {},
   "outputs": [
    {
     "data": {
      "text/html": [
       "<div>\n",
       "<style scoped>\n",
       "    .dataframe tbody tr th:only-of-type {\n",
       "        vertical-align: middle;\n",
       "    }\n",
       "\n",
       "    .dataframe tbody tr th {\n",
       "        vertical-align: top;\n",
       "    }\n",
       "\n",
       "    .dataframe thead th {\n",
       "        text-align: right;\n",
       "    }\n",
       "</style>\n",
       "<table border=\"1\" class=\"dataframe\">\n",
       "  <thead>\n",
       "    <tr style=\"text-align: right;\">\n",
       "      <th></th>\n",
       "      <th>Entry</th>\n",
       "      <th>Status</th>\n",
       "      <th>Protein names</th>\n",
       "      <th>Gene names</th>\n",
       "      <th>Organism</th>\n",
       "      <th>Length</th>\n",
       "      <th>Mass</th>\n",
       "      <th>Gene names  (ordered locus )</th>\n",
       "      <th>Entry name</th>\n",
       "      <th>Ribosomal</th>\n",
       "      <th>ecoli1</th>\n",
       "      <th>ecoli2</th>\n",
       "      <th>ecoli3</th>\n",
       "      <th>ecoli4</th>\n",
       "    </tr>\n",
       "  </thead>\n",
       "  <tbody>\n",
       "    <tr>\n",
       "      <th>3</th>\n",
       "      <td>P37617</td>\n",
       "      <td>reviewed</td>\n",
       "      <td>Zinc/cadmium/lead-transporting P-type ATPase (...</td>\n",
       "      <td>zntA yhhO b3469 JW3434</td>\n",
       "      <td>Escherichia coli (strain K12)</td>\n",
       "      <td>732</td>\n",
       "      <td>76840</td>\n",
       "      <td>b3469 JW3434</td>\n",
       "      <td>ZNTA_ECOLI</td>\n",
       "      <td>False</td>\n",
       "      <td>549.064575</td>\n",
       "      <td>60.660344</td>\n",
       "      <td>5.033681</td>\n",
       "      <td>9.903560</td>\n",
       "    </tr>\n",
       "    <tr>\n",
       "      <th>110</th>\n",
       "      <td>P0A9M5</td>\n",
       "      <td>reviewed</td>\n",
       "      <td>Xanthine-guanine phosphoribosyltransferase (XG...</td>\n",
       "      <td>gpt gpp gxu b0238 JW0228</td>\n",
       "      <td>Escherichia coli (strain K12)</td>\n",
       "      <td>152</td>\n",
       "      <td>16971</td>\n",
       "      <td>b0238 JW0228</td>\n",
       "      <td>XGPT_ECOLI</td>\n",
       "      <td>False</td>\n",
       "      <td>1389.956259</td>\n",
       "      <td>4068.936926</td>\n",
       "      <td>1470.735981</td>\n",
       "      <td>1156.909020</td>\n",
       "    </tr>\n",
       "    <tr>\n",
       "      <th>119</th>\n",
       "      <td>P21165</td>\n",
       "      <td>reviewed</td>\n",
       "      <td>Xaa-Pro dipeptidase (X-Pro dipeptidase) (EC 3....</td>\n",
       "      <td>pepQ b3847 JW3823</td>\n",
       "      <td>Escherichia coli (strain K12)</td>\n",
       "      <td>443</td>\n",
       "      <td>50176</td>\n",
       "      <td>b3847 JW3823</td>\n",
       "      <td>PEPQ_ECOLI</td>\n",
       "      <td>False</td>\n",
       "      <td>773.394786</td>\n",
       "      <td>3604.617918</td>\n",
       "      <td>538.563713</td>\n",
       "      <td>712.303502</td>\n",
       "    </tr>\n",
       "    <tr>\n",
       "      <th>121</th>\n",
       "      <td>P15034</td>\n",
       "      <td>reviewed</td>\n",
       "      <td>Xaa-Pro aminopeptidase (EC 3.4.11.9) (Aminoacy...</td>\n",
       "      <td>pepP b2908 JW2876</td>\n",
       "      <td>Escherichia coli (strain K12)</td>\n",
       "      <td>441</td>\n",
       "      <td>49815</td>\n",
       "      <td>b2908 JW2876</td>\n",
       "      <td>AMPP_ECOLI</td>\n",
       "      <td>False</td>\n",
       "      <td>247.357469</td>\n",
       "      <td>1906.393527</td>\n",
       "      <td>268.136837</td>\n",
       "      <td>517.771415</td>\n",
       "    </tr>\n",
       "    <tr>\n",
       "      <th>137</th>\n",
       "      <td>P06129</td>\n",
       "      <td>reviewed</td>\n",
       "      <td>Vitamin B12 transporter BtuB (Cobalamin recept...</td>\n",
       "      <td>btuB bfe cer dcrC b3966 JW3938</td>\n",
       "      <td>Escherichia coli (strain K12)</td>\n",
       "      <td>614</td>\n",
       "      <td>68407</td>\n",
       "      <td>b3966 JW3938</td>\n",
       "      <td>BTUB_ECOLI</td>\n",
       "      <td>False</td>\n",
       "      <td>235.873595</td>\n",
       "      <td>626.591467</td>\n",
       "      <td>294.000195</td>\n",
       "      <td>327.593464</td>\n",
       "    </tr>\n",
       "    <tr>\n",
       "      <th>...</th>\n",
       "      <td>...</td>\n",
       "      <td>...</td>\n",
       "      <td>...</td>\n",
       "      <td>...</td>\n",
       "      <td>...</td>\n",
       "      <td>...</td>\n",
       "      <td>...</td>\n",
       "      <td>...</td>\n",
       "      <td>...</td>\n",
       "      <td>...</td>\n",
       "      <td>...</td>\n",
       "      <td>...</td>\n",
       "      <td>...</td>\n",
       "      <td>...</td>\n",
       "    </tr>\n",
       "    <tr>\n",
       "      <th>9465</th>\n",
       "      <td>P10371</td>\n",
       "      <td>reviewed</td>\n",
       "      <td>1-(5-phosphoribosyl)-5-[(5-phosphoribosylamino...</td>\n",
       "      <td>hisA b2024 JW2006</td>\n",
       "      <td>Escherichia coli (strain K12)</td>\n",
       "      <td>245</td>\n",
       "      <td>26033</td>\n",
       "      <td>b2024 JW2006</td>\n",
       "      <td>HIS4_ECOLI</td>\n",
       "      <td>False</td>\n",
       "      <td>283.589617</td>\n",
       "      <td>1745.021002</td>\n",
       "      <td>922.006949</td>\n",
       "      <td>440.996730</td>\n",
       "    </tr>\n",
       "    <tr>\n",
       "      <th>9467</th>\n",
       "      <td>P0ABU0</td>\n",
       "      <td>reviewed</td>\n",
       "      <td>1,4-dihydroxy-2-naphthoyl-CoA synthase (DHNA-C...</td>\n",
       "      <td>menB b2262 JW2257</td>\n",
       "      <td>Escherichia coli (strain K12)</td>\n",
       "      <td>285</td>\n",
       "      <td>31633</td>\n",
       "      <td>b2262 JW2257</td>\n",
       "      <td>MENB_ECOLI</td>\n",
       "      <td>False</td>\n",
       "      <td>389.235000</td>\n",
       "      <td>994.001703</td>\n",
       "      <td>242.526704</td>\n",
       "      <td>722.468238</td>\n",
       "    </tr>\n",
       "    <tr>\n",
       "      <th>9469</th>\n",
       "      <td>P77781</td>\n",
       "      <td>reviewed</td>\n",
       "      <td>1,4-dihydroxy-2-naphthoyl-CoA hydrolase (DHNA-...</td>\n",
       "      <td>menI ydiI b1686 JW1676</td>\n",
       "      <td>Escherichia coli (strain K12)</td>\n",
       "      <td>136</td>\n",
       "      <td>14945</td>\n",
       "      <td>b1686 JW1676</td>\n",
       "      <td>MENI_ECOLI</td>\n",
       "      <td>False</td>\n",
       "      <td>84.411881</td>\n",
       "      <td>226.783577</td>\n",
       "      <td>136.146261</td>\n",
       "      <td>438.385234</td>\n",
       "    </tr>\n",
       "    <tr>\n",
       "      <th>9473</th>\n",
       "      <td>P07762</td>\n",
       "      <td>reviewed</td>\n",
       "      <td>1,4-alpha-glucan branching enzyme GlgB (EC 2.4...</td>\n",
       "      <td>glgB b3432 JW3395</td>\n",
       "      <td>Escherichia coli (strain K12)</td>\n",
       "      <td>728</td>\n",
       "      <td>84337</td>\n",
       "      <td>b3432 JW3395</td>\n",
       "      <td>GLGB_ECOLI</td>\n",
       "      <td>False</td>\n",
       "      <td>14.544909</td>\n",
       "      <td>620.007734</td>\n",
       "      <td>32.981904</td>\n",
       "      <td>260.703635</td>\n",
       "    </tr>\n",
       "    <tr>\n",
       "      <th>9480</th>\n",
       "      <td>P0A6F9</td>\n",
       "      <td>reviewed</td>\n",
       "      <td>10 kDa chaperonin (GroES protein) (Protein Cpn10)</td>\n",
       "      <td>groS groES mopB b4142 JW4102</td>\n",
       "      <td>Escherichia coli (strain K12)</td>\n",
       "      <td>97</td>\n",
       "      <td>10387</td>\n",
       "      <td>b4142 JW4102</td>\n",
       "      <td>CH10_ECOLI</td>\n",
       "      <td>False</td>\n",
       "      <td>21004.841476</td>\n",
       "      <td>24202.563153</td>\n",
       "      <td>6435.048517</td>\n",
       "      <td>8051.582769</td>\n",
       "    </tr>\n",
       "  </tbody>\n",
       "</table>\n",
       "<p>1110 rows × 14 columns</p>\n",
       "</div>"
      ],
      "text/plain": [
       "       Entry    Status                                      Protein names  \\\n",
       "3     P37617  reviewed  Zinc/cadmium/lead-transporting P-type ATPase (...   \n",
       "110   P0A9M5  reviewed  Xanthine-guanine phosphoribosyltransferase (XG...   \n",
       "119   P21165  reviewed  Xaa-Pro dipeptidase (X-Pro dipeptidase) (EC 3....   \n",
       "121   P15034  reviewed  Xaa-Pro aminopeptidase (EC 3.4.11.9) (Aminoacy...   \n",
       "137   P06129  reviewed  Vitamin B12 transporter BtuB (Cobalamin recept...   \n",
       "...      ...       ...                                                ...   \n",
       "9465  P10371  reviewed  1-(5-phosphoribosyl)-5-[(5-phosphoribosylamino...   \n",
       "9467  P0ABU0  reviewed  1,4-dihydroxy-2-naphthoyl-CoA synthase (DHNA-C...   \n",
       "9469  P77781  reviewed  1,4-dihydroxy-2-naphthoyl-CoA hydrolase (DHNA-...   \n",
       "9473  P07762  reviewed  1,4-alpha-glucan branching enzyme GlgB (EC 2.4...   \n",
       "9480  P0A6F9  reviewed  10 kDa chaperonin (GroES protein) (Protein Cpn10)   \n",
       "\n",
       "                          Gene names                       Organism  Length  \\\n",
       "3             zntA yhhO b3469 JW3434  Escherichia coli (strain K12)     732   \n",
       "110         gpt gpp gxu b0238 JW0228  Escherichia coli (strain K12)     152   \n",
       "119                pepQ b3847 JW3823  Escherichia coli (strain K12)     443   \n",
       "121                pepP b2908 JW2876  Escherichia coli (strain K12)     441   \n",
       "137   btuB bfe cer dcrC b3966 JW3938  Escherichia coli (strain K12)     614   \n",
       "...                              ...                            ...     ...   \n",
       "9465               hisA b2024 JW2006  Escherichia coli (strain K12)     245   \n",
       "9467               menB b2262 JW2257  Escherichia coli (strain K12)     285   \n",
       "9469          menI ydiI b1686 JW1676  Escherichia coli (strain K12)     136   \n",
       "9473               glgB b3432 JW3395  Escherichia coli (strain K12)     728   \n",
       "9480    groS groES mopB b4142 JW4102  Escherichia coli (strain K12)      97   \n",
       "\n",
       "       Mass Gene names  (ordered locus )  Entry name  Ribosomal        ecoli1  \\\n",
       "3     76840                 b3469 JW3434  ZNTA_ECOLI      False    549.064575   \n",
       "110   16971                 b0238 JW0228  XGPT_ECOLI      False   1389.956259   \n",
       "119   50176                 b3847 JW3823  PEPQ_ECOLI      False    773.394786   \n",
       "121   49815                 b2908 JW2876  AMPP_ECOLI      False    247.357469   \n",
       "137   68407                 b3966 JW3938  BTUB_ECOLI      False    235.873595   \n",
       "...     ...                          ...         ...        ...           ...   \n",
       "9465  26033                 b2024 JW2006  HIS4_ECOLI      False    283.589617   \n",
       "9467  31633                 b2262 JW2257  MENB_ECOLI      False    389.235000   \n",
       "9469  14945                 b1686 JW1676  MENI_ECOLI      False     84.411881   \n",
       "9473  84337                 b3432 JW3395  GLGB_ECOLI      False     14.544909   \n",
       "9480  10387                 b4142 JW4102  CH10_ECOLI      False  21004.841476   \n",
       "\n",
       "            ecoli2       ecoli3       ecoli4  \n",
       "3        60.660344     5.033681     9.903560  \n",
       "110    4068.936926  1470.735981  1156.909020  \n",
       "119    3604.617918   538.563713   712.303502  \n",
       "121    1906.393527   268.136837   517.771415  \n",
       "137     626.591467   294.000195   327.593464  \n",
       "...            ...          ...          ...  \n",
       "9465   1745.021002   922.006949   440.996730  \n",
       "9467    994.001703   242.526704   722.468238  \n",
       "9469    226.783577   136.146261   438.385234  \n",
       "9473    620.007734    32.981904   260.703635  \n",
       "9480  24202.563153  6435.048517  8051.582769  \n",
       "\n",
       "[1110 rows x 14 columns]"
      ]
     },
     "execution_count": 20,
     "metadata": {},
     "output_type": "execute_result"
    }
   ],
   "source": [
    "ecoli_comb_core"
   ]
  },
  {
   "cell_type": "code",
   "execution_count": 27,
   "id": "2615faf3-64cf-4e6f-a8ec-773cf2b929be",
   "metadata": {},
   "outputs": [
    {
     "data": {
      "text/plain": [
       "[3933465.5056633493, 4876077.751756361, 2204424.924984279, 3129049.1451515593]"
      ]
     },
     "execution_count": 27,
     "metadata": {},
     "output_type": "execute_result"
    }
   ],
   "source": [
    "cn_per_vol = []\n",
    "for i in range(1,5):\n",
    "    cn_per_vol.append(sum(ecoli_comb[f'ecoli{i}']))\n",
    "    \n",
    "cn_per_vol"
   ]
  },
  {
   "cell_type": "code",
   "execution_count": 8,
   "id": "aa5d085b-41c6-4ed7-a981-1291b545ca74",
   "metadata": {},
   "outputs": [
    {
     "data": {
      "text/plain": [
       "[3933465.5056633493, 4876077.751756361, 2204424.924984279, 3129049.1451515593]"
      ]
     },
     "execution_count": 8,
     "metadata": {},
     "output_type": "execute_result"
    }
   ],
   "source": [
    "cn_per_vol"
   ]
  },
  {
   "cell_type": "code",
   "execution_count": 22,
   "id": "11a1a3ce-f48b-4f56-904a-39d7aaecf2f2",
   "metadata": {},
   "outputs": [],
   "source": [
    "cn_per_vol2 = [[x] for x in cn_per_vol2]"
   ]
  },
  {
   "cell_type": "code",
   "execution_count": 23,
   "id": "328bfc64-5bc4-4504-bd2f-87facc9782fd",
   "metadata": {},
   "outputs": [
    {
     "data": {
      "image/png": "[encoded data removed]",
      "text/plain": [
       "<Figure size 432x288 with 1 Axes>"
      ]
     },
     "metadata": {},
     "output_type": "display_data"
    }
   ],
   "source": [
    "seaborn.barplot(data=cn_per_vol)\n",
    "plt.xticks(range(0,4), [f'ecoli{i}' for i in range(1,5)])\n",
    "plt.savefig('../graphs/ecoli_cn_sum_core.png', dpi=300)"
   ]
  },
  {
   "cell_type": "code",
   "execution_count": 34,
   "id": "cc3ae590-dd1e-4d16-9a37-47586dc06795",
   "metadata": {},
   "outputs": [],
   "source": [
    "cn_mass_sum = []\n",
    "for i in range(1,5):\n",
    "    cn_mass_sum.append(sum(ecoli_comb[f'ecoli{i}']*ecoli_comb['Mass']))"
   ]
  },
  {
   "cell_type": "code",
   "execution_count": 35,
   "id": "95d0293f-220e-4753-9d05-19c671fc8cdc",
   "metadata": {},
   "outputs": [
    {
     "data": {
      "text/plain": [
       "[111330898150.06967, 159774567907.75565, 63774123862.156944, 81285996498.30988]"
      ]
     },
     "execution_count": 35,
     "metadata": {},
     "output_type": "execute_result"
    }
   ],
   "source": [
    "cn_mass_sum"
   ]
  },
  {
   "cell_type": "code",
   "execution_count": 37,
   "id": "a5fcbfa2-b51c-494f-b237-f96c4da535dc",
   "metadata": {},
   "outputs": [],
   "source": [
    "cn_mass_sum = [[x] for x in cn_mass_sum]"
   ]
  },
  {
   "cell_type": "code",
   "execution_count": 39,
   "id": "15787972-48ae-4a9c-80b7-df9cc20a9847",
   "metadata": {},
   "outputs": [
    {
     "data": {
      "image/png": "[encoded data removed]",
      "text/plain": [
       "<Figure size 432x288 with 1 Axes>"
      ]
     },
     "metadata": {},
     "output_type": "display_data"
    }
   ],
   "source": [
    "seaborn.barplot(data=cn_mass_sum)\n",
    "plt.xticks(range(0,4), [f'ecoli{i}' for i in range(1,5)])\n",
    "plt.ylabel('Da')\n",
    "plt.savefig('../graphs/ecoli_cn_sum_mass.png', dpi=300)"
   ]
  },
  {
   "cell_type": "code",
   "execution_count": 68,
   "id": "036ae02b-22ea-4e7e-b830-a0ff64ce3dbb",
   "metadata": {},
   "outputs": [],
   "source": [
    "ecoli_comb2 = ecoli_comb[ecoli_comb.columns[:10].tolist() + ['ecoli3', 'ecoli4', 'ecoli5', 'ecoli8']]"
   ]
  },
  {
   "cell_type": "code",
   "execution_count": 72,
   "id": "90fe42ad-1270-43fa-b707-261b36413c1f",
   "metadata": {},
   "outputs": [],
   "source": [
    "ecoli_comb2.to_excel('../datasets/datasets_new/ecoli_new/ecoli_comb_copiespercell.xlsx', index=False)"
   ]
  },
  {
   "cell_type": "code",
   "execution_count": 81,
   "id": "878b0281-ae93-4caf-a27b-5fcca3464cfd",
   "metadata": {},
   "outputs": [],
   "source": [
    "ecoli_comb3 = ecoli_comb2.copy()"
   ]
  },
  {
   "cell_type": "code",
   "execution_count": 82,
   "id": "66f2a30c-bbe1-4a92-b546-16c75f821bea",
   "metadata": {},
   "outputs": [],
   "source": [
    "import numpy"
   ]
  },
  {
   "cell_type": "code",
   "execution_count": 83,
   "id": "8420b73f-a0c1-4c59-82a1-4a108e8b59f3",
   "metadata": {},
   "outputs": [],
   "source": [
    "ecoli_comb3.loc[:, ['ecoli3', 'ecoli4', 'ecoli5', 'ecoli8']] = ecoli_comb3.loc[:, ['ecoli3', 'ecoli4', 'ecoli5', 'ecoli8']].apply(numpy.log10)"
   ]
  },
  {
   "cell_type": "code",
   "execution_count": 86,
   "id": "730defea-4cc4-4713-9cb1-e385e7fd4a9a",
   "metadata": {},
   "outputs": [],
   "source": [
    "ecoli_comb3 = ecoli_comb3.fillna(0)"
   ]
  },
  {
   "cell_type": "code",
   "execution_count": 92,
   "id": "ba320c2b-d0de-4ede-a480-6ec1a03e18c8",
   "metadata": {},
   "outputs": [],
   "source": [
    "ecoli_comb3.replace(numpy.inf, 0, inplace = True)"
   ]
  },
  {
   "cell_type": "code",
   "execution_count": 91,
   "id": "e1f0ca0c-dc2a-4cee-a9f2-d6474d65194c",
   "metadata": {},
   "outputs": [
    {
     "data": {
      "text/html": [
       "<div>\n",
       "<style scoped>\n",
       "    .dataframe tbody tr th:only-of-type {\n",
       "        vertical-align: middle;\n",
       "    }\n",
       "\n",
       "    .dataframe tbody tr th {\n",
       "        vertical-align: top;\n",
       "    }\n",
       "\n",
       "    .dataframe thead th {\n",
       "        text-align: right;\n",
       "    }\n",
       "</style>\n",
       "<table border=\"1\" class=\"dataframe\">\n",
       "  <thead>\n",
       "    <tr style=\"text-align: right;\">\n",
       "      <th></th>\n",
       "      <th>Entry</th>\n",
       "      <th>Status</th>\n",
       "      <th>Protein names</th>\n",
       "      <th>Gene names</th>\n",
       "      <th>Organism</th>\n",
       "      <th>Length</th>\n",
       "      <th>Mass</th>\n",
       "      <th>Gene names  (ordered locus )</th>\n",
       "      <th>Entry name</th>\n",
       "      <th>Ribosomal</th>\n",
       "      <th>ecoli3</th>\n",
       "      <th>ecoli4</th>\n",
       "      <th>ecoli5</th>\n",
       "      <th>ecoli8</th>\n",
       "    </tr>\n",
       "  </thead>\n",
       "  <tbody>\n",
       "    <tr>\n",
       "      <th>0</th>\n",
       "      <td>A0A4S5AYA5</td>\n",
       "      <td>unreviewed</td>\n",
       "      <td>Zn(II)/Cd(II)/Pb(II) translocating P-type ATPa...</td>\n",
       "      <td>zntA FAZ83_10695</td>\n",
       "      <td>Escherichia coli (strain K12)</td>\n",
       "      <td>732</td>\n",
       "      <td>76718.0</td>\n",
       "      <td>0</td>\n",
       "      <td>A0A4S5AYA5_ECOLI</td>\n",
       "      <td>False</td>\n",
       "      <td>-inf</td>\n",
       "      <td>-inf</td>\n",
       "      <td>-inf</td>\n",
       "      <td>-inf</td>\n",
       "    </tr>\n",
       "    <tr>\n",
       "      <th>1</th>\n",
       "      <td>A0A6D2Y886</td>\n",
       "      <td>unreviewed</td>\n",
       "      <td>Zn-dependent oxidoreductase</td>\n",
       "      <td>FAZ83_03425</td>\n",
       "      <td>Escherichia coli (strain K12)</td>\n",
       "      <td>339</td>\n",
       "      <td>36534.0</td>\n",
       "      <td>0</td>\n",
       "      <td>A0A6D2Y886_ECOLI</td>\n",
       "      <td>False</td>\n",
       "      <td>-inf</td>\n",
       "      <td>-inf</td>\n",
       "      <td>-inf</td>\n",
       "      <td>-inf</td>\n",
       "    </tr>\n",
       "    <tr>\n",
       "      <th>2</th>\n",
       "      <td>A0A4S5ATF1</td>\n",
       "      <td>unreviewed</td>\n",
       "      <td>Zn(2+)-responsive transcriptional regulator</td>\n",
       "      <td>zntR FAZ83_23180</td>\n",
       "      <td>Escherichia coli (strain K12)</td>\n",
       "      <td>141</td>\n",
       "      <td>16195.0</td>\n",
       "      <td>0</td>\n",
       "      <td>A0A4S5ATF1_ECOLI</td>\n",
       "      <td>False</td>\n",
       "      <td>-inf</td>\n",
       "      <td>-inf</td>\n",
       "      <td>-inf</td>\n",
       "      <td>-inf</td>\n",
       "    </tr>\n",
       "    <tr>\n",
       "      <th>3</th>\n",
       "      <td>P37617</td>\n",
       "      <td>reviewed</td>\n",
       "      <td>Zinc/cadmium/lead-transporting P-type ATPase (...</td>\n",
       "      <td>zntA yhhO b3469 JW3434</td>\n",
       "      <td>Escherichia coli (strain K12)</td>\n",
       "      <td>732</td>\n",
       "      <td>76840.0</td>\n",
       "      <td>b3469 JW3434</td>\n",
       "      <td>ZNTA_ECOLI</td>\n",
       "      <td>False</td>\n",
       "      <td>2.739623</td>\n",
       "      <td>1.812194</td>\n",
       "      <td>0.731175</td>\n",
       "      <td>0.995791</td>\n",
       "    </tr>\n",
       "    <tr>\n",
       "      <th>4</th>\n",
       "      <td>P33030</td>\n",
       "      <td>reviewed</td>\n",
       "      <td>Zinc-binding GTPase YeiR (EC 3.6.-.-)</td>\n",
       "      <td>yeiR b2173 JW2161</td>\n",
       "      <td>Escherichia coli (strain K12)</td>\n",
       "      <td>328</td>\n",
       "      <td>36113.0</td>\n",
       "      <td>b2173 JW2161</td>\n",
       "      <td>YEIR_ECOLI</td>\n",
       "      <td>False</td>\n",
       "      <td>-inf</td>\n",
       "      <td>1.890827</td>\n",
       "      <td>1.404084</td>\n",
       "      <td>1.941523</td>\n",
       "    </tr>\n",
       "    <tr>\n",
       "      <th>...</th>\n",
       "      <td>...</td>\n",
       "      <td>...</td>\n",
       "      <td>...</td>\n",
       "      <td>...</td>\n",
       "      <td>...</td>\n",
       "      <td>...</td>\n",
       "      <td>...</td>\n",
       "      <td>...</td>\n",
       "      <td>...</td>\n",
       "      <td>...</td>\n",
       "      <td>...</td>\n",
       "      <td>...</td>\n",
       "      <td>...</td>\n",
       "      <td>...</td>\n",
       "    </tr>\n",
       "    <tr>\n",
       "      <th>9476</th>\n",
       "      <td>P76078</td>\n",
       "      <td>reviewed</td>\n",
       "      <td>1,2-phenylacetyl-CoA epoxidase, subunit B (1,2...</td>\n",
       "      <td>paaB ynbF b1389 JW1384</td>\n",
       "      <td>Escherichia coli (strain K12)</td>\n",
       "      <td>95</td>\n",
       "      <td>10942.0</td>\n",
       "      <td>b1389 JW1384</td>\n",
       "      <td>PAAB_ECOLI</td>\n",
       "      <td>False</td>\n",
       "      <td>-inf</td>\n",
       "      <td>-inf</td>\n",
       "      <td>-1.940914</td>\n",
       "      <td>-inf</td>\n",
       "    </tr>\n",
       "    <tr>\n",
       "      <th>9477</th>\n",
       "      <td>P76077</td>\n",
       "      <td>reviewed</td>\n",
       "      <td>1,2-phenylacetyl-CoA epoxidase, subunit A (EC ...</td>\n",
       "      <td>paaA ydbO b1388 JW1383</td>\n",
       "      <td>Escherichia coli (strain K12)</td>\n",
       "      <td>309</td>\n",
       "      <td>35499.0</td>\n",
       "      <td>b1388 JW1383</td>\n",
       "      <td>PAAA_ECOLI</td>\n",
       "      <td>False</td>\n",
       "      <td>-inf</td>\n",
       "      <td>-inf</td>\n",
       "      <td>-inf</td>\n",
       "      <td>-inf</td>\n",
       "    </tr>\n",
       "    <tr>\n",
       "      <th>9478</th>\n",
       "      <td>P77467</td>\n",
       "      <td>reviewed</td>\n",
       "      <td>1,2-epoxyphenylacetyl-CoA isomerase (EC 5.3.3.18)</td>\n",
       "      <td>paaG ydbT b1394 JW1389</td>\n",
       "      <td>Escherichia coli (strain K12)</td>\n",
       "      <td>262</td>\n",
       "      <td>28405.0</td>\n",
       "      <td>b1394 JW1389</td>\n",
       "      <td>PAAG_ECOLI</td>\n",
       "      <td>False</td>\n",
       "      <td>-inf</td>\n",
       "      <td>-inf</td>\n",
       "      <td>-inf</td>\n",
       "      <td>-inf</td>\n",
       "    </tr>\n",
       "    <tr>\n",
       "      <th>9479</th>\n",
       "      <td>A0A6D2XEG8</td>\n",
       "      <td>unreviewed</td>\n",
       "      <td>10 kDa chaperonin (GroES protein) (Protein Cpn10)</td>\n",
       "      <td>groES groS FAZ83_09765</td>\n",
       "      <td>Escherichia coli (strain K12)</td>\n",
       "      <td>97</td>\n",
       "      <td>10387.0</td>\n",
       "      <td>0</td>\n",
       "      <td>A0A6D2XEG8_ECOLI</td>\n",
       "      <td>False</td>\n",
       "      <td>-inf</td>\n",
       "      <td>-inf</td>\n",
       "      <td>-inf</td>\n",
       "      <td>-inf</td>\n",
       "    </tr>\n",
       "    <tr>\n",
       "      <th>9480</th>\n",
       "      <td>P0A6F9</td>\n",
       "      <td>reviewed</td>\n",
       "      <td>10 kDa chaperonin (GroES protein) (Protein Cpn10)</td>\n",
       "      <td>groS groES mopB b4142 JW4102</td>\n",
       "      <td>Escherichia coli (strain K12)</td>\n",
       "      <td>97</td>\n",
       "      <td>10387.0</td>\n",
       "      <td>b4142 JW4102</td>\n",
       "      <td>CH10_ECOLI</td>\n",
       "      <td>False</td>\n",
       "      <td>4.322319</td>\n",
       "      <td>4.413151</td>\n",
       "      <td>3.837841</td>\n",
       "      <td>3.905881</td>\n",
       "    </tr>\n",
       "  </tbody>\n",
       "</table>\n",
       "<p>9481 rows × 14 columns</p>\n",
       "</div>"
      ],
      "text/plain": [
       "           Entry      Status  \\\n",
       "0     A0A4S5AYA5  unreviewed   \n",
       "1     A0A6D2Y886  unreviewed   \n",
       "2     A0A4S5ATF1  unreviewed   \n",
       "3         P37617    reviewed   \n",
       "4         P33030    reviewed   \n",
       "...          ...         ...   \n",
       "9476      P76078    reviewed   \n",
       "9477      P76077    reviewed   \n",
       "9478      P77467    reviewed   \n",
       "9479  A0A6D2XEG8  unreviewed   \n",
       "9480      P0A6F9    reviewed   \n",
       "\n",
       "                                          Protein names  \\\n",
       "0     Zn(II)/Cd(II)/Pb(II) translocating P-type ATPa...   \n",
       "1                           Zn-dependent oxidoreductase   \n",
       "2           Zn(2+)-responsive transcriptional regulator   \n",
       "3     Zinc/cadmium/lead-transporting P-type ATPase (...   \n",
       "4                 Zinc-binding GTPase YeiR (EC 3.6.-.-)   \n",
       "...                                                 ...   \n",
       "9476  1,2-phenylacetyl-CoA epoxidase, subunit B (1,2...   \n",
       "9477  1,2-phenylacetyl-CoA epoxidase, subunit A (EC ...   \n",
       "9478  1,2-epoxyphenylacetyl-CoA isomerase (EC 5.3.3.18)   \n",
       "9479  10 kDa chaperonin (GroES protein) (Protein Cpn10)   \n",
       "9480  10 kDa chaperonin (GroES protein) (Protein Cpn10)   \n",
       "\n",
       "                        Gene names                       Organism  Length  \\\n",
       "0                 zntA FAZ83_10695  Escherichia coli (strain K12)     732   \n",
       "1                      FAZ83_03425  Escherichia coli (strain K12)     339   \n",
       "2                 zntR FAZ83_23180  Escherichia coli (strain K12)     141   \n",
       "3           zntA yhhO b3469 JW3434  Escherichia coli (strain K12)     732   \n",
       "4                yeiR b2173 JW2161  Escherichia coli (strain K12)     328   \n",
       "...                            ...                            ...     ...   \n",
       "9476        paaB ynbF b1389 JW1384  Escherichia coli (strain K12)      95   \n",
       "9477        paaA ydbO b1388 JW1383  Escherichia coli (strain K12)     309   \n",
       "9478        paaG ydbT b1394 JW1389  Escherichia coli (strain K12)     262   \n",
       "9479        groES groS FAZ83_09765  Escherichia coli (strain K12)      97   \n",
       "9480  groS groES mopB b4142 JW4102  Escherichia coli (strain K12)      97   \n",
       "\n",
       "         Mass Gene names  (ordered locus )        Entry name  Ribosomal  \\\n",
       "0     76718.0                            0  A0A4S5AYA5_ECOLI      False   \n",
       "1     36534.0                            0  A0A6D2Y886_ECOLI      False   \n",
       "2     16195.0                            0  A0A4S5ATF1_ECOLI      False   \n",
       "3     76840.0                 b3469 JW3434        ZNTA_ECOLI      False   \n",
       "4     36113.0                 b2173 JW2161        YEIR_ECOLI      False   \n",
       "...       ...                          ...               ...        ...   \n",
       "9476  10942.0                 b1389 JW1384        PAAB_ECOLI      False   \n",
       "9477  35499.0                 b1388 JW1383        PAAA_ECOLI      False   \n",
       "9478  28405.0                 b1394 JW1389        PAAG_ECOLI      False   \n",
       "9479  10387.0                            0  A0A6D2XEG8_ECOLI      False   \n",
       "9480  10387.0                 b4142 JW4102        CH10_ECOLI      False   \n",
       "\n",
       "        ecoli3    ecoli4    ecoli5    ecoli8  \n",
       "0         -inf      -inf      -inf      -inf  \n",
       "1         -inf      -inf      -inf      -inf  \n",
       "2         -inf      -inf      -inf      -inf  \n",
       "3     2.739623  1.812194  0.731175  0.995791  \n",
       "4         -inf  1.890827  1.404084  1.941523  \n",
       "...        ...       ...       ...       ...  \n",
       "9476      -inf      -inf -1.940914      -inf  \n",
       "9477      -inf      -inf      -inf      -inf  \n",
       "9478      -inf      -inf      -inf      -inf  \n",
       "9479      -inf      -inf      -inf      -inf  \n",
       "9480  4.322319  4.413151  3.837841  3.905881  \n",
       "\n",
       "[9481 rows x 14 columns]"
      ]
     },
     "execution_count": 91,
     "metadata": {},
     "output_type": "execute_result"
    }
   ],
   "source": [
    "ecoli_comb3"
   ]
  },
  {
   "cell_type": "code",
   "execution_count": 117,
   "id": "af5e99ff-3e6e-4413-9926-271d1550c31a",
   "metadata": {},
   "outputs": [
    {
     "data": {
      "image/png": "[encoded data removed]",
      "text/plain": [
       "<Figure size 432x360 with 1 Axes>"
      ]
     },
     "metadata": {},
     "output_type": "display_data"
    }
   ],
   "source": [
    "plt.figure(figsize=(6,5))\n",
    "plt.ylim([-1,7])\n",
    "plt.yticks(range(-1,8), ['','0', '10', '10**2', '10**3', '10**4', '10**5', '10**6', ''])\n",
    "seaborn.violinplot(data=[ecoli_comb3[ecoli_comb3[f'ecoli{i}'] > 0.0][f'ecoli{i}'] for i in [3,4,5,8]], cut=0, scale='count', bw=0.3)\n",
    "plt.xticks(range(0,4), [f'ecoli{i}' for i in range(1,5)])\n",
    "plt.ylabel('Protein copies per um3')\n",
    "plt.savefig('../graphs/ecoli_cn_dist.png', dpi=300)"
   ]
  },
  {
   "cell_type": "code",
   "execution_count": 122,
   "id": "a100efad-a769-4509-93bc-7f4acc4d549f",
   "metadata": {},
   "outputs": [
    {
     "name": "stdout",
     "output_type": "stream",
     "text": [
      "1.156411623588531\n",
      "227453.47106885\n",
      "3232.099840314997\n",
      "442.7669991786805\n",
      "129.0521904623926\n",
      "1678.753905611024\n",
      "1549.7017151486314\n",
      "...\n",
      "1.0719644785991624\n",
      "132652.81740275136\n",
      "2726.7481561992336\n",
      "431.7347578158454\n",
      "104.02960252467103\n",
      "1828.2578141810823\n",
      "1724.2282116564113\n",
      "...\n",
      "0.0019109485035264007\n",
      "117419.56112740214\n",
      "1003.9259313639341\n",
      "70.67270963706461\n",
      "12.215804400000001\n",
      "436.72763101321857\n",
      "424.51182661321855\n",
      "...\n",
      "0.06401450752688172\n",
      "369360.6072485883\n",
      "1507.9754916393078\n",
      "250.15297219204953\n",
      "87.25354918197901\n",
      "813.1130521154801\n",
      "725.8595029335011\n",
      "...\n"
     ]
    }
   ],
   "source": [
    "for i in [3,4,5,8]:\n",
    "    arr = ecoli_comb2[ecoli_comb2[f'ecoli{i}'] > 0.0][f'ecoli{i}']\n",
    "    print(arr.min())\n",
    "    print(arr.max())\n",
    "    print(arr.mean())\n",
    "    print(arr.median())\n",
    "    print(numpy.percentile(arr, 25))\n",
    "    print(numpy.percentile(arr, 75))\n",
    "    print(numpy.percentile(arr, 75)-numpy.percentile(arr, 25))\n",
    "    print(\"...\")"
   ]
  },
  {
   "cell_type": "code",
   "execution_count": 124,
   "id": "858fa786-bda4-4fa5-8cdf-e0b5b028ef87",
   "metadata": {},
   "outputs": [],
   "source": [
    "ecoli_comb4 = ecoli_comb2.copy()\n",
    "ecoli_comb4.loc[:, ['ecoli3', 'ecoli4', 'ecoli5', 'ecoli8']] = ecoli_comb4.loc[:, ['ecoli3', 'ecoli4', 'ecoli5', 'ecoli8']].apply(numpy.log)"
   ]
  },
  {
   "cell_type": "code",
   "execution_count": 161,
   "id": "edd7702e-2444-481b-8b3a-81e9c28fb083",
   "metadata": {},
   "outputs": [],
   "source": [
    "import itertools\n",
    "from scipy.stats import pearsonr"
   ]
  },
  {
   "cell_type": "code",
   "execution_count": 126,
   "id": "3d3106a4-8768-4086-8920-d8b68f51b5b3",
   "metadata": {},
   "outputs": [],
   "source": [
    "ecoli_comb4 = ecoli_comb4.rename(columns={'ecoli3':'ecoli1','ecoli4':'ecoli2','ecoli5':'ecoli3','ecoli8':'ecoli4'})"
   ]
  },
  {
   "cell_type": "code",
   "execution_count": 136,
   "id": "f7d39d72-eb64-4b4f-9f00-f7a7a4a828a7",
   "metadata": {},
   "outputs": [],
   "source": [
    "plt.style.use('seaborn')"
   ]
  },
  {
   "cell_type": "code",
   "execution_count": 181,
   "id": "4251d8a4-17ed-4594-89ee-f5594693e687",
   "metadata": {},
   "outputs": [
    {
     "data": {
      "image/png": "[encoded data removed]",
      "text/plain": [
       "<Figure size 576x576 with 16 Axes>"
      ]
     },
     "metadata": {},
     "output_type": "display_data"
    }
   ],
   "source": [
    "fig, axs = plt.subplots(nrows=4, ncols=4, figsize=(8,8))\n",
    "for i in range(0, 2):\n",
    "    for j in range(0, 2):\n",
    "        if i <= j: \n",
    "            if i == 0:\n",
    "                axs[i,j].set_title('ecoli1')\n",
    "                axs[i,j].set_ylabel('ecoli1')\n",
    "            axs[i][j].set(xlim=[-1,14], ylim=[-1,14])\n",
    "            axs[i][j].set_xticks([])\n",
    "            axs[i][j].set_yticks([])\n",
    "            axs[i][j].set_facecolor('w')\n",
    "        arr1 = ecoli_comb4[(ecoli_comb4[f'ecoli{i+1}'] > 0.0) & (ecoli_comb4[f'ecoli{j+1}'] > 0.0)][f'ecoli{i+1}'].values\n",
    "        arr2 = ecoli_comb4[(ecoli_comb4[f'ecoli{i+1}'] > 0.0) & (ecoli_comb4[f'ecoli{j+1}'] > 0.0)][f'ecoli{j+1}'].values\n",
    "        if i < j:\n",
    "            axs[i][j].set(xlim=[-1,14], ylim=[-1,14])\n",
    "            axs[i][j].set_xticks([])\n",
    "            axs[i][j].set_yticks([])\n",
    "            axs[i][j].scatter(arr1, arr2, s=2)\n",
    "            if i == 0:\n",
    "                axs[i][j].set_title(f'ecoli{j+1}')\n",
    "            axs[i][j].text(0,12,f'r = {str(round(pearsonr(arr1, arr2)[0],2))}')\n",
    "        if i > j:\n",
    "            #axs[i][j].imshow(pearsonr(arr1, arr2)[0])\n",
    "            pass"
   ]
  },
  {
   "cell_type": "code",
   "execution_count": 194,
   "id": "ac2b3b60-99be-4e24-a365-684ab92dc6ef",
   "metadata": {},
   "outputs": [
    {
     "data": {
      "image/png": "[encoded data removed]",
      "text/plain": [
       "<Figure size 576x576 with 9 Axes>"
      ]
     },
     "metadata": {},
     "output_type": "display_data"
    }
   ],
   "source": [
    "fig, axs = plt.subplots(nrows=3, ncols=3, figsize=(8,8))\n",
    "for i in range(0, 3):\n",
    "    for j in range(0, 3):\n",
    "        if i > j:\n",
    "            axs[i][j].set_xticks([])\n",
    "            axs[i][j].set_yticks([])\n",
    "            axs[i][j].set_facecolor('0.95')\n",
    "        \n",
    "        if i <= j:\n",
    "            arr1 = ecoli_comb4[(ecoli_comb4[f'ecoli{i+1}'] > 0.0) & (ecoli_comb4[f'ecoli{j+2}'] > 0.0)][f'ecoli{i+1}'].values\n",
    "            arr2 = ecoli_comb4[(ecoli_comb4[f'ecoli{i+1}'] > 0.0) & (ecoli_comb4[f'ecoli{j+2}'] > 0.0)][f'ecoli{j+2}'].values\n",
    "            axs[i][j].set(xlim=[-1,14], ylim=[-1,14])\n",
    "            axs[i][j].set_xticks([])\n",
    "            axs[i][j].set_yticks([])\n",
    "            axs[i][j].scatter(arr1, arr2, s=3)\n",
    "            axs[i][j].text(0,11.5,f'r = {str(round(pearsonr(arr1, arr2)[0],2))}')\n",
    "        if i == 0:\n",
    "            axs[i][j].set_title(f'ecoli{j+2}')\n",
    "        if j == 0:\n",
    "            axs[i][j].set_ylabel(f'ecoli{i+1}')\n",
    "            \n",
    "plt.savefig('../graphs/ecoli_cn_pearson.png', bbox_inches='tight', dpi=300)"
   ]
  },
  {
   "cell_type": "code",
   "execution_count": 174,
   "id": "fbfb28c7-810a-49c3-a2e5-0d97a2f4dea6",
   "metadata": {},
   "outputs": [],
   "source": [
    "x = ecoli_comb4[(ecoli_comb4[f'ecoli{1}'] > 0.0) & (ecoli_comb4[f'ecoli{2}'] > 0.0)][f'ecoli{1}'].values"
   ]
  },
  {
   "cell_type": "code",
   "execution_count": 175,
   "id": "6e0b55fc-ebda-467c-b3c4-190926663b14",
   "metadata": {},
   "outputs": [],
   "source": [
    "y = ecoli_comb4[(ecoli_comb4[f'ecoli{1}'] > 0.0) & (ecoli_comb4[f'ecoli{2}'] > 0.0)][f'ecoli{2}'].values"
   ]
  },
  {
   "cell_type": "code",
   "execution_count": 176,
   "id": "f9107fe2-16b9-4505-924a-1157fa68b6e6",
   "metadata": {},
   "outputs": [
    {
     "data": {
      "text/plain": [
       "(0.7608805799717062, 2.0735723976859694e-212)"
      ]
     },
     "execution_count": 176,
     "metadata": {},
     "output_type": "execute_result"
    }
   ],
   "source": [
    "pearsonr(x,y)"
   ]
  },
  {
   "cell_type": "code",
   "execution_count": 53,
   "id": "d4bd0ecc-2432-49d0-a944-9fb5fb8b7b2b",
   "metadata": {},
   "outputs": [],
   "source": [
    "ecoli_comb2.set_index('Entry', inplace = True)"
   ]
  },
  {
   "cell_type": "code",
   "execution_count": 54,
   "id": "5b3125c6-230b-472d-b7af-ec333cd146e7",
   "metadata": {},
   "outputs": [],
   "source": [
    "sets = [ecoli_comb2[ecoli_comb2[f'ecoli{i}'] != 0.0].index.tolist() for i in [3,4,5,8]]"
   ]
  },
  {
   "cell_type": "code",
   "execution_count": 55,
   "id": "6a3449c4-9928-4ee1-98d5-c89c753c395e",
   "metadata": {},
   "outputs": [],
   "source": [
    "for i in [1,2,3,4]:\n",
    "    with open(f'ecoli{i}.txt', 'w+') as f:\n",
    "        f.write('\\n'.join(sets[i-1]))"
   ]
  },
  {
   "cell_type": "code",
   "execution_count": 1,
   "id": "7e8d06dc-5ef7-4511-80a8-be92a1325824",
   "metadata": {},
   "outputs": [],
   "source": [
    "#sets[0]"
   ]
  },
  {
   "cell_type": "code",
   "execution_count": 39,
   "id": "9e0737dd-8eaf-40e3-a7e5-4d47d7386a3d",
   "metadata": {},
   "outputs": [
    {
     "data": {
      "text/plain": [
       "[9481, 9481, 9481, 9481]"
      ]
     },
     "execution_count": 39,
     "metadata": {},
     "output_type": "execute_result"
    }
   ],
   "source": [
    "[len(i) for i in sets]"
   ]
  },
  {
   "cell_type": "code",
   "execution_count": 200,
   "id": "2c33d626-fd7b-43e3-b861-dcf6326b0b1e",
   "metadata": {},
   "outputs": [],
   "source": [
    "ecoli_comb_r = ecoli_comb2[ecoli_comb2['Ribosomal']]"
   ]
  },
  {
   "cell_type": "code",
   "execution_count": 201,
   "id": "5971a6d5-1f26-4b1d-bf2c-b6b9da4286e5",
   "metadata": {},
   "outputs": [
    {
     "data": {
      "text/html": [
       "<div>\n",
       "<style scoped>\n",
       "    .dataframe tbody tr th:only-of-type {\n",
       "        vertical-align: middle;\n",
       "    }\n",
       "\n",
       "    .dataframe tbody tr th {\n",
       "        vertical-align: top;\n",
       "    }\n",
       "\n",
       "    .dataframe thead th {\n",
       "        text-align: right;\n",
       "    }\n",
       "</style>\n",
       "<table border=\"1\" class=\"dataframe\">\n",
       "  <thead>\n",
       "    <tr style=\"text-align: right;\">\n",
       "      <th></th>\n",
       "      <th>Entry</th>\n",
       "      <th>Status</th>\n",
       "      <th>Protein names</th>\n",
       "      <th>Gene names</th>\n",
       "      <th>Organism</th>\n",
       "      <th>Length</th>\n",
       "      <th>Mass</th>\n",
       "      <th>Gene names  (ordered locus )</th>\n",
       "      <th>Entry name</th>\n",
       "      <th>Ribosomal</th>\n",
       "      <th>ecoli3</th>\n",
       "      <th>ecoli4</th>\n",
       "      <th>ecoli5</th>\n",
       "      <th>ecoli8</th>\n",
       "    </tr>\n",
       "  </thead>\n",
       "  <tbody>\n",
       "    <tr>\n",
       "      <th>2683</th>\n",
       "      <td>A0A4S5B0X8</td>\n",
       "      <td>unreviewed</td>\n",
       "      <td>Ribosomal protein S6--L-glutamate ligase (EC 6...</td>\n",
       "      <td>rimK FAZ83_15215</td>\n",
       "      <td>Escherichia coli (strain K12)</td>\n",
       "      <td>300</td>\n",
       "      <td>32436.0</td>\n",
       "      <td>0</td>\n",
       "      <td>A0A4S5B0X8_ECOLI</td>\n",
       "      <td>True</td>\n",
       "      <td>0.000000</td>\n",
       "      <td>0.000000</td>\n",
       "      <td>0.000000</td>\n",
       "      <td>0.000000</td>\n",
       "    </tr>\n",
       "    <tr>\n",
       "      <th>2688</th>\n",
       "      <td>A0A6D2XN54</td>\n",
       "      <td>unreviewed</td>\n",
       "      <td>Ribosomal protein S12 methylthiotransferase Ri...</td>\n",
       "      <td>rimO FAZ83_15300</td>\n",
       "      <td>Escherichia coli (strain K12)</td>\n",
       "      <td>441</td>\n",
       "      <td>49582.0</td>\n",
       "      <td>0</td>\n",
       "      <td>A0A6D2XN54_ECOLI</td>\n",
       "      <td>True</td>\n",
       "      <td>0.000000</td>\n",
       "      <td>0.000000</td>\n",
       "      <td>0.000000</td>\n",
       "      <td>0.000000</td>\n",
       "    </tr>\n",
       "    <tr>\n",
       "      <th>2691</th>\n",
       "      <td>A0A4S4PR81</td>\n",
       "      <td>unreviewed</td>\n",
       "      <td>Ribosomal protein L11 methyltransferase (L11 M...</td>\n",
       "      <td>prmA FAZ83_05080</td>\n",
       "      <td>Escherichia coli (strain K12)</td>\n",
       "      <td>293</td>\n",
       "      <td>31877.0</td>\n",
       "      <td>0</td>\n",
       "      <td>A0A4S4PR81_ECOLI</td>\n",
       "      <td>True</td>\n",
       "      <td>0.000000</td>\n",
       "      <td>0.000000</td>\n",
       "      <td>0.000000</td>\n",
       "      <td>0.000000</td>\n",
       "    </tr>\n",
       "    <tr>\n",
       "      <th>9111</th>\n",
       "      <td>P0A7R1</td>\n",
       "      <td>reviewed</td>\n",
       "      <td>50S ribosomal protein L9 (Large ribosomal subu...</td>\n",
       "      <td>rplI b4203 JW4161</td>\n",
       "      <td>Escherichia coli (strain K12)</td>\n",
       "      <td>149</td>\n",
       "      <td>15769.0</td>\n",
       "      <td>b4203 JW4161</td>\n",
       "      <td>RL9_ECOLI</td>\n",
       "      <td>True</td>\n",
       "      <td>38746.219426</td>\n",
       "      <td>29163.858714</td>\n",
       "      <td>16227.336061</td>\n",
       "      <td>10793.592363</td>\n",
       "    </tr>\n",
       "    <tr>\n",
       "      <th>9112</th>\n",
       "      <td>A0A6D2XEU4</td>\n",
       "      <td>unreviewed</td>\n",
       "      <td>50S ribosomal protein L9</td>\n",
       "      <td>rplI FAZ83_21625</td>\n",
       "      <td>Escherichia coli (strain K12)</td>\n",
       "      <td>149</td>\n",
       "      <td>15769.0</td>\n",
       "      <td>0</td>\n",
       "      <td>A0A6D2XEU4_ECOLI</td>\n",
       "      <td>True</td>\n",
       "      <td>0.000000</td>\n",
       "      <td>0.000000</td>\n",
       "      <td>0.000000</td>\n",
       "      <td>0.000000</td>\n",
       "    </tr>\n",
       "  </tbody>\n",
       "</table>\n",
       "</div>"
      ],
      "text/plain": [
       "           Entry      Status  \\\n",
       "2683  A0A4S5B0X8  unreviewed   \n",
       "2688  A0A6D2XN54  unreviewed   \n",
       "2691  A0A4S4PR81  unreviewed   \n",
       "9111      P0A7R1    reviewed   \n",
       "9112  A0A6D2XEU4  unreviewed   \n",
       "\n",
       "                                          Protein names         Gene names  \\\n",
       "2683  Ribosomal protein S6--L-glutamate ligase (EC 6...   rimK FAZ83_15215   \n",
       "2688  Ribosomal protein S12 methylthiotransferase Ri...   rimO FAZ83_15300   \n",
       "2691  Ribosomal protein L11 methyltransferase (L11 M...   prmA FAZ83_05080   \n",
       "9111  50S ribosomal protein L9 (Large ribosomal subu...  rplI b4203 JW4161   \n",
       "9112                           50S ribosomal protein L9   rplI FAZ83_21625   \n",
       "\n",
       "                           Organism  Length     Mass  \\\n",
       "2683  Escherichia coli (strain K12)     300  32436.0   \n",
       "2688  Escherichia coli (strain K12)     441  49582.0   \n",
       "2691  Escherichia coli (strain K12)     293  31877.0   \n",
       "9111  Escherichia coli (strain K12)     149  15769.0   \n",
       "9112  Escherichia coli (strain K12)     149  15769.0   \n",
       "\n",
       "     Gene names  (ordered locus )        Entry name  Ribosomal        ecoli3  \\\n",
       "2683                            0  A0A4S5B0X8_ECOLI       True      0.000000   \n",
       "2688                            0  A0A6D2XN54_ECOLI       True      0.000000   \n",
       "2691                            0  A0A4S4PR81_ECOLI       True      0.000000   \n",
       "9111                 b4203 JW4161         RL9_ECOLI       True  38746.219426   \n",
       "9112                            0  A0A6D2XEU4_ECOLI       True      0.000000   \n",
       "\n",
       "            ecoli4        ecoli5        ecoli8  \n",
       "2683      0.000000      0.000000      0.000000  \n",
       "2688      0.000000      0.000000      0.000000  \n",
       "2691      0.000000      0.000000      0.000000  \n",
       "9111  29163.858714  16227.336061  10793.592363  \n",
       "9112      0.000000      0.000000      0.000000  "
      ]
     },
     "execution_count": 201,
     "metadata": {},
     "output_type": "execute_result"
    }
   ],
   "source": [
    "ecoli_comb_r.head()"
   ]
  },
  {
   "cell_type": "code",
   "execution_count": 202,
   "id": "9e0cc174-1f46-4038-a252-3e8d44fbeeef",
   "metadata": {},
   "outputs": [],
   "source": [
    "ribo_max_id = []\n",
    "for i in [3,4,5,8]:\n",
    "    ribo_max_id.append(ecoli_comb_r.set_index('Entry')[f'ecoli{i}'].idxmax())"
   ]
  },
  {
   "cell_type": "code",
   "execution_count": 203,
   "id": "a8d442b9-1b05-42ca-87b4-0daa36446176",
   "metadata": {},
   "outputs": [
    {
     "data": {
      "text/plain": [
       "['P0A7K2', 'P0A7M6', 'P0A7T3', 'P0A7K2']"
      ]
     },
     "execution_count": 203,
     "metadata": {},
     "output_type": "execute_result"
    }
   ],
   "source": [
    "ribo_max_id"
   ]
  },
  {
   "cell_type": "code",
   "execution_count": 128,
   "id": "f91daadb-7f4e-428e-beec-315a81f1ab5b",
   "metadata": {},
   "outputs": [
    {
     "data": {
      "text/html": [
       "<svg  width=\"550\" height=\"55\"><rect x=\"0\" y=\"0\" width=\"55\" height=\"55\" style=\"fill:#4c72b0;stroke-width:2;stroke:rgb(255,255,255)\"/><rect x=\"55\" y=\"0\" width=\"55\" height=\"55\" style=\"fill:#dd8452;stroke-width:2;stroke:rgb(255,255,255)\"/><rect x=\"110\" y=\"0\" width=\"55\" height=\"55\" style=\"fill:#55a868;stroke-width:2;stroke:rgb(255,255,255)\"/><rect x=\"165\" y=\"0\" width=\"55\" height=\"55\" style=\"fill:#c44e52;stroke-width:2;stroke:rgb(255,255,255)\"/><rect x=\"220\" y=\"0\" width=\"55\" height=\"55\" style=\"fill:#8172b3;stroke-width:2;stroke:rgb(255,255,255)\"/><rect x=\"275\" y=\"0\" width=\"55\" height=\"55\" style=\"fill:#937860;stroke-width:2;stroke:rgb(255,255,255)\"/><rect x=\"330\" y=\"0\" width=\"55\" height=\"55\" style=\"fill:#da8bc3;stroke-width:2;stroke:rgb(255,255,255)\"/><rect x=\"385\" y=\"0\" width=\"55\" height=\"55\" style=\"fill:#8c8c8c;stroke-width:2;stroke:rgb(255,255,255)\"/><rect x=\"440\" y=\"0\" width=\"55\" height=\"55\" style=\"fill:#ccb974;stroke-width:2;stroke:rgb(255,255,255)\"/><rect x=\"495\" y=\"0\" width=\"55\" height=\"55\" style=\"fill:#64b5cd;stroke-width:2;stroke:rgb(255,255,255)\"/></svg>"
      ],
      "text/plain": [
       "[(0.2980392156862745, 0.4470588235294118, 0.6901960784313725),\n",
       " (0.8666666666666667, 0.5176470588235295, 0.3215686274509804),\n",
       " (0.3333333333333333, 0.6588235294117647, 0.40784313725490196),\n",
       " (0.7686274509803922, 0.3058823529411765, 0.3215686274509804),\n",
       " (0.5058823529411764, 0.4470588235294118, 0.7019607843137254),\n",
       " (0.5764705882352941, 0.47058823529411764, 0.3764705882352941),\n",
       " (0.8549019607843137, 0.5450980392156862, 0.7647058823529411),\n",
       " (0.5490196078431373, 0.5490196078431373, 0.5490196078431373),\n",
       " (0.8, 0.7254901960784313, 0.4549019607843137),\n",
       " (0.39215686274509803, 0.7098039215686275, 0.803921568627451)]"
      ]
     },
     "execution_count": 128,
     "metadata": {},
     "output_type": "execute_result"
    }
   ],
   "source": [
    "seaborn.color_palette(\"deep\")"
   ]
  },
  {
   "cell_type": "code",
   "execution_count": 126,
   "id": "4802e2b7-c1fc-46ce-b987-7248df71e7a3",
   "metadata": {},
   "outputs": [
    {
     "data": {
      "text/html": [
       "<div>\n",
       "<style scoped>\n",
       "    .dataframe tbody tr th:only-of-type {\n",
       "        vertical-align: middle;\n",
       "    }\n",
       "\n",
       "    .dataframe tbody tr th {\n",
       "        vertical-align: top;\n",
       "    }\n",
       "\n",
       "    .dataframe thead th {\n",
       "        text-align: right;\n",
       "    }\n",
       "</style>\n",
       "<table border=\"1\" class=\"dataframe\">\n",
       "  <thead>\n",
       "    <tr style=\"text-align: right;\">\n",
       "      <th></th>\n",
       "      <th>Entry</th>\n",
       "      <th>Status</th>\n",
       "      <th>Protein names</th>\n",
       "      <th>Gene names</th>\n",
       "      <th>Organism</th>\n",
       "      <th>Length</th>\n",
       "      <th>Mass</th>\n",
       "      <th>Gene names  (ordered locus )</th>\n",
       "      <th>Entry name</th>\n",
       "      <th>Ribosomal</th>\n",
       "      <th>ecoli2</th>\n",
       "      <th>ecoli3</th>\n",
       "      <th>ecoli4</th>\n",
       "      <th>ecoli5</th>\n",
       "      <th>ecoli6</th>\n",
       "      <th>ecoli7</th>\n",
       "      <th>ecoli8</th>\n",
       "      <th>ecoli9</th>\n",
       "    </tr>\n",
       "  </thead>\n",
       "  <tbody>\n",
       "    <tr>\n",
       "      <th>9332</th>\n",
       "      <td>P0A7T3</td>\n",
       "      <td>reviewed</td>\n",
       "      <td>30S ribosomal protein S16 (Small ribosomal sub...</td>\n",
       "      <td>rpsP b2609 JW2590</td>\n",
       "      <td>Escherichia coli (strain K12)</td>\n",
       "      <td>82</td>\n",
       "      <td>9191.0</td>\n",
       "      <td>b2609 JW2590</td>\n",
       "      <td>RS16_ECOLI</td>\n",
       "      <td>True</td>\n",
       "      <td>3236.88698</td>\n",
       "      <td>28123.951099</td>\n",
       "      <td>30133.607338</td>\n",
       "      <td>28296.391818</td>\n",
       "      <td>31286.760417</td>\n",
       "      <td>41907.93405</td>\n",
       "      <td>14887.865094</td>\n",
       "      <td>17541.205403</td>\n",
       "    </tr>\n",
       "  </tbody>\n",
       "</table>\n",
       "</div>"
      ],
      "text/plain": [
       "       Entry    Status                                      Protein names  \\\n",
       "9332  P0A7T3  reviewed  30S ribosomal protein S16 (Small ribosomal sub...   \n",
       "\n",
       "             Gene names                       Organism  Length    Mass  \\\n",
       "9332  rpsP b2609 JW2590  Escherichia coli (strain K12)      82  9191.0   \n",
       "\n",
       "     Gene names  (ordered locus )  Entry name  Ribosomal      ecoli2  \\\n",
       "9332                 b2609 JW2590  RS16_ECOLI       True  3236.88698   \n",
       "\n",
       "            ecoli3        ecoli4        ecoli5        ecoli6       ecoli7  \\\n",
       "9332  28123.951099  30133.607338  28296.391818  31286.760417  41907.93405   \n",
       "\n",
       "            ecoli8        ecoli9  \n",
       "9332  14887.865094  17541.205403  "
      ]
     },
     "execution_count": 126,
     "metadata": {},
     "output_type": "execute_result"
    }
   ],
   "source": [
    "ecoli_comb_r[ecoli_comb_r['Entry'] == 'P0A7T3']"
   ]
  },
  {
   "cell_type": "code",
   "execution_count": 204,
   "id": "595ba42e-c2ad-4f9c-890f-59b1c244aa31",
   "metadata": {},
   "outputs": [],
   "source": [
    "p0a7k2 = ecoli_comb_r.set_index('Entry').loc['P0A7K2'].loc['ecoli3':]"
   ]
  },
  {
   "cell_type": "code",
   "execution_count": 122,
   "id": "cc1073c8-356f-4bfe-9739-db4448094736",
   "metadata": {},
   "outputs": [],
   "source": [
    "p0a7t3 = ecoli_comb_r.set_index('Entry').loc['P0A7T3'].loc['ecoli2':]"
   ]
  },
  {
   "cell_type": "code",
   "execution_count": 123,
   "id": "c78fda40-e42b-4eb9-a2fe-fd58b9d759cd",
   "metadata": {},
   "outputs": [],
   "source": [
    "p0a7m6 = ecoli_comb_r.set_index('Entry').loc['P0A7M6'].loc['ecoli2':]"
   ]
  },
  {
   "cell_type": "code",
   "execution_count": 205,
   "id": "c6736a96-d6fe-4f4d-a0d5-06b74338c631",
   "metadata": {},
   "outputs": [
    {
     "name": "stderr",
     "output_type": "stream",
     "text": [
      "c:\\users\\professional\\appdata\\local\\programs\\python\\python39\\lib\\site-packages\\pandas\\core\\frame.py:4901: SettingWithCopyWarning: \n",
      "A value is trying to be set on a copy of a slice from a DataFrame\n",
      "\n",
      "See the caveats in the documentation: https://pandas.pydata.org/pandas-docs/stable/user_guide/indexing.html#returning-a-view-versus-a-copy\n",
      "  return super().drop(\n"
     ]
    }
   ],
   "source": [
    "ecoli_comb_r.drop(9114, inplace=True)"
   ]
  },
  {
   "cell_type": "code",
   "execution_count": 56,
   "id": "4d310510-69a8-4f22-9968-1ce456542f08",
   "metadata": {},
   "outputs": [
    {
     "data": {
      "text/plain": [
       "Status                                                                   reviewed\n",
       "Protein names                   30S ribosomal protein S16 (Small ribosomal sub...\n",
       "Gene names                                                      rpsP b2609 JW2590\n",
       "Organism                                            Escherichia coli (strain K12)\n",
       "Length                                                                         82\n",
       "Mass                                                                       9191.0\n",
       "Gene names  (ordered locus )                                         b2609 JW2590\n",
       "Entry name                                                             RS16_ECOLI\n",
       "Ribosomal                                                                    True\n",
       "ecoli2                                                                 3236.88698\n",
       "ecoli3                                                               28123.951099\n",
       "ecoli4                                                               30133.607338\n",
       "ecoli5                                                               28296.391818\n",
       "ecoli6                                                               31286.760417\n",
       "ecoli7                                                                41907.93405\n",
       "ecoli8                                                               14887.865094\n",
       "ecoli9                                                               17541.205403\n",
       "Name: P0A7T3, dtype: object"
      ]
     },
     "execution_count": 56,
     "metadata": {},
     "output_type": "execute_result"
    }
   ],
   "source": [
    "ecoli_comb_r.set_index('Entry').loc['P0A7T3']"
   ]
  },
  {
   "cell_type": "code",
   "execution_count": 57,
   "id": "6b1ea438-a681-49c9-b895-4548eaf6451a",
   "metadata": {},
   "outputs": [
    {
     "data": {
      "text/plain": [
       "Status                                                                   reviewed\n",
       "Protein names                   50S ribosomal protein L29 (Large ribosomal sub...\n",
       "Gene names                                                      rpmC b3312 JW3274\n",
       "Organism                                            Escherichia coli (strain K12)\n",
       "Length                                                                         63\n",
       "Mass                                                                       7273.0\n",
       "Gene names  (ordered locus )                                         b3312 JW3274\n",
       "Entry name                                                             RL29_ECOLI\n",
       "Ribosomal                                                                    True\n",
       "ecoli2                                                                3142.276919\n",
       "ecoli3                                                               25748.223975\n",
       "ecoli4                                                               84518.090121\n",
       "ecoli5                                                               23016.942995\n",
       "ecoli6                                                               20382.016106\n",
       "ecoli7                                                               24923.850237\n",
       "ecoli8                                                                7978.664961\n",
       "ecoli9                                                               10086.156886\n",
       "Name: P0A7M6, dtype: object"
      ]
     },
     "execution_count": 57,
     "metadata": {},
     "output_type": "execute_result"
    }
   ],
   "source": [
    "ecoli_comb_r.set_index('Entry').loc['P0A7M6']"
   ]
  },
  {
   "cell_type": "code",
   "execution_count": 208,
   "id": "bc1a81a9-26d0-43be-8701-28248f3714df",
   "metadata": {},
   "outputs": [],
   "source": [
    "ribo_quants = []\n",
    "for i in [3,4,5,8]:\n",
    "    ribo_quants.append(ecoli_comb_r[ecoli_comb_r[f'ecoli{i}'] != 0].set_index('Entry')[f'ecoli{i}'])"
   ]
  },
  {
   "cell_type": "code",
   "execution_count": 209,
   "id": "397412d5-9a46-4e0b-9332-75f309419a67",
   "metadata": {},
   "outputs": [
    {
     "data": {
      "text/plain": [
       "[51, 54, 54, 54]"
      ]
     },
     "execution_count": 209,
     "metadata": {},
     "output_type": "execute_result"
    }
   ],
   "source": [
    "[len(i) for i in ribo_quants]"
   ]
  },
  {
   "cell_type": "code",
   "execution_count": 154,
   "id": "5af04ad8-d8d8-4696-b8c7-d6508062c8f2",
   "metadata": {},
   "outputs": [],
   "source": [
    "ribo_quants[2] = ribo_quants[2].drop('P0A7M6')"
   ]
  },
  {
   "cell_type": "code",
   "execution_count": 210,
   "id": "15e53ece-4cb7-4aae-a979-b9bf91bddadc",
   "metadata": {},
   "outputs": [],
   "source": [
    "import seaborn"
   ]
  },
  {
   "cell_type": "code",
   "execution_count": 157,
   "id": "055acdd3-c643-400e-8d2d-c4c1597a9885",
   "metadata": {},
   "outputs": [
    {
     "name": "stderr",
     "output_type": "stream",
     "text": [
      "No artists with labels found to put in legend.  Note that artists whose label start with an underscore are ignored when legend() is called with no argument.\n"
     ]
    },
    {
     "data": {
      "image/png": "[encoded data removed]",
      "text/plain": [
       "<Figure size 504x576 with 1 Axes>"
      ]
     },
     "metadata": {},
     "output_type": "display_data"
    }
   ],
   "source": [
    "plt.figure(figsize=(7,8))\n",
    "plt.ylabel('Protein CN per um3 of cell volume')\n",
    "plt.xticks(range(0,8), [f'ecoli{i}' for i in range(2,10)])\n",
    "plt.legend()\n",
    "seaborn.boxplot(data=ribo_quants, color=seaborn.color_palette('deep')[0], fliersize=0)\n",
    "#seaborn.stripplot(data=ribo_quants, color=seaborn.color_palette('deep')[2],zorder=1)\n",
    "seaborn.scatterplot(x=range(0,8), y=p0a7k2, s=100, color=seaborn.color_palette('deep')[3],zorder=2,label='P0A7K2')\n",
    "seaborn.scatterplot(x=range(0,8), y=p0a7t3, s=60, color=seaborn.color_palette('deep')[1],zorder=2,label='P0A7T3')\n",
    "plt.xticks(range(0,8), [f'ecoli{i}' for i in range(2,10)]);\n",
    "plt.legend()\n",
    "plt.savefig('../graphs/ecoli_ribo_dist3.png', dpi=300)"
   ]
  },
  {
   "cell_type": "code",
   "execution_count": 88,
   "id": "29dc6e47-d7b5-4239-b743-c2c0bb053217",
   "metadata": {},
   "outputs": [
    {
     "data": {
      "text/plain": [
       "(0.2980392156862745, 0.4470588235294118, 0.6901960784313725)"
      ]
     },
     "execution_count": 88,
     "metadata": {},
     "output_type": "execute_result"
    }
   ],
   "source": [
    "seaborn.color_palette()[0]"
   ]
  },
  {
   "cell_type": "code",
   "execution_count": 213,
   "id": "5e696158-ab6d-4cec-9f84-0b7882f546a0",
   "metadata": {},
   "outputs": [],
   "source": [
    "ecoli_comb_n = ecoli_comb.copy()"
   ]
  },
  {
   "cell_type": "code",
   "execution_count": 185,
   "id": "ea378c8b-2a9b-4bbe-abe8-7b67c141d6f0",
   "metadata": {},
   "outputs": [],
   "source": [
    "for col in ecoli_comb_n.columns[-4:]:\n",
    "    ecoli_comb_n[col] *= 10000 / float(ecoli_comb_n[ecoli_comb_n['Entry'] == 'P0A7K2'][col]) #Adjust from "
   ]
  },
  {
   "cell_type": "code",
   "execution_count": 164,
   "id": "d0125e30-6ad8-4cbd-be5f-99074eaf2e42",
   "metadata": {},
   "outputs": [
    {
     "data": {
      "text/plain": [
       "157997537.52312192"
      ]
     },
     "execution_count": 164,
     "metadata": {},
     "output_type": "execute_result"
    }
   ],
   "source": [
    "20000 * float(ecoli_comb_n[ecoli_comb_n['Entry'] == 'P0A7K2']['ecoli2'])"
   ]
  },
  {
   "cell_type": "code",
   "execution_count": 175,
   "id": "384f16a8-65f4-43f6-b8b9-3bb173e9100a",
   "metadata": {},
   "outputs": [
    {
     "data": {
      "text/html": [
       "<div>\n",
       "<style scoped>\n",
       "    .dataframe tbody tr th:only-of-type {\n",
       "        vertical-align: middle;\n",
       "    }\n",
       "\n",
       "    .dataframe tbody tr th {\n",
       "        vertical-align: top;\n",
       "    }\n",
       "\n",
       "    .dataframe thead th {\n",
       "        text-align: right;\n",
       "    }\n",
       "</style>\n",
       "<table border=\"1\" class=\"dataframe\">\n",
       "  <thead>\n",
       "    <tr style=\"text-align: right;\">\n",
       "      <th></th>\n",
       "      <th>Entry</th>\n",
       "      <th>Status</th>\n",
       "      <th>Protein names</th>\n",
       "      <th>Gene names</th>\n",
       "      <th>Organism</th>\n",
       "      <th>Length</th>\n",
       "      <th>Mass</th>\n",
       "      <th>Gene names  (ordered locus )</th>\n",
       "      <th>Entry name</th>\n",
       "      <th>Ribosomal</th>\n",
       "      <th>ecoli2</th>\n",
       "      <th>ecoli3</th>\n",
       "      <th>ecoli4</th>\n",
       "      <th>ecoli5</th>\n",
       "      <th>ecoli6</th>\n",
       "      <th>ecoli7</th>\n",
       "      <th>ecoli8</th>\n",
       "      <th>ecoli9</th>\n",
       "    </tr>\n",
       "  </thead>\n",
       "  <tbody>\n",
       "    <tr>\n",
       "      <th>0</th>\n",
       "      <td>A0A4S5AYA5</td>\n",
       "      <td>unreviewed</td>\n",
       "      <td>Zn(II)/Cd(II)/Pb(II) translocating P-type ATPa...</td>\n",
       "      <td>zntA FAZ83_10695</td>\n",
       "      <td>Escherichia coli (strain K12)</td>\n",
       "      <td>732</td>\n",
       "      <td>76718.0</td>\n",
       "      <td>0</td>\n",
       "      <td>A0A4S5AYA5_ECOLI</td>\n",
       "      <td>False</td>\n",
       "      <td>0.000000</td>\n",
       "      <td>0.000000</td>\n",
       "      <td>0.000000</td>\n",
       "      <td>0.000000</td>\n",
       "      <td>0.000000</td>\n",
       "      <td>0.000000</td>\n",
       "      <td>0.000000</td>\n",
       "      <td>0.000000</td>\n",
       "    </tr>\n",
       "    <tr>\n",
       "      <th>1</th>\n",
       "      <td>A0A6D2Y886</td>\n",
       "      <td>unreviewed</td>\n",
       "      <td>Zn-dependent oxidoreductase</td>\n",
       "      <td>FAZ83_03425</td>\n",
       "      <td>Escherichia coli (strain K12)</td>\n",
       "      <td>339</td>\n",
       "      <td>36534.0</td>\n",
       "      <td>0</td>\n",
       "      <td>A0A6D2Y886_ECOLI</td>\n",
       "      <td>False</td>\n",
       "      <td>0.000000</td>\n",
       "      <td>0.000000</td>\n",
       "      <td>0.000000</td>\n",
       "      <td>0.000000</td>\n",
       "      <td>0.000000</td>\n",
       "      <td>0.000000</td>\n",
       "      <td>0.000000</td>\n",
       "      <td>0.000000</td>\n",
       "    </tr>\n",
       "    <tr>\n",
       "      <th>2</th>\n",
       "      <td>A0A4S5ATF1</td>\n",
       "      <td>unreviewed</td>\n",
       "      <td>Zn(2+)-responsive transcriptional regulator</td>\n",
       "      <td>zntR FAZ83_23180</td>\n",
       "      <td>Escherichia coli (strain K12)</td>\n",
       "      <td>141</td>\n",
       "      <td>16195.0</td>\n",
       "      <td>0</td>\n",
       "      <td>A0A4S5ATF1_ECOLI</td>\n",
       "      <td>False</td>\n",
       "      <td>0.000000</td>\n",
       "      <td>0.000000</td>\n",
       "      <td>0.000000</td>\n",
       "      <td>0.000000</td>\n",
       "      <td>0.000000</td>\n",
       "      <td>0.000000</td>\n",
       "      <td>0.000000</td>\n",
       "      <td>0.000000</td>\n",
       "    </tr>\n",
       "    <tr>\n",
       "      <th>3</th>\n",
       "      <td>P37617</td>\n",
       "      <td>reviewed</td>\n",
       "      <td>Zinc/cadmium/lead-transporting P-type ATPase (...</td>\n",
       "      <td>zntA yhhO b3469 JW3434</td>\n",
       "      <td>Escherichia coli (strain K12)</td>\n",
       "      <td>732</td>\n",
       "      <td>76840.0</td>\n",
       "      <td>b3469 JW3434</td>\n",
       "      <td>ZNTA_ECOLI</td>\n",
       "      <td>False</td>\n",
       "      <td>53.398827</td>\n",
       "      <td>211.527328</td>\n",
       "      <td>54.098845</td>\n",
       "      <td>4.502920</td>\n",
       "      <td>7.208721</td>\n",
       "      <td>5.354526</td>\n",
       "      <td>6.536442</td>\n",
       "      <td>6.411597</td>\n",
       "    </tr>\n",
       "    <tr>\n",
       "      <th>4</th>\n",
       "      <td>P33030</td>\n",
       "      <td>reviewed</td>\n",
       "      <td>Zinc-binding GTPase YeiR (EC 3.6.-.-)</td>\n",
       "      <td>yeiR b2173 JW2161</td>\n",
       "      <td>Escherichia coli (strain K12)</td>\n",
       "      <td>328</td>\n",
       "      <td>36113.0</td>\n",
       "      <td>b2173 JW2161</td>\n",
       "      <td>YEIR_ECOLI</td>\n",
       "      <td>False</td>\n",
       "      <td>11.887208</td>\n",
       "      <td>0.000000</td>\n",
       "      <td>64.836666</td>\n",
       "      <td>21.203286</td>\n",
       "      <td>44.153913</td>\n",
       "      <td>58.410488</td>\n",
       "      <td>57.686290</td>\n",
       "      <td>55.489133</td>\n",
       "    </tr>\n",
       "    <tr>\n",
       "      <th>...</th>\n",
       "      <td>...</td>\n",
       "      <td>...</td>\n",
       "      <td>...</td>\n",
       "      <td>...</td>\n",
       "      <td>...</td>\n",
       "      <td>...</td>\n",
       "      <td>...</td>\n",
       "      <td>...</td>\n",
       "      <td>...</td>\n",
       "      <td>...</td>\n",
       "      <td>...</td>\n",
       "      <td>...</td>\n",
       "      <td>...</td>\n",
       "      <td>...</td>\n",
       "      <td>...</td>\n",
       "      <td>...</td>\n",
       "      <td>...</td>\n",
       "      <td>...</td>\n",
       "    </tr>\n",
       "    <tr>\n",
       "      <th>9476</th>\n",
       "      <td>P76078</td>\n",
       "      <td>reviewed</td>\n",
       "      <td>1,2-phenylacetyl-CoA epoxidase, subunit B (1,2...</td>\n",
       "      <td>paaB ynbF b1389 JW1384</td>\n",
       "      <td>Escherichia coli (strain K12)</td>\n",
       "      <td>95</td>\n",
       "      <td>10942.0</td>\n",
       "      <td>b1389 JW1384</td>\n",
       "      <td>PAAB_ECOLI</td>\n",
       "      <td>False</td>\n",
       "      <td>0.000000</td>\n",
       "      <td>0.000000</td>\n",
       "      <td>0.000000</td>\n",
       "      <td>0.009581</td>\n",
       "      <td>0.005139</td>\n",
       "      <td>0.107216</td>\n",
       "      <td>0.000000</td>\n",
       "      <td>0.000000</td>\n",
       "    </tr>\n",
       "    <tr>\n",
       "      <th>9477</th>\n",
       "      <td>P76077</td>\n",
       "      <td>reviewed</td>\n",
       "      <td>1,2-phenylacetyl-CoA epoxidase, subunit A (EC ...</td>\n",
       "      <td>paaA ydbO b1388 JW1383</td>\n",
       "      <td>Escherichia coli (strain K12)</td>\n",
       "      <td>309</td>\n",
       "      <td>35499.0</td>\n",
       "      <td>b1388 JW1383</td>\n",
       "      <td>PAAA_ECOLI</td>\n",
       "      <td>False</td>\n",
       "      <td>0.000000</td>\n",
       "      <td>0.000000</td>\n",
       "      <td>0.000000</td>\n",
       "      <td>0.000000</td>\n",
       "      <td>0.002334</td>\n",
       "      <td>0.005796</td>\n",
       "      <td>0.000000</td>\n",
       "      <td>0.000000</td>\n",
       "    </tr>\n",
       "    <tr>\n",
       "      <th>9478</th>\n",
       "      <td>P77467</td>\n",
       "      <td>reviewed</td>\n",
       "      <td>1,2-epoxyphenylacetyl-CoA isomerase (EC 5.3.3.18)</td>\n",
       "      <td>paaG ydbT b1394 JW1389</td>\n",
       "      <td>Escherichia coli (strain K12)</td>\n",
       "      <td>262</td>\n",
       "      <td>28405.0</td>\n",
       "      <td>b1394 JW1389</td>\n",
       "      <td>PAAG_ECOLI</td>\n",
       "      <td>False</td>\n",
       "      <td>0.000000</td>\n",
       "      <td>0.000000</td>\n",
       "      <td>0.000000</td>\n",
       "      <td>0.000000</td>\n",
       "      <td>0.000000</td>\n",
       "      <td>0.000000</td>\n",
       "      <td>0.000000</td>\n",
       "      <td>0.000000</td>\n",
       "    </tr>\n",
       "    <tr>\n",
       "      <th>9479</th>\n",
       "      <td>A0A6D2XEG8</td>\n",
       "      <td>unreviewed</td>\n",
       "      <td>10 kDa chaperonin (GroES protein) (Protein Cpn10)</td>\n",
       "      <td>groES groS FAZ83_09765</td>\n",
       "      <td>Escherichia coli (strain K12)</td>\n",
       "      <td>97</td>\n",
       "      <td>10387.0</td>\n",
       "      <td>0</td>\n",
       "      <td>A0A6D2XEG8_ECOLI</td>\n",
       "      <td>False</td>\n",
       "      <td>0.000000</td>\n",
       "      <td>0.000000</td>\n",
       "      <td>0.000000</td>\n",
       "      <td>0.000000</td>\n",
       "      <td>0.000000</td>\n",
       "      <td>0.000000</td>\n",
       "      <td>0.000000</td>\n",
       "      <td>0.000000</td>\n",
       "    </tr>\n",
       "    <tr>\n",
       "      <th>9480</th>\n",
       "      <td>P0A6F9</td>\n",
       "      <td>reviewed</td>\n",
       "      <td>10 kDa chaperonin (GroES protein) (Protein Cpn10)</td>\n",
       "      <td>groS groES mopB b4142 JW4102</td>\n",
       "      <td>Escherichia coli (strain K12)</td>\n",
       "      <td>97</td>\n",
       "      <td>10387.0</td>\n",
       "      <td>b4142 JW4102</td>\n",
       "      <td>CH10_ECOLI</td>\n",
       "      <td>False</td>\n",
       "      <td>12794.411928</td>\n",
       "      <td>8092.122835</td>\n",
       "      <td>21584.624050</td>\n",
       "      <td>5756.524092</td>\n",
       "      <td>7102.633970</td>\n",
       "      <td>6818.308962</td>\n",
       "      <td>5314.119995</td>\n",
       "      <td>4601.629716</td>\n",
       "    </tr>\n",
       "  </tbody>\n",
       "</table>\n",
       "<p>9481 rows × 18 columns</p>\n",
       "</div>"
      ],
      "text/plain": [
       "           Entry      Status  \\\n",
       "0     A0A4S5AYA5  unreviewed   \n",
       "1     A0A6D2Y886  unreviewed   \n",
       "2     A0A4S5ATF1  unreviewed   \n",
       "3         P37617    reviewed   \n",
       "4         P33030    reviewed   \n",
       "...          ...         ...   \n",
       "9476      P76078    reviewed   \n",
       "9477      P76077    reviewed   \n",
       "9478      P77467    reviewed   \n",
       "9479  A0A6D2XEG8  unreviewed   \n",
       "9480      P0A6F9    reviewed   \n",
       "\n",
       "                                          Protein names  \\\n",
       "0     Zn(II)/Cd(II)/Pb(II) translocating P-type ATPa...   \n",
       "1                           Zn-dependent oxidoreductase   \n",
       "2           Zn(2+)-responsive transcriptional regulator   \n",
       "3     Zinc/cadmium/lead-transporting P-type ATPase (...   \n",
       "4                 Zinc-binding GTPase YeiR (EC 3.6.-.-)   \n",
       "...                                                 ...   \n",
       "9476  1,2-phenylacetyl-CoA epoxidase, subunit B (1,2...   \n",
       "9477  1,2-phenylacetyl-CoA epoxidase, subunit A (EC ...   \n",
       "9478  1,2-epoxyphenylacetyl-CoA isomerase (EC 5.3.3.18)   \n",
       "9479  10 kDa chaperonin (GroES protein) (Protein Cpn10)   \n",
       "9480  10 kDa chaperonin (GroES protein) (Protein Cpn10)   \n",
       "\n",
       "                        Gene names                       Organism  Length  \\\n",
       "0                 zntA FAZ83_10695  Escherichia coli (strain K12)     732   \n",
       "1                      FAZ83_03425  Escherichia coli (strain K12)     339   \n",
       "2                 zntR FAZ83_23180  Escherichia coli (strain K12)     141   \n",
       "3           zntA yhhO b3469 JW3434  Escherichia coli (strain K12)     732   \n",
       "4                yeiR b2173 JW2161  Escherichia coli (strain K12)     328   \n",
       "...                            ...                            ...     ...   \n",
       "9476        paaB ynbF b1389 JW1384  Escherichia coli (strain K12)      95   \n",
       "9477        paaA ydbO b1388 JW1383  Escherichia coli (strain K12)     309   \n",
       "9478        paaG ydbT b1394 JW1389  Escherichia coli (strain K12)     262   \n",
       "9479        groES groS FAZ83_09765  Escherichia coli (strain K12)      97   \n",
       "9480  groS groES mopB b4142 JW4102  Escherichia coli (strain K12)      97   \n",
       "\n",
       "         Mass Gene names  (ordered locus )        Entry name  Ribosomal  \\\n",
       "0     76718.0                            0  A0A4S5AYA5_ECOLI      False   \n",
       "1     36534.0                            0  A0A6D2Y886_ECOLI      False   \n",
       "2     16195.0                            0  A0A4S5ATF1_ECOLI      False   \n",
       "3     76840.0                 b3469 JW3434        ZNTA_ECOLI      False   \n",
       "4     36113.0                 b2173 JW2161        YEIR_ECOLI      False   \n",
       "...       ...                          ...               ...        ...   \n",
       "9476  10942.0                 b1389 JW1384        PAAB_ECOLI      False   \n",
       "9477  35499.0                 b1388 JW1383        PAAA_ECOLI      False   \n",
       "9478  28405.0                 b1394 JW1389        PAAG_ECOLI      False   \n",
       "9479  10387.0                            0  A0A6D2XEG8_ECOLI      False   \n",
       "9480  10387.0                 b4142 JW4102        CH10_ECOLI      False   \n",
       "\n",
       "            ecoli2       ecoli3        ecoli4       ecoli5       ecoli6  \\\n",
       "0         0.000000     0.000000      0.000000     0.000000     0.000000   \n",
       "1         0.000000     0.000000      0.000000     0.000000     0.000000   \n",
       "2         0.000000     0.000000      0.000000     0.000000     0.000000   \n",
       "3        53.398827   211.527328     54.098845     4.502920     7.208721   \n",
       "4        11.887208     0.000000     64.836666    21.203286    44.153913   \n",
       "...            ...          ...           ...          ...          ...   \n",
       "9476      0.000000     0.000000      0.000000     0.009581     0.005139   \n",
       "9477      0.000000     0.000000      0.000000     0.000000     0.002334   \n",
       "9478      0.000000     0.000000      0.000000     0.000000     0.000000   \n",
       "9479      0.000000     0.000000      0.000000     0.000000     0.000000   \n",
       "9480  12794.411928  8092.122835  21584.624050  5756.524092  7102.633970   \n",
       "\n",
       "           ecoli7       ecoli8       ecoli9  \n",
       "0        0.000000     0.000000     0.000000  \n",
       "1        0.000000     0.000000     0.000000  \n",
       "2        0.000000     0.000000     0.000000  \n",
       "3        5.354526     6.536442     6.411597  \n",
       "4       58.410488    57.686290    55.489133  \n",
       "...           ...          ...          ...  \n",
       "9476     0.107216     0.000000     0.000000  \n",
       "9477     0.005796     0.000000     0.000000  \n",
       "9478     0.000000     0.000000     0.000000  \n",
       "9479     0.000000     0.000000     0.000000  \n",
       "9480  6818.308962  5314.119995  4601.629716  \n",
       "\n",
       "[9481 rows x 18 columns]"
      ]
     },
     "execution_count": 175,
     "metadata": {},
     "output_type": "execute_result"
    }
   ],
   "source": [
    "ecoli_comb_n"
   ]
  },
  {
   "cell_type": "code",
   "execution_count": 186,
   "id": "de447278-5ca6-4de4-9310-a349e020be9a",
   "metadata": {},
   "outputs": [],
   "source": [
    "cn_per_vol_n = []\n",
    "for i in range(2,10):\n",
    "    cn_per_vol_n.append(sum(ecoli_comb_n[f'ecoli{i}']))"
   ]
  },
  {
   "cell_type": "code",
   "execution_count": 187,
   "id": "51629b43-d0ed-4b70-a51b-afa6fa590228",
   "metadata": {},
   "outputs": [
    {
     "data": {
      "text/plain": [
       "[2909253.8087697863,\n",
       " 2525615.033208994,\n",
       " 7247738.214305825,\n",
       " 3286643.2307600807,\n",
       " 3744371.3836626243,\n",
       " 3498297.4072013884,\n",
       " 3442002.8757577254,\n",
       " 2998150.9252547873]"
      ]
     },
     "execution_count": 187,
     "metadata": {},
     "output_type": "execute_result"
    }
   ],
   "source": [
    "cn_per_vol_n"
   ]
  },
  {
   "cell_type": "code",
   "execution_count": 188,
   "id": "3df87383-5791-4263-b763-c336f0c538c0",
   "metadata": {},
   "outputs": [
    {
     "data": {
      "text/plain": [
       "7247738.214305825"
      ]
     },
     "execution_count": 188,
     "metadata": {},
     "output_type": "execute_result"
    }
   ],
   "source": [
    "cn_per_vol_n.pop(2)"
   ]
  },
  {
   "cell_type": "code",
   "execution_count": 473,
   "id": "567e4175-db9b-4d74-92aa-e34883044e10",
   "metadata": {},
   "outputs": [
    {
     "data": {
      "text/plain": [
       "36363.12063757624"
      ]
     },
     "execution_count": 473,
     "metadata": {},
     "output_type": "execute_result"
    }
   ],
   "source": [
    "max(ecoli_comb[ecoli_comb['Ribosomal'] == True]['ecoli8'])"
   ]
  },
  {
   "cell_type": "code",
   "execution_count": 195,
   "id": "72bb997b-895d-4a75-aaba-00215cf5f7c8",
   "metadata": {},
   "outputs": [],
   "source": [
    "def milo(Cp: float, Mavg: float):\n",
    "    return 6*(10**11) * Cp / Mavg"
   ]
  },
  {
   "cell_type": "code",
   "execution_count": 196,
   "id": "c7cd6ebc-df85-46bd-8528-a32811523ec8",
   "metadata": {},
   "outputs": [],
   "source": [
    "cn_per_vol_m = []\n",
    "for i in [3,4,5,8]:\n",
    "    cn_per_vol_m.append(milo(0.135, sum(ecoli_comb2[f'ecoli{i}']*ecoli_comb2['Mass'])/sum(ecoli_comb2[f'ecoli{i}'])))"
   ]
  },
  {
   "cell_type": "code",
   "execution_count": 183,
   "id": "7a3e81ed-9d37-4304-9744-192bfcb713c6",
   "metadata": {},
   "outputs": [
    {
     "data": {
      "text/plain": [
       "[2781981.263749312,\n",
       " 2861835.4046623837,\n",
       " 2471997.283824876,\n",
       " 2799856.871568591,\n",
       " 2827827.386453727,\n",
       " 2821395.518911554,\n",
       " 3118039.904481532,\n",
       " 3052517.1627637087]"
      ]
     },
     "execution_count": 183,
     "metadata": {},
     "output_type": "execute_result"
    }
   ],
   "source": [
    "cn_per_vol_m"
   ]
  },
  {
   "cell_type": "code",
   "execution_count": 197,
   "id": "9f84851e-ce4f-4b00-99c5-299c075ccc49",
   "metadata": {},
   "outputs": [
    {
     "data": {
      "text/plain": [
       "[2861835.4046623837, 2471997.2838248755, 2799856.871568594, 3118039.904481532]"
      ]
     },
     "execution_count": 197,
     "metadata": {},
     "output_type": "execute_result"
    }
   ],
   "source": [
    "cn_per_vol_m"
   ]
  },
  {
   "cell_type": "code",
   "execution_count": 199,
   "id": "c0ccde02-53e0-4bd4-ae28-1f8a5a591b47",
   "metadata": {},
   "outputs": [
    {
     "name": "stdout",
     "output_type": "stream",
     "text": [
      "28303.514544560512\n",
      "32767.02629489552\n",
      "28930.050254540507\n",
      "25977.858680890964\n"
     ]
    }
   ],
   "source": [
    "for i in [3,4,5,8]:\n",
    "    print(sum(ecoli_comb2[f'ecoli{i}']*ecoli_comb2['Mass'])/sum(ecoli_comb2[f'ecoli{i}']))"
   ]
  },
  {
   "cell_type": "code",
   "execution_count": 478,
   "id": "593faaaa-df57-4ef5-9ff6-022291e19e4f",
   "metadata": {},
   "outputs": [],
   "source": [
    "import matplotlib.pyplot as plt"
   ]
  },
  {
   "cell_type": "code",
   "execution_count": 498,
   "id": "13278a75-904e-4ec0-af6e-79ee1b1a50ba",
   "metadata": {},
   "outputs": [],
   "source": [
    "import numpy"
   ]
  },
  {
   "cell_type": "code",
   "execution_count": 523,
   "id": "0aeaf7f6-c646-4e0a-a264-e9d02553f9da",
   "metadata": {},
   "outputs": [],
   "source": [
    "plt.style.use('seaborn')"
   ]
  },
  {
   "cell_type": "code",
   "execution_count": 196,
   "id": "02901a59-206b-4008-86f3-4597c1eaf776",
   "metadata": {},
   "outputs": [
    {
     "data": {
      "image/png": "[encoded data removed]",
      "text/plain": [
       "<Figure size 576x396 with 1 Axes>"
      ]
     },
     "metadata": {},
     "output_type": "display_data"
    }
   ],
   "source": [
    "plt.grid(False, axis='x')\n",
    "plt.plot([0,6],[2700000,2700000], color='orange',zorder=1, linewidth=3)\n",
    "plt.xlim([0,6])\n",
    "plt.title('E. coli calculations, Ribosomes = 70000/cell')\n",
    "plt.bar(x=[1,3,5], height=[numpy.mean(x) for x in [cn_per_vol, cn_per_vol_n, cn_per_vol_m]], zorder=2)\n",
    "plt.errorbar(x=1, y=numpy.mean(cn_per_vol), yerr = numpy.std(cn_per_vol), color='black', zorder=4)\n",
    "plt.errorbar(x=3, y=numpy.mean(cn_per_vol_n), yerr = numpy.std(cn_per_vol_n), color='black', zorder=4)\n",
    "plt.errorbar(x=5, y=numpy.mean(cn_per_vol_m), yerr = numpy.std(cn_per_vol_m), color='black', zorder=4)\n",
    "plt.xticks([1,3,5], ['DR', 'RA', 'MI'])\n",
    "plt.ylabel('Protein CN per um3 of cell volume')\n",
    "plt.scatter(x=[*[1]*8,*[3]*8,*[5]*7], y=[*cn_per_vol, *cn_per_vol_n, *cn_per_vol_m], linewidth=3,zorder=3)\n",
    "plt.savefig('ecoli_final_calc2.png', dpi=300)"
   ]
  },
  {
   "cell_type": "code",
   "execution_count": 204,
   "id": "1cd4007c-440b-454a-a27e-b06bfdf43cab",
   "metadata": {},
   "outputs": [
    {
     "data": {
      "text/plain": [
       "<AxesSubplot:>"
      ]
     },
     "execution_count": 204,
     "metadata": {},
     "output_type": "execute_result"
    },
    {
     "data": {
      "image/png": "[encoded data removed]",
      "text/plain": [
       "<Figure size 576x396 with 1 Axes>"
      ]
     },
     "metadata": {},
     "output_type": "display_data"
    }
   ],
   "source": [
    "plt.plot([0,6],[2700000,2700000], color='orange',zorder=1, linewidth=3)\n",
    "plt.xlim([0,6])\n",
    "seaborn.barplot(data=[cn_per_vol, cn_per_vol_m, cn_per_vol_n], color=seaborn.color_palette('deep')[0], ci=\"sd\", dodge=False)\n",
    "seaborn.swarmplot(data=[cn_per_vol, cn_per_vol_m, cn_per_vol_n], color=seaborn.color_palette('deep')[2], s=10,zorder=1)"
   ]
  },
  {
   "cell_type": "code",
   "execution_count": 12,
   "id": "08ecf29c-8f4f-4637-809e-59491b1f0e43",
   "metadata": {},
   "outputs": [],
   "source": [
    "protein_quants = []\n",
    "for i in range(2,10):\n",
    "    protein_quants.append(ecoli_comb[ecoli_comb[f'ecoli{i}'] != 0].set_index('Entry')[f'ecoli{i}'])"
   ]
  },
  {
   "cell_type": "code",
   "execution_count": 18,
   "id": "8622d2c2-dd05-4dd9-8d26-9fe5f05493f9",
   "metadata": {},
   "outputs": [
    {
     "data": {
      "image/png": "[encoded data removed]",
      "text/plain": [
       "<Figure size 504x576 with 1 Axes>"
      ]
     },
     "metadata": {},
     "output_type": "display_data"
    }
   ],
   "source": [
    "plt.figure(figsize=(7,8))\n",
    "plt.ylabel('Protein CN per um3 of cell volume')\n",
    "plt.xticks(range(0,8), [f'ecoli{i}' for i in range(2,10)])\n",
    "seaborn.boxplot(data=protein_quants, color=seaborn.color_palette('deep')[0], fliersize=0)\n",
    "seaborn.stripplot(data=protein_quants, color=seaborn.color_palette('deep')[2], s=2, zorder=1)\n",
    "plt.xticks(range(0,8), [f'ecoli{i}' for i in range(2,10)]);\n",
    "#plt.savefig('../graphs/ecoli_ribo_dist3.png', dpi=300)"
   ]
  },
  {
   "cell_type": "code",
   "execution_count": 5,
   "id": "422a4d17-373e-4b63-bafa-b4194aa27a01",
   "metadata": {},
   "outputs": [],
   "source": [
    "ecoli_comb = pandas.read_excel('../data/ecoli/ecoli_comb_final.xlsx')"
   ]
  },
  {
   "cell_type": "code",
   "execution_count": 51,
   "id": "d7b3e2c0-bfd8-4fbc-984a-22ce4e8df39d",
   "metadata": {},
   "outputs": [
    {
     "data": {
      "text/html": [
       "<div>\n",
       "<style scoped>\n",
       "    .dataframe tbody tr th:only-of-type {\n",
       "        vertical-align: middle;\n",
       "    }\n",
       "\n",
       "    .dataframe tbody tr th {\n",
       "        vertical-align: top;\n",
       "    }\n",
       "\n",
       "    .dataframe thead th {\n",
       "        text-align: right;\n",
       "    }\n",
       "</style>\n",
       "<table border=\"1\" class=\"dataframe\">\n",
       "  <thead>\n",
       "    <tr style=\"text-align: right;\">\n",
       "      <th></th>\n",
       "      <th>Entry</th>\n",
       "      <th>Status</th>\n",
       "      <th>Protein names</th>\n",
       "      <th>Gene names</th>\n",
       "      <th>Organism</th>\n",
       "      <th>Length</th>\n",
       "      <th>Mass</th>\n",
       "      <th>Gene names  (ordered locus )</th>\n",
       "      <th>Entry name</th>\n",
       "      <th>Ribosomal</th>\n",
       "      <th>ecoli1</th>\n",
       "      <th>ecoli2</th>\n",
       "      <th>ecoli3</th>\n",
       "      <th>ecoli4</th>\n",
       "    </tr>\n",
       "  </thead>\n",
       "  <tbody>\n",
       "    <tr>\n",
       "      <th>0</th>\n",
       "      <td>A0A4S5AYA5</td>\n",
       "      <td>unreviewed</td>\n",
       "      <td>Zn(II)/Cd(II)/Pb(II) translocating P-type ATPa...</td>\n",
       "      <td>zntA FAZ83_10695</td>\n",
       "      <td>Escherichia coli (strain K12)</td>\n",
       "      <td>732</td>\n",
       "      <td>76718</td>\n",
       "      <td>0</td>\n",
       "      <td>A0A4S5AYA5_ECOLI</td>\n",
       "      <td>False</td>\n",
       "      <td>0.000000</td>\n",
       "      <td>0.000000</td>\n",
       "      <td>0.000000</td>\n",
       "      <td>0.00000</td>\n",
       "    </tr>\n",
       "    <tr>\n",
       "      <th>1</th>\n",
       "      <td>A0A6D2Y886</td>\n",
       "      <td>unreviewed</td>\n",
       "      <td>Zn-dependent oxidoreductase</td>\n",
       "      <td>FAZ83_03425</td>\n",
       "      <td>Escherichia coli (strain K12)</td>\n",
       "      <td>339</td>\n",
       "      <td>36534</td>\n",
       "      <td>0</td>\n",
       "      <td>A0A6D2Y886_ECOLI</td>\n",
       "      <td>False</td>\n",
       "      <td>0.000000</td>\n",
       "      <td>0.000000</td>\n",
       "      <td>0.000000</td>\n",
       "      <td>0.00000</td>\n",
       "    </tr>\n",
       "    <tr>\n",
       "      <th>2</th>\n",
       "      <td>A0A4S5ATF1</td>\n",
       "      <td>unreviewed</td>\n",
       "      <td>Zn(2+)-responsive transcriptional regulator</td>\n",
       "      <td>zntR FAZ83_23180</td>\n",
       "      <td>Escherichia coli (strain K12)</td>\n",
       "      <td>141</td>\n",
       "      <td>16195</td>\n",
       "      <td>0</td>\n",
       "      <td>A0A4S5ATF1_ECOLI</td>\n",
       "      <td>False</td>\n",
       "      <td>0.000000</td>\n",
       "      <td>0.000000</td>\n",
       "      <td>0.000000</td>\n",
       "      <td>0.00000</td>\n",
       "    </tr>\n",
       "    <tr>\n",
       "      <th>3</th>\n",
       "      <td>P37617</td>\n",
       "      <td>reviewed</td>\n",
       "      <td>Zinc/cadmium/lead-transporting P-type ATPase (...</td>\n",
       "      <td>zntA yhhO b3469 JW3434</td>\n",
       "      <td>Escherichia coli (strain K12)</td>\n",
       "      <td>732</td>\n",
       "      <td>76840</td>\n",
       "      <td>b3469 JW3434</td>\n",
       "      <td>ZNTA_ECOLI</td>\n",
       "      <td>False</td>\n",
       "      <td>549.064575</td>\n",
       "      <td>60.660344</td>\n",
       "      <td>5.033681</td>\n",
       "      <td>9.90356</td>\n",
       "    </tr>\n",
       "    <tr>\n",
       "      <th>4</th>\n",
       "      <td>P33030</td>\n",
       "      <td>reviewed</td>\n",
       "      <td>Zinc-binding GTPase YeiR (EC 3.6.-.-)</td>\n",
       "      <td>yeiR b2173 JW2161</td>\n",
       "      <td>Escherichia coli (strain K12)</td>\n",
       "      <td>328</td>\n",
       "      <td>36113</td>\n",
       "      <td>b2173 JW2161</td>\n",
       "      <td>YEIR_ECOLI</td>\n",
       "      <td>False</td>\n",
       "      <td>0.000000</td>\n",
       "      <td>72.700525</td>\n",
       "      <td>23.702528</td>\n",
       "      <td>87.40223</td>\n",
       "    </tr>\n",
       "  </tbody>\n",
       "</table>\n",
       "</div>"
      ],
      "text/plain": [
       "        Entry      Status                                      Protein names  \\\n",
       "0  A0A4S5AYA5  unreviewed  Zn(II)/Cd(II)/Pb(II) translocating P-type ATPa...   \n",
       "1  A0A6D2Y886  unreviewed                        Zn-dependent oxidoreductase   \n",
       "2  A0A4S5ATF1  unreviewed        Zn(2+)-responsive transcriptional regulator   \n",
       "3      P37617    reviewed  Zinc/cadmium/lead-transporting P-type ATPase (...   \n",
       "4      P33030    reviewed              Zinc-binding GTPase YeiR (EC 3.6.-.-)   \n",
       "\n",
       "               Gene names                       Organism  Length   Mass  \\\n",
       "0        zntA FAZ83_10695  Escherichia coli (strain K12)     732  76718   \n",
       "1             FAZ83_03425  Escherichia coli (strain K12)     339  36534   \n",
       "2        zntR FAZ83_23180  Escherichia coli (strain K12)     141  16195   \n",
       "3  zntA yhhO b3469 JW3434  Escherichia coli (strain K12)     732  76840   \n",
       "4       yeiR b2173 JW2161  Escherichia coli (strain K12)     328  36113   \n",
       "\n",
       "  Gene names  (ordered locus )        Entry name  Ribosomal      ecoli1  \\\n",
       "0                            0  A0A4S5AYA5_ECOLI      False    0.000000   \n",
       "1                            0  A0A6D2Y886_ECOLI      False    0.000000   \n",
       "2                            0  A0A4S5ATF1_ECOLI      False    0.000000   \n",
       "3                 b3469 JW3434        ZNTA_ECOLI      False  549.064575   \n",
       "4                 b2173 JW2161        YEIR_ECOLI      False    0.000000   \n",
       "\n",
       "      ecoli2     ecoli3    ecoli4  \n",
       "0   0.000000   0.000000   0.00000  \n",
       "1   0.000000   0.000000   0.00000  \n",
       "2   0.000000   0.000000   0.00000  \n",
       "3  60.660344   5.033681   9.90356  \n",
       "4  72.700525  23.702528  87.40223  "
      ]
     },
     "execution_count": 51,
     "metadata": {},
     "output_type": "execute_result"
    }
   ],
   "source": [
    "ecoli_comb.head()"
   ]
  },
  {
   "cell_type": "code",
   "execution_count": 52,
   "id": "313acaf7-9429-4bbf-b413-6d92bbb2ccbb",
   "metadata": {},
   "outputs": [],
   "source": [
    "ecoli_comb2 = ecoli_comb.set_index('Entry', drop = True)"
   ]
  },
  {
   "cell_type": "code",
   "execution_count": 53,
   "id": "2b7a3e9e-44aa-4ce5-9011-52ac8518fa4a",
   "metadata": {},
   "outputs": [],
   "source": [
    "quant_prots = [ecoli_comb2[ecoli_comb2[f'ecoli{i}'] != 0.0].sort_values(by=f'ecoli{i}', ascending = False).index.tolist() for i in range(1,5)]"
   ]
  },
  {
   "cell_type": "code",
   "execution_count": 54,
   "id": "eb79a4af-d180-4430-b76f-8595a921c67e",
   "metadata": {},
   "outputs": [
    {
     "data": {
      "text/plain": [
       "[1217, 1913, 2349, 2075]"
      ]
     },
     "execution_count": 54,
     "metadata": {},
     "output_type": "execute_result"
    }
   ],
   "source": [
    "[len(i) for i in quant_prots]"
   ]
  },
  {
   "cell_type": "code",
   "execution_count": 56,
   "id": "cf292e72-2061-4ead-abca-1071ef07887a",
   "metadata": {},
   "outputs": [
    {
     "data": {
      "text/plain": [
       "[3933465.5056633493, 4876077.751756361, 2204424.924984279, 3129049.1451515593]"
      ]
     },
     "execution_count": 56,
     "metadata": {},
     "output_type": "execute_result"
    }
   ],
   "source": [
    "cn_per_vol = []\n",
    "for i in range(1,5):\n",
    "    cn_per_vol.append(sum(ecoli_comb[f'ecoli{i}']))\n",
    "    \n",
    "cn_per_vol"
   ]
  },
  {
   "cell_type": "code",
   "execution_count": 10,
   "id": "50ff9c9a-48b9-4934-afef-ad174442ac7f",
   "metadata": {},
   "outputs": [
    {
     "data": {
      "text/plain": [
       "[2861835.4046623837,\n",
       " 2471997.2838248764,\n",
       " 2799856.8715685913,\n",
       " 3118039.9044815325]"
      ]
     },
     "execution_count": 10,
     "metadata": {},
     "output_type": "execute_result"
    }
   ],
   "source": [
    "cn_per_vol_m = []\n",
    "for i in range(1,5):\n",
    "    cn_per_vol_m.append(milo(0.135, sum(ecoli_comb[f'ecoli{i}']*ecoli_comb['Mass'])/sum(ecoli_comb[f'ecoli{i}'])))\n",
    "    \n",
    "cn_per_vol_m"
   ]
  },
  {
   "cell_type": "code",
   "execution_count": 34,
   "id": "7a03088a-e15e-4cff-b54d-9d8432d3199f",
   "metadata": {},
   "outputs": [
    {
     "data": {
      "text/plain": [
       "[28303.514544560512, 32767.02629489551, 28930.050254540536, 25977.85868089096]"
      ]
     },
     "execution_count": 34,
     "metadata": {},
     "output_type": "execute_result"
    }
   ],
   "source": [
    "m_avg = []\n",
    "for i in range(1,5):\n",
    "    m_avg.append(sum(ecoli_comb[f'ecoli{i}']*ecoli_comb['Mass'])/sum(ecoli_comb[f'ecoli{i}']))\n",
    "\n",
    "m_avg"
   ]
  },
  {
   "cell_type": "code",
   "execution_count": 12,
   "id": "b01d86a3-db83-4a39-b1c6-59fb5c336864",
   "metadata": {},
   "outputs": [
    {
     "name": "stdout",
     "output_type": "stream",
     "text": [
      "0.1848736269512947\n",
      "0.2653181134303481\n",
      "0.10590189947219686\n",
      "0.1349817278284787\n"
     ]
    }
   ],
   "source": [
    "for i in range(1,5):\n",
    "    print(sum(ecoli_comb[f'ecoli{i}']*ecoli_comb['Mass'])/602200000000)"
   ]
  },
  {
   "cell_type": "code",
   "execution_count": 13,
   "id": "5d8ed07b-1ca4-45bf-b77d-6fa41325afa1",
   "metadata": {},
   "outputs": [],
   "source": [
    "ecoli_comb_r = ecoli_comb[ecoli_comb['Ribosomal']]"
   ]
  },
  {
   "cell_type": "code",
   "execution_count": 14,
   "id": "bdbef497-f706-4960-8a2d-608b8d0a062c",
   "metadata": {},
   "outputs": [
    {
     "data": {
      "text/html": [
       "<div>\n",
       "<style scoped>\n",
       "    .dataframe tbody tr th:only-of-type {\n",
       "        vertical-align: middle;\n",
       "    }\n",
       "\n",
       "    .dataframe tbody tr th {\n",
       "        vertical-align: top;\n",
       "    }\n",
       "\n",
       "    .dataframe thead th {\n",
       "        text-align: right;\n",
       "    }\n",
       "</style>\n",
       "<table border=\"1\" class=\"dataframe\">\n",
       "  <thead>\n",
       "    <tr style=\"text-align: right;\">\n",
       "      <th></th>\n",
       "      <th>Entry</th>\n",
       "      <th>Status</th>\n",
       "      <th>Protein names</th>\n",
       "      <th>Gene names</th>\n",
       "      <th>Organism</th>\n",
       "      <th>Length</th>\n",
       "      <th>Mass</th>\n",
       "      <th>Gene names  (ordered locus )</th>\n",
       "      <th>Entry name</th>\n",
       "      <th>Ribosomal</th>\n",
       "      <th>ecoli1</th>\n",
       "      <th>ecoli2</th>\n",
       "      <th>ecoli3</th>\n",
       "      <th>ecoli4</th>\n",
       "    </tr>\n",
       "  </thead>\n",
       "  <tbody>\n",
       "    <tr>\n",
       "      <th>9114</th>\n",
       "      <td>P0A7K2</td>\n",
       "      <td>reviewed</td>\n",
       "      <td>50S ribosomal protein L7/L12 (L8) (Large ribos...</td>\n",
       "      <td>rplL b3986 JW3949</td>\n",
       "      <td>Escherichia coli (strain K12)</td>\n",
       "      <td>121</td>\n",
       "      <td>12295</td>\n",
       "      <td>b3986 JW3949</td>\n",
       "      <td>RL7_ECOLI</td>\n",
       "      <td>True</td>\n",
       "      <td>62297.150657</td>\n",
       "      <td>26910.893344</td>\n",
       "      <td>26828.892219</td>\n",
       "      <td>36363.120638</td>\n",
       "    </tr>\n",
       "  </tbody>\n",
       "</table>\n",
       "</div>"
      ],
      "text/plain": [
       "       Entry    Status                                      Protein names  \\\n",
       "9114  P0A7K2  reviewed  50S ribosomal protein L7/L12 (L8) (Large ribos...   \n",
       "\n",
       "             Gene names                       Organism  Length   Mass  \\\n",
       "9114  rplL b3986 JW3949  Escherichia coli (strain K12)     121  12295   \n",
       "\n",
       "     Gene names  (ordered locus ) Entry name  Ribosomal        ecoli1  \\\n",
       "9114                 b3986 JW3949  RL7_ECOLI       True  62297.150657   \n",
       "\n",
       "            ecoli2        ecoli3        ecoli4  \n",
       "9114  26910.893344  26828.892219  36363.120638  "
      ]
     },
     "execution_count": 14,
     "metadata": {},
     "output_type": "execute_result"
    }
   ],
   "source": [
    "ecoli_comb_r[ecoli_comb_r['Entry'] == 'P0A7K2']"
   ]
  },
  {
   "cell_type": "code",
   "execution_count": 15,
   "id": "bc6efa07-86ed-4088-bcca-62f10d505f97",
   "metadata": {},
   "outputs": [
    {
     "name": "stderr",
     "output_type": "stream",
     "text": [
      "C:\\Users\\Dynev\\AppData\\Roaming\\Python\\Python39\\site-packages\\pandas\\core\\frame.py:4906: SettingWithCopyWarning: \n",
      "A value is trying to be set on a copy of a slice from a DataFrame\n",
      "\n",
      "See the caveats in the documentation: https://pandas.pydata.org/pandas-docs/stable/user_guide/indexing.html#returning-a-view-versus-a-copy\n",
      "  return super().drop(\n"
     ]
    }
   ],
   "source": [
    "ecoli_comb_r.drop(9114, inplace=True)"
   ]
  },
  {
   "cell_type": "code",
   "execution_count": 16,
   "id": "f96c1e87-cb05-4f93-bb22-e5ed4ec6136d",
   "metadata": {},
   "outputs": [],
   "source": [
    "ribo_quants = []\n",
    "for i in range(1,5):\n",
    "    ribo_quants.append(ecoli_comb_r[ecoli_comb_r[f'ecoli{i}'] != 0].set_index('Entry')[f'ecoli{i}'])"
   ]
  },
  {
   "cell_type": "code",
   "execution_count": 44,
   "id": "00616fa3-b586-4548-9de7-1ca66f771c16",
   "metadata": {},
   "outputs": [],
   "source": [
    "p0a7k2 = ecoli_comb_r.set_index('Entry').loc['P0A7K2'].loc['ecoli1':]"
   ]
  },
  {
   "cell_type": "code",
   "execution_count": 212,
   "id": "b5167226-2b53-47a2-b47b-6246de390e59",
   "metadata": {},
   "outputs": [
    {
     "data": {
      "image/png": "[encoded data removed]",
      "text/plain": [
       "<Figure size 360x648 with 1 Axes>"
      ]
     },
     "metadata": {},
     "output_type": "display_data"
    }
   ],
   "source": [
    "plt.figure(figsize=(5,9))\n",
    "plt.ylabel('Protein CN per um3 of cell volume')\n",
    "seaborn.boxplot(data=ribo_quants, color=seaborn.color_palette('deep')[0], fliersize=0, showmeans = True, meanprops={'markerfacecolor':seaborn.color_palette('deep')[1],\n",
    "                                                                                                                    'markeredgecolor':seaborn.color_palette('deep')[1],\n",
    "                                                                                                                   'markersize':8})\n",
    "seaborn.swarmplot(data=ribo_quants, color=seaborn.color_palette('deep')[2], s=4, zorder=1)\n",
    "seaborn.scatterplot(x=range(0,4), y=p0a7k2, s=100, color=seaborn.color_palette('deep')[3],zorder=2,linewidth=0,label='P0A7K2')\n",
    "plt.xticks(range(0,4), [f'ecoli{i}' for i in range(1,5)])\n",
    "plt.legend()\n",
    "plt.savefig('../graphs/ecoli_ribo_final_2.png', dpi=300, bbox_inches='tight')"
   ]
  },
  {
   "cell_type": "code",
   "execution_count": 221,
   "id": "e7409c4a-668c-4bd8-927b-185c0ea52c68",
   "metadata": {},
   "outputs": [],
   "source": [
    "cn_per_vol_n1 = []\n",
    "for i in [3,4,5,8]:\n",
    "    cn_per_vol_n1.append(sum(ecoli_comb2[f'ecoli{i}'] * 10000/max(ecoli_comb_r[f'ecoli{i}'])))"
   ]
  },
  {
   "cell_type": "code",
   "execution_count": 222,
   "id": "1589d151-e0df-4eb3-8de6-2c797f3b3c28",
   "metadata": {},
   "outputs": [],
   "source": [
    "cn_per_vol_n2 = []\n",
    "for i in [3,8]:\n",
    "    cn_per_vol_n2.append(sum(ecoli_comb2[f'ecoli{i}'] * 40000/float(ecoli_comb2[ecoli_comb2['Entry'] == 'P0A7K2'][f'ecoli{i}'])))"
   ]
  },
  {
   "cell_type": "code",
   "execution_count": 223,
   "id": "125c7e19-8948-430e-b9b8-7e2decea21e7",
   "metadata": {},
   "outputs": [],
   "source": [
    "cn_per_vol_n3 = []\n",
    "for i in range(4):\n",
    "    cn_per_vol_n3.append(sum(ecoli_comb2.iloc[:,-4+i] * 10000/numpy.mean(ribo_quants[i])))"
   ]
  },
  {
   "cell_type": "code",
   "execution_count": 20,
   "id": "31e259bc-91d9-4ff6-a49b-d2f74925fa3d",
   "metadata": {},
   "outputs": [
    {
     "data": {
      "image/png": "[encoded data removed]",
      "text/plain": [
       "<Figure size 504x360 with 1 Axes>"
      ]
     },
     "metadata": {
      "needs_background": "light"
     },
     "output_type": "display_data"
    }
   ],
   "source": [
    "plt.figure(figsize=(7,5))\n",
    "plt.plot([-1,5],[2700000,2700000], color='orange',zorder=1, linewidth=3)\n",
    "plt.xlim([0,5])\n",
    "plt.ylabel('Protein CN per um3 of cell volume')\n",
    "seaborn.barplot(data=[cn_per_vol, cn_per_vol_m, cn_per_vol_n1, cn_per_vol_n2, cn_per_vol_n3], color=seaborn.color_palette('deep')[0], ci=\"sd\", dodge=False,edgecolor=\"none\")\n",
    "seaborn.swarmplot(data=[cn_per_vol, cn_per_vol_m, cn_per_vol_n1, cn_per_vol_n2, cn_per_vol_n3], color=seaborn.color_palette('deep')[2], s=10,zorder=1)\n",
    "plt.xticks(range(0,5), ['DR', 'MI', 'RA1', 'RA2', 'RA3'])\n",
    "plt.savefig('../graphs/ecoli_final_scenarios.png', dpi=300, bbox_inches='tight')"
   ]
  },
  {
   "cell_type": "code",
   "execution_count": 224,
   "id": "24beb09a-0e12-4fb9-9eef-131ebc56c8cc",
   "metadata": {},
   "outputs": [
    {
     "data": {
      "text/plain": [
       "[1015186.9173124518, 576927.1104909215, 779048.0634909043, 1177163.8880886945]"
      ]
     },
     "execution_count": 224,
     "metadata": {},
     "output_type": "execute_result"
    }
   ],
   "source": [
    "cn_per_vol_n1"
   ]
  },
  {
   "cell_type": "code",
   "execution_count": 225,
   "id": "85a95925-790d-4ca9-8b00-20e279b992be",
   "metadata": {},
   "outputs": [
    {
     "data": {
      "text/plain": [
       "[2525615.0332089937, 3442002.8757577254]"
      ]
     },
     "execution_count": 225,
     "metadata": {},
     "output_type": "execute_result"
    }
   ],
   "source": [
    "cn_per_vol_n2"
   ]
  },
  {
   "cell_type": "code",
   "execution_count": 226,
   "id": "0c5af445-196f-40ef-aace-5982ec4536d9",
   "metadata": {},
   "outputs": [
    {
     "data": {
      "text/plain": [
       "[1884252.9227320545, 3278757.422761635, 2450646.3494172236, 2439219.076318517]"
      ]
     },
     "execution_count": 226,
     "metadata": {},
     "output_type": "execute_result"
    }
   ],
   "source": [
    "cn_per_vol_n3"
   ]
  },
  {
   "cell_type": "code",
   "execution_count": 257,
   "id": "db3240c1-80d4-435d-bda7-056a5f4d3c30",
   "metadata": {},
   "outputs": [
    {
     "data": {
      "image/png": "[encoded data removed]",
      "text/plain": [
       "<Figure size 576x396 with 1 Axes>"
      ]
     },
     "metadata": {},
     "output_type": "display_data"
    }
   ],
   "source": [
    "#Final graph\n",
    "import matplotlib.pyplot as plt\n",
    "import numpy as np\n",
    "  \n",
    "# create data\n",
    "x = np.arange(5)\n",
    "y1 = [3933465.5056633493, 5216269.222809126, 2358222.0127738835, 3129049.145151559]\n",
    "y2 = [2861835.4046623837, 2471997.2838248755, 2799856.871568594, 3118039.904481532]\n",
    "y3 = [1015186.9173124518, 576927.1104909215, 779048.0634909043, 1177163.8880886945]\n",
    "y4 = [2525615.0332089937, 0, 0, 3442002.8757577254]\n",
    "y5 = [1884252.9227320545, 3278757.422761635, 2450646.3494172236, 2439219.076318517]\n",
    "y_mean = [numpy.mean(y1),numpy.mean(y2),numpy.mean(y3),numpy.mean([2525615.0332089937,  3442002.8757577254]),numpy.mean(y5)]\n",
    "y_err = [numpy.std(y1), numpy.std(y2), numpy.std(y3), numpy.std([2525615.0332089937,  3442002.8757577254]), numpy.std(y5)]\n",
    "y1.append(numpy.mean(y1))\n",
    "y2.append(numpy.mean(y2))\n",
    "y3.append(numpy.mean(y3))\n",
    "y4.append(numpy.mean([2525615.0332089937,  3442002.8757577254]))\n",
    "y5.append(numpy.mean(y5))\n",
    "width = 0.15\n",
    "plt.xlim([-0.5,4.5])\n",
    "plt.ylim([0,7000000])\n",
    "# plot data in grouped manner of bar type\n",
    "plt.plot([-1,5], [3500000, 3500000], color='tab:orange', zorder=1)\n",
    "plt.bar(x-0.3, y1, width, zorder=2)\n",
    "plt.bar(x-0.15, y2, width, zorder=2)\n",
    "plt.bar(x, y3, width, zorder=2)\n",
    "plt.bar(x+0.15, y4, width, zorder=2)\n",
    "plt.bar(x+0.3, y5, width, zorder=2)\n",
    "plt.errorbar([3.7,3.85,4,4.15,4.3], y_mean, y_err, fmt=' ', color='k', zorder=3)\n",
    "plt.xticks(x, ['ecoli1', 'ecoli2', 'ecoli3', 'ecoli4', 'avg'])\n",
    "plt.ylabel(\"CN/um3\")\n",
    "plt.legend([\"Milo 2013\", \"Direct\", \"Milo\", \"RA1\", \"RA2\", \"RA3\"])\n",
    "plt.savefig('../graphs/ecoli_final_comp.png', bbox_inches='tight', dpi=300)"
   ]
  },
  {
   "cell_type": "code",
   "execution_count": 33,
   "id": "3488620d-9749-481f-9376-08929fac3eea",
   "metadata": {},
   "outputs": [
    {
     "data": {
      "image/png": "[encoded data removed]",
      "text/plain": [
       "<Figure size 432x288 with 1 Axes>"
      ]
     },
     "metadata": {},
     "output_type": "display_data"
    }
   ],
   "source": [
    "width = 0.3\n",
    "x = numpy.arange(4)\n",
    "plt.xlim([-0.5,3.5])\n",
    "plt.bar(x-0.2, cn_per_vol, width)\n",
    "plt.bar(x+0.2, cn_per_vol2, width)\n",
    "plt.xticks(x, ['ecoli1', 'ecoli2', 'ecoli3', 'ecoli4'])\n",
    "plt.ylabel(\"CN/um3\")\n",
    "plt.legend([\"All\", \"Core (1110 proteins)\"])\n",
    "plt.savefig('../graphs/ecoli_cn_core.png', dpi=300)"
   ]
  },
  {
   "cell_type": "code",
   "execution_count": null,
   "id": "f8bc1ee2-65e1-443f-8af9-013e09fef3e2",
   "metadata": {},
   "outputs": [],
   "source": []
  }
 ],
 "metadata": {
  "kernelspec": {
   "display_name": "Python 3 (ipykernel)",
   "language": "python",
   "name": "python3"
  },
  "language_info": {
   "codemirror_mode": {
    "name": "ipython",
    "version": 3
   },
   "file_extension": ".py",
   "mimetype": "text/x-python",
   "name": "python",
   "nbconvert_exporter": "python",
   "pygments_lexer": "ipython3",
   "version": "3.10.4"
  }
 },
 "nbformat": 4,
 "nbformat_minor": 5
}
