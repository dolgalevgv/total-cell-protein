{
 "cells": [
  {
   "cell_type": "code",
   "execution_count": 1,
   "id": "193af3a0-0db5-42c1-941f-6788e417b701",
   "metadata": {},
   "outputs": [],
   "source": [
    "from collections import Counter\n",
    "from itertools import combinations\n",
    "\n",
    "import numpy as np\n",
    "import pandas as pd\n",
    "from scipy.stats import pearsonr"
   ]
  },
  {
   "cell_type": "code",
   "execution_count": 2,
   "id": "d2c2e19c-0f04-4617-8701-aa02ccae6025",
   "metadata": {},
   "outputs": [],
   "source": [
    "datasets_list = pd.read_excel('../data/processed/datasets_list.xlsx')"
   ]
  },
  {
   "cell_type": "code",
   "execution_count": 3,
   "id": "3ba89ccd-3889-4825-a100-14ed7e3fc46e",
   "metadata": {},
   "outputs": [],
   "source": [
    "datasets_list = datasets_list[datasets_list['object'] == 'scerevisiae']"
   ]
  },
  {
   "cell_type": "code",
   "execution_count": 4,
   "id": "0b0830fd-bc71-4210-9e17-86802776b5f3",
   "metadata": {},
   "outputs": [],
   "source": [
    "datasets_list = datasets_list.iloc[:-1]"
   ]
  },
  {
   "cell_type": "code",
   "execution_count": 5,
   "id": "eccf4247-5355-4937-a07e-b051dd90336b",
   "metadata": {},
   "outputs": [],
   "source": [
    "datasets_interim = [pd.read_excel(f'../data/interim/{i[1][\"object\"]}/{i[1][\"study\"]}_int.xlsx') for i in datasets_list.iterrows()]"
   ]
  },
  {
   "cell_type": "code",
   "execution_count": 6,
   "id": "9528d3f2-c4ce-40af-bbeb-130cc9813d88",
   "metadata": {},
   "outputs": [],
   "source": [
    "n_proteins = []\n",
    "n_assigned_proteins = []\n",
    "assigned_percent = []\n",
    "total_copies_per_cell = []\n",
    "assigned_copies_percent = []\n",
    "\n",
    "for i in datasets_interim:\n",
    "    nps = len(i)\n",
    "    nap = len(i[~i['assigned_id'].isna()])\n",
    "    acp = i[~i['assigned_id'].isna()]['copies_per_cell'].sum() / i['copies_per_cell'].sum()\n",
    "    \n",
    "    n_proteins.append(nps)\n",
    "    n_assigned_proteins.append(nap)\n",
    "    assigned_percent.append(round(nap / nps * 100, 2))\n",
    "    assigned_copies_percent.append(round(acp * 100, 2))\n",
    "    total_copies_per_cell.append(round(i['copies_per_cell'].sum()))"
   ]
  },
  {
   "cell_type": "code",
   "execution_count": 7,
   "id": "51791cae-d046-4d9f-8c48-437cd07baccf",
   "metadata": {},
   "outputs": [],
   "source": [
    "datasets_list['n_proteins'] = n_proteins\n",
    "datasets_list['n_assigned_proteins'] = n_assigned_proteins\n",
    "datasets_list['assigned_percent'] = assigned_percent\n",
    "datasets_list['assigned_copies_percent'] = assigned_copies_percent\n",
    "datasets_list['total_copies_per_cell'] = total_copies_per_cell\n",
    "\n",
    "datasets_list['total_copies_per_um3'] = datasets_list['object'].map({'ecoli': 2.15, 'scerevisiae': 42.0, 'hela': 2800.0})\n",
    "datasets_list['total_copies_per_um3'] = np.round(datasets_list['total_copies_per_cell'] / datasets_list['total_copies_per_um3']).astype(int)\n",
    "\n",
    "datasets_list.to_excel('../results/datasets_processing_stats.xlsx', index=False)"
   ]
  },
  {
   "cell_type": "code",
   "execution_count": 8,
   "id": "459e07ec-3dcd-4c86-a83e-223788958b9e",
   "metadata": {},
   "outputs": [],
   "source": [
    "datasets_scerevisiae = {i[1][\"code\"]: pd.read_excel(f'../data/processed/scerevisiae/{i[1][\"study\"]}_processed.xlsx') for i in datasets_list[datasets_list['object'] == 'scerevisiae'].iterrows()}\n",
    "datasets_scerevisiae_core = datasets_scerevisiae.copy()\n",
    "for i in ['GH03', 'LA16']: del datasets_scerevisiae_core[i]\n",
    "datasets_scerevisiae_core = datasets_scerevisiae_core.values()"
   ]
  },
  {
   "cell_type": "code",
   "execution_count": 9,
   "id": "911e24f0-e315-48c5-b280-ed183c19f533",
   "metadata": {},
   "outputs": [],
   "source": [
    "scerevisiae_id_counter = Counter()\n",
    "for d in datasets_scerevisiae_core:\n",
    "    scerevisiae_id_counter += Counter(d['assigned_id'])\n",
    "\n",
    "if '_other' in scerevisiae_id_counter: del scerevisiae_id_counter['_other']\n",
    "scerevisiae_id_counter = pd.Series(scerevisiae_id_counter)\n",
    "scerevisiae_core_n0 = scerevisiae_id_counter[scerevisiae_id_counter == len(datasets_scerevisiae_core)].index.to_list()\n",
    "scerevisiae_core_n1 = scerevisiae_id_counter[scerevisiae_id_counter >= len(datasets_scerevisiae_core) - 1].index.to_list()"
   ]
  },
  {
   "cell_type": "code",
   "execution_count": 10,
   "id": "68945364-baa0-423b-9a8f-e5884c849687",
   "metadata": {},
   "outputs": [
    {
     "data": {
      "text/plain": [
       "1452"
      ]
     },
     "execution_count": 10,
     "metadata": {},
     "output_type": "execute_result"
    }
   ],
   "source": [
    "len(scerevisiae_core_n0)"
   ]
  },
  {
   "cell_type": "code",
   "execution_count": 11,
   "id": "fb12b04d-9c2e-4bc6-a6ad-223c7cde034c",
   "metadata": {},
   "outputs": [
    {
     "data": {
      "text/plain": [
       "2151"
      ]
     },
     "execution_count": 11,
     "metadata": {},
     "output_type": "execute_result"
    }
   ],
   "source": [
    "len(scerevisiae_core_n1)"
   ]
  },
  {
   "cell_type": "code",
   "execution_count": 12,
   "id": "d9c556d1-d19a-446c-8221-0999df13611f",
   "metadata": {},
   "outputs": [],
   "source": [
    "core_input_percent = []\n",
    "core_copies_prop_n0 = []\n",
    "core_copies_prop_n1 = []\n",
    "    \n",
    "for d in datasets_scerevisiae:\n",
    "    core_input_percent.append(len(datasets_scerevisiae[d][datasets_scerevisiae[d]['assigned_id'].isin(scerevisiae_core_n0)]) / len(scerevisiae_core_n0))\n",
    "    core_copies_prop_n0.append(datasets_scerevisiae[d][datasets_scerevisiae[d]['assigned_id'].isin(scerevisiae_core_n0)]['copies_per_cell'].sum() / datasets_scerevisiae[d]['copies_per_cell'].sum())\n",
    "    core_copies_prop_n1.append(datasets_scerevisiae[d][datasets_scerevisiae[d]['assigned_id'].isin(scerevisiae_core_n1)]['copies_per_cell'].sum() / datasets_scerevisiae[d]['copies_per_cell'].sum())"
   ]
  },
  {
   "cell_type": "code",
   "execution_count": 13,
   "id": "95bbb33e-0240-4eb7-b636-bf1d1b635036",
   "metadata": {},
   "outputs": [],
   "source": [
    "datasets_list['core_copies_percent_n0'] = core_copies_prop_n0\n",
    "datasets_list['core_copies_percent_n1'] = core_copies_prop_n1\n",
    "datasets_list['core_input_percent'] = core_input_percent"
   ]
  },
  {
   "cell_type": "code",
   "execution_count": 18,
   "id": "b51d8e27-25ea-49e5-a8b1-c4a3e2497cb6",
   "metadata": {},
   "outputs": [
    {
     "data": {
      "text/plain": [
       "[0.5597061516379759,\n",
       " 0.6872321190560658,\n",
       " 0.6517859191556431,\n",
       " 0.9242184062111324,\n",
       " 0.6206245784120902,\n",
       " 0.5841441777307798,\n",
       " 0.6863475405350354]"
      ]
     },
     "execution_count": 18,
     "metadata": {},
     "output_type": "execute_result"
    }
   ],
   "source": [
    "core_copies_prop_n0"
   ]
  },
  {
   "cell_type": "code",
   "execution_count": 19,
   "id": "32f6adfe-28f8-4bbb-b87a-52565c84fbef",
   "metadata": {},
   "outputs": [
    {
     "data": {
      "text/plain": [
       "[0.8670798898071626, 1.0, 0.4090909090909091, 1.0, 1.0, 1.0, 1.0]"
      ]
     },
     "execution_count": 19,
     "metadata": {},
     "output_type": "execute_result"
    }
   ],
   "source": [
    "core_input_percent"
   ]
  },
  {
   "cell_type": "code",
   "execution_count": 20,
   "id": "8dab1d99-b7ee-4769-bbe3-332fdae6bf21",
   "metadata": {},
   "outputs": [],
   "source": [
    "scerevisiae_id = scerevisiae_id_counter.to_frame().rename({0: 'n_datasets'}, axis=1)\n",
    "scerevisiae_id.index.name = 'assigned_id'\n",
    "\n",
    "datasets_scerevisiae_core_norm = []\n",
    "\n",
    "for i in datasets_scerevisiae_core:\n",
    "    i = i[i['assigned_id'] != '_other'].copy()\n",
    "    i['parts_per_mil'] = i['copies_per_cell'] / i['copies_per_cell'].sum() * 1000000\n",
    "    \n",
    "    datasets_scerevisiae_core_norm.append(i[['assigned_id', 'parts_per_mil']])\n",
    "    \n",
    "x = pd.concat(datasets_scerevisiae_core_norm)\n",
    "x = x[x['assigned_id'] != '_other'].groupby('assigned_id').mean()\n",
    "\n",
    "scerevisiae_id = scerevisiae_id.join(x)\n",
    "\n",
    "#scerevisiae_id.to_excel('../results/scerevisiae_cores.xlsx')"
   ]
  },
  {
   "cell_type": "code",
   "execution_count": 21,
   "id": "9552f3c2-6f9b-4bdb-a223-9eddaf8cc4df",
   "metadata": {},
   "outputs": [],
   "source": [
    "data_core = datasets_list[~datasets_list['code'].isin(['TA10', 'GH03', 'LA16', 'LT17'])]"
   ]
  },
  {
   "cell_type": "code",
   "execution_count": 47,
   "id": "55be177e-b28e-45d9-8ebd-d61caca9fbde",
   "metadata": {},
   "outputs": [],
   "source": [
    "min_core_n0_percent = pd.Series({'scerevisiae': data_core['core_copies_percent_n0'].max()})"
   ]
  },
  {
   "cell_type": "code",
   "execution_count": 23,
   "id": "d5c74a1e-7857-41ef-b05d-a2d16f24ba30",
   "metadata": {},
   "outputs": [],
   "source": [
    "copies_per_cell_milo = pd.Series(index=['scerevisiae'], data=91394886.112417)"
   ]
  },
  {
   "cell_type": "code",
   "execution_count": 24,
   "id": "9cc8d7b5-00fc-4317-884a-1bfb66b77989",
   "metadata": {},
   "outputs": [
    {
     "data": {
      "text/plain": [
       "scerevisiae    9.139489e+07\n",
       "dtype: float64"
      ]
     },
     "execution_count": 24,
     "metadata": {},
     "output_type": "execute_result"
    }
   ],
   "source": [
    "copies_per_cell_milo"
   ]
  },
  {
   "cell_type": "code",
   "execution_count": 48,
   "id": "7ddec882-53c0-4bd4-bab8-08108254a667",
   "metadata": {},
   "outputs": [],
   "source": [
    "int_proteomes = {}\n",
    "\n",
    "for i, j in enumerate(data_core['object'].unique()):\n",
    "    data_object = datasets_list.loc[datasets_list['object'] == j]\n",
    "    \n",
    "    int_proteomes[j] = pd.DataFrame(index=scerevisiae_id_counter.index)\n",
    "    \n",
    "    datasets_object = [pd.read_excel(f'../data/processed/{j}/{m}_processed.xlsx') for m in data_object['study'].values]\n",
    "    \n",
    "    for k, l in enumerate(datasets_object):\n",
    "        l = l[l['assigned_id'] != '_other']\n",
    "        \n",
    "        factor = (copies_per_cell_milo.loc[j] * (data_object['assigned_copies_percent'].iloc[k] / 100) * min_core_n0_percent.loc[j] * data_object['core_input_percent'].iloc[k]) / l[l['assigned_id'].isin(scerevisiae_core_n0)]['copies_per_cell'].sum()\n",
    "        \n",
    "        l = l.set_index('assigned_id')['copies_per_cell']\n",
    "        \n",
    "        l = l * factor\n",
    "        \n",
    "        int_proteomes[j][data_object['code'].iloc[k]] = int_proteomes[j].index.map(l)\n",
    "        \n",
    "    int_proteomes[j]['avg'] = int_proteomes[j].median(axis=1).apply(np.ceil).astype(int)\n",
    "    int_proteomes[j]['std'] = int_proteomes[j].iloc[:, :-1].std(axis=1)\n",
    "    \n",
    "    int_proteomes[j].index.name = 'uniprot_id'\n",
    "    \n",
    "    #int_proteomes[j].to_excel(f'../results/proteome_{j}_normalized.xlsx')"
   ]
  },
  {
   "cell_type": "code",
   "execution_count": 50,
   "id": "72f5f982-650f-4478-87e1-ab946bfcf684",
   "metadata": {},
   "outputs": [
    {
     "data": {
      "text/plain": [
       "GH03    8.108060e+07\n",
       "KU14    7.252804e+07\n",
       "LA16    2.319743e+07\n",
       "LT17    6.461053e+07\n",
       "MP17    1.012037e+08\n",
       "WA19    1.075237e+08\n",
       "XI22    7.756066e+07\n",
       "avg     8.384352e+07\n",
       "std     8.453547e+07\n",
       "dtype: float64"
      ]
     },
     "execution_count": 50,
     "metadata": {},
     "output_type": "execute_result"
    }
   ],
   "source": [
    "int_proteomes['scerevisiae'].sum()"
   ]
  },
  {
   "cell_type": "code",
   "execution_count": 36,
   "id": "b7f0417c-3030-4900-90a8-927382354715",
   "metadata": {},
   "outputs": [
    {
     "data": {
      "text/plain": [
       "GH03    6.891814e+07\n",
       "KU14    6.164851e+07\n",
       "LA16    1.971771e+07\n",
       "LT17    5.491866e+07\n",
       "MP17    8.602268e+07\n",
       "WA19    9.139468e+07\n",
       "XI22    6.592621e+07\n",
       "avg     7.126698e+07\n",
       "std     7.185476e+07\n",
       "dtype: float64"
      ]
     },
     "execution_count": 36,
     "metadata": {},
     "output_type": "execute_result"
    }
   ],
   "source": [
    "int_proteomes['scerevisiae'].sum()"
   ]
  },
  {
   "cell_type": "code",
   "execution_count": 28,
   "id": "1ad01d09-f4e7-4c79-83be-a17391845166",
   "metadata": {},
   "outputs": [
    {
     "data": {
      "text/plain": [
       "scerevisiae    0.584144\n",
       "dtype: float64"
      ]
     },
     "execution_count": 28,
     "metadata": {},
     "output_type": "execute_result"
    }
   ],
   "source": [
    "min_core_n0_percent"
   ]
  },
  {
   "cell_type": "code",
   "execution_count": 32,
   "id": "b04d80e0-d50d-4136-b6e9-2ecb765e1c61",
   "metadata": {},
   "outputs": [
    {
     "name": "stdout",
     "output_type": "stream",
     "text": [
      "43090664.49010545\n",
      "26117116.947281618\n",
      "\n",
      "\n",
      "42808321.54850869\n",
      "33027564.621488303\n",
      "\n",
      "\n",
      "43225561.23101596\n",
      "36708823.0010378\n",
      "\n",
      "\n",
      "93695864.61482428\n",
      "88816084.19754827\n",
      "\n",
      "\n",
      "250751159.25286677\n",
      "155622332.49765334\n",
      "\n",
      "\n",
      "71781635.98751713\n",
      "41930919.197625116\n",
      "\n",
      "\n",
      "67964632.98451167\n",
      "50668470.10325055\n",
      "\n",
      "\n"
     ]
    }
   ],
   "source": [
    "for k, l in enumerate(datasets_object):\n",
    "    l = l[l['assigned_id'] != '_other']\n",
    "    print(l['copies_per_cell'].sum())\n",
    "    print(l[l['assigned_id'].isin(scerevisiae_core_n0)]['copies_per_cell'].sum())\n",
    "    print('\\n')"
   ]
  },
  {
   "cell_type": "code",
   "execution_count": null,
   "id": "03ae5c8d-e9fc-41e2-b4df-4251eac70fa8",
   "metadata": {},
   "outputs": [],
   "source": []
  }
 ],
 "metadata": {
  "kernelspec": {
   "display_name": "Python 3 (ipykernel)",
   "language": "python",
   "name": "python3"
  },
  "language_info": {
   "codemirror_mode": {
    "name": "ipython",
    "version": 3
   },
   "file_extension": ".py",
   "mimetype": "text/x-python",
   "name": "python",
   "nbconvert_exporter": "python",
   "pygments_lexer": "ipython3",
   "version": "3.10.4"
  }
 },
 "nbformat": 4,
 "nbformat_minor": 5
}
