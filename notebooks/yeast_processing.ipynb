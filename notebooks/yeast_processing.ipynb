{
 "cells": [
  {
   "cell_type": "markdown",
   "id": "648c9ca5-09d7-4ce6-ba1f-053bcd2ae1fe",
   "metadata": {},
   "source": [
    "### **Обработка изначальных данных для _S. cerevisiae_**"
   ]
  },
  {
   "cell_type": "code",
   "execution_count": 1,
   "id": "b42e1793-10a5-44ae-bd79-bc9cc6bb7784",
   "metadata": {},
   "outputs": [],
   "source": [
    "import pandas\n",
    "from source.utils import *"
   ]
  },
  {
   "cell_type": "code",
   "execution_count": 2,
   "id": "e2004972-5366-45fd-8925-fb2529da56d4",
   "metadata": {},
   "outputs": [],
   "source": [
    "yeast_db = pandas.read_excel('../data/yeast/yeast_db.xlsx')"
   ]
  },
  {
   "cell_type": "code",
   "execution_count": 37,
   "id": "24c58cf1-454b-410b-9800-d6582fd63a44",
   "metadata": {},
   "outputs": [],
   "source": [
    "yeast1 = pandas.read_excel('../data/yeast/prepared/peng2012_prepared.xlsx')\n",
    "yeast2 = pandas.read_excel('../data/yeast/prepared/kulak2014_prepared.xlsx')\n",
    "yeast3 = pandas.read_excel('../data/yeast/prepared/lahtvee2017_prepared.xlsx')\n",
    "yeast4 = pandas.read_excel('../data/yeast/prepared/dibartolomeo2018_prepared.xlsx')\n",
    "yeast5 = pandas.read_excel('../data/yeast/prepared/ho2018_prepared.xlsx')\n",
    "yeast6 = pandas.read_excel('../data/yeast/prepared/yu2020_prepared.xlsx')\n",
    "yeast7 = pandas.read_excel('../data/yeast/prepared/yu2021_prepared.xlsx')                                "
   ]
  },
  {
   "cell_type": "code",
   "execution_count": 38,
   "id": "05334c29-1f16-4f88-83ae-665523065127",
   "metadata": {},
   "outputs": [],
   "source": [
    "yeast8 = pandas.read_excel('../data/yeast/prepared/lee2011_prepared.xlsx')\n",
    "yeast9 = pandas.read_excel('../data/yeast/prepared/nagaraj2011_prepared.xlsx') \n",
    "yeast10 = pandas.read_excel('../data/yeast/prepared/thakur2011_prepared.xlsx')"
   ]
  },
  {
   "cell_type": "code",
   "execution_count": 39,
   "id": "27c27535-89ef-49ac-a741-83732d0b204d",
   "metadata": {},
   "outputs": [],
   "source": [
    "yeast11 = pandas.read_excel('../data/yeast/prepared/degodoy2008_prepared.xlsx')"
   ]
  },
  {
   "cell_type": "code",
   "execution_count": 9,
   "id": "45b8b606-7a19-4627-9810-67fb7d9103c5",
   "metadata": {},
   "outputs": [],
   "source": [
    "#for y in [yeast1, yeast2, yeast3, yeast4, yeast5, yeast6, yeast7]\n",
    "yeast1['Entry'] = correct_ids(yeast1['Gene'], yeast_db.drop_duplicates('Gene'))"
   ]
  },
  {
   "cell_type": "code",
   "execution_count": 11,
   "id": "1dd16212-62b7-42f6-aa0f-9afddbe73b70",
   "metadata": {},
   "outputs": [],
   "source": [
    "yeast1.dropna(inplace=True)"
   ]
  },
  {
   "cell_type": "code",
   "execution_count": 10,
   "id": "50be8651-f63a-40ac-8505-b5911c504af1",
   "metadata": {},
   "outputs": [
    {
     "data": {
      "text/plain": [
       "4401"
      ]
     },
     "execution_count": 10,
     "metadata": {},
     "output_type": "execute_result"
    }
   ],
   "source": [
    "len(yeast1)"
   ]
  },
  {
   "cell_type": "code",
   "execution_count": 12,
   "id": "91e26f41-d7b1-4178-9aa2-17abb12f2791",
   "metadata": {},
   "outputs": [
    {
     "data": {
      "text/plain": [
       "4401"
      ]
     },
     "execution_count": 12,
     "metadata": {},
     "output_type": "execute_result"
    }
   ],
   "source": [
    "len(yeast1)"
   ]
  },
  {
   "cell_type": "code",
   "execution_count": 23,
   "id": "d84187c3-d4c0-43ac-b1e1-f7a6782c043d",
   "metadata": {},
   "outputs": [
    {
     "data": {
      "text/html": [
       "<div>\n",
       "<style scoped>\n",
       "    .dataframe tbody tr th:only-of-type {\n",
       "        vertical-align: middle;\n",
       "    }\n",
       "\n",
       "    .dataframe tbody tr th {\n",
       "        vertical-align: top;\n",
       "    }\n",
       "\n",
       "    .dataframe thead th {\n",
       "        text-align: right;\n",
       "    }\n",
       "</style>\n",
       "<table border=\"1\" class=\"dataframe\">\n",
       "  <thead>\n",
       "    <tr style=\"text-align: right;\">\n",
       "      <th></th>\n",
       "      <th>Gene</th>\n",
       "      <th>Trypsin [Copies/cell]</th>\n",
       "      <th>Lys-C [Copies/cell]</th>\n",
       "      <th>Lys-N [Copies/cell]</th>\n",
       "      <th>Entry</th>\n",
       "    </tr>\n",
       "  </thead>\n",
       "  <tbody>\n",
       "    <tr>\n",
       "      <th>0</th>\n",
       "      <td>YDR382W</td>\n",
       "      <td>488024.425883</td>\n",
       "      <td>1.232567e+06</td>\n",
       "      <td>1.157457e+06</td>\n",
       "      <td>P02400</td>\n",
       "    </tr>\n",
       "    <tr>\n",
       "      <th>1</th>\n",
       "      <td>YOL039W</td>\n",
       "      <td>437243.551438</td>\n",
       "      <td>1.112165e+06</td>\n",
       "      <td>7.288805e+05</td>\n",
       "      <td>P05319</td>\n",
       "    </tr>\n",
       "    <tr>\n",
       "      <th>2</th>\n",
       "      <td>YGR209C</td>\n",
       "      <td>485500.198534</td>\n",
       "      <td>8.376466e+05</td>\n",
       "      <td>5.359207e+05</td>\n",
       "      <td>P22803</td>\n",
       "    </tr>\n",
       "    <tr>\n",
       "      <th>3</th>\n",
       "      <td>YOL109W</td>\n",
       "      <td>422386.791383</td>\n",
       "      <td>5.987884e+05</td>\n",
       "      <td>7.006828e+05</td>\n",
       "      <td>Q08245</td>\n",
       "    </tr>\n",
       "    <tr>\n",
       "      <th>4</th>\n",
       "      <td>YDL081C</td>\n",
       "      <td>103926.723844</td>\n",
       "      <td>4.542103e+05</td>\n",
       "      <td>1.045555e+06</td>\n",
       "      <td>P05318</td>\n",
       "    </tr>\n",
       "    <tr>\n",
       "      <th>5</th>\n",
       "      <td>YDR210W</td>\n",
       "      <td>0.000000</td>\n",
       "      <td>0.000000e+00</td>\n",
       "      <td>0.000000e+00</td>\n",
       "      <td>Q03482</td>\n",
       "    </tr>\n",
       "    <tr>\n",
       "      <th>6</th>\n",
       "      <td>YCR012W</td>\n",
       "      <td>408995.626389</td>\n",
       "      <td>5.023817e+05</td>\n",
       "      <td>4.252417e+05</td>\n",
       "      <td>P00560</td>\n",
       "    </tr>\n",
       "    <tr>\n",
       "      <th>7</th>\n",
       "      <td>YKR057W</td>\n",
       "      <td>227767.077103</td>\n",
       "      <td>1.191814e+04</td>\n",
       "      <td>9.622001e+05</td>\n",
       "      <td>P0C0V8</td>\n",
       "    </tr>\n",
       "    <tr>\n",
       "      <th>8</th>\n",
       "      <td>YJL136C</td>\n",
       "      <td>229193.575706</td>\n",
       "      <td>1.190100e+04</td>\n",
       "      <td>9.608169e+05</td>\n",
       "      <td>Q3E754</td>\n",
       "    </tr>\n",
       "    <tr>\n",
       "      <th>9</th>\n",
       "      <td>YLR043C</td>\n",
       "      <td>295487.398344</td>\n",
       "      <td>5.196891e+05</td>\n",
       "      <td>4.800697e+05</td>\n",
       "      <td>P22217</td>\n",
       "    </tr>\n",
       "  </tbody>\n",
       "</table>\n",
       "</div>"
      ],
      "text/plain": [
       "      Gene  Trypsin [Copies/cell]  Lys-C [Copies/cell]  Lys-N [Copies/cell]  \\\n",
       "0  YDR382W          488024.425883         1.232567e+06         1.157457e+06   \n",
       "1  YOL039W          437243.551438         1.112165e+06         7.288805e+05   \n",
       "2  YGR209C          485500.198534         8.376466e+05         5.359207e+05   \n",
       "3  YOL109W          422386.791383         5.987884e+05         7.006828e+05   \n",
       "4  YDL081C          103926.723844         4.542103e+05         1.045555e+06   \n",
       "5  YDR210W               0.000000         0.000000e+00         0.000000e+00   \n",
       "6  YCR012W          408995.626389         5.023817e+05         4.252417e+05   \n",
       "7  YKR057W          227767.077103         1.191814e+04         9.622001e+05   \n",
       "8  YJL136C          229193.575706         1.190100e+04         9.608169e+05   \n",
       "9  YLR043C          295487.398344         5.196891e+05         4.800697e+05   \n",
       "\n",
       "    Entry  \n",
       "0  P02400  \n",
       "1  P05319  \n",
       "2  P22803  \n",
       "3  Q08245  \n",
       "4  P05318  \n",
       "5  Q03482  \n",
       "6  P00560  \n",
       "7  P0C0V8  \n",
       "8  Q3E754  \n",
       "9  P22217  "
      ]
     },
     "execution_count": 23,
     "metadata": {},
     "output_type": "execute_result"
    }
   ],
   "source": [
    "yeast1.head(10)"
   ]
  },
  {
   "cell_type": "code",
   "execution_count": 20,
   "id": "fa5121e1-e839-434a-b865-5120d90bf90a",
   "metadata": {},
   "outputs": [],
   "source": [
    "yeast1p = yeast1[['Entry', 'Trypsin [Copies/cell]']]"
   ]
  },
  {
   "cell_type": "code",
   "execution_count": 24,
   "id": "5db4724a-dd67-46aa-a2a8-a2ada3bcdcce",
   "metadata": {},
   "outputs": [],
   "source": [
    "yeast1p = yeast1p[yeast1p['Trypsin [Copies/cell]'] != 0.0]"
   ]
  },
  {
   "cell_type": "code",
   "execution_count": 25,
   "id": "1ede46a9-9479-4f49-bf8b-2e84d585a111",
   "metadata": {},
   "outputs": [
    {
     "data": {
      "text/html": [
       "<div>\n",
       "<style scoped>\n",
       "    .dataframe tbody tr th:only-of-type {\n",
       "        vertical-align: middle;\n",
       "    }\n",
       "\n",
       "    .dataframe tbody tr th {\n",
       "        vertical-align: top;\n",
       "    }\n",
       "\n",
       "    .dataframe thead th {\n",
       "        text-align: right;\n",
       "    }\n",
       "</style>\n",
       "<table border=\"1\" class=\"dataframe\">\n",
       "  <thead>\n",
       "    <tr style=\"text-align: right;\">\n",
       "      <th></th>\n",
       "      <th>Entry</th>\n",
       "      <th>Trypsin [Copies/cell]</th>\n",
       "    </tr>\n",
       "  </thead>\n",
       "  <tbody>\n",
       "    <tr>\n",
       "      <th>0</th>\n",
       "      <td>P02400</td>\n",
       "      <td>488024.425883</td>\n",
       "    </tr>\n",
       "    <tr>\n",
       "      <th>1</th>\n",
       "      <td>P05319</td>\n",
       "      <td>437243.551438</td>\n",
       "    </tr>\n",
       "    <tr>\n",
       "      <th>2</th>\n",
       "      <td>P22803</td>\n",
       "      <td>485500.198534</td>\n",
       "    </tr>\n",
       "    <tr>\n",
       "      <th>3</th>\n",
       "      <td>Q08245</td>\n",
       "      <td>422386.791383</td>\n",
       "    </tr>\n",
       "    <tr>\n",
       "      <th>4</th>\n",
       "      <td>P05318</td>\n",
       "      <td>103926.723844</td>\n",
       "    </tr>\n",
       "    <tr>\n",
       "      <th>6</th>\n",
       "      <td>P00560</td>\n",
       "      <td>408995.626389</td>\n",
       "    </tr>\n",
       "    <tr>\n",
       "      <th>7</th>\n",
       "      <td>P0C0V8</td>\n",
       "      <td>227767.077103</td>\n",
       "    </tr>\n",
       "    <tr>\n",
       "      <th>8</th>\n",
       "      <td>Q3E754</td>\n",
       "      <td>229193.575706</td>\n",
       "    </tr>\n",
       "    <tr>\n",
       "      <th>9</th>\n",
       "      <td>P22217</td>\n",
       "      <td>295487.398344</td>\n",
       "    </tr>\n",
       "    <tr>\n",
       "      <th>10</th>\n",
       "      <td>P38013</td>\n",
       "      <td>146975.891301</td>\n",
       "    </tr>\n",
       "  </tbody>\n",
       "</table>\n",
       "</div>"
      ],
      "text/plain": [
       "     Entry  Trypsin [Copies/cell]\n",
       "0   P02400          488024.425883\n",
       "1   P05319          437243.551438\n",
       "2   P22803          485500.198534\n",
       "3   Q08245          422386.791383\n",
       "4   P05318          103926.723844\n",
       "6   P00560          408995.626389\n",
       "7   P0C0V8          227767.077103\n",
       "8   Q3E754          229193.575706\n",
       "9   P22217          295487.398344\n",
       "10  P38013          146975.891301"
      ]
     },
     "execution_count": 25,
     "metadata": {},
     "output_type": "execute_result"
    }
   ],
   "source": [
    "yeast1p.head(10)"
   ]
  },
  {
   "cell_type": "code",
   "execution_count": 26,
   "id": "688d9552-97d1-4c4f-955e-00285f735c4a",
   "metadata": {},
   "outputs": [],
   "source": [
    "yeast1p.to_excel('../data/yeast/processed/peng2012_processed.xlsx', index=False)"
   ]
  },
  {
   "cell_type": "code",
   "execution_count": 27,
   "id": "ce4ceb47-60ce-4205-b85e-4403861c44d1",
   "metadata": {},
   "outputs": [],
   "source": [
    "yeast2_tofix = yeast2.iloc[check_ids(yeast2['Entry'], yeast_db)]"
   ]
  },
  {
   "cell_type": "code",
   "execution_count": 28,
   "id": "7179eeb0-ea48-4287-85cb-114e962dc865",
   "metadata": {},
   "outputs": [],
   "source": [
    "correct = correct_ids(yeast2_tofix['Gene'], yeast_db.drop_duplicates('Gene'))"
   ]
  },
  {
   "cell_type": "code",
   "execution_count": 29,
   "id": "265afaa0-4ff5-4419-9b20-f4711048766d",
   "metadata": {},
   "outputs": [],
   "source": [
    "yeast2['Entry'].update(correct)"
   ]
  },
  {
   "cell_type": "code",
   "execution_count": 30,
   "id": "0c37e8fa-7b7a-4f5d-bf6c-7cb47d14c419",
   "metadata": {},
   "outputs": [],
   "source": [
    "yeast2 = yeast2.drop(correct[correct.isna()].index)"
   ]
  },
  {
   "cell_type": "code",
   "execution_count": 31,
   "id": "f6454d0f-b614-4919-a2b3-f740a20cc777",
   "metadata": {},
   "outputs": [
    {
     "data": {
      "text/html": [
       "<div>\n",
       "<style scoped>\n",
       "    .dataframe tbody tr th:only-of-type {\n",
       "        vertical-align: middle;\n",
       "    }\n",
       "\n",
       "    .dataframe tbody tr th {\n",
       "        vertical-align: top;\n",
       "    }\n",
       "\n",
       "    .dataframe thead th {\n",
       "        text-align: right;\n",
       "    }\n",
       "</style>\n",
       "<table border=\"1\" class=\"dataframe\">\n",
       "  <thead>\n",
       "    <tr style=\"text-align: right;\">\n",
       "      <th></th>\n",
       "      <th>Entry</th>\n",
       "      <th>Gene</th>\n",
       "      <th>C [Copies/cell]</th>\n",
       "    </tr>\n",
       "  </thead>\n",
       "  <tbody>\n",
       "    <tr>\n",
       "      <th>0</th>\n",
       "      <td>A5Z2X5</td>\n",
       "      <td>YPR010C-A</td>\n",
       "      <td>14432.948310</td>\n",
       "    </tr>\n",
       "    <tr>\n",
       "      <th>1</th>\n",
       "      <td>D6VTK4</td>\n",
       "      <td>YFL026W</td>\n",
       "      <td>510.002216</td>\n",
       "    </tr>\n",
       "    <tr>\n",
       "      <th>2</th>\n",
       "      <td>Q8TGU7</td>\n",
       "      <td>YBR126W-A</td>\n",
       "      <td>7106.758633</td>\n",
       "    </tr>\n",
       "    <tr>\n",
       "      <th>3</th>\n",
       "      <td>O13297</td>\n",
       "      <td>YPL228W</td>\n",
       "      <td>1561.967994</td>\n",
       "    </tr>\n",
       "    <tr>\n",
       "      <th>4</th>\n",
       "      <td>O13329</td>\n",
       "      <td>YDR110W</td>\n",
       "      <td>252.198678</td>\n",
       "    </tr>\n",
       "    <tr>\n",
       "      <th>...</th>\n",
       "      <td>...</td>\n",
       "      <td>...</td>\n",
       "      <td>...</td>\n",
       "    </tr>\n",
       "    <tr>\n",
       "      <th>4572</th>\n",
       "      <td>Q99385</td>\n",
       "      <td>YDL128W</td>\n",
       "      <td>850.965019</td>\n",
       "    </tr>\n",
       "    <tr>\n",
       "      <th>4573</th>\n",
       "      <td>Q99394</td>\n",
       "      <td>YOR115C</td>\n",
       "      <td>474.349822</td>\n",
       "    </tr>\n",
       "    <tr>\n",
       "      <th>4574</th>\n",
       "      <td>Q9P305</td>\n",
       "      <td>YHR132W-A</td>\n",
       "      <td>1456.396121</td>\n",
       "    </tr>\n",
       "    <tr>\n",
       "      <th>4575</th>\n",
       "      <td>Q9URQ3</td>\n",
       "      <td>YLR316C</td>\n",
       "      <td>395.405159</td>\n",
       "    </tr>\n",
       "    <tr>\n",
       "      <th>4576</th>\n",
       "      <td>Q9URQ5</td>\n",
       "      <td>YCR020W-B</td>\n",
       "      <td>352.277054</td>\n",
       "    </tr>\n",
       "  </tbody>\n",
       "</table>\n",
       "<p>4521 rows × 3 columns</p>\n",
       "</div>"
      ],
      "text/plain": [
       "       Entry       Gene  C [Copies/cell]\n",
       "0     A5Z2X5  YPR010C-A     14432.948310\n",
       "1     D6VTK4    YFL026W       510.002216\n",
       "2     Q8TGU7  YBR126W-A      7106.758633\n",
       "3     O13297    YPL228W      1561.967994\n",
       "4     O13329    YDR110W       252.198678\n",
       "...      ...        ...              ...\n",
       "4572  Q99385    YDL128W       850.965019\n",
       "4573  Q99394    YOR115C       474.349822\n",
       "4574  Q9P305  YHR132W-A      1456.396121\n",
       "4575  Q9URQ3    YLR316C       395.405159\n",
       "4576  Q9URQ5  YCR020W-B       352.277054\n",
       "\n",
       "[4521 rows x 3 columns]"
      ]
     },
     "execution_count": 31,
     "metadata": {},
     "output_type": "execute_result"
    }
   ],
   "source": [
    "yeast2"
   ]
  },
  {
   "cell_type": "code",
   "execution_count": 32,
   "id": "60d4df47-3372-4a2f-a86a-2f5704a17441",
   "metadata": {},
   "outputs": [],
   "source": [
    "yeast2p = yeast2[['Entry', 'C [Copies/cell]']]\n",
    "yeast2p = yeast2p[yeast2p['C [Copies/cell]'] != 0.0]"
   ]
  },
  {
   "cell_type": "code",
   "execution_count": 33,
   "id": "a9d704ef-b721-436e-a945-db7a4ebd1720",
   "metadata": {},
   "outputs": [],
   "source": [
    "yeast2p.to_excel('../data/yeast/processed/kulak2014_processed.xlsx', index=False)"
   ]
  },
  {
   "cell_type": "code",
   "execution_count": 34,
   "id": "ad044ae6-801e-4cef-8566-2ad4598edeaa",
   "metadata": {},
   "outputs": [
    {
     "data": {
      "text/html": [
       "<div>\n",
       "<style scoped>\n",
       "    .dataframe tbody tr th:only-of-type {\n",
       "        vertical-align: middle;\n",
       "    }\n",
       "\n",
       "    .dataframe tbody tr th {\n",
       "        vertical-align: top;\n",
       "    }\n",
       "\n",
       "    .dataframe thead th {\n",
       "        text-align: right;\n",
       "    }\n",
       "</style>\n",
       "<table border=\"1\" class=\"dataframe\">\n",
       "  <thead>\n",
       "    <tr style=\"text-align: right;\">\n",
       "      <th></th>\n",
       "      <th>Gene</th>\n",
       "      <th>Mass fractions [pg/DW]</th>\n",
       "    </tr>\n",
       "  </thead>\n",
       "  <tbody>\n",
       "    <tr>\n",
       "      <th>0</th>\n",
       "      <td>YAL003W</td>\n",
       "      <td>45339.225730</td>\n",
       "    </tr>\n",
       "    <tr>\n",
       "      <th>1</th>\n",
       "      <td>YAL007C</td>\n",
       "      <td>908.019783</td>\n",
       "    </tr>\n",
       "    <tr>\n",
       "      <th>2</th>\n",
       "      <td>YAL012W</td>\n",
       "      <td>13484.191570</td>\n",
       "    </tr>\n",
       "    <tr>\n",
       "      <th>3</th>\n",
       "      <td>YAL014C</td>\n",
       "      <td>115.407247</td>\n",
       "    </tr>\n",
       "    <tr>\n",
       "      <th>4</th>\n",
       "      <td>YAL016W</td>\n",
       "      <td>863.869789</td>\n",
       "    </tr>\n",
       "    <tr>\n",
       "      <th>...</th>\n",
       "      <td>...</td>\n",
       "      <td>...</td>\n",
       "    </tr>\n",
       "    <tr>\n",
       "      <th>2132</th>\n",
       "      <td>YPR185W</td>\n",
       "      <td>0.000000</td>\n",
       "    </tr>\n",
       "    <tr>\n",
       "      <th>2133</th>\n",
       "      <td>YPR187W</td>\n",
       "      <td>237.301738</td>\n",
       "    </tr>\n",
       "    <tr>\n",
       "      <th>2134</th>\n",
       "      <td>YPR189W</td>\n",
       "      <td>97.236077</td>\n",
       "    </tr>\n",
       "    <tr>\n",
       "      <th>2135</th>\n",
       "      <td>YPR190C</td>\n",
       "      <td>0.000000</td>\n",
       "    </tr>\n",
       "    <tr>\n",
       "      <th>2136</th>\n",
       "      <td>YPR191W</td>\n",
       "      <td>46417.765760</td>\n",
       "    </tr>\n",
       "  </tbody>\n",
       "</table>\n",
       "<p>2137 rows × 2 columns</p>\n",
       "</div>"
      ],
      "text/plain": [
       "         Gene  Mass fractions [pg/DW]\n",
       "0     YAL003W            45339.225730\n",
       "1     YAL007C              908.019783\n",
       "2     YAL012W            13484.191570\n",
       "3     YAL014C              115.407247\n",
       "4     YAL016W              863.869789\n",
       "...       ...                     ...\n",
       "2132  YPR185W                0.000000\n",
       "2133  YPR187W              237.301738\n",
       "2134  YPR189W               97.236077\n",
       "2135  YPR190C                0.000000\n",
       "2136  YPR191W            46417.765760\n",
       "\n",
       "[2137 rows x 2 columns]"
      ]
     },
     "execution_count": 34,
     "metadata": {},
     "output_type": "execute_result"
    }
   ],
   "source": [
    "yeast3"
   ]
  },
  {
   "cell_type": "code",
   "execution_count": 35,
   "id": "44b8ceae-f559-480a-8727-1fbd00904f04",
   "metadata": {},
   "outputs": [],
   "source": [
    "yeast3['Entry'] = correct_ids(yeast3['Gene'], yeast_db.drop_duplicates('Gene'))"
   ]
  },
  {
   "cell_type": "code",
   "execution_count": 38,
   "id": "d4fb8cf1-67f4-408e-8ae6-c982000341f6",
   "metadata": {},
   "outputs": [],
   "source": [
    "yeast3 = yeast3.dropna()"
   ]
  },
  {
   "cell_type": "code",
   "execution_count": 39,
   "id": "46fb8063-81a3-4d3d-95e3-f4dd1fc58b55",
   "metadata": {},
   "outputs": [
    {
     "name": "stderr",
     "output_type": "stream",
     "text": [
      "C:\\Users\\Dynev\\AppData\\Local\\Temp\\ipykernel_11716\\1561302768.py:1: SettingWithCopyWarning: \n",
      "A value is trying to be set on a copy of a slice from a DataFrame.\n",
      "Try using .loc[row_indexer,col_indexer] = value instead\n",
      "\n",
      "See the caveats in the documentation: https://pandas.pydata.org/pandas-docs/stable/user_guide/indexing.html#returning-a-view-versus-a-copy\n",
      "  yeast3['Mass'] = yeast3['Entry'].map(yeast_db.set_index('Entry')['Mass'])\n"
     ]
    }
   ],
   "source": [
    "yeast3['Mass'] = yeast3['Entry'].map(yeast_db.set_index('Entry')['Mass'])"
   ]
  },
  {
   "cell_type": "code",
   "execution_count": 41,
   "id": "06b6915f-cae1-4454-ad36-d33f1c3272b5",
   "metadata": {},
   "outputs": [
    {
     "name": "stderr",
     "output_type": "stream",
     "text": [
      "C:\\Users\\Dynev\\AppData\\Local\\Temp\\ipykernel_11716\\3916285662.py:1: SettingWithCopyWarning: \n",
      "A value is trying to be set on a copy of a slice from a DataFrame.\n",
      "Try using .loc[row_indexer,col_indexer] = value instead\n",
      "\n",
      "See the caveats in the documentation: https://pandas.pydata.org/pandas-docs/stable/user_guide/indexing.html#returning-a-view-versus-a-copy\n",
      "  yeast3['Copies/cell'] = yeast3['Mass fractions [pg/DW]'] * 13\n"
     ]
    }
   ],
   "source": [
    "yeast3['Copies/cell'] = yeast3['Mass fractions [pg/DW]'] * 13"
   ]
  },
  {
   "cell_type": "code",
   "execution_count": 43,
   "id": "c08c4fac-72c7-4afa-bd40-37994b56243f",
   "metadata": {},
   "outputs": [],
   "source": [
    "yeast3p = yeast3[['Entry', 'Copies/cell']]\n",
    "yeast3p = yeast3p[yeast3p['Copies/cell'] != 0.0]"
   ]
  },
  {
   "cell_type": "code",
   "execution_count": 44,
   "id": "e6deba2c-986c-4e38-b9e4-392bef1fd34e",
   "metadata": {},
   "outputs": [
    {
     "data": {
      "text/html": [
       "<div>\n",
       "<style scoped>\n",
       "    .dataframe tbody tr th:only-of-type {\n",
       "        vertical-align: middle;\n",
       "    }\n",
       "\n",
       "    .dataframe tbody tr th {\n",
       "        vertical-align: top;\n",
       "    }\n",
       "\n",
       "    .dataframe thead th {\n",
       "        text-align: right;\n",
       "    }\n",
       "</style>\n",
       "<table border=\"1\" class=\"dataframe\">\n",
       "  <thead>\n",
       "    <tr style=\"text-align: right;\">\n",
       "      <th></th>\n",
       "      <th>Entry</th>\n",
       "      <th>Copies/cell</th>\n",
       "    </tr>\n",
       "  </thead>\n",
       "  <tbody>\n",
       "    <tr>\n",
       "      <th>0</th>\n",
       "      <td>P32471</td>\n",
       "      <td>589409.934490</td>\n",
       "    </tr>\n",
       "    <tr>\n",
       "      <th>1</th>\n",
       "      <td>P39704</td>\n",
       "      <td>11804.257183</td>\n",
       "    </tr>\n",
       "    <tr>\n",
       "      <th>2</th>\n",
       "      <td>P31373</td>\n",
       "      <td>175294.490410</td>\n",
       "    </tr>\n",
       "    <tr>\n",
       "      <th>3</th>\n",
       "      <td>P31377</td>\n",
       "      <td>1500.294212</td>\n",
       "    </tr>\n",
       "    <tr>\n",
       "      <th>4</th>\n",
       "      <td>P31383</td>\n",
       "      <td>11230.307260</td>\n",
       "    </tr>\n",
       "    <tr>\n",
       "      <th>...</th>\n",
       "      <td>...</td>\n",
       "      <td>...</td>\n",
       "    </tr>\n",
       "    <tr>\n",
       "      <th>2130</th>\n",
       "      <td>P15303</td>\n",
       "      <td>24925.266925</td>\n",
       "    </tr>\n",
       "    <tr>\n",
       "      <th>2131</th>\n",
       "      <td>P14020</td>\n",
       "      <td>111269.891746</td>\n",
       "    </tr>\n",
       "    <tr>\n",
       "      <th>2133</th>\n",
       "      <td>P20435</td>\n",
       "      <td>3084.922593</td>\n",
       "    </tr>\n",
       "    <tr>\n",
       "      <th>2134</th>\n",
       "      <td>P17883</td>\n",
       "      <td>1264.069003</td>\n",
       "    </tr>\n",
       "    <tr>\n",
       "      <th>2136</th>\n",
       "      <td>P07257</td>\n",
       "      <td>603430.954880</td>\n",
       "    </tr>\n",
       "  </tbody>\n",
       "</table>\n",
       "<p>1784 rows × 2 columns</p>\n",
       "</div>"
      ],
      "text/plain": [
       "       Entry    Copies/cell\n",
       "0     P32471  589409.934490\n",
       "1     P39704   11804.257183\n",
       "2     P31373  175294.490410\n",
       "3     P31377    1500.294212\n",
       "4     P31383   11230.307260\n",
       "...      ...            ...\n",
       "2130  P15303   24925.266925\n",
       "2131  P14020  111269.891746\n",
       "2133  P20435    3084.922593\n",
       "2134  P17883    1264.069003\n",
       "2136  P07257  603430.954880\n",
       "\n",
       "[1784 rows x 2 columns]"
      ]
     },
     "execution_count": 44,
     "metadata": {},
     "output_type": "execute_result"
    }
   ],
   "source": [
    "yeast3p"
   ]
  },
  {
   "cell_type": "code",
   "execution_count": 45,
   "id": "fb6e97cc-e9d6-4132-81b5-2cebf0038006",
   "metadata": {},
   "outputs": [],
   "source": [
    "yeast3p.to_excel('../data/yeast/processed/lahtvee2017_processed.xlsx', index=False)"
   ]
  },
  {
   "cell_type": "code",
   "execution_count": 46,
   "id": "3ec43b81-7ef8-4aa1-a719-3883cc98a182",
   "metadata": {},
   "outputs": [
    {
     "data": {
      "text/html": [
       "<div>\n",
       "<style scoped>\n",
       "    .dataframe tbody tr th:only-of-type {\n",
       "        vertical-align: middle;\n",
       "    }\n",
       "\n",
       "    .dataframe tbody tr th {\n",
       "        vertical-align: top;\n",
       "    }\n",
       "\n",
       "    .dataframe thead th {\n",
       "        text-align: right;\n",
       "    }\n",
       "</style>\n",
       "<table border=\"1\" class=\"dataframe\">\n",
       "  <thead>\n",
       "    <tr style=\"text-align: right;\">\n",
       "      <th></th>\n",
       "      <th>Entry</th>\n",
       "      <th>Gene</th>\n",
       "      <th>Mass fraction [g/gDW]</th>\n",
       "    </tr>\n",
       "  </thead>\n",
       "  <tbody>\n",
       "    <tr>\n",
       "      <th>0</th>\n",
       "      <td>A5Z2X5</td>\n",
       "      <td>YPR010C-A</td>\n",
       "      <td>9.465050e-06</td>\n",
       "    </tr>\n",
       "    <tr>\n",
       "      <th>1</th>\n",
       "      <td>D6VTK4</td>\n",
       "      <td>YFL026W</td>\n",
       "      <td>2.348114e-04</td>\n",
       "    </tr>\n",
       "    <tr>\n",
       "      <th>2</th>\n",
       "      <td>D6W196</td>\n",
       "      <td>YNL083W</td>\n",
       "      <td>1.213851e-06</td>\n",
       "    </tr>\n",
       "    <tr>\n",
       "      <th>3</th>\n",
       "      <td>O13297</td>\n",
       "      <td>YPL228W</td>\n",
       "      <td>9.476233e-06</td>\n",
       "    </tr>\n",
       "    <tr>\n",
       "      <th>4</th>\n",
       "      <td>O13329</td>\n",
       "      <td>YDR110W</td>\n",
       "      <td>1.201069e-06</td>\n",
       "    </tr>\n",
       "    <tr>\n",
       "      <th>...</th>\n",
       "      <td>...</td>\n",
       "      <td>...</td>\n",
       "      <td>...</td>\n",
       "    </tr>\n",
       "    <tr>\n",
       "      <th>3792</th>\n",
       "      <td>Q99383</td>\n",
       "      <td>YOL123W</td>\n",
       "      <td>1.399396e-05</td>\n",
       "    </tr>\n",
       "    <tr>\n",
       "      <th>3793</th>\n",
       "      <td>Q99385</td>\n",
       "      <td>YDL128W</td>\n",
       "      <td>4.251201e-06</td>\n",
       "    </tr>\n",
       "    <tr>\n",
       "      <th>3794</th>\n",
       "      <td>Q9P305</td>\n",
       "      <td>YHR132W-A</td>\n",
       "      <td>1.170406e-06</td>\n",
       "    </tr>\n",
       "    <tr>\n",
       "      <th>3795</th>\n",
       "      <td>Q9URQ3</td>\n",
       "      <td>YLR316C</td>\n",
       "      <td>2.321287e-07</td>\n",
       "    </tr>\n",
       "    <tr>\n",
       "      <th>3796</th>\n",
       "      <td>Q9URQ5</td>\n",
       "      <td>YCR020W-B</td>\n",
       "      <td>1.632026e-06</td>\n",
       "    </tr>\n",
       "  </tbody>\n",
       "</table>\n",
       "<p>3797 rows × 3 columns</p>\n",
       "</div>"
      ],
      "text/plain": [
       "       Entry       Gene  Mass fraction [g/gDW]\n",
       "0     A5Z2X5  YPR010C-A           9.465050e-06\n",
       "1     D6VTK4    YFL026W           2.348114e-04\n",
       "2     D6W196    YNL083W           1.213851e-06\n",
       "3     O13297    YPL228W           9.476233e-06\n",
       "4     O13329    YDR110W           1.201069e-06\n",
       "...      ...        ...                    ...\n",
       "3792  Q99383    YOL123W           1.399396e-05\n",
       "3793  Q99385    YDL128W           4.251201e-06\n",
       "3794  Q9P305  YHR132W-A           1.170406e-06\n",
       "3795  Q9URQ3    YLR316C           2.321287e-07\n",
       "3796  Q9URQ5  YCR020W-B           1.632026e-06\n",
       "\n",
       "[3797 rows x 3 columns]"
      ]
     },
     "execution_count": 46,
     "metadata": {},
     "output_type": "execute_result"
    }
   ],
   "source": [
    "yeast4"
   ]
  },
  {
   "cell_type": "code",
   "execution_count": 47,
   "id": "598ed1b0-d105-4f84-b538-02ae99965fb2",
   "metadata": {},
   "outputs": [],
   "source": [
    "yeast4_tofix = yeast4.iloc[check_ids(yeast4['Entry'], yeast_db)]"
   ]
  },
  {
   "cell_type": "code",
   "execution_count": 49,
   "id": "f225e304-fa4c-4adb-b3d3-35c461e4ae7b",
   "metadata": {},
   "outputs": [],
   "source": [
    "yeast4['Mass'] = yeast4['Entry'].map(yeast_db.set_index('Entry')['Mass'])"
   ]
  },
  {
   "cell_type": "code",
   "execution_count": 89,
   "id": "6b85a406-a82c-4fb3-b227-96f36f3c39b1",
   "metadata": {},
   "outputs": [],
   "source": [
    "yeast4['Copies/cell'] = yeast4['Mass fraction [g/gDW]'] / yeast4['Mass'] * (6.022 * 10**23) * (12 * 10**(-12))"
   ]
  },
  {
   "cell_type": "code",
   "execution_count": 127,
   "id": "90f4b724-ed6a-4aa4-adad-8074b0385138",
   "metadata": {},
   "outputs": [
    {
     "data": {
      "text/plain": [
       "283487110257.2347"
      ]
     },
     "execution_count": 127,
     "metadata": {},
     "output_type": "execute_result"
    }
   ],
   "source": [
    "yeast4['Copies/cell'].sum() / 50000000"
   ]
  },
  {
   "cell_type": "code",
   "execution_count": 29,
   "id": "c9823bef-c942-4acc-a5f5-3c2192c4e070",
   "metadata": {},
   "outputs": [],
   "source": [
    "yeast4 = pandas.read_excel('../data/yeast/prepared/yu2020_prepared.xlsx')"
   ]
  },
  {
   "cell_type": "code",
   "execution_count": 170,
   "id": "90980fd5-669b-4852-bf3b-bc7b98679a61",
   "metadata": {},
   "outputs": [],
   "source": [
    "yeast4['mol/cell'] = yeast4['Mass fraction [g/gDW]'] / yeast4['Mass']"
   ]
  },
  {
   "cell_type": "code",
   "execution_count": 31,
   "id": "96ee6b3c-f01b-440d-a051-518d1196afe6",
   "metadata": {},
   "outputs": [],
   "source": [
    "yeast4_tofix = yeast4.iloc[check_ids(yeast4['Entry'], yeast_db)]"
   ]
  },
  {
   "cell_type": "code",
   "execution_count": 124,
   "id": "77fdee26-4e9a-4f60-ac7d-2ca1d686b232",
   "metadata": {},
   "outputs": [
    {
     "data": {
      "text/plain": [
       "2.353762124354316e-05"
      ]
     },
     "execution_count": 124,
     "metadata": {},
     "output_type": "execute_result"
    }
   ],
   "source": [
    "yeast4['mol/cell'].sum()"
   ]
  },
  {
   "cell_type": "code",
   "execution_count": 120,
   "id": "c4338a26-beb6-4e3a-bdde-6946558d9f6f",
   "metadata": {},
   "outputs": [
    {
     "data": {
      "text/html": [
       "<div>\n",
       "<style scoped>\n",
       "    .dataframe tbody tr th:only-of-type {\n",
       "        vertical-align: middle;\n",
       "    }\n",
       "\n",
       "    .dataframe tbody tr th {\n",
       "        vertical-align: top;\n",
       "    }\n",
       "\n",
       "    .dataframe thead th {\n",
       "        text-align: right;\n",
       "    }\n",
       "</style>\n",
       "<table border=\"1\" class=\"dataframe\">\n",
       "  <thead>\n",
       "    <tr style=\"text-align: right;\">\n",
       "      <th></th>\n",
       "      <th>Entry</th>\n",
       "      <th>Gene</th>\n",
       "      <th>Mass fraction [g/gDW]</th>\n",
       "      <th>Mass</th>\n",
       "      <th>Copies/cell</th>\n",
       "      <th>mol/cell</th>\n",
       "    </tr>\n",
       "  </thead>\n",
       "  <tbody>\n",
       "    <tr>\n",
       "      <th>0</th>\n",
       "      <td>A5Z2X5</td>\n",
       "      <td>YPR010C-A</td>\n",
       "      <td>9.465050e-06</td>\n",
       "      <td>7902</td>\n",
       "      <td>12983.719876</td>\n",
       "      <td>2.156048e-20</td>\n",
       "    </tr>\n",
       "    <tr>\n",
       "      <th>1</th>\n",
       "      <td>D6VTK4</td>\n",
       "      <td>YFL026W</td>\n",
       "      <td>2.348114e-04</td>\n",
       "      <td>47849</td>\n",
       "      <td>53193.620667</td>\n",
       "      <td>8.833215e-20</td>\n",
       "    </tr>\n",
       "    <tr>\n",
       "      <th>2</th>\n",
       "      <td>D6W196</td>\n",
       "      <td>YNL083W</td>\n",
       "      <td>1.213851e-06</td>\n",
       "      <td>55715</td>\n",
       "      <td>236.16006</td>\n",
       "      <td>3.921622e-22</td>\n",
       "    </tr>\n",
       "    <tr>\n",
       "      <th>3</th>\n",
       "      <td>O13297</td>\n",
       "      <td>YPL228W</td>\n",
       "      <td>9.476233e-06</td>\n",
       "      <td>61850</td>\n",
       "      <td>1660.769206</td>\n",
       "      <td>2.757837e-21</td>\n",
       "    </tr>\n",
       "    <tr>\n",
       "      <th>4</th>\n",
       "      <td>O13329</td>\n",
       "      <td>YDR110W</td>\n",
       "      <td>1.201069e-06</td>\n",
       "      <td>65318</td>\n",
       "      <td>199.318806</td>\n",
       "      <td>3.309844e-22</td>\n",
       "    </tr>\n",
       "    <tr>\n",
       "      <th>...</th>\n",
       "      <td>...</td>\n",
       "      <td>...</td>\n",
       "      <td>...</td>\n",
       "      <td>...</td>\n",
       "      <td>...</td>\n",
       "      <td>...</td>\n",
       "    </tr>\n",
       "    <tr>\n",
       "      <th>3792</th>\n",
       "      <td>Q99383</td>\n",
       "      <td>YOL123W</td>\n",
       "      <td>1.399396e-05</td>\n",
       "      <td>59650</td>\n",
       "      <td>2542.982801</td>\n",
       "      <td>4.222821e-21</td>\n",
       "    </tr>\n",
       "    <tr>\n",
       "      <th>3793</th>\n",
       "      <td>Q99385</td>\n",
       "      <td>YDL128W</td>\n",
       "      <td>4.251201e-06</td>\n",
       "      <td>44646</td>\n",
       "      <td>1032.148933</td>\n",
       "      <td>1.713964e-21</td>\n",
       "    </tr>\n",
       "    <tr>\n",
       "      <th>3794</th>\n",
       "      <td>Q9P305</td>\n",
       "      <td>YHR132W-A</td>\n",
       "      <td>1.170406e-06</td>\n",
       "      <td>14395</td>\n",
       "      <td>881.32929</td>\n",
       "      <td>1.463516e-21</td>\n",
       "    </tr>\n",
       "    <tr>\n",
       "      <th>3795</th>\n",
       "      <td>Q9URQ3</td>\n",
       "      <td>YLR316C</td>\n",
       "      <td>2.321287e-07</td>\n",
       "      <td>37107</td>\n",
       "      <td>67.808841</td>\n",
       "      <td>1.126019e-22</td>\n",
       "    </tr>\n",
       "    <tr>\n",
       "      <th>3796</th>\n",
       "      <td>Q9URQ5</td>\n",
       "      <td>YCR020W-B</td>\n",
       "      <td>1.632026e-06</td>\n",
       "      <td>9180</td>\n",
       "      <td>1927.071259</td>\n",
       "      <td>3.200052e-21</td>\n",
       "    </tr>\n",
       "  </tbody>\n",
       "</table>\n",
       "<p>3797 rows × 6 columns</p>\n",
       "</div>"
      ],
      "text/plain": [
       "       Entry       Gene  Mass fraction [g/gDW]   Mass   Copies/cell  \\\n",
       "0     A5Z2X5  YPR010C-A           9.465050e-06   7902  12983.719876   \n",
       "1     D6VTK4    YFL026W           2.348114e-04  47849  53193.620667   \n",
       "2     D6W196    YNL083W           1.213851e-06  55715     236.16006   \n",
       "3     O13297    YPL228W           9.476233e-06  61850   1660.769206   \n",
       "4     O13329    YDR110W           1.201069e-06  65318    199.318806   \n",
       "...      ...        ...                    ...    ...           ...   \n",
       "3792  Q99383    YOL123W           1.399396e-05  59650   2542.982801   \n",
       "3793  Q99385    YDL128W           4.251201e-06  44646   1032.148933   \n",
       "3794  Q9P305  YHR132W-A           1.170406e-06  14395     881.32929   \n",
       "3795  Q9URQ3    YLR316C           2.321287e-07  37107     67.808841   \n",
       "3796  Q9URQ5  YCR020W-B           1.632026e-06   9180   1927.071259   \n",
       "\n",
       "          mol/cell  \n",
       "0     2.156048e-20  \n",
       "1     8.833215e-20  \n",
       "2     3.921622e-22  \n",
       "3     2.757837e-21  \n",
       "4     3.309844e-22  \n",
       "...            ...  \n",
       "3792  4.222821e-21  \n",
       "3793  1.713964e-21  \n",
       "3794  1.463516e-21  \n",
       "3795  1.126019e-22  \n",
       "3796  3.200052e-21  \n",
       "\n",
       "[3797 rows x 6 columns]"
      ]
     },
     "execution_count": 120,
     "metadata": {},
     "output_type": "execute_result"
    }
   ],
   "source": [
    "yeast4"
   ]
  },
  {
   "cell_type": "code",
   "execution_count": 171,
   "id": "715f599e-606b-421f-904e-8fe3f201f27f",
   "metadata": {},
   "outputs": [],
   "source": [
    "yeast4['Copies/cell'] = yeast4['mol/cell'] * 6.022 * 10**23"
   ]
  },
  {
   "cell_type": "code",
   "execution_count": 172,
   "id": "43f05a03-1e8e-4d61-b06a-642573118565",
   "metadata": {},
   "outputs": [],
   "source": [
    "yeast4['Copies/cell'] *= 13*(10**(-12))"
   ]
  },
  {
   "cell_type": "code",
   "execution_count": 173,
   "id": "8f5ccf96-9d20-48f2-a115-2a6df4308760",
   "metadata": {},
   "outputs": [
    {
     "data": {
      "text/plain": [
       "184266621.66720203"
      ]
     },
     "execution_count": 173,
     "metadata": {},
     "output_type": "execute_result"
    }
   ],
   "source": [
    "yeast4['Copies/cell'].sum()"
   ]
  },
  {
   "cell_type": "code",
   "execution_count": 174,
   "id": "6115c82e-02eb-48d4-9f2f-2258e319441a",
   "metadata": {},
   "outputs": [],
   "source": [
    "yeast4p = yeast4[['Entry', 'Copies/cell']]\n",
    "yeast4p = yeast4p[yeast4p['Copies/cell'] != 0.0]"
   ]
  },
  {
   "cell_type": "code",
   "execution_count": 175,
   "id": "28dfc2e6-ec37-4a64-802b-450e984303ff",
   "metadata": {},
   "outputs": [],
   "source": [
    "yeast4p.to_excel('../data/yeast/processed/dibartolomeo2018_processed.xlsx', index=False)"
   ]
  },
  {
   "cell_type": "code",
   "execution_count": 104,
   "id": "82f4d630-5666-4d17-bb45-f005fd036c77",
   "metadata": {},
   "outputs": [],
   "source": [
    "yeast5['Entry'] = correct_ids(yeast5['Gene'], yeast_db.drop_duplicates('Gene'))"
   ]
  },
  {
   "cell_type": "code",
   "execution_count": 107,
   "id": "a8151d42-ff65-4c40-bed2-4baacbd895c8",
   "metadata": {},
   "outputs": [],
   "source": [
    "yeast5 = yeast5.dropna()"
   ]
  },
  {
   "cell_type": "code",
   "execution_count": 110,
   "id": "9976b8aa-ca0d-4d7f-8764-67c3b03f1d01",
   "metadata": {},
   "outputs": [],
   "source": [
    "yeast5p = yeast5[['Entry', 'C [Copies/cell]']]\n",
    "yeast5p = yeast5p[yeast5p['C [Copies/cell]'] != 0.0]"
   ]
  },
  {
   "cell_type": "code",
   "execution_count": 111,
   "id": "be601983-ee8a-42b1-b7cb-527840210145",
   "metadata": {},
   "outputs": [],
   "source": [
    "yeast5p.to_excel('../data/yeast/processed/ho2018_processed.xlsx', index=False)"
   ]
  },
  {
   "cell_type": "code",
   "execution_count": 73,
   "id": "cf2c844d-ddc0-4f28-b6ec-658f768ce713",
   "metadata": {},
   "outputs": [],
   "source": [
    "yeast6p = yeast6[['Entry', 'Copies/cell']]\n",
    "yeast6p = yeast6p[yeast6p['Copies/cell'] != 0.0]"
   ]
  },
  {
   "cell_type": "code",
   "execution_count": 69,
   "id": "7a52b690-67e1-4dca-86dc-1966679c46e6",
   "metadata": {},
   "outputs": [],
   "source": [
    "yeast6['Copies/cell'] = yeast6['C-lim [fmol/mgDW]'] * 6.022 * 10**23 "
   ]
  },
  {
   "cell_type": "code",
   "execution_count": 70,
   "id": "5d771063-05a5-4fc9-8d5d-00c6822c77f1",
   "metadata": {},
   "outputs": [],
   "source": [
    "yeast6['Copies/cell'] *= 10**(-15)"
   ]
  },
  {
   "cell_type": "code",
   "execution_count": 71,
   "id": "fd4939b7-b8ca-4f59-bc35-9fdcaf140f2e",
   "metadata": {},
   "outputs": [],
   "source": [
    "yeast6['Copies/cell'] *= 13*(10**(-9))"
   ]
  },
  {
   "cell_type": "code",
   "execution_count": 72,
   "id": "47608201-366c-449a-bf96-183b40e2b4ed",
   "metadata": {},
   "outputs": [
    {
     "data": {
      "text/plain": [
       "50331197.670061685"
      ]
     },
     "execution_count": 72,
     "metadata": {},
     "output_type": "execute_result"
    }
   ],
   "source": [
    "yeast6['Copies/cell'].sum()"
   ]
  },
  {
   "cell_type": "code",
   "execution_count": 74,
   "id": "c71fbb2e-23ff-41aa-a0a5-fb359085a379",
   "metadata": {},
   "outputs": [],
   "source": [
    "yeast6p.to_excel('../data/yeast/processed/yu2020_processed.xlsx', index=False)"
   ]
  },
  {
   "cell_type": "code",
   "execution_count": 154,
   "id": "77e59de8-07f9-41b5-8212-e9a6e3a9b61b",
   "metadata": {},
   "outputs": [],
   "source": [
    "yeast7['Copies/cell'] = yeast7['fmol/mgDW'] * 6.022 * 10**23"
   ]
  },
  {
   "cell_type": "code",
   "execution_count": 155,
   "id": "8c12482e-f974-43f0-ada5-95de892a0487",
   "metadata": {},
   "outputs": [],
   "source": [
    "yeast7['Copies/cell'] *= 10**(-15)"
   ]
  },
  {
   "cell_type": "code",
   "execution_count": 156,
   "id": "7eb1a3e7-43a8-466f-a7ad-8cc05175f7eb",
   "metadata": {},
   "outputs": [],
   "source": [
    "yeast7['Copies/cell'] *= 13*(10**(-9))"
   ]
  },
  {
   "cell_type": "code",
   "execution_count": 157,
   "id": "541c508d-9408-4145-bc8b-e9116a662b84",
   "metadata": {},
   "outputs": [
    {
     "data": {
      "text/plain": [
       "55291809.525370665"
      ]
     },
     "execution_count": 157,
     "metadata": {},
     "output_type": "execute_result"
    }
   ],
   "source": [
    "yeast7['Copies/cell'].sum()"
   ]
  },
  {
   "cell_type": "code",
   "execution_count": 159,
   "id": "a7dbc80c-01dc-4f25-9636-568e3a6147ae",
   "metadata": {},
   "outputs": [],
   "source": [
    "yeast7p = yeast7[['Entry', 'Copies/cell']]\n",
    "yeast7p = yeast7p[yeast7p['Copies/cell'] != 0.0]"
   ]
  },
  {
   "cell_type": "code",
   "execution_count": 161,
   "id": "030d5afc-3747-466c-ade0-c40caa381962",
   "metadata": {},
   "outputs": [],
   "source": [
    "yeast7p.to_excel('../data/yeast/processed/yu2021_processed.xlsx', index=False)"
   ]
  },
  {
   "cell_type": "code",
   "execution_count": 8,
   "id": "0ed87178-e4c1-44a0-b498-89d4f472274b",
   "metadata": {},
   "outputs": [],
   "source": [
    "yeast8 = yeast8.dropna()"
   ]
  },
  {
   "cell_type": "code",
   "execution_count": 6,
   "id": "c42fd480-dab1-4b67-81d0-87edfed14f3b",
   "metadata": {},
   "outputs": [
    {
     "name": "stderr",
     "output_type": "stream",
     "text": [
      "C:\\Users\\Dynev\\AppData\\Local\\Temp\\ipykernel_11040\\601602550.py:1: SettingWithCopyWarning: \n",
      "A value is trying to be set on a copy of a slice from a DataFrame.\n",
      "Try using .loc[row_indexer,col_indexer] = value instead\n",
      "\n",
      "See the caveats in the documentation: https://pandas.pydata.org/pandas-docs/stable/user_guide/indexing.html#returning-a-view-versus-a-copy\n",
      "  yeast8['Entry'] = correct_ids(yeast8['Gene'], yeast_db.drop_duplicates('Gene'))\n"
     ]
    }
   ],
   "source": [
    "yeast8['Entry'] = correct_ids(yeast8['Gene'], yeast_db.drop_duplicates('Gene'))"
   ]
  },
  {
   "cell_type": "code",
   "execution_count": 10,
   "id": "60f09b30-ed3a-403d-a742-cdbf96aa7a89",
   "metadata": {},
   "outputs": [],
   "source": [
    "yeast8p = yeast8[['Entry', 'Intensity']]"
   ]
  },
  {
   "cell_type": "code",
   "execution_count": 11,
   "id": "b101d6fd-56e9-4dbe-830f-00711b516381",
   "metadata": {},
   "outputs": [],
   "source": [
    "yeast8p.to_excel('../data/yeast/processed/lee2011_processed.xlsx', index=False)"
   ]
  },
  {
   "cell_type": "code",
   "execution_count": 12,
   "id": "3aecbca5-427e-4cf6-88bf-2fc406b05f52",
   "metadata": {},
   "outputs": [
    {
     "data": {
      "text/html": [
       "<div>\n",
       "<style scoped>\n",
       "    .dataframe tbody tr th:only-of-type {\n",
       "        vertical-align: middle;\n",
       "    }\n",
       "\n",
       "    .dataframe tbody tr th {\n",
       "        vertical-align: top;\n",
       "    }\n",
       "\n",
       "    .dataframe thead th {\n",
       "        text-align: right;\n",
       "    }\n",
       "</style>\n",
       "<table border=\"1\" class=\"dataframe\">\n",
       "  <thead>\n",
       "    <tr style=\"text-align: right;\">\n",
       "      <th></th>\n",
       "      <th>Gene</th>\n",
       "      <th>Intensity</th>\n",
       "    </tr>\n",
       "  </thead>\n",
       "  <tbody>\n",
       "    <tr>\n",
       "      <th>0</th>\n",
       "      <td>Q0045</td>\n",
       "      <td>6645500000</td>\n",
       "    </tr>\n",
       "    <tr>\n",
       "      <th>1</th>\n",
       "      <td>Q0050</td>\n",
       "      <td>731560000</td>\n",
       "    </tr>\n",
       "    <tr>\n",
       "      <th>2</th>\n",
       "      <td>Q0055</td>\n",
       "      <td>4007000000</td>\n",
       "    </tr>\n",
       "    <tr>\n",
       "      <th>3</th>\n",
       "      <td>Q0065</td>\n",
       "      <td>1593800000</td>\n",
       "    </tr>\n",
       "    <tr>\n",
       "      <th>4</th>\n",
       "      <td>Q0140</td>\n",
       "      <td>13457000000</td>\n",
       "    </tr>\n",
       "    <tr>\n",
       "      <th>...</th>\n",
       "      <td>...</td>\n",
       "      <td>...</td>\n",
       "    </tr>\n",
       "    <tr>\n",
       "      <th>4067</th>\n",
       "      <td>YPR188C</td>\n",
       "      <td>5078300000</td>\n",
       "    </tr>\n",
       "    <tr>\n",
       "      <th>4068</th>\n",
       "      <td>YPR189W</td>\n",
       "      <td>55478000000</td>\n",
       "    </tr>\n",
       "    <tr>\n",
       "      <th>4069</th>\n",
       "      <td>YPR190C</td>\n",
       "      <td>74235000000</td>\n",
       "    </tr>\n",
       "    <tr>\n",
       "      <th>4070</th>\n",
       "      <td>YPR191W</td>\n",
       "      <td>145240000000</td>\n",
       "    </tr>\n",
       "    <tr>\n",
       "      <th>4071</th>\n",
       "      <td>YPR193C</td>\n",
       "      <td>196140000</td>\n",
       "    </tr>\n",
       "  </tbody>\n",
       "</table>\n",
       "<p>4072 rows × 2 columns</p>\n",
       "</div>"
      ],
      "text/plain": [
       "         Gene     Intensity\n",
       "0       Q0045    6645500000\n",
       "1       Q0050     731560000\n",
       "2       Q0055    4007000000\n",
       "3       Q0065    1593800000\n",
       "4       Q0140   13457000000\n",
       "...       ...           ...\n",
       "4067  YPR188C    5078300000\n",
       "4068  YPR189W   55478000000\n",
       "4069  YPR190C   74235000000\n",
       "4070  YPR191W  145240000000\n",
       "4071  YPR193C     196140000\n",
       "\n",
       "[4072 rows x 2 columns]"
      ]
     },
     "execution_count": 12,
     "metadata": {},
     "output_type": "execute_result"
    }
   ],
   "source": [
    "yeast9"
   ]
  },
  {
   "cell_type": "code",
   "execution_count": 13,
   "id": "a5d86fb2-a683-4d1c-bc3f-eb960b95599b",
   "metadata": {},
   "outputs": [],
   "source": [
    "yeast9['Entry'] = correct_ids(yeast9['Gene'], yeast_db.drop_duplicates('Gene'))"
   ]
  },
  {
   "cell_type": "code",
   "execution_count": 14,
   "id": "3767bf80-c6aa-48d4-bee4-47e3f907c0a6",
   "metadata": {},
   "outputs": [
    {
     "data": {
      "text/html": [
       "<div>\n",
       "<style scoped>\n",
       "    .dataframe tbody tr th:only-of-type {\n",
       "        vertical-align: middle;\n",
       "    }\n",
       "\n",
       "    .dataframe tbody tr th {\n",
       "        vertical-align: top;\n",
       "    }\n",
       "\n",
       "    .dataframe thead th {\n",
       "        text-align: right;\n",
       "    }\n",
       "</style>\n",
       "<table border=\"1\" class=\"dataframe\">\n",
       "  <thead>\n",
       "    <tr style=\"text-align: right;\">\n",
       "      <th></th>\n",
       "      <th>Gene</th>\n",
       "      <th>Intensity</th>\n",
       "      <th>Entry</th>\n",
       "    </tr>\n",
       "  </thead>\n",
       "  <tbody>\n",
       "    <tr>\n",
       "      <th>0</th>\n",
       "      <td>Q0045</td>\n",
       "      <td>6645500000</td>\n",
       "      <td>P00401</td>\n",
       "    </tr>\n",
       "    <tr>\n",
       "      <th>1</th>\n",
       "      <td>Q0050</td>\n",
       "      <td>731560000</td>\n",
       "      <td>P03875</td>\n",
       "    </tr>\n",
       "    <tr>\n",
       "      <th>2</th>\n",
       "      <td>Q0055</td>\n",
       "      <td>4007000000</td>\n",
       "      <td>P03876</td>\n",
       "    </tr>\n",
       "    <tr>\n",
       "      <th>3</th>\n",
       "      <td>Q0065</td>\n",
       "      <td>1593800000</td>\n",
       "      <td>P03878</td>\n",
       "    </tr>\n",
       "    <tr>\n",
       "      <th>4</th>\n",
       "      <td>Q0140</td>\n",
       "      <td>13457000000</td>\n",
       "      <td>P02381</td>\n",
       "    </tr>\n",
       "    <tr>\n",
       "      <th>...</th>\n",
       "      <td>...</td>\n",
       "      <td>...</td>\n",
       "      <td>...</td>\n",
       "    </tr>\n",
       "    <tr>\n",
       "      <th>4067</th>\n",
       "      <td>YPR188C</td>\n",
       "      <td>5078300000</td>\n",
       "      <td>Q06580</td>\n",
       "    </tr>\n",
       "    <tr>\n",
       "      <th>4068</th>\n",
       "      <td>YPR189W</td>\n",
       "      <td>55478000000</td>\n",
       "      <td>P17883</td>\n",
       "    </tr>\n",
       "    <tr>\n",
       "      <th>4069</th>\n",
       "      <td>YPR190C</td>\n",
       "      <td>74235000000</td>\n",
       "      <td>P32349</td>\n",
       "    </tr>\n",
       "    <tr>\n",
       "      <th>4070</th>\n",
       "      <td>YPR191W</td>\n",
       "      <td>145240000000</td>\n",
       "      <td>P07257</td>\n",
       "    </tr>\n",
       "    <tr>\n",
       "      <th>4071</th>\n",
       "      <td>YPR193C</td>\n",
       "      <td>196140000</td>\n",
       "      <td>Q06592</td>\n",
       "    </tr>\n",
       "  </tbody>\n",
       "</table>\n",
       "<p>4072 rows × 3 columns</p>\n",
       "</div>"
      ],
      "text/plain": [
       "         Gene     Intensity   Entry\n",
       "0       Q0045    6645500000  P00401\n",
       "1       Q0050     731560000  P03875\n",
       "2       Q0055    4007000000  P03876\n",
       "3       Q0065    1593800000  P03878\n",
       "4       Q0140   13457000000  P02381\n",
       "...       ...           ...     ...\n",
       "4067  YPR188C    5078300000  Q06580\n",
       "4068  YPR189W   55478000000  P17883\n",
       "4069  YPR190C   74235000000  P32349\n",
       "4070  YPR191W  145240000000  P07257\n",
       "4071  YPR193C     196140000  Q06592\n",
       "\n",
       "[4072 rows x 3 columns]"
      ]
     },
     "execution_count": 14,
     "metadata": {},
     "output_type": "execute_result"
    }
   ],
   "source": [
    "yeast9"
   ]
  },
  {
   "cell_type": "code",
   "execution_count": 15,
   "id": "5b01611f-b9b2-4723-89c7-2571ab064e74",
   "metadata": {},
   "outputs": [],
   "source": [
    "yeast9p = yeast9[['Entry', 'Intensity']]\n",
    "yeast9p = yeast9p[yeast9p['Intensity'] != 0.0]"
   ]
  },
  {
   "cell_type": "code",
   "execution_count": 17,
   "id": "4cfe685d-b211-4f6e-9125-e7c3a80b062b",
   "metadata": {},
   "outputs": [],
   "source": [
    "yeast9p.to_excel('../data/yeast/processed/nagaraj2011_processed.xlsx', index=False)"
   ]
  },
  {
   "cell_type": "code",
   "execution_count": 19,
   "id": "2f44489f-a0a4-4da9-bdf5-8b21b339fb10",
   "metadata": {},
   "outputs": [],
   "source": [
    "yeast10['Entry'] = correct_ids(yeast10['Gene'], yeast_db.drop_duplicates('Gene'))"
   ]
  },
  {
   "cell_type": "code",
   "execution_count": 20,
   "id": "427ff9cc-8a86-46f8-98c5-c20532919ff8",
   "metadata": {},
   "outputs": [],
   "source": [
    "yeast10 = yeast10.dropna()"
   ]
  },
  {
   "cell_type": "code",
   "execution_count": 22,
   "id": "8bf5741d-9ae4-47ba-8306-3e146a5b522b",
   "metadata": {},
   "outputs": [],
   "source": [
    "yeast10p = yeast10[['Entry', 'Intensity']]\n",
    "yeast10p = yeast10p[yeast10p['Intensity'] != 0.0]"
   ]
  },
  {
   "cell_type": "code",
   "execution_count": 24,
   "id": "ded14fb6-0264-43d9-9bf1-de1a85e5f934",
   "metadata": {},
   "outputs": [],
   "source": [
    "yeast10p.to_excel('../data/yeast/processed/thakur2011_processed.xlsx', index=False)"
   ]
  },
  {
   "cell_type": "code",
   "execution_count": 26,
   "id": "6d57dc7c-c85c-4bb6-9c54-15b364ce82b4",
   "metadata": {},
   "outputs": [
    {
     "data": {
      "text/html": [
       "<div>\n",
       "<style scoped>\n",
       "    .dataframe tbody tr th:only-of-type {\n",
       "        vertical-align: middle;\n",
       "    }\n",
       "\n",
       "    .dataframe tbody tr th {\n",
       "        vertical-align: top;\n",
       "    }\n",
       "\n",
       "    .dataframe thead th {\n",
       "        text-align: right;\n",
       "    }\n",
       "</style>\n",
       "<table border=\"1\" class=\"dataframe\">\n",
       "  <thead>\n",
       "    <tr style=\"text-align: right;\">\n",
       "      <th></th>\n",
       "      <th>ORF Name</th>\n",
       "      <th>Uniprot</th>\n",
       "      <th>Intensity</th>\n",
       "    </tr>\n",
       "  </thead>\n",
       "  <tbody>\n",
       "    <tr>\n",
       "      <th>0</th>\n",
       "      <td>YJR086W</td>\n",
       "      <td>P18852</td>\n",
       "      <td>456620000</td>\n",
       "    </tr>\n",
       "    <tr>\n",
       "      <th>1</th>\n",
       "      <td>YDR103W</td>\n",
       "      <td>P32917</td>\n",
       "      <td>787750</td>\n",
       "    </tr>\n",
       "    <tr>\n",
       "      <th>2</th>\n",
       "      <td>YLR452C</td>\n",
       "      <td>P11972;Q06207</td>\n",
       "      <td>861600000</td>\n",
       "    </tr>\n",
       "    <tr>\n",
       "      <th>3</th>\n",
       "      <td>YIL117C</td>\n",
       "      <td>P40476</td>\n",
       "      <td>84945000</td>\n",
       "    </tr>\n",
       "    <tr>\n",
       "      <th>4</th>\n",
       "      <td>YIL015W</td>\n",
       "      <td>P12630</td>\n",
       "      <td>663840000</td>\n",
       "    </tr>\n",
       "    <tr>\n",
       "      <th>...</th>\n",
       "      <td>...</td>\n",
       "      <td>...</td>\n",
       "      <td>...</td>\n",
       "    </tr>\n",
       "    <tr>\n",
       "      <th>4028</th>\n",
       "      <td>YBR291C</td>\n",
       "      <td>P38152;Q02507</td>\n",
       "      <td>741050000</td>\n",
       "    </tr>\n",
       "    <tr>\n",
       "      <th>4029</th>\n",
       "      <td>YCL067C</td>\n",
       "      <td>Q6B2C0;P01367;P01368;Q6B2C0;P01367;P01368</td>\n",
       "      <td>5064900</td>\n",
       "    </tr>\n",
       "    <tr>\n",
       "      <th>4030</th>\n",
       "      <td>YMR023C</td>\n",
       "      <td>P32559;Q0PHA7</td>\n",
       "      <td>113980000</td>\n",
       "    </tr>\n",
       "    <tr>\n",
       "      <th>4031</th>\n",
       "      <td>YOL155C</td>\n",
       "      <td>Q05164;Q08294;P40442</td>\n",
       "      <td>112720000</td>\n",
       "    </tr>\n",
       "    <tr>\n",
       "      <th>4032</th>\n",
       "      <td>YBR115C</td>\n",
       "      <td>P07702</td>\n",
       "      <td>12463000000</td>\n",
       "    </tr>\n",
       "  </tbody>\n",
       "</table>\n",
       "<p>4033 rows × 3 columns</p>\n",
       "</div>"
      ],
      "text/plain": [
       "     ORF Name                                    Uniprot    Intensity\n",
       "0     YJR086W                                     P18852    456620000\n",
       "1     YDR103W                                     P32917       787750\n",
       "2     YLR452C                              P11972;Q06207    861600000\n",
       "3     YIL117C                                     P40476     84945000\n",
       "4     YIL015W                                     P12630    663840000\n",
       "...       ...                                        ...          ...\n",
       "4028  YBR291C                              P38152;Q02507    741050000\n",
       "4029  YCL067C  Q6B2C0;P01367;P01368;Q6B2C0;P01367;P01368      5064900\n",
       "4030  YMR023C                              P32559;Q0PHA7    113980000\n",
       "4031  YOL155C                       Q05164;Q08294;P40442    112720000\n",
       "4032  YBR115C                                     P07702  12463000000\n",
       "\n",
       "[4033 rows x 3 columns]"
      ]
     },
     "execution_count": 26,
     "metadata": {},
     "output_type": "execute_result"
    }
   ],
   "source": [
    "yeast11"
   ]
  },
  {
   "cell_type": "code",
   "execution_count": 27,
   "id": "559593e7-1a2c-4e8f-b029-c1e0acb7cf74",
   "metadata": {},
   "outputs": [],
   "source": [
    "yeast11_tofix = yeast11.iloc[check_ids(yeast11['Uniprot'], yeast_db)]"
   ]
  },
  {
   "cell_type": "code",
   "execution_count": 30,
   "id": "e09d0d91-3c0e-46e7-85ec-ad6ff50d7e55",
   "metadata": {},
   "outputs": [],
   "source": [
    "yeast11['Entry'] = correct_ids(yeast11['ORF Name'], yeast_db.drop_duplicates('Gene'))"
   ]
  },
  {
   "cell_type": "code",
   "execution_count": 32,
   "id": "ec159acf-f656-4a88-b2d8-41bc621fa97a",
   "metadata": {},
   "outputs": [],
   "source": [
    "yeast11 = yeast11.dropna()"
   ]
  },
  {
   "cell_type": "code",
   "execution_count": 34,
   "id": "8faeae9d-a89f-4844-9488-690e622e6c0e",
   "metadata": {},
   "outputs": [],
   "source": [
    "yeast11p = yeast11[['Entry', 'Intensity']]\n",
    "yeast11p = yeast11p[yeast11p['Intensity'] != 0.0]"
   ]
  },
  {
   "cell_type": "code",
   "execution_count": 36,
   "id": "c835118e-dac2-4ef3-83ec-787adc4aee88",
   "metadata": {},
   "outputs": [],
   "source": [
    "yeast11p.to_excel('../data/yeast/processed/degodoy2008_processed.xlsx', index=False)"
   ]
  },
  {
   "cell_type": "code",
   "execution_count": 63,
   "id": "27620047-98e0-4c08-a4ff-a3726374f33d",
   "metadata": {},
   "outputs": [],
   "source": [
    "res = []\n",
    "for i in [yeast8, yeast9, yeast10, yeast11]:\n",
    "    res.append(i[~i.iloc[:,-1].isna()])\n",
    "    \n",
    "res2 = []\n",
    "for i in res:\n",
    "    res2.append(i[i.iloc[:,-1] > 0.0])"
   ]
  },
  {
   "cell_type": "code",
   "execution_count": 64,
   "id": "dbf87918-f646-42fe-a7c1-8010439f2fdb",
   "metadata": {},
   "outputs": [
    {
     "name": "stdout",
     "output_type": "stream",
     "text": [
      "2324\n",
      "4051\n",
      "2990\n",
      "4033\n"
     ]
    }
   ],
   "source": [
    "for i in res2:\n",
    "    print(len(i))"
   ]
  },
  {
   "cell_type": "code",
   "execution_count": 65,
   "id": "16ea56bd-a185-4d48-9da8-f801134df45b",
   "metadata": {},
   "outputs": [],
   "source": [
    "res = []\n",
    "for i in [yeast1, yeast2, yeast3, yeast4, yeast5, yeast6, yeast7]:\n",
    "    res.append(i[~i.iloc[:,-1].isna()])\n",
    "    \n",
    "res2 = []\n",
    "for i in res:\n",
    "    res2.append(i[i.iloc[:,-1] > 0.0])"
   ]
  },
  {
   "cell_type": "code",
   "execution_count": 67,
   "id": "ff36bf11-722b-499b-ae2b-c6320bfe42e3",
   "metadata": {},
   "outputs": [
    {
     "name": "stdout",
     "output_type": "stream",
     "text": [
      "3819\n",
      "4570\n",
      "1788\n",
      "3797\n",
      "5391\n",
      "3368\n",
      "3118\n"
     ]
    }
   ],
   "source": [
    "for i in res2:\n",
    "    print(len(i))"
   ]
  },
  {
   "cell_type": "code",
   "execution_count": null,
   "id": "986e5932-ed05-44a2-b955-5c504b119f16",
   "metadata": {},
   "outputs": [],
   "source": [
    "yeast1 = pandas.read_excel('../data/yeast/prepared/peng2012_prepared.xlsx')"
   ]
  }
 ],
 "metadata": {
  "kernelspec": {
   "display_name": "Python 3 (ipykernel)",
   "language": "python",
   "name": "python3"
  },
  "language_info": {
   "codemirror_mode": {
    "name": "ipython",
    "version": 3
   },
   "file_extension": ".py",
   "mimetype": "text/x-python",
   "name": "python",
   "nbconvert_exporter": "python",
   "pygments_lexer": "ipython3",
   "version": "3.10.4"
  }
 },
 "nbformat": 4,
 "nbformat_minor": 5
}
